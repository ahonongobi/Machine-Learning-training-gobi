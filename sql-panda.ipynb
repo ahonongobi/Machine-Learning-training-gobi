{
 "cells": [
  {
   "attachments": {},
   "cell_type": "markdown",
   "metadata": {},
   "source": [
    "Pandas with mysql database "
   ]
  },
  {
   "cell_type": "code",
   "execution_count": 103,
   "metadata": {},
   "outputs": [],
   "source": [
    "import pandas as pd\n",
    "from sqlalchemy import create_engine"
   ]
  },
  {
   "attachments": {},
   "cell_type": "markdown",
   "metadata": {},
   "source": [
    "Create a SQLAlchemy engine and Define your SQL query"
   ]
  },
  {
   "cell_type": "code",
   "execution_count": 104,
   "metadata": {},
   "outputs": [],
   "source": [
    "# Create a SQLAlchemy engine\n",
    "engine = create_engine('mysql+mysqlconnector://root:@localhost/chu_respidom')\n",
    "# Define your SQL query\n",
    "query = 'SELECT * FROM membres'"
   ]
  },
  {
   "attachments": {},
   "cell_type": "markdown",
   "metadata": {},
   "source": [
    "Use pandas and SQLAlchemy to execute the query and Print the DataFrame"
   ]
  },
  {
   "cell_type": "code",
   "execution_count": 105,
   "metadata": {},
   "outputs": [],
   "source": [
    "# Use pandas and SQLAlchemy to execute the query\n",
    "df = pd.read_sql_query(query, engine)"
   ]
  },
  {
   "cell_type": "code",
   "execution_count": 106,
   "metadata": {},
   "outputs": [],
   "source": [
    "# rename columns by replacin user_id by id membre_id by id_membre\n",
    "df.rename(columns={'user_id': 'id utilisateur', 'membre_id': 'id_membre'}, inplace=True)\n"
   ]
  },
  {
   "attachments": {},
   "cell_type": "markdown",
   "metadata": {},
   "source": [
    "use of tabulate"
   ]
  },
  {
   "cell_type": "code",
   "execution_count": 111,
   "metadata": {},
   "outputs": [
    {
     "name": "stdout",
     "output_type": "stream",
     "text": [
      "╒══════╤══════════════════╤═════════════╤══════════════════════════╤══════════════╤═════════════╤═══════════╤══════════════════════════════╤══════════╤═══════╤════════════════╤═══════════════╤═══════════╤═════════════╤═════════════════╤═════════════╤═══════════════════════╤═══════════════════╤══════════════╤═════════════╤═══════════════╤═════════════╤═════════════╤══════════╤══════════════════╤════════╤════════════════╤═════════════════════╤═════════════════╤═════════════════════╤════════════════════╤═════════════╤═════════════════╤═════════════╤════════════════╤══════════════╤══════════════╕\n",
      "│   id │   id utilisateur │   id_membre │ user_email               │ programmes   │ nom         │ prenom    │ email                        │ sexe     │   age │ addresse       │ departement   │       tel │ tel2        │ etablissement   │ carte       │ service               │ nom_responsable   │ equipement   │ effet       │ date_update   │ visite      │ birthdate   │ region   │ date_signature   │ code   │ tele_medecin   │ traitement_en_ass   │ dose_optimale   │ nombre_inhalation   │ seance_education   │ maitrise    │ comprehension   │ statut      │ accompagnant   │ created_at   │ updated_at   │\n",
      "╞══════╪══════════════════╪═════════════╪══════════════════════════╪══════════════╪═════════════╪═══════════╪══════════════════════════════╪══════════╪═══════╪════════════════╪═══════════════╪═══════════╪═════════════╪═════════════════╪═════════════╪═══════════════════════╪═══════════════════╪══════════════╪═════════════╪═══════════════╪═════════════╪═════════════╪══════════╪══════════════════╪════════╪════════════════╪═════════════════════╪═════════════════╪═════════════════════╪════════════════════╪═════════════╪═════════════════╪═════════════╪════════════════╪══════════════╪══════════════╡\n",
      "│   50 │               25 │        8898 │ amina.g@had-respidom.com │ BetaNurse    │ AJROUD      │ HOUDA     │ ajroud@had-respidom.com      │ Feminin  │    55 │ bouha          │ Ain mlila     │ 669376733 │ 52962996    │ CONSTANTINE     │ non         │ chu constantine/Neuro │ DR BENHAMADA      │ airosol33    │ covide      │ 29/09/2022    │ d?c-22      │ 01/01/1976  │ Est      │ 21/05/2017       │ E001   │ Not Defined    │ Not Defined         │ Not Defined     │ Not Defined         │ Not Defined        │ Not Defined │ Not Defined     │ Actif       │ non dispo      │ NaT          │ NaT          │\n",
      "├──────┼──────────────────┼─────────────┼──────────────────────────┼──────────────┼─────────────┼───────────┼──────────────────────────────┼──────────┼───────┼────────────────┼───────────────┼───────────┼─────────────┼─────────────────┼─────────────┼───────────────────────┼───────────────────┼──────────────┼─────────────┼───────────────┼─────────────┼─────────────┼──────────┼──────────────────┼────────┼────────────────┼─────────────────────┼─────────────────┼─────────────────────┼────────────────────┼─────────────┼─────────────────┼─────────────┼────────────────┼──────────────┼──────────────┤\n",
      "│   51 │               25 │        2131 │ amina.g@had-respidom.com │ BetaNurse    │ BOUNAOULA   │ WAFA      │ BOUNAOULA@had-respidom.com   │ Feminin  │    33 │ SALAH BOUCHOUR │ SKIKDA        │ 696044328 │ Not Defined │ CONSTANTINE     │ Not Defined │ chu constantine       │ DR BENHAMADA      │ Not Defined  │ Not Defined │ 29/09/2022    │ Not Defined │ 01/01/1979  │ Est      │ 20/11/2017       │ E003   │ Not Defined    │ Not Defined         │ Not Defined     │ Not Defined         │ Not Defined        │ Not Defined │ Not Defined     │ Not Defined │ Not Defined    │ NaT          │ NaT          │\n",
      "├──────┼──────────────────┼─────────────┼──────────────────────────┼──────────────┼─────────────┼───────────┼──────────────────────────────┼──────────┼───────┼────────────────┼───────────────┼───────────┼─────────────┼─────────────────┼─────────────┼───────────────────────┼───────────────────┼──────────────┼─────────────┼───────────────┼─────────────┼─────────────┼──────────┼──────────────────┼────────┼────────────────┼─────────────────────┼─────────────────┼─────────────────────┼────────────────────┼─────────────┼─────────────────┼─────────────┼────────────────┼──────────────┼──────────────┤\n",
      "│   52 │               25 │        2132 │ amina.g@had-respidom.com │ BetaNurse    │ KHDIRACH    │ LAMIA     │ KHDIRACH@had-respidom.com    │ Feminin  │    39 │ MILIA          │ JIJEL         │ 558611083 │ Not Defined │ CONSTANTINE     │ Not Defined │ chu constantine       │ DR BENHAMADA      │ Not Defined  │ Not Defined │ 29/09/2022    │ Not Defined │             │ Est      │ 20/11/2017       │ E005   │ Not Defined    │ Not Defined         │ Not Defined     │ Not Defined         │ Not Defined        │ Not Defined │ Not Defined     │ Not Defined │ Not Defined    │ NaT          │ NaT          │\n",
      "├──────┼──────────────────┼─────────────┼──────────────────────────┼──────────────┼─────────────┼───────────┼──────────────────────────────┼──────────┼───────┼────────────────┼───────────────┼───────────┼─────────────┼─────────────────┼─────────────┼───────────────────────┼───────────────────┼──────────────┼─────────────┼───────────────┼─────────────┼─────────────┼──────────┼──────────────────┼────────┼────────────────┼─────────────────────┼─────────────────┼─────────────────────┼────────────────────┼─────────────┼─────────────────┼─────────────┼────────────────┼──────────────┼──────────────┤\n",
      "│   53 │               25 │        2133 │ amina.g@had-respidom.com │ BetaNurse    │ CHALGHOUM   │ WAFA      │ CHALGHOUM@had-respidom.com   │ Feminin  │    33 │ constantine    │ CONSTANTINE   │ 776806815 │ Not Defined │ CONSTANTINE     │ Not Defined │ chu constantine       │ DR BENHAMADA      │ Not Defined  │ Not Defined │ 29/09/2022    │ Not Defined │             │ Est      │ 06/04/2017       │ E008   │ Not Defined    │ Not Defined         │ Not Defined     │ Not Defined         │ Not Defined        │ Not Defined │ Not Defined     │ Not Defined │ Not Defined    │ NaT          │ NaT          │\n",
      "├──────┼──────────────────┼─────────────┼──────────────────────────┼──────────────┼─────────────┼───────────┼──────────────────────────────┼──────────┼───────┼────────────────┼───────────────┼───────────┼─────────────┼─────────────────┼─────────────┼───────────────────────┼───────────────────┼──────────────┼─────────────┼───────────────┼─────────────┼─────────────┼──────────┼──────────────────┼────────┼────────────────┼─────────────────────┼─────────────────┼─────────────────────┼────────────────────┼─────────────┼─────────────────┼─────────────┼────────────────┼──────────────┼──────────────┤\n",
      "│   54 │               25 │        2134 │ amina.g@had-respidom.com │ BetaNurse    │ MARA        │ kasem     │ MARA@had-respidom.com        │ Masculin │    54 │ AIN ABID       │ CONSTANTINE   │ 775703904 │ Not Defined │ CONSTANTINE     │ Not Defined │ chu constantine       │ DR BENHAMADA      │ Not Defined  │ Not Defined │ 29/09/2022    │ Not Defined │             │ Est      │ 23/04/2017       │ E009   │ Not Defined    │ Not Defined         │ Not Defined     │ Not Defined         │ Not Defined        │ Not Defined │ Not Defined     │ Not Defined │ Not Defined    │ NaT          │ NaT          │\n",
      "├──────┼──────────────────┼─────────────┼──────────────────────────┼──────────────┼─────────────┼───────────┼──────────────────────────────┼──────────┼───────┼────────────────┼───────────────┼───────────┼─────────────┼─────────────────┼─────────────┼───────────────────────┼───────────────────┼──────────────┼─────────────┼───────────────┼─────────────┼─────────────┼──────────┼──────────────────┼────────┼────────────────┼─────────────────────┼─────────────────┼─────────────────────┼────────────────────┼─────────────┼─────────────────┼─────────────┼────────────────┼──────────────┼──────────────┤\n",
      "│   55 │               25 │        2135 │ amina.g@had-respidom.com │ BetaNurse    │ RAMOUL      │ HASSIBA   │ RAMOUL@had-respidom.com      │ Feminin  │    48 │ constantine    │ CONSTANTINE   │ 793361367 │ Not Defined │ CONSTANTINE     │ Not Defined │ chu constantine       │ DR BENHAMADA      │ Not Defined  │ Not Defined │ 29/09/2022    │ Not Defined │             │ Est      │ 23/02/2017       │ E012   │ Not Defined    │ Not Defined         │ Not Defined     │ Not Defined         │ Not Defined        │ Not Defined │ Not Defined     │ Not Defined │ Not Defined    │ NaT          │ NaT          │\n",
      "├──────┼──────────────────┼─────────────┼──────────────────────────┼──────────────┼─────────────┼───────────┼──────────────────────────────┼──────────┼───────┼────────────────┼───────────────┼───────────┼─────────────┼─────────────────┼─────────────┼───────────────────────┼───────────────────┼──────────────┼─────────────┼───────────────┼─────────────┼─────────────┼──────────┼──────────────────┼────────┼────────────────┼─────────────────────┼─────────────────┼─────────────────────┼────────────────────┼─────────────┼─────────────────┼─────────────┼────────────────┼──────────────┼──────────────┤\n",
      "│   56 │               25 │        2136 │ amina.g@had-respidom.com │ BetaNurse    │ BOULEMKHALI │ KHADJIDJA │ BOULEMKHALI@had-respidom.com │ Feminin  │    32 │ AMOUCHA        │ SETIF         │ 697652285 │ Not Defined │ SETIF           │ Not Defined │ chu setif             │ DR ZOUBIRI        │ Not Defined  │ Not Defined │ 29/09/2022    │ Not Defined │             │ Est      │ 14/03/2017       │ E021   │ Not Defined    │ Not Defined         │ Not Defined     │ Not Defined         │ Not Defined        │ Not Defined │ Not Defined     │ Not Defined │ Not Defined    │ NaT          │ NaT          │\n",
      "├──────┼──────────────────┼─────────────┼──────────────────────────┼──────────────┼─────────────┼───────────┼──────────────────────────────┼──────────┼───────┼────────────────┼───────────────┼───────────┼─────────────┼─────────────────┼─────────────┼───────────────────────┼───────────────────┼──────────────┼─────────────┼───────────────┼─────────────┼─────────────┼──────────┼──────────────────┼────────┼────────────────┼─────────────────────┼─────────────────┼─────────────────────┼────────────────────┼─────────────┼─────────────────┼─────────────┼────────────────┼──────────────┼──────────────┤\n",
      "│   57 │               25 │        2137 │ amina.g@had-respidom.com │ BetaNurse    │ KHEROUBI    │ FATIHA    │ KHEROUBI@had-respidom.com    │ Feminin  │    45 │ AIN OULEMEN    │ SETIF         │ 773586560 │ Not Defined │ SETIF           │ Not Defined │ chu setif             │ DR BENHAMOU       │ Not Defined  │ Not Defined │ 29/09/2022    │ Not Defined │             │ Est      │ 14/03/2017       │ E022   │ Not Defined    │ Not Defined         │ Not Defined     │ Not Defined         │ Not Defined        │ Not Defined │ Not Defined     │ Not Defined │ Not Defined    │ NaT          │ NaT          │\n",
      "├──────┼──────────────────┼─────────────┼──────────────────────────┼──────────────┼─────────────┼───────────┼──────────────────────────────┼──────────┼───────┼────────────────┼───────────────┼───────────┼─────────────┼─────────────────┼─────────────┼───────────────────────┼───────────────────┼──────────────┼─────────────┼───────────────┼─────────────┼─────────────┼──────────┼──────────────────┼────────┼────────────────┼─────────────────────┼─────────────────┼─────────────────────┼────────────────────┼─────────────┼─────────────────┼─────────────┼────────────────┼──────────────┼──────────────┤\n",
      "│   58 │               25 │        2138 │ amina.g@had-respidom.com │ BetaNurse    │ RAHMANI     │ TAHER     │ RAHMANI@had-respidom.com     │ Masculin │    25 │ BENI AZIZI     │ SETIF         │ 774080032 │ Not Defined │ SETIF           │ Not Defined │ chu setif             │ DR BENHAMOU       │ Not Defined  │ Not Defined │ 29/09/2022    │ Not Defined │             │ Est      │ 14/03/2017       │ E023   │ Not Defined    │ Not Defined         │ Not Defined     │ Not Defined         │ Not Defined        │ Not Defined │ Not Defined     │ Not Defined │ Not Defined    │ NaT          │ NaT          │\n",
      "├──────┼──────────────────┼─────────────┼──────────────────────────┼──────────────┼─────────────┼───────────┼──────────────────────────────┼──────────┼───────┼────────────────┼───────────────┼───────────┼─────────────┼─────────────────┼─────────────┼───────────────────────┼───────────────────┼──────────────┼─────────────┼───────────────┼─────────────┼─────────────┼──────────┼──────────────────┼────────┼────────────────┼─────────────────────┼─────────────────┼─────────────────────┼────────────────────┼─────────────┼─────────────────┼─────────────┼────────────────┼──────────────┼──────────────┤\n",
      "│   59 │               25 │        2139 │ amina.g@had-respidom.com │ BetaNurse    │ BENSAGAN    │ KHADRA    │ BENSAGAN@had-respidom.com    │ Feminin  │    56 │ SETIF          │ SETIF         │ 795620625 │ Not Defined │ SETIF           │ Not Defined │ chu setif             │ DR ZOUBIRI        │ Not Defined  │ Not Defined │ 29/09/2022    │ Not Defined │             │ Est      │ 14/03/2017       │ E024   │ Not Defined    │ Not Defined         │ Not Defined     │ Not Defined         │ Not Defined        │ Not Defined │ Not Defined     │ Not Defined │ Not Defined    │ NaT          │ NaT          │\n",
      "╘══════╧══════════════════╧═════════════╧══════════════════════════╧══════════════╧═════════════╧═══════════╧══════════════════════════════╧══════════╧═══════╧════════════════╧═══════════════╧═══════════╧═════════════╧═════════════════╧═════════════╧═══════════════════════╧═══════════════════╧══════════════╧═════════════╧═══════════════╧═════════════╧═════════════╧══════════╧══════════════════╧════════╧════════════════╧═════════════════════╧═════════════════╧═════════════════════╧════════════════════╧═════════════╧═════════════════╧═════════════╧════════════════╧══════════════╧══════════════╛\n"
     ]
    }
   ],
   "source": [
    "from tabulate import tabulate\n",
    "\n",
    "# Assuming 'df' is your DataFrame\n",
    "headers = df.columns\n",
    "data = df.head(10).values.tolist()\n",
    "\n",
    "df.replace(\"//\", \"Not Defined\", inplace=True)\n",
    "# Format the table with color (plain, simple, grid, fancy_grid, pipe, orgtbl, rst, mediawiki, html, latex, latex_raw, latex_booktabs, tsv)\n",
    "table = tabulate(data, headers, tablefmt=\"fancy_grid\")\n",
    "# Print the formatted table\n",
    "print(table)\n"
   ]
  }
 ],
 "metadata": {
  "kernelspec": {
   "display_name": "Python 3",
   "language": "python",
   "name": "python3"
  },
  "language_info": {
   "codemirror_mode": {
    "name": "ipython",
    "version": 3
   },
   "file_extension": ".py",
   "mimetype": "text/x-python",
   "name": "python",
   "nbconvert_exporter": "python",
   "pygments_lexer": "ipython3",
   "version": "3.10.6"
  },
  "orig_nbformat": 4
 },
 "nbformat": 4,
 "nbformat_minor": 2
}
