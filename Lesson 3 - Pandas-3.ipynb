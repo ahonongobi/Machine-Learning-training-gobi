{
 "cells": [
  {
   "attachments": {},
   "cell_type": "markdown",
   "id": "5d5d2ed6",
   "metadata": {},
   "source": [
    "## Introduction sur Pandas"
   ]
  },
  {
   "attachments": {},
   "cell_type": "markdown",
   "id": "4dc6495e",
   "metadata": {},
   "source": [
    "Pandas est une librairie Python servant à la manipulation et à l’analyse des données. Elle est bâtie autour d’une structure de données appelée DataFrame. Pour faire simple, disons qu’un DataFrame pandas est un tableau comparable à une feuille de calcul Excel. Pandas fournit un grand nombre de méthodes pour modifier et traiter ce tableau. En particulier, il permet d’effectuer des requêtes de style SQL et d’opérer des jointures. À la différence de NumPy, qui oblige toutes les entrées à être de même type, pandas autorise des types différents dans les colonnes (par exemple des entiers, des dates, des nombres en virgule flottante et des chaînes de caractères)"
   ]
  },
  {
   "attachments": {},
   "cell_type": "markdown",
   "id": "0c450044",
   "metadata": {},
   "source": [
    "Nous commencerons par les deux structures de données importantes suivantes de Pandas :\n",
    "• Série\n",
    "• Dataframe"
   ]
  },
  {
   "attachments": {},
   "cell_type": "markdown",
   "id": "984d6113",
   "metadata": {},
   "source": [
    "#### SERIES\n",
    "Une série est un objet de type tableau unidimensionnel étiqueté. Il est capable de contenir n'importe quel type de données, par ex. entiers,\n",
    "flottants, chaînes, objets Python, etc. Il peut être vu comme une structure de données avec deux tableaux : un fonctionnant comme\n",
    "l'index, c'est-à-dire les étiquettes, et l'autre contient les données réelles."
   ]
  },
  {
   "cell_type": "code",
   "execution_count": 25,
   "id": "08db670a",
   "metadata": {},
   "outputs": [
    {
     "name": "stdout",
     "output_type": "stream",
     "text": [
      "Defaulting to user installation because normal site-packages is not writeable\n"
     ]
    },
    {
     "name": "stdout",
     "output_type": "stream",
     "text": [
      "Requirement already satisfied: matplotlib in /home/gobi/.local/lib/python3.10/site-packages (3.7.2)\n",
      "Requirement already satisfied: pillow>=6.2.0 in /usr/lib/python3/dist-packages (from matplotlib) (9.0.1)\n",
      "Requirement already satisfied: kiwisolver>=1.0.1 in /home/gobi/.local/lib/python3.10/site-packages (from matplotlib) (1.4.4)\n",
      "Requirement already satisfied: fonttools>=4.22.0 in /home/gobi/.local/lib/python3.10/site-packages (from matplotlib) (4.40.0)\n",
      "Requirement already satisfied: pyparsing<3.1,>=2.3.1 in /usr/lib/python3/dist-packages (from matplotlib) (2.4.7)\n",
      "Requirement already satisfied: cycler>=0.10 in /home/gobi/.local/lib/python3.10/site-packages (from matplotlib) (0.11.0)\n",
      "Requirement already satisfied: packaging>=20.0 in /usr/lib/python3/dist-packages (from matplotlib) (21.3)\n",
      "Requirement already satisfied: numpy>=1.20 in /home/gobi/.local/lib/python3.10/site-packages (from matplotlib) (1.25.0)\n",
      "Requirement already satisfied: python-dateutil>=2.7 in /home/gobi/.local/lib/python3.10/site-packages (from matplotlib) (2.8.2)\n",
      "Requirement already satisfied: contourpy>=1.0.1 in /home/gobi/.local/lib/python3.10/site-packages (from matplotlib) (1.1.0)\n",
      "Requirement already satisfied: six>=1.5 in /usr/lib/python3/dist-packages (from python-dateutil>=2.7->matplotlib) (1.16.0)\n"
     ]
    },
    {
     "data": {
      "text/plain": [
       "0    11\n",
       "1    28\n",
       "2    72\n",
       "3     3\n",
       "4     5\n",
       "5     8\n",
       "dtype: int64"
      ]
     },
     "execution_count": 25,
     "metadata": {},
     "output_type": "execute_result"
    }
   ],
   "source": [
    "!pip install matplotlib\n",
    "import pandas as pd\n",
    "S = pd.Series([11, 28, 72, 3, 5, 8])\n",
    "S\n",
    "# Nous n'avons pas défini d'index dans notre exemple, mais nous voyons deux colonnes dans notre sortie : la colonne de droite contient\n",
    "# nos données, tandis que la colonne de gauche contient l'index. Pandas a créé un index par défaut commençant par 0 allant jusqu'à 5,\n",
    "# qui est la longueur des données moins 1."
   ]
  },
  {
   "cell_type": "code",
   "execution_count": 26,
   "id": "0af09005",
   "metadata": {},
   "outputs": [
    {
     "name": "stdout",
     "output_type": "stream",
     "text": [
      "RangeIndex(start=0, stop=6, step=1)\n",
      "[11 28 72  3  5  8]\n"
     ]
    }
   ],
   "source": [
    "print(S.index) # Pour acceder aux index\n",
    "print(S.values) # Pour acceder aux valeurs"
   ]
  },
  {
   "attachments": {},
   "cell_type": "markdown",
   "id": "c682f3ba",
   "metadata": {},
   "source": [
    "Jusqu'à présent, nos séries n'ont pas été très différentes des ndarrays de Numpy. Cela change, dès que nous commençons définir des objets Series avec des indices individuels :"
   ]
  },
  {
   "cell_type": "code",
   "execution_count": 27,
   "id": "ad11cc28",
   "metadata": {},
   "outputs": [
    {
     "data": {
      "text/plain": [
       "pommes     20\n",
       "oranges    33\n",
       "cerises    52\n",
       "poires     10\n",
       "dtype: int64"
      ]
     },
     "execution_count": 27,
     "metadata": {},
     "output_type": "execute_result"
    }
   ],
   "source": [
    "fruits = ['pommes', 'oranges', 'cerises', 'poires']\n",
    "quantities = [20, 33, 52, 10]\n",
    "S = pd.Series(quantities, index=fruits)\n",
    "S"
   ]
  },
  {
   "cell_type": "code",
   "execution_count": 28,
   "id": "abff7391-9953-4747-8c4b-ec73c40f5ba9",
   "metadata": {},
   "outputs": [
    {
     "ename": "SyntaxError",
     "evalue": "invalid syntax (3637010392.py, line 4)",
     "output_type": "error",
     "traceback": [
      "\u001b[0;36m  Cell \u001b[0;32mIn[28], line 4\u001b[0;36m\u001b[0m\n\u001b[0;31m    dispatch =  pd.Series(quantity, index=our_fruits=\u001b[0m\n\u001b[0m                                                    ^\u001b[0m\n\u001b[0;31mSyntaxError\u001b[0m\u001b[0;31m:\u001b[0m invalid syntax\n"
     ]
    }
   ],
   "source": [
    "our_fruits =  [\"pommes\", \"mangos\", \"ananas\"]\n",
    "quantity = [20, 30, 40]\n",
    "\n",
    "dispatch =  pd.Series(quantity, index=our_fruits=\n",
    "dispatch"
   ]
  },
  {
   "attachments": {},
   "cell_type": "markdown",
   "id": "ef4fa5a0",
   "metadata": {},
   "source": [
    "Si nous additionnons deux séries avec les mêmes indices, nous obtenons une nouvelle série avec le même indice et la valeur correspondante\n",
    "les valeurs seront ajoutées :"
   ]
  },
  {
   "cell_type": "code",
   "execution_count": null,
   "id": "558138a6",
   "metadata": {},
   "outputs": [
    {
     "name": "stdout",
     "output_type": "stream",
     "text": [
      "pommes     37\n",
      "oranges    46\n",
      "cerises    83\n",
      "poires     42\n",
      "dtype: int64\n",
      "somme de S :  115\n"
     ]
    }
   ],
   "source": [
    "fruits = ['pommes', 'oranges', 'cerises', 'poires']\n",
    "S = pd.Series([20, 33, 52, 10], index=fruits)\n",
    "S2 = pd.Series([17, 13, 31, 32], index=fruits)\n",
    "print(S + S2)\n",
    "print(\"somme de S : \", sum(S))"
   ]
  },
  {
   "cell_type": "code",
   "execution_count": null,
   "id": "44caf63c",
   "metadata": {},
   "outputs": [
    {
     "name": "stdout",
     "output_type": "stream",
     "text": [
      "cerises       83.0\n",
      "framboises     NaN\n",
      "oranges       46.0\n",
      "poires        42.0\n",
      "pommes         NaN\n",
      "dtype: float64\n"
     ]
    }
   ],
   "source": [
    "# Si un indice n'existe pas dans les deux séries, la valeur de cette série sera NaN :\n",
    "fruits = ['pommes', 'oranges', 'cerises', 'poires']\n",
    "fruits2 = ['framboises', 'oranges', 'cerises', 'poires']\n",
    "S = pd.Series([20, 33, 52, 10], index=fruits)\n",
    "S2 = pd.Series([17, 13, 31, 32], index=fruits2)\n",
    "print(S + S2)"
   ]
  },
  {
   "attachments": {},
   "cell_type": "markdown",
   "id": "13178fd7",
   "metadata": {},
   "source": [
    "INDEXAGE"
   ]
  },
  {
   "cell_type": "code",
   "execution_count": null,
   "id": "16537749",
   "metadata": {},
   "outputs": [
    {
     "name": "stdout",
     "output_type": "stream",
     "text": [
      "pommes     20\n",
      "oranges    33\n",
      "cerises    52\n",
      "poires     10\n",
      "dtype: int64\n",
      "33\n"
     ]
    }
   ],
   "source": [
    "print(S)\n",
    "print(S['oranges'])"
   ]
  },
  {
   "attachments": {},
   "cell_type": "markdown",
   "id": "5103908f",
   "metadata": {},
   "source": [
    "Cependant, les objets Series peuvent également être accessibles par plusieurs index en même temps. Cela peut être fait par regrouper les index dans une liste. Ce type d'accès renvoie à nouveau une série Pandas :"
   ]
  },
  {
   "cell_type": "code",
   "execution_count": null,
   "id": "b32ffbee",
   "metadata": {},
   "outputs": [
    {
     "name": "stdout",
     "output_type": "stream",
     "text": [
      "pommes     20\n",
      "oranges    33\n",
      "cerises    52\n",
      "dtype: int64\n"
     ]
    }
   ],
   "source": [
    "print(S[['pommes', 'oranges', 'cerises']])"
   ]
  },
  {
   "cell_type": "code",
   "execution_count": null,
   "id": "1538de1b",
   "metadata": {},
   "outputs": [
    {
     "data": {
      "text/plain": [
       "pommes     20\n",
       "oranges    33\n",
       "cerises    52\n",
       "poires     10\n",
       "dtype: int64"
      ]
     },
     "execution_count": 16,
     "metadata": {},
     "output_type": "execute_result"
    }
   ],
   "source": [
    "S[:]"
   ]
  },
  {
   "attachments": {},
   "cell_type": "markdown",
   "id": "0c650573",
   "metadata": {},
   "source": [
    "Semblable à Numpy, nous pouvons utiliser des opérations scalaires ou des fonctions mathématiques sur une série :"
   ]
  },
  {
   "cell_type": "code",
   "execution_count": null,
   "id": "00231eff",
   "metadata": {},
   "outputs": [
    {
     "name": "stdout",
     "output_type": "stream",
     "text": [
      "pommes     23\n",
      "oranges    36\n",
      "cerises    55\n",
      "poires     13\n",
      "dtype: int64\n",
      "======================\n",
      "pommes     0.912945\n",
      "oranges    0.999912\n",
      "cerises    0.986628\n",
      "poires    -0.544021\n",
      "dtype: float64\n"
     ]
    }
   ],
   "source": [
    "import numpy as np\n",
    "print((S + 3))\n",
    "print(\"======================\")\n",
    "print(np.sin(S))"
   ]
  },
  {
   "attachments": {},
   "cell_type": "markdown",
   "id": "8e8ac8a9",
   "metadata": {},
   "source": [
    "PANDAS.SERIES.APPLY\n",
    "Series.apply(func, convert_dtype=True, args=(), **kwds)"
   ]
  },
  {
   "cell_type": "code",
   "execution_count": null,
   "id": "d89fccf6",
   "metadata": {},
   "outputs": [
    {
     "data": {
      "text/plain": [
       "pommes     0.912945\n",
       "oranges    0.999912\n",
       "cerises    0.986628\n",
       "poires    -0.544021\n",
       "dtype: float64"
      ]
     },
     "execution_count": 18,
     "metadata": {},
     "output_type": "execute_result"
    }
   ],
   "source": [
    "S.apply(np.sin)"
   ]
  },
  {
   "cell_type": "code",
   "execution_count": null,
   "id": "19c2e8b8",
   "metadata": {},
   "outputs": [
    {
     "name": "stdout",
     "output_type": "stream",
     "text": [
      "pommes     20\n",
      "oranges    33\n",
      "cerises    52\n",
      "poires     10\n",
      "dtype: int64\n"
     ]
    },
    {
     "data": {
      "text/plain": [
       "pommes     30\n",
       "oranges    43\n",
       "cerises    52\n",
       "poires     20\n",
       "dtype: int64"
      ]
     },
     "execution_count": 19,
     "metadata": {},
     "output_type": "execute_result"
    }
   ],
   "source": [
    "# Nous pouvons également utiliser les fonctions Python lambda. \n",
    "#Supposons que nous ayons la tâche suivante. Le test de la quantité de\n",
    "# fruits de toutes sortes. S'il y a moins de 50 disponibles, nous augmenterons le stock de 10 :\n",
    "print(S)\n",
    "S.apply(lambda x: x if x > 50 else x+10 )"
   ]
  },
  {
   "cell_type": "code",
   "execution_count": null,
   "id": "cdc43096",
   "metadata": {},
   "outputs": [
    {
     "data": {
      "text/plain": [
       "pommes     20\n",
       "oranges    33\n",
       "cerises    52\n",
       "poires     10\n",
       "dtype: int64"
      ]
     },
     "execution_count": 20,
     "metadata": {},
     "output_type": "execute_result"
    }
   ],
   "source": [
    "#Filtrage avec booléen\n",
    "S[S!=30]"
   ]
  },
  {
   "attachments": {},
   "cell_type": "markdown",
   "id": "729ee516",
   "metadata": {},
   "source": [
    "CRÉATION D'OBJETS DE SÉRIE À PARTIR DE DICTIONNAIRES"
   ]
  },
  {
   "cell_type": "code",
   "execution_count": null,
   "id": "8bfd403f",
   "metadata": {},
   "outputs": [
    {
     "name": "stdout",
     "output_type": "stream",
     "text": [
      "London       8615246\n",
      "Berlin       3562166\n",
      "Madrid       3165235\n",
      "Rome         2874038\n",
      "Paris        2273305\n",
      "Vienna       1805681\n",
      "Bucharest    1803425\n",
      "Hamburg      1760433\n",
      "Budapest     1754000\n",
      "Warsaw       1740119\n",
      "Barcelona    1602386\n",
      "Munich       1493900\n",
      "Milan        1350680\n",
      "dtype: int64\n"
     ]
    }
   ],
   "source": [
    "cities = {\"London\": 8615246,\n",
    "            \"Berlin\": 3562166,\n",
    "            \"Madrid\": 3165235,\n",
    "            \"Rome\": 2874038,\n",
    "            \"Paris\": 2273305,\n",
    "            \"Vienna\": 1805681,\n",
    "            \"Bucharest\": 1803425,\n",
    "            \"Hamburg\": 1760433,\n",
    "            \"Budapest\": 1754000,\n",
    "            \"Warsaw\": 1740119,\n",
    "            \"Barcelona\": 1602386,\n",
    "            \"Munich\": 1493900,\n",
    "            \"Milan\": 1350680}\n",
    "city_series = pd.Series(cities)\n",
    "print(city_series)"
   ]
  },
  {
   "attachments": {},
   "cell_type": "markdown",
   "id": "5102afc9",
   "metadata": {},
   "source": [
    "NAN - DONNÉES MANQUANTES"
   ]
  },
  {
   "cell_type": "code",
   "execution_count": null,
   "id": "e5c45f3b",
   "metadata": {},
   "outputs": [
    {
     "data": {
      "text/plain": [
       "London       8615246.0\n",
       "Paris        2273305.0\n",
       "Zurich             NaN\n",
       "Berlin       3562166.0\n",
       "Stuttgart          NaN\n",
       "Hamburg      1760433.0\n",
       "dtype: float64"
      ]
     },
     "execution_count": 22,
     "metadata": {},
     "output_type": "execute_result"
    }
   ],
   "source": [
    "my_cities = [\"London\", \"Paris\", \"Zurich\", \"Berlin\",\"Stuttgart\", \"Hamburg\"]\n",
    "my_city_series = pd.Series(cities,index=my_cities)\n",
    "my_city_series"
   ]
  },
  {
   "attachments": {},
   "cell_type": "markdown",
   "id": "eb3c9cce",
   "metadata": {},
   "source": [
    "LES MÉTHODES ISNULL() ET NOTNULL()"
   ]
  },
  {
   "cell_type": "code",
   "execution_count": null,
   "id": "4a747453",
   "metadata": {},
   "outputs": [
    {
     "name": "stdout",
     "output_type": "stream",
     "text": [
      "London       False\n",
      "Paris        False\n",
      "Zurich        True\n",
      "Berlin       False\n",
      "Stuttgart     True\n",
      "Hamburg      False\n",
      "dtype: bool\n",
      "London        True\n",
      "Paris         True\n",
      "Zurich       False\n",
      "Berlin        True\n",
      "Stuttgart    False\n",
      "Hamburg       True\n",
      "dtype: bool\n"
     ]
    }
   ],
   "source": [
    "print(my_city_series.isnull())\n",
    "print(my_city_series.notnull())"
   ]
  },
  {
   "attachments": {},
   "cell_type": "markdown",
   "id": "93bd46a6",
   "metadata": {},
   "source": [
    "FILTRER LES DONNÉES MANQUANTES"
   ]
  },
  {
   "cell_type": "code",
   "execution_count": null,
   "id": "fb5c5aed",
   "metadata": {},
   "outputs": [
    {
     "name": "stdout",
     "output_type": "stream",
     "text": [
      "London     8615246.0\n",
      "Paris      2273305.0\n",
      "Berlin     3562166.0\n",
      "Hamburg    1760433.0\n",
      "dtype: float64\n",
      "London       8615246.0\n",
      "Paris        2273305.0\n",
      "Zurich             NaN\n",
      "Berlin       3562166.0\n",
      "Stuttgart          NaN\n",
      "Hamburg      1760433.0\n",
      "dtype: float64\n"
     ]
    }
   ],
   "source": [
    "print(my_city_series.dropna())\n",
    "print(my_city_series)"
   ]
  },
  {
   "cell_type": "code",
   "execution_count": null,
   "id": "0b4194cb",
   "metadata": {},
   "outputs": [
    {
     "data": {
      "text/plain": [
       "London     8615246.0\n",
       "Paris      2273305.0\n",
       "Berlin     3562166.0\n",
       "Hamburg    1760433.0\n",
       "dtype: float64"
      ]
     },
     "execution_count": 25,
     "metadata": {},
     "output_type": "execute_result"
    }
   ],
   "source": [
    "# Si vous souhaitez que les modifications soient appliquées, vous devez l'enregistrer \n",
    "#dans une nouvelle variable\n",
    "pas_de_nan = my_city_series.dropna()\n",
    "pas_de_nan"
   ]
  },
  {
   "attachments": {},
   "cell_type": "markdown",
   "id": "7a241de2",
   "metadata": {},
   "source": [
    "REMPLIR LES DONNÉES MANQUANTES"
   ]
  },
  {
   "cell_type": "code",
   "execution_count": null,
   "id": "f05e9618",
   "metadata": {},
   "outputs": [
    {
     "name": "stdout",
     "output_type": "stream",
     "text": [
      "London       8615246.0\n",
      "Paris        2273305.0\n",
      "Zurich             0.0\n",
      "Berlin       3562166.0\n",
      "Stuttgart          0.0\n",
      "Hamburg      1760433.0\n",
      "dtype: float64\n"
     ]
    }
   ],
   "source": [
    "# Remplir avec 0\n",
    "print(my_city_series.fillna(0))"
   ]
  },
  {
   "cell_type": "code",
   "execution_count": null,
   "id": "6a25137c",
   "metadata": {},
   "outputs": [
    {
     "data": {
      "text/plain": [
       "London       8615246\n",
       "Paris        2273305\n",
       "Zurich        378884\n",
       "Berlin       3562166\n",
       "Stuttgart     597939\n",
       "Hamburg      1760433\n",
       "dtype: int64"
      ]
     },
     "execution_count": 27,
     "metadata": {},
     "output_type": "execute_result"
    }
   ],
   "source": [
    "#Remplir avec des donnees\n",
    "missing_cities = {\"Stuttgart\":597939, \"Zurich\":378884}\n",
    "my_city_series.fillna(missing_cities).astype('int') # On peut convertir pour avoir des nombres entiers"
   ]
  },
  {
   "attachments": {},
   "cell_type": "markdown",
   "id": "eb8b8b2a",
   "metadata": {},
   "source": [
    "#### DATAFRAME"
   ]
  },
  {
   "attachments": {},
   "cell_type": "markdown",
   "id": "3c70c234",
   "metadata": {},
   "source": [
    "L'idée sous-jacente d'un DataFrame est basée sur\n",
    "feuilles de calcul comme Excel. Nous pouvons voir la structure de données d'un DataFrame\n",
    "sous forme de tableau et de tableur. Un DataFrame logiquement\n",
    "correspond à une \"feuille\" d'un document Excel. UN DataFrame a à la fois une ligne et un index de colonne"
   ]
  },
  {
   "cell_type": "code",
   "execution_count": null,
   "id": "ae293c8c",
   "metadata": {},
   "outputs": [
    {
     "data": {
      "text/html": [
       "<div>\n",
       "<style scoped>\n",
       "    .dataframe tbody tr th:only-of-type {\n",
       "        vertical-align: middle;\n",
       "    }\n",
       "\n",
       "    .dataframe tbody tr th {\n",
       "        vertical-align: top;\n",
       "    }\n",
       "\n",
       "    .dataframe thead th {\n",
       "        text-align: right;\n",
       "    }\n",
       "</style>\n",
       "<table border=\"1\" class=\"dataframe\">\n",
       "  <thead>\n",
       "    <tr style=\"text-align: right;\">\n",
       "      <th></th>\n",
       "      <th>0</th>\n",
       "      <th>1</th>\n",
       "      <th>2</th>\n",
       "    </tr>\n",
       "  </thead>\n",
       "  <tbody>\n",
       "    <tr>\n",
       "      <th>2014</th>\n",
       "      <td>2409.14</td>\n",
       "      <td>1203.45</td>\n",
       "      <td>3412.12</td>\n",
       "    </tr>\n",
       "    <tr>\n",
       "      <th>2015</th>\n",
       "      <td>2941.01</td>\n",
       "      <td>3441.62</td>\n",
       "      <td>3491.16</td>\n",
       "    </tr>\n",
       "    <tr>\n",
       "      <th>2016</th>\n",
       "      <td>3496.83</td>\n",
       "      <td>3007.83</td>\n",
       "      <td>3457.19</td>\n",
       "    </tr>\n",
       "    <tr>\n",
       "      <th>2017</th>\n",
       "      <td>3119.55</td>\n",
       "      <td>3619.53</td>\n",
       "      <td>1963.10</td>\n",
       "    </tr>\n",
       "  </tbody>\n",
       "</table>\n",
       "</div>"
      ],
      "text/plain": [
       "            0        1        2\n",
       "2014  2409.14  1203.45  3412.12\n",
       "2015  2941.01  3441.62  3491.16\n",
       "2016  3496.83  3007.83  3457.19\n",
       "2017  3119.55  3619.53  1963.10"
      ]
     },
     "execution_count": 28,
     "metadata": {},
     "output_type": "execute_result"
    }
   ],
   "source": [
    "# Creer un dataframe a partir des series\n",
    "years = range(2014, 2018)\n",
    "shop1 = pd.Series([2409.14, 2941.01, 3496.83, 3119.55], index=years)\n",
    "shop2 = pd.Series([1203.45, 3441.62, 3007.83, 3619.53], index=years)\n",
    "shop3 = pd.Series([3412.12, 3491.16, 3457.19, 1963.10], index=years)\n",
    "shops_df = pd.concat([shop1, shop2, shop3], axis=1)\n",
    "shops_df"
   ]
  },
  {
   "cell_type": "code",
   "execution_count": null,
   "id": "c1edac1c",
   "metadata": {},
   "outputs": [
    {
     "data": {
      "text/html": [
       "<div>\n",
       "<style scoped>\n",
       "    .dataframe tbody tr th:only-of-type {\n",
       "        vertical-align: middle;\n",
       "    }\n",
       "\n",
       "    .dataframe tbody tr th {\n",
       "        vertical-align: top;\n",
       "    }\n",
       "\n",
       "    .dataframe thead th {\n",
       "        text-align: right;\n",
       "    }\n",
       "</style>\n",
       "<table border=\"1\" class=\"dataframe\">\n",
       "  <thead>\n",
       "    <tr style=\"text-align: right;\">\n",
       "      <th></th>\n",
       "      <th>Shop1</th>\n",
       "      <th>Shop2</th>\n",
       "    </tr>\n",
       "  </thead>\n",
       "  <tbody>\n",
       "    <tr>\n",
       "      <th>1</th>\n",
       "      <td>Monday 11th</td>\n",
       "      <td>Monday 11th</td>\n",
       "    </tr>\n",
       "    <tr>\n",
       "      <th>2</th>\n",
       "      <td>Tuesday 12th</td>\n",
       "      <td>Tuesday 12th</td>\n",
       "    </tr>\n",
       "    <tr>\n",
       "      <th>3</th>\n",
       "      <td>Wednesday 13th</td>\n",
       "      <td>Wednesday 13th</td>\n",
       "    </tr>\n",
       "    <tr>\n",
       "      <th>4</th>\n",
       "      <td>Thursday 14th</td>\n",
       "      <td>Thursday 14th</td>\n",
       "    </tr>\n",
       "    <tr>\n",
       "      <th>5</th>\n",
       "      <td>Friday 15th</td>\n",
       "      <td>Friday 15th</td>\n",
       "    </tr>\n",
       "  </tbody>\n",
       "</table>\n",
       "</div>"
      ],
      "text/plain": [
       "            Shop1           Shop2\n",
       "1     Monday 11th     Monday 11th\n",
       "2    Tuesday 12th    Tuesday 12th\n",
       "3  Wednesday 13th  Wednesday 13th\n",
       "4   Thursday 14th   Thursday 14th\n",
       "5     Friday 15th     Friday 15th"
      ]
     },
     "execution_count": 10,
     "metadata": {},
     "output_type": "execute_result"
    }
   ],
   "source": [
    "days = range(1, 6)\n",
    "shop1 = pd.Series([\"Monday 11th\", \"Tuesday 12th\", \"Wednesday 13th\", \"Thursday 14th\", \"Friday 15th\"], index=days)\n",
    "shop2 = pd.Series([\"Monday 11th\", \"Tuesday 12th\", \"Wednesday 13th\", \"Thursday 14th\", \"Friday 15th\"], index=days)\n",
    "\n",
    "s =  pd.concat([shop1, shop2], axis=1)\n",
    "s.columns = [\"Shop1\", \"Shop2\"]\n",
    "s"
   ]
  },
  {
   "cell_type": "code",
   "execution_count": null,
   "id": "4f343317",
   "metadata": {},
   "outputs": [
    {
     "data": {
      "text/plain": [
       "pandas.core.frame.DataFrame"
      ]
     },
     "execution_count": 29,
     "metadata": {},
     "output_type": "execute_result"
    }
   ],
   "source": [
    "type(shops_df)"
   ]
  },
  {
   "cell_type": "code",
   "execution_count": null,
   "id": "06c04a1f",
   "metadata": {},
   "outputs": [
    {
     "data": {
      "text/html": [
       "<div>\n",
       "<style scoped>\n",
       "    .dataframe tbody tr th:only-of-type {\n",
       "        vertical-align: middle;\n",
       "    }\n",
       "\n",
       "    .dataframe tbody tr th {\n",
       "        vertical-align: top;\n",
       "    }\n",
       "\n",
       "    .dataframe thead th {\n",
       "        text-align: right;\n",
       "    }\n",
       "</style>\n",
       "<table border=\"1\" class=\"dataframe\">\n",
       "  <thead>\n",
       "    <tr style=\"text-align: right;\">\n",
       "      <th></th>\n",
       "      <th>Zürich</th>\n",
       "      <th>Winterthur</th>\n",
       "      <th>Freiburg</th>\n",
       "    </tr>\n",
       "  </thead>\n",
       "  <tbody>\n",
       "    <tr>\n",
       "      <th>2014</th>\n",
       "      <td>2409.14</td>\n",
       "      <td>1203.45</td>\n",
       "      <td>3412.12</td>\n",
       "    </tr>\n",
       "    <tr>\n",
       "      <th>2015</th>\n",
       "      <td>2941.01</td>\n",
       "      <td>3441.62</td>\n",
       "      <td>3491.16</td>\n",
       "    </tr>\n",
       "    <tr>\n",
       "      <th>2016</th>\n",
       "      <td>3496.83</td>\n",
       "      <td>3007.83</td>\n",
       "      <td>3457.19</td>\n",
       "    </tr>\n",
       "    <tr>\n",
       "      <th>2017</th>\n",
       "      <td>3119.55</td>\n",
       "      <td>3619.53</td>\n",
       "      <td>1963.10</td>\n",
       "    </tr>\n",
       "  </tbody>\n",
       "</table>\n",
       "</div>"
      ],
      "text/plain": [
       "       Zürich  Winterthur  Freiburg\n",
       "2014  2409.14     1203.45   3412.12\n",
       "2015  2941.01     3441.62   3491.16\n",
       "2016  3496.83     3007.83   3457.19\n",
       "2017  3119.55     3619.53   1963.10"
      ]
     },
     "execution_count": 30,
     "metadata": {},
     "output_type": "execute_result"
    }
   ],
   "source": [
    "#Nommer vos colonnes\n",
    "cities = [\"Zürich\", \"Winterthur\", \"Freiburg\"]\n",
    "shops_df.columns = cities\n",
    "shops_df"
   ]
  },
  {
   "attachments": {},
   "cell_type": "markdown",
   "id": "5bad471a",
   "metadata": {},
   "source": [
    "DATAFRAMES DES DICTIONNAIRES"
   ]
  },
  {
   "cell_type": "code",
   "execution_count": null,
   "id": "4a75b6e6",
   "metadata": {},
   "outputs": [
    {
     "data": {
      "text/html": [
       "<div>\n",
       "<style scoped>\n",
       "    .dataframe tbody tr th:only-of-type {\n",
       "        vertical-align: middle;\n",
       "    }\n",
       "\n",
       "    .dataframe tbody tr th {\n",
       "        vertical-align: top;\n",
       "    }\n",
       "\n",
       "    .dataframe thead th {\n",
       "        text-align: right;\n",
       "    }\n",
       "</style>\n",
       "<table border=\"1\" class=\"dataframe\">\n",
       "  <thead>\n",
       "    <tr style=\"text-align: right;\">\n",
       "      <th></th>\n",
       "      <th>name</th>\n",
       "      <th>population</th>\n",
       "      <th>country</th>\n",
       "    </tr>\n",
       "  </thead>\n",
       "  <tbody>\n",
       "    <tr>\n",
       "      <th>0</th>\n",
       "      <td>London</td>\n",
       "      <td>8615246</td>\n",
       "      <td>England</td>\n",
       "    </tr>\n",
       "    <tr>\n",
       "      <th>1</th>\n",
       "      <td>Berlin</td>\n",
       "      <td>3562166</td>\n",
       "      <td>Germany</td>\n",
       "    </tr>\n",
       "    <tr>\n",
       "      <th>2</th>\n",
       "      <td>Madrid</td>\n",
       "      <td>3165235</td>\n",
       "      <td>Spain</td>\n",
       "    </tr>\n",
       "    <tr>\n",
       "      <th>3</th>\n",
       "      <td>Rome</td>\n",
       "      <td>2874038</td>\n",
       "      <td>Italy</td>\n",
       "    </tr>\n",
       "    <tr>\n",
       "      <th>4</th>\n",
       "      <td>Paris</td>\n",
       "      <td>2273305</td>\n",
       "      <td>France</td>\n",
       "    </tr>\n",
       "    <tr>\n",
       "      <th>5</th>\n",
       "      <td>Vienna</td>\n",
       "      <td>1805681</td>\n",
       "      <td>Austria</td>\n",
       "    </tr>\n",
       "    <tr>\n",
       "      <th>6</th>\n",
       "      <td>Bucharest</td>\n",
       "      <td>1803425</td>\n",
       "      <td>Romania</td>\n",
       "    </tr>\n",
       "    <tr>\n",
       "      <th>7</th>\n",
       "      <td>Hamburg</td>\n",
       "      <td>1760433</td>\n",
       "      <td>Germany</td>\n",
       "    </tr>\n",
       "    <tr>\n",
       "      <th>8</th>\n",
       "      <td>Budapest</td>\n",
       "      <td>1754000</td>\n",
       "      <td>Hungary</td>\n",
       "    </tr>\n",
       "    <tr>\n",
       "      <th>9</th>\n",
       "      <td>Warsaw</td>\n",
       "      <td>1740119</td>\n",
       "      <td>Poland</td>\n",
       "    </tr>\n",
       "    <tr>\n",
       "      <th>10</th>\n",
       "      <td>Barcelona</td>\n",
       "      <td>1602386</td>\n",
       "      <td>Spain</td>\n",
       "    </tr>\n",
       "    <tr>\n",
       "      <th>11</th>\n",
       "      <td>Munich</td>\n",
       "      <td>1493900</td>\n",
       "      <td>Germany</td>\n",
       "    </tr>\n",
       "    <tr>\n",
       "      <th>12</th>\n",
       "      <td>Milan</td>\n",
       "      <td>1350680</td>\n",
       "      <td>Italy</td>\n",
       "    </tr>\n",
       "  </tbody>\n",
       "</table>\n",
       "</div>"
      ],
      "text/plain": [
       "         name  population  country\n",
       "0      London     8615246  England\n",
       "1      Berlin     3562166  Germany\n",
       "2      Madrid     3165235    Spain\n",
       "3        Rome     2874038    Italy\n",
       "4       Paris     2273305   France\n",
       "5      Vienna     1805681  Austria\n",
       "6   Bucharest     1803425  Romania\n",
       "7     Hamburg     1760433  Germany\n",
       "8    Budapest     1754000  Hungary\n",
       "9      Warsaw     1740119   Poland\n",
       "10  Barcelona     1602386    Spain\n",
       "11     Munich     1493900  Germany\n",
       "12      Milan     1350680    Italy"
      ]
     },
     "execution_count": 31,
     "metadata": {},
     "output_type": "execute_result"
    }
   ],
   "source": [
    "cities = {\"name\": [\"London\", \"Berlin\", \"Madrid\", \"Rome\",\n",
    "                \"Paris\", \"Vienna\", \"Bucharest\", \"Hamburg\",\n",
    "                \"Budapest\", \"Warsaw\", \"Barcelona\",\n",
    "                \"Munich\", \"Milan\"],\n",
    "          \"population\": [8615246, 3562166, 3165235, 2874038,\n",
    "                        2273305, 1805681, 1803425, 1760433,\n",
    "                        1754000, 1740119, 1602386, 1493900,\n",
    "                        1350680],\n",
    "           \"country\": [\"England\", \"Germany\", \"Spain\", \"Italy\",\n",
    "                        \"France\", \"Austria\", \"Romania\",\n",
    "                        \"Germany\", \"Hungary\", \"Poland\", \"Spain\",\n",
    "                        \"Germany\", \"Italy\"]}\n",
    "city_frame = pd.DataFrame(cities)\n",
    "city_frame"
   ]
  },
  {
   "cell_type": "code",
   "execution_count": null,
   "id": "444e259d",
   "metadata": {},
   "outputs": [
    {
     "data": {
      "text/plain": [
       "array(['name', 'population', 'country'], dtype=object)"
      ]
     },
     "execution_count": 32,
     "metadata": {},
     "output_type": "execute_result"
    }
   ],
   "source": [
    "# RÉCUPÉRATION DES NOMS DE COLONNES\n",
    "city_frame.columns.values"
   ]
  },
  {
   "cell_type": "code",
   "execution_count": null,
   "id": "634283a9",
   "metadata": {},
   "outputs": [
    {
     "data": {
      "text/html": [
       "<div>\n",
       "<style scoped>\n",
       "    .dataframe tbody tr th:only-of-type {\n",
       "        vertical-align: middle;\n",
       "    }\n",
       "\n",
       "    .dataframe tbody tr th {\n",
       "        vertical-align: top;\n",
       "    }\n",
       "\n",
       "    .dataframe thead th {\n",
       "        text-align: right;\n",
       "    }\n",
       "</style>\n",
       "<table border=\"1\" class=\"dataframe\">\n",
       "  <thead>\n",
       "    <tr style=\"text-align: right;\">\n",
       "      <th></th>\n",
       "      <th>Nom</th>\n",
       "      <th>Population</th>\n",
       "      <th>Pays</th>\n",
       "    </tr>\n",
       "  </thead>\n",
       "  <tbody>\n",
       "    <tr>\n",
       "      <th>0</th>\n",
       "      <td>London</td>\n",
       "      <td>8615246</td>\n",
       "      <td>England</td>\n",
       "    </tr>\n",
       "    <tr>\n",
       "      <th>1</th>\n",
       "      <td>Berlin</td>\n",
       "      <td>3562166</td>\n",
       "      <td>Germany</td>\n",
       "    </tr>\n",
       "    <tr>\n",
       "      <th>2</th>\n",
       "      <td>Madrid</td>\n",
       "      <td>3165235</td>\n",
       "      <td>Spain</td>\n",
       "    </tr>\n",
       "    <tr>\n",
       "      <th>3</th>\n",
       "      <td>Rome</td>\n",
       "      <td>2874038</td>\n",
       "      <td>Italy</td>\n",
       "    </tr>\n",
       "    <tr>\n",
       "      <th>4</th>\n",
       "      <td>Paris</td>\n",
       "      <td>2273305</td>\n",
       "      <td>France</td>\n",
       "    </tr>\n",
       "    <tr>\n",
       "      <th>5</th>\n",
       "      <td>Vienna</td>\n",
       "      <td>1805681</td>\n",
       "      <td>Austria</td>\n",
       "    </tr>\n",
       "    <tr>\n",
       "      <th>6</th>\n",
       "      <td>Bucharest</td>\n",
       "      <td>1803425</td>\n",
       "      <td>Romania</td>\n",
       "    </tr>\n",
       "    <tr>\n",
       "      <th>7</th>\n",
       "      <td>Hamburg</td>\n",
       "      <td>1760433</td>\n",
       "      <td>Germany</td>\n",
       "    </tr>\n",
       "    <tr>\n",
       "      <th>8</th>\n",
       "      <td>Budapest</td>\n",
       "      <td>1754000</td>\n",
       "      <td>Hungary</td>\n",
       "    </tr>\n",
       "    <tr>\n",
       "      <th>9</th>\n",
       "      <td>Warsaw</td>\n",
       "      <td>1740119</td>\n",
       "      <td>Poland</td>\n",
       "    </tr>\n",
       "    <tr>\n",
       "      <th>10</th>\n",
       "      <td>Barcelona</td>\n",
       "      <td>1602386</td>\n",
       "      <td>Spain</td>\n",
       "    </tr>\n",
       "    <tr>\n",
       "      <th>11</th>\n",
       "      <td>Munich</td>\n",
       "      <td>1493900</td>\n",
       "      <td>Germany</td>\n",
       "    </tr>\n",
       "    <tr>\n",
       "      <th>12</th>\n",
       "      <td>Milan</td>\n",
       "      <td>1350680</td>\n",
       "      <td>Italy</td>\n",
       "    </tr>\n",
       "  </tbody>\n",
       "</table>\n",
       "</div>"
      ],
      "text/plain": [
       "          Nom  Population     Pays\n",
       "0      London     8615246  England\n",
       "1      Berlin     3562166  Germany\n",
       "2      Madrid     3165235    Spain\n",
       "3        Rome     2874038    Italy\n",
       "4       Paris     2273305   France\n",
       "5      Vienna     1805681  Austria\n",
       "6   Bucharest     1803425  Romania\n",
       "7     Hamburg     1760433  Germany\n",
       "8    Budapest     1754000  Hungary\n",
       "9      Warsaw     1740119   Poland\n",
       "10  Barcelona     1602386    Spain\n",
       "11     Munich     1493900  Germany\n",
       "12      Milan     1350680    Italy"
      ]
     },
     "execution_count": 33,
     "metadata": {},
     "output_type": "execute_result"
    }
   ],
   "source": [
    "#On peut renommer les colonnes\n",
    "city_frame.rename(columns={\"name\":\"Nom\",\n",
    "\"country\":\"Pays\",\"population\":\"Population\"}, inplace=True) #Lorsque vous utilisez inplace=True, cela modifie les valeurs \n",
    "                                                           #dans le dataframe d'origine\n",
    "city_frame\n"
   ]
  },
  {
   "cell_type": "code",
   "execution_count": null,
   "id": "b5896b52",
   "metadata": {},
   "outputs": [
    {
     "data": {
      "text/html": [
       "<div>\n",
       "<style scoped>\n",
       "    .dataframe tbody tr th:only-of-type {\n",
       "        vertical-align: middle;\n",
       "    }\n",
       "\n",
       "    .dataframe tbody tr th {\n",
       "        vertical-align: top;\n",
       "    }\n",
       "\n",
       "    .dataframe thead th {\n",
       "        text-align: right;\n",
       "    }\n",
       "</style>\n",
       "<table border=\"1\" class=\"dataframe\">\n",
       "  <thead>\n",
       "    <tr style=\"text-align: right;\">\n",
       "      <th></th>\n",
       "      <th>name</th>\n",
       "      <th>population</th>\n",
       "      <th>country</th>\n",
       "    </tr>\n",
       "  </thead>\n",
       "  <tbody>\n",
       "    <tr>\n",
       "      <th>first</th>\n",
       "      <td>London</td>\n",
       "      <td>8615246</td>\n",
       "      <td>England</td>\n",
       "    </tr>\n",
       "    <tr>\n",
       "      <th>second</th>\n",
       "      <td>Berlin</td>\n",
       "      <td>3562166</td>\n",
       "      <td>Germany</td>\n",
       "    </tr>\n",
       "    <tr>\n",
       "      <th>third</th>\n",
       "      <td>Madrid</td>\n",
       "      <td>3165235</td>\n",
       "      <td>Spain</td>\n",
       "    </tr>\n",
       "    <tr>\n",
       "      <th>fourth</th>\n",
       "      <td>Rome</td>\n",
       "      <td>2874038</td>\n",
       "      <td>Italy</td>\n",
       "    </tr>\n",
       "    <tr>\n",
       "      <th>fifth</th>\n",
       "      <td>Paris</td>\n",
       "      <td>2273305</td>\n",
       "      <td>France</td>\n",
       "    </tr>\n",
       "    <tr>\n",
       "      <th>sixth</th>\n",
       "      <td>Vienna</td>\n",
       "      <td>1805681</td>\n",
       "      <td>Austria</td>\n",
       "    </tr>\n",
       "    <tr>\n",
       "      <th>seventh</th>\n",
       "      <td>Bucharest</td>\n",
       "      <td>1803425</td>\n",
       "      <td>Romania</td>\n",
       "    </tr>\n",
       "    <tr>\n",
       "      <th>eigth</th>\n",
       "      <td>Hamburg</td>\n",
       "      <td>1760433</td>\n",
       "      <td>Germany</td>\n",
       "    </tr>\n",
       "    <tr>\n",
       "      <th>ninth</th>\n",
       "      <td>Budapest</td>\n",
       "      <td>1754000</td>\n",
       "      <td>Hungary</td>\n",
       "    </tr>\n",
       "    <tr>\n",
       "      <th>tenth</th>\n",
       "      <td>Warsaw</td>\n",
       "      <td>1740119</td>\n",
       "      <td>Poland</td>\n",
       "    </tr>\n",
       "    <tr>\n",
       "      <th>eleventh</th>\n",
       "      <td>Barcelona</td>\n",
       "      <td>1602386</td>\n",
       "      <td>Spain</td>\n",
       "    </tr>\n",
       "    <tr>\n",
       "      <th>twelvth</th>\n",
       "      <td>Munich</td>\n",
       "      <td>1493900</td>\n",
       "      <td>Germany</td>\n",
       "    </tr>\n",
       "    <tr>\n",
       "      <th>thirteenth</th>\n",
       "      <td>Milan</td>\n",
       "      <td>1350680</td>\n",
       "      <td>Italy</td>\n",
       "    </tr>\n",
       "  </tbody>\n",
       "</table>\n",
       "</div>"
      ],
      "text/plain": [
       "                 name  population  country\n",
       "first          London     8615246  England\n",
       "second         Berlin     3562166  Germany\n",
       "third          Madrid     3165235    Spain\n",
       "fourth           Rome     2874038    Italy\n",
       "fifth           Paris     2273305   France\n",
       "sixth          Vienna     1805681  Austria\n",
       "seventh     Bucharest     1803425  Romania\n",
       "eigth         Hamburg     1760433  Germany\n",
       "ninth        Budapest     1754000  Hungary\n",
       "tenth          Warsaw     1740119   Poland\n",
       "eleventh    Barcelona     1602386    Spain\n",
       "twelvth        Munich     1493900  Germany\n",
       "thirteenth      Milan     1350680    Italy"
      ]
     },
     "execution_count": 34,
     "metadata": {},
     "output_type": "execute_result"
    }
   ],
   "source": [
    "#INDEX PERSONNALISÉ\n",
    "ordinals = [\"first\", \"second\", \"third\", \"fourth\",\n",
    "\"fifth\", \"sixth\", \"seventh\", \"eigth\",\n",
    "\"ninth\", \"tenth\", \"eleventh\", \"twelvth\",\n",
    "\"thirteenth\"]\n",
    "city_frame = pd.DataFrame(cities, index=ordinals)\n",
    "city_frame"
   ]
  },
  {
   "cell_type": "code",
   "execution_count": null,
   "id": "6e8b73c9",
   "metadata": {},
   "outputs": [
    {
     "name": "stdout",
     "output_type": "stream",
     "text": [
      "              name  population\n",
      "country                       \n",
      "England     London     8615246\n",
      "Germany     Berlin     3562166\n",
      "Spain       Madrid     3165235\n",
      "Italy         Rome     2874038\n",
      "France       Paris     2273305\n",
      "Austria     Vienna     1805681\n",
      "Romania  Bucharest     1803425\n",
      "Germany    Hamburg     1760433\n",
      "Hungary   Budapest     1754000\n",
      "Poland      Warsaw     1740119\n",
      "Spain    Barcelona     1602386\n",
      "Germany     Munich     1493900\n",
      "Italy        Milan     1350680\n"
     ]
    }
   ],
   "source": [
    "# Utiliser une colonne comme un index\n",
    "city_frame.set_index(\"country\", inplace=True)\n",
    "print(city_frame)"
   ]
  },
  {
   "attachments": {},
   "cell_type": "markdown",
   "id": "edd66ebc",
   "metadata": {},
   "source": [
    "ACCÉDER AUX LIGNES VIA LES VALEURS D'INDEX"
   ]
  },
  {
   "cell_type": "code",
   "execution_count": null,
   "id": "beb1c3a9",
   "metadata": {},
   "outputs": [
    {
     "data": {
      "text/html": [
       "<div>\n",
       "<style scoped>\n",
       "    .dataframe tbody tr th:only-of-type {\n",
       "        vertical-align: middle;\n",
       "    }\n",
       "\n",
       "    .dataframe tbody tr th {\n",
       "        vertical-align: top;\n",
       "    }\n",
       "\n",
       "    .dataframe thead th {\n",
       "        text-align: right;\n",
       "    }\n",
       "</style>\n",
       "<table border=\"1\" class=\"dataframe\">\n",
       "  <thead>\n",
       "    <tr style=\"text-align: right;\">\n",
       "      <th></th>\n",
       "      <th>name</th>\n",
       "      <th>population</th>\n",
       "    </tr>\n",
       "  </thead>\n",
       "  <tbody>\n",
       "    <tr>\n",
       "      <th>England</th>\n",
       "      <td>London</td>\n",
       "      <td>8615246</td>\n",
       "    </tr>\n",
       "    <tr>\n",
       "      <th>Germany</th>\n",
       "      <td>Berlin</td>\n",
       "      <td>3562166</td>\n",
       "    </tr>\n",
       "    <tr>\n",
       "      <th>Spain</th>\n",
       "      <td>Madrid</td>\n",
       "      <td>3165235</td>\n",
       "    </tr>\n",
       "    <tr>\n",
       "      <th>Italy</th>\n",
       "      <td>Rome</td>\n",
       "      <td>2874038</td>\n",
       "    </tr>\n",
       "    <tr>\n",
       "      <th>France</th>\n",
       "      <td>Paris</td>\n",
       "      <td>2273305</td>\n",
       "    </tr>\n",
       "  </tbody>\n",
       "</table>\n",
       "</div>"
      ],
      "text/plain": [
       "           name  population\n",
       "England  London     8615246\n",
       "Germany  Berlin     3562166\n",
       "Spain    Madrid     3165235\n",
       "Italy      Rome     2874038\n",
       "France    Paris     2273305"
      ]
     },
     "execution_count": 36,
     "metadata": {},
     "output_type": "execute_result"
    }
   ],
   "source": [
    "city_frame = pd.DataFrame(cities, columns=(\"name\", \"population\"),index=cities[\"country\"])\n",
    "city_frame.head() # Acceder les premiers elements 5 elements de votre dataframe\n",
    "                  # On peut utiliser tail pour accesser au dernier elements"
   ]
  },
  {
   "cell_type": "code",
   "execution_count": null,
   "id": "0648610c",
   "metadata": {},
   "outputs": [
    {
     "data": {
      "text/html": [
       "<div>\n",
       "<style scoped>\n",
       "    .dataframe tbody tr th:only-of-type {\n",
       "        vertical-align: middle;\n",
       "    }\n",
       "\n",
       "    .dataframe tbody tr th {\n",
       "        vertical-align: top;\n",
       "    }\n",
       "\n",
       "    .dataframe thead th {\n",
       "        text-align: right;\n",
       "    }\n",
       "</style>\n",
       "<table border=\"1\" class=\"dataframe\">\n",
       "  <thead>\n",
       "    <tr style=\"text-align: right;\">\n",
       "      <th></th>\n",
       "      <th>name</th>\n",
       "      <th>population</th>\n",
       "    </tr>\n",
       "  </thead>\n",
       "  <tbody>\n",
       "    <tr>\n",
       "      <th>Hungary</th>\n",
       "      <td>Budapest</td>\n",
       "      <td>1754000</td>\n",
       "    </tr>\n",
       "    <tr>\n",
       "      <th>Poland</th>\n",
       "      <td>Warsaw</td>\n",
       "      <td>1740119</td>\n",
       "    </tr>\n",
       "    <tr>\n",
       "      <th>Spain</th>\n",
       "      <td>Barcelona</td>\n",
       "      <td>1602386</td>\n",
       "    </tr>\n",
       "    <tr>\n",
       "      <th>Germany</th>\n",
       "      <td>Munich</td>\n",
       "      <td>1493900</td>\n",
       "    </tr>\n",
       "    <tr>\n",
       "      <th>Italy</th>\n",
       "      <td>Milan</td>\n",
       "      <td>1350680</td>\n",
       "    </tr>\n",
       "  </tbody>\n",
       "</table>\n",
       "</div>"
      ],
      "text/plain": [
       "              name  population\n",
       "Hungary   Budapest     1754000\n",
       "Poland      Warsaw     1740119\n",
       "Spain    Barcelona     1602386\n",
       "Germany     Munich     1493900\n",
       "Italy        Milan     1350680"
      ]
     },
     "execution_count": 37,
     "metadata": {},
     "output_type": "execute_result"
    }
   ],
   "source": [
    "city_frame.tail()"
   ]
  },
  {
   "cell_type": "code",
   "execution_count": null,
   "id": "483b9b6c",
   "metadata": {},
   "outputs": [
    {
     "name": "stdout",
     "output_type": "stream",
     "text": [
      "            name  population\n",
      "Germany   Berlin     3562166\n",
      "Germany  Hamburg     1760433\n",
      "Germany   Munich     1493900\n"
     ]
    }
   ],
   "source": [
    "print(city_frame.loc[\"Germany\"]) #iloc"
   ]
  },
  {
   "cell_type": "code",
   "execution_count": null,
   "id": "41cbeb8b",
   "metadata": {},
   "outputs": [
    {
     "name": "stdout",
     "output_type": "stream",
     "text": [
      "              name  population\n",
      "Germany     Berlin     3562166\n",
      "Germany    Hamburg     1760433\n",
      "Germany     Munich     1493900\n",
      "France       Paris     2273305\n",
      "Spain       Madrid     3165235\n",
      "Spain    Barcelona     1602386\n"
     ]
    }
   ],
   "source": [
    "# Il est également possible d'extraire simultanément des lignes en choisissant plus que sur \n",
    "#des étiquettes d'index. Pour ce faire, nous utilisons une liste d'indices :\n",
    "print(city_frame.loc[[\"Germany\", \"France\", \"Spain\"]])"
   ]
  },
  {
   "cell_type": "code",
   "execution_count": null,
   "id": "60c2da80",
   "metadata": {},
   "outputs": [
    {
     "name": "stdout",
     "output_type": "stream",
     "text": [
      "              name  population\n",
      "Austria     Vienna     1805681\n",
      "Romania  Bucharest     1803425\n",
      "Germany    Hamburg     1760433\n",
      "Hungary   Budapest     1754000\n",
      "Poland      Warsaw     1740119\n",
      "Spain    Barcelona     1602386\n",
      "Germany     Munich     1493900\n",
      "Italy        Milan     1350680\n"
     ]
    }
   ],
   "source": [
    "# Acceder des elements avec condition\n",
    "print(city_frame.loc[(city_frame.population < 2000000)]) # ou city_frame.population>2000000"
   ]
  },
  {
   "attachments": {},
   "cell_type": "markdown",
   "id": "e4211584",
   "metadata": {},
   "source": [
    "ACCÉDER AUX LIGNES PAR POSITION: iloc"
   ]
  },
  {
   "cell_type": "code",
   "execution_count": null,
   "id": "43cd7c55",
   "metadata": {},
   "outputs": [
    {
     "name": "stdout",
     "output_type": "stream",
     "text": [
      "              name  population\n",
      "England     London     8615246\n",
      "Germany     Berlin     3562166\n",
      "Spain       Madrid     3165235\n",
      "Italy         Rome     2874038\n",
      "France       Paris     2273305\n",
      "Austria     Vienna     1805681\n",
      "Romania  Bucharest     1803425\n",
      "Germany    Hamburg     1760433\n",
      "Hungary   Budapest     1754000\n",
      "Poland      Warsaw     1740119\n",
      "Spain    Barcelona     1602386\n",
      "Germany     Munich     1493900\n",
      "Italy        Milan     1350680\n",
      "Apres indexation\n",
      "name           Berlin\n",
      "population    3562166\n",
      "Name: Germany, dtype: object\n"
     ]
    }
   ],
   "source": [
    "print(city_frame)\n",
    "df = city_frame.iloc[1]\n",
    "print(\"Apres indexation\")\n",
    "print(df)"
   ]
  },
  {
   "attachments": {},
   "cell_type": "markdown",
   "id": "3cc224e2",
   "metadata": {},
   "source": [
    "Pour obtenir un DataFrame avec des lignes sélectionnées par des nombres, nous utilisons une liste d'entiers. Nous pouvons voir que nous pouvons changer\n",
    "l'ordre des lignes et nous pouvons également sélectionner des lignes plusieurs fois :"
   ]
  },
  {
   "cell_type": "code",
   "execution_count": null,
   "id": "03aac07b",
   "metadata": {},
   "outputs": [
    {
     "name": "stdout",
     "output_type": "stream",
     "text": [
      "           name  population\n",
      "Italy      Rome     2874038\n",
      "Spain    Madrid     3165235\n",
      "England  London     8615246\n",
      "Austria  Vienna     1805681\n",
      "England  London     8615246\n"
     ]
    }
   ],
   "source": [
    "df = city_frame.iloc[[3, 2, 0, 5, 0]]\n",
    "print(df)"
   ]
  },
  {
   "attachments": {},
   "cell_type": "markdown",
   "id": "52883051",
   "metadata": {},
   "source": [
    "SOMME ET SOMME CUMULEE"
   ]
  },
  {
   "cell_type": "code",
   "execution_count": null,
   "id": "dd81ff1f",
   "metadata": {},
   "outputs": [
    {
     "name": "stdout",
     "output_type": "stream",
     "text": [
      "      Zürich  Freiburg  München  Konstanz  Saarbrücken\n",
      "2014     649       161      229       888          861\n",
      "2015      89       411      218       132          310\n",
      "2016     629       359      956       317          982\n",
      "2017     112       962      690       155          363\n",
      "2018     276       564      912       422            3\n"
     ]
    }
   ],
   "source": [
    "years = range(2014, 2019)\n",
    "cities = [\"Zürich\", \"Freiburg\", \"München\", \"Konstanz\", \"Saarbrücken\"]\n",
    "shops = pd.DataFrame(index=years)\n",
    "for city in cities:\n",
    "    shops.insert(loc=len(shops.columns),column=city,\n",
    "                 value=(np.random.randint(1,1000, (5,))))\n",
    "print(shops)"
   ]
  },
  {
   "cell_type": "code",
   "execution_count": null,
   "id": "4bb22720",
   "metadata": {},
   "outputs": [
    {
     "data": {
      "text/plain": [
       "Zürich         1755\n",
       "Freiburg       2457\n",
       "München        3005\n",
       "Konstanz       1914\n",
       "Saarbrücken    2519\n",
       "dtype: int64"
      ]
     },
     "execution_count": 44,
     "metadata": {},
     "output_type": "execute_result"
    }
   ],
   "source": [
    "shops.sum()"
   ]
  },
  {
   "cell_type": "code",
   "execution_count": null,
   "id": "13079f2d",
   "metadata": {},
   "outputs": [
    {
     "data": {
      "text/plain": [
       "(2014    2788\n",
       " 2015    1160\n",
       " 2016    3243\n",
       " 2017    2282\n",
       " 2018    2177\n",
       " dtype: int64,)"
      ]
     },
     "execution_count": 45,
     "metadata": {},
     "output_type": "execute_result"
    }
   ],
   "source": [
    "# Pour faire la somme par ligne:\n",
    "shops.sum(axis=1), #axis=1 pour faire la somme par ligne"
   ]
  },
  {
   "cell_type": "code",
   "execution_count": null,
   "id": "80108b5b",
   "metadata": {},
   "outputs": [
    {
     "data": {
      "text/plain": [
       "Zürich         1755\n",
       "München        3005\n",
       "Saarbrücken    2519\n",
       "dtype: int64"
      ]
     },
     "execution_count": 46,
     "metadata": {},
     "output_type": "execute_result"
    }
   ],
   "source": [
    "# Tu peux faire la somme en accedant les colonnes qui tu veux\n",
    "shops[[\"Zürich\", \"München\", \"Saarbrücken\"]].sum()"
   ]
  },
  {
   "cell_type": "code",
   "execution_count": null,
   "id": "da6212d5",
   "metadata": {},
   "outputs": [
    {
     "name": "stdout",
     "output_type": "stream",
     "text": [
      "      Zürich  Freiburg  München  Konstanz  Saarbrücken\n",
      "2014     649       161      229       888          861\n",
      "2015      89       411      218       132          310\n",
      "2016     629       359      956       317          982\n",
      "2017     112       962      690       155          363\n",
      "2018     276       564      912       422            3\n",
      "      Zürich  Freiburg  München  Konstanz  Saarbrücken\n",
      "2014     649       161      229       888          861\n",
      "2015     738       572      447      1020         1171\n",
      "2016    1367       931     1403      1337         2153\n",
      "2017    1479      1893     2093      1492         2516\n",
      "2018    1755      2457     3005      1914         2519\n"
     ]
    }
   ],
   "source": [
    "#SOMME CUMULEE\n",
    "print(shops)\n",
    "x = shops.cumsum()\n",
    "print(x)"
   ]
  },
  {
   "cell_type": "code",
   "execution_count": null,
   "id": "6aa6c199",
   "metadata": {},
   "outputs": [
    {
     "data": {
      "text/html": [
       "<div>\n",
       "<style scoped>\n",
       "    .dataframe tbody tr th:only-of-type {\n",
       "        vertical-align: middle;\n",
       "    }\n",
       "\n",
       "    .dataframe tbody tr th {\n",
       "        vertical-align: top;\n",
       "    }\n",
       "\n",
       "    .dataframe thead th {\n",
       "        text-align: right;\n",
       "    }\n",
       "</style>\n",
       "<table border=\"1\" class=\"dataframe\">\n",
       "  <thead>\n",
       "    <tr style=\"text-align: right;\">\n",
       "      <th></th>\n",
       "      <th>name</th>\n",
       "      <th>population</th>\n",
       "      <th>cum_population</th>\n",
       "    </tr>\n",
       "  </thead>\n",
       "  <tbody>\n",
       "    <tr>\n",
       "      <th>England</th>\n",
       "      <td>London</td>\n",
       "      <td>8615246</td>\n",
       "      <td>8615246</td>\n",
       "    </tr>\n",
       "    <tr>\n",
       "      <th>Germany</th>\n",
       "      <td>Berlin</td>\n",
       "      <td>3562166</td>\n",
       "      <td>12177412</td>\n",
       "    </tr>\n",
       "    <tr>\n",
       "      <th>Spain</th>\n",
       "      <td>Madrid</td>\n",
       "      <td>3165235</td>\n",
       "      <td>15342647</td>\n",
       "    </tr>\n",
       "    <tr>\n",
       "      <th>Italy</th>\n",
       "      <td>Rome</td>\n",
       "      <td>2874038</td>\n",
       "      <td>18216685</td>\n",
       "    </tr>\n",
       "    <tr>\n",
       "      <th>France</th>\n",
       "      <td>Paris</td>\n",
       "      <td>2273305</td>\n",
       "      <td>20489990</td>\n",
       "    </tr>\n",
       "    <tr>\n",
       "      <th>Austria</th>\n",
       "      <td>Vienna</td>\n",
       "      <td>1805681</td>\n",
       "      <td>22295671</td>\n",
       "    </tr>\n",
       "    <tr>\n",
       "      <th>Romania</th>\n",
       "      <td>Bucharest</td>\n",
       "      <td>1803425</td>\n",
       "      <td>24099096</td>\n",
       "    </tr>\n",
       "    <tr>\n",
       "      <th>Germany</th>\n",
       "      <td>Hamburg</td>\n",
       "      <td>1760433</td>\n",
       "      <td>25859529</td>\n",
       "    </tr>\n",
       "    <tr>\n",
       "      <th>Hungary</th>\n",
       "      <td>Budapest</td>\n",
       "      <td>1754000</td>\n",
       "      <td>27613529</td>\n",
       "    </tr>\n",
       "    <tr>\n",
       "      <th>Poland</th>\n",
       "      <td>Warsaw</td>\n",
       "      <td>1740119</td>\n",
       "      <td>29353648</td>\n",
       "    </tr>\n",
       "  </tbody>\n",
       "</table>\n",
       "</div>"
      ],
      "text/plain": [
       "              name  population  cum_population\n",
       "England     London     8615246         8615246\n",
       "Germany     Berlin     3562166        12177412\n",
       "Spain       Madrid     3165235        15342647\n",
       "Italy         Rome     2874038        18216685\n",
       "France       Paris     2273305        20489990\n",
       "Austria     Vienna     1805681        22295671\n",
       "Romania  Bucharest     1803425        24099096\n",
       "Germany    Hamburg     1760433        25859529\n",
       "Hungary   Budapest     1754000        27613529\n",
       "Poland      Warsaw     1740119        29353648"
      ]
     },
     "execution_count": 48,
     "metadata": {},
     "output_type": "execute_result"
    }
   ],
   "source": [
    "city_frame.head(10)\n",
    "city_frame[\"cum_population\"] = city_frame[\"population\"].cumsum()\n",
    "city_frame.head(10)\n"
   ]
  },
  {
   "attachments": {},
   "cell_type": "markdown",
   "id": "652b1411",
   "metadata": {},
   "source": [
    "ACCÉDER AUX COLONNES D'UNE DATAFRAME"
   ]
  },
  {
   "cell_type": "code",
   "execution_count": null,
   "id": "c11e501c",
   "metadata": {},
   "outputs": [
    {
     "name": "stdout",
     "output_type": "stream",
     "text": [
      "         population       name\n",
      "England     8615246     London\n",
      "Germany     3562166     Berlin\n",
      "Spain       3165235     Madrid\n",
      "Italy       2874038       Rome\n",
      "France      2273305      Paris\n",
      "Austria     1805681     Vienna\n",
      "Romania     1803425  Bucharest\n",
      "Germany     1760433    Hamburg\n",
      "Hungary     1754000   Budapest\n",
      "Poland      1740119     Warsaw\n",
      "Spain       1602386  Barcelona\n",
      "Germany     1493900     Munich\n",
      "Italy       1350680      Milan\n"
     ]
    }
   ],
   "source": [
    "print(city_frame[[\"population\", \"name\"]]) # Oubien city_frame.population"
   ]
  },
  {
   "attachments": {},
   "cell_type": "markdown",
   "id": "80e22b23",
   "metadata": {},
   "source": [
    "ASSIGNER DE NOUVELLES VALEURS À UNE COLONNE"
   ]
  },
  {
   "cell_type": "code",
   "execution_count": null,
   "id": "2c11380f",
   "metadata": {},
   "outputs": [
    {
     "name": "stdout",
     "output_type": "stream",
     "text": [
      "              name  population  cum_population  area\n",
      "England     London     8615246         8615246  1572\n",
      "Germany     Berlin     3562166        12177412  1572\n",
      "Spain       Madrid     3165235        15342647  1572\n",
      "Italy         Rome     2874038        18216685  1572\n",
      "France       Paris     2273305        20489990  1572\n",
      "Austria     Vienna     1805681        22295671  1572\n",
      "Romania  Bucharest     1803425        24099096  1572\n",
      "Germany    Hamburg     1760433        25859529  1572\n",
      "Hungary   Budapest     1754000        27613529  1572\n",
      "Poland      Warsaw     1740119        29353648  1572\n",
      "Spain    Barcelona     1602386        30956034  1572\n",
      "Germany     Munich     1493900        32449934  1572\n",
      "Italy        Milan     1350680        33800614  1572\n"
     ]
    }
   ],
   "source": [
    "city_frame[\"area\"] = 1572\n",
    "print(city_frame)"
   ]
  },
  {
   "cell_type": "code",
   "execution_count": null,
   "id": "1219b77a",
   "metadata": {},
   "outputs": [
    {
     "name": "stdout",
     "output_type": "stream",
     "text": [
      "              name  population  cum_population     area\n",
      "England     London     8615246         8615246  1572.00\n",
      "Germany     Berlin     3562166        12177412   891.85\n",
      "Spain       Madrid     3165235        15342647   605.77\n",
      "Italy         Rome     2874038        18216685  1285.00\n",
      "France       Paris     2273305        20489990   105.40\n",
      "Austria     Vienna     1805681        22295671   414.60\n",
      "Romania  Bucharest     1803425        24099096   228.00\n",
      "Germany    Hamburg     1760433        25859529   755.00\n",
      "Hungary   Budapest     1754000        27613529   525.20\n",
      "Poland      Warsaw     1740119        29353648   517.00\n",
      "Spain    Barcelona     1602386        30956034   101.90\n",
      "Germany     Munich     1493900        32449934   310.40\n",
      "Italy        Milan     1350680        33800614   181.80\n"
     ]
    }
   ],
   "source": [
    "area = [1572, 891.85, 605.77, 1285,105.4, 414.6, 228, 755,525.2, 517, 101.9, 310.4,181.8]\n",
    "city_frame[\"area\"] = area\n",
    "print(city_frame)\n"
   ]
  },
  {
   "attachments": {},
   "cell_type": "markdown",
   "id": "72aabc74",
   "metadata": {},
   "source": [
    "TRI DES DATAFRAMES"
   ]
  },
  {
   "cell_type": "code",
   "execution_count": null,
   "id": "c9002cf4",
   "metadata": {},
   "outputs": [
    {
     "name": "stdout",
     "output_type": "stream",
     "text": [
      "              name  population  cum_population     area\n",
      "England     London     8615246         8615246  1572.00\n",
      "Italy         Rome     2874038        18216685  1285.00\n",
      "Germany     Berlin     3562166        12177412   891.85\n",
      "Germany    Hamburg     1760433        25859529   755.00\n",
      "Spain       Madrid     3165235        15342647   605.77\n",
      "Hungary   Budapest     1754000        27613529   525.20\n",
      "Poland      Warsaw     1740119        29353648   517.00\n",
      "Austria     Vienna     1805681        22295671   414.60\n",
      "Germany     Munich     1493900        32449934   310.40\n",
      "Romania  Bucharest     1803425        24099096   228.00\n",
      "Italy        Milan     1350680        33800614   181.80\n",
      "France       Paris     2273305        20489990   105.40\n",
      "Spain    Barcelona     1602386        30956034   101.90\n"
     ]
    }
   ],
   "source": [
    "city_frame = city_frame.sort_values(by=[\"area\"], ascending=False) #On peut combiner deux parametres                                                        #quand on fait le tri\n",
    "print(city_frame)"
   ]
  },
  {
   "attachments": {},
   "cell_type": "markdown",
   "id": "de2d112c",
   "metadata": {},
   "source": [
    "Remplacer des valeurs"
   ]
  },
  {
   "cell_type": "code",
   "execution_count": null,
   "id": "302837db",
   "metadata": {},
   "outputs": [
    {
     "data": {
      "text/html": [
       "<div>\n",
       "<style scoped>\n",
       "    .dataframe tbody tr th:only-of-type {\n",
       "        vertical-align: middle;\n",
       "    }\n",
       "\n",
       "    .dataframe tbody tr th {\n",
       "        vertical-align: top;\n",
       "    }\n",
       "\n",
       "    .dataframe thead th {\n",
       "        text-align: right;\n",
       "    }\n",
       "</style>\n",
       "<table border=\"1\" class=\"dataframe\">\n",
       "  <thead>\n",
       "    <tr style=\"text-align: right;\">\n",
       "      <th></th>\n",
       "      <th>name</th>\n",
       "      <th>population</th>\n",
       "      <th>cum_population</th>\n",
       "      <th>area</th>\n",
       "    </tr>\n",
       "  </thead>\n",
       "  <tbody>\n",
       "    <tr>\n",
       "      <th>England</th>\n",
       "      <td>London</td>\n",
       "      <td>8615246</td>\n",
       "      <td>8615246</td>\n",
       "      <td>1572.00</td>\n",
       "    </tr>\n",
       "    <tr>\n",
       "      <th>Italy</th>\n",
       "      <td>Rome</td>\n",
       "      <td>2874038</td>\n",
       "      <td>18216685</td>\n",
       "      <td>1285.00</td>\n",
       "    </tr>\n",
       "    <tr>\n",
       "      <th>Germany</th>\n",
       "      <td>Berlin</td>\n",
       "      <td>1000000000</td>\n",
       "      <td>12177412</td>\n",
       "      <td>891.85</td>\n",
       "    </tr>\n",
       "    <tr>\n",
       "      <th>Germany</th>\n",
       "      <td>Hamburg</td>\n",
       "      <td>1000000000</td>\n",
       "      <td>25859529</td>\n",
       "      <td>755.00</td>\n",
       "    </tr>\n",
       "    <tr>\n",
       "      <th>Spain</th>\n",
       "      <td>Madrid</td>\n",
       "      <td>3165235</td>\n",
       "      <td>15342647</td>\n",
       "      <td>605.77</td>\n",
       "    </tr>\n",
       "    <tr>\n",
       "      <th>Hungary</th>\n",
       "      <td>Budapest</td>\n",
       "      <td>1754000</td>\n",
       "      <td>27613529</td>\n",
       "      <td>525.20</td>\n",
       "    </tr>\n",
       "    <tr>\n",
       "      <th>Poland</th>\n",
       "      <td>Warsaw</td>\n",
       "      <td>1740119</td>\n",
       "      <td>29353648</td>\n",
       "      <td>517.00</td>\n",
       "    </tr>\n",
       "    <tr>\n",
       "      <th>Austria</th>\n",
       "      <td>Vienna</td>\n",
       "      <td>1805681</td>\n",
       "      <td>22295671</td>\n",
       "      <td>414.60</td>\n",
       "    </tr>\n",
       "    <tr>\n",
       "      <th>Germany</th>\n",
       "      <td>Munich</td>\n",
       "      <td>1000000000</td>\n",
       "      <td>32449934</td>\n",
       "      <td>310.40</td>\n",
       "    </tr>\n",
       "    <tr>\n",
       "      <th>Romania</th>\n",
       "      <td>Bucharest</td>\n",
       "      <td>1803425</td>\n",
       "      <td>24099096</td>\n",
       "      <td>228.00</td>\n",
       "    </tr>\n",
       "  </tbody>\n",
       "</table>\n",
       "</div>"
      ],
      "text/plain": [
       "              name  population  cum_population     area\n",
       "England     London     8615246         8615246  1572.00\n",
       "Italy         Rome     2874038        18216685  1285.00\n",
       "Germany     Berlin  1000000000        12177412   891.85\n",
       "Germany    Hamburg  1000000000        25859529   755.00\n",
       "Spain       Madrid     3165235        15342647   605.77\n",
       "Hungary   Budapest     1754000        27613529   525.20\n",
       "Poland      Warsaw     1740119        29353648   517.00\n",
       "Austria     Vienna     1805681        22295671   414.60\n",
       "Germany     Munich  1000000000        32449934   310.40\n",
       "Romania  Bucharest     1803425        24099096   228.00"
      ]
     },
     "execution_count": 53,
     "metadata": {},
     "output_type": "execute_result"
    }
   ],
   "source": [
    "city_frame.loc['Germany','population'] = 1000000000\n",
    "city_frame.head(10)"
   ]
  },
  {
   "cell_type": "code",
   "execution_count": null,
   "id": "fe596dc7",
   "metadata": {},
   "outputs": [
    {
     "data": {
      "text/html": [
       "<div>\n",
       "<style scoped>\n",
       "    .dataframe tbody tr th:only-of-type {\n",
       "        vertical-align: middle;\n",
       "    }\n",
       "\n",
       "    .dataframe tbody tr th {\n",
       "        vertical-align: top;\n",
       "    }\n",
       "\n",
       "    .dataframe thead th {\n",
       "        text-align: right;\n",
       "    }\n",
       "</style>\n",
       "<table border=\"1\" class=\"dataframe\">\n",
       "  <thead>\n",
       "    <tr style=\"text-align: right;\">\n",
       "      <th></th>\n",
       "      <th>name</th>\n",
       "      <th>population</th>\n",
       "      <th>cum_population</th>\n",
       "      <th>area</th>\n",
       "    </tr>\n",
       "  </thead>\n",
       "  <tbody>\n",
       "    <tr>\n",
       "      <th>England</th>\n",
       "      <td>Paris</td>\n",
       "      <td>8615246</td>\n",
       "      <td>8615246</td>\n",
       "      <td>1572.00</td>\n",
       "    </tr>\n",
       "    <tr>\n",
       "      <th>Italy</th>\n",
       "      <td>Rome</td>\n",
       "      <td>2874038</td>\n",
       "      <td>18216685</td>\n",
       "      <td>1285.00</td>\n",
       "    </tr>\n",
       "    <tr>\n",
       "      <th>Germany</th>\n",
       "      <td>Berlin</td>\n",
       "      <td>1000000000</td>\n",
       "      <td>12177412</td>\n",
       "      <td>891.85</td>\n",
       "    </tr>\n",
       "    <tr>\n",
       "      <th>Germany</th>\n",
       "      <td>Hamburg</td>\n",
       "      <td>1000000000</td>\n",
       "      <td>25859529</td>\n",
       "      <td>755.00</td>\n",
       "    </tr>\n",
       "    <tr>\n",
       "      <th>Spain</th>\n",
       "      <td>Madrid</td>\n",
       "      <td>3165235</td>\n",
       "      <td>15342647</td>\n",
       "      <td>605.77</td>\n",
       "    </tr>\n",
       "  </tbody>\n",
       "</table>\n",
       "</div>"
      ],
      "text/plain": [
       "            name  population  cum_population     area\n",
       "England    Paris     8615246         8615246  1572.00\n",
       "Italy       Rome     2874038        18216685  1285.00\n",
       "Germany   Berlin  1000000000        12177412   891.85\n",
       "Germany  Hamburg  1000000000        25859529   755.00\n",
       "Spain     Madrid     3165235        15342647   605.77"
      ]
     },
     "execution_count": 54,
     "metadata": {},
     "output_type": "execute_result"
    }
   ],
   "source": [
    "#On peut utiliser at au lieu de loc\n",
    "city_frame.at['England','name'] = \"Paris\"\n",
    "city_frame.head(5)"
   ]
  },
  {
   "cell_type": "code",
   "execution_count": null,
   "id": "04761d37",
   "metadata": {},
   "outputs": [
    {
     "data": {
      "text/html": [
       "<div>\n",
       "<style scoped>\n",
       "    .dataframe tbody tr th:only-of-type {\n",
       "        vertical-align: middle;\n",
       "    }\n",
       "\n",
       "    .dataframe tbody tr th {\n",
       "        vertical-align: top;\n",
       "    }\n",
       "\n",
       "    .dataframe thead th {\n",
       "        text-align: right;\n",
       "    }\n",
       "</style>\n",
       "<table border=\"1\" class=\"dataframe\">\n",
       "  <thead>\n",
       "    <tr style=\"text-align: right;\">\n",
       "      <th></th>\n",
       "      <th>name</th>\n",
       "      <th>population</th>\n",
       "      <th>cum_population</th>\n",
       "      <th>area</th>\n",
       "    </tr>\n",
       "  </thead>\n",
       "  <tbody>\n",
       "    <tr>\n",
       "      <th>England</th>\n",
       "      <td>Cotonou</td>\n",
       "      <td>8615246</td>\n",
       "      <td>8615246</td>\n",
       "      <td>1572.00</td>\n",
       "    </tr>\n",
       "    <tr>\n",
       "      <th>Italy</th>\n",
       "      <td>Rome</td>\n",
       "      <td>2874038</td>\n",
       "      <td>18216685</td>\n",
       "      <td>1285.00</td>\n",
       "    </tr>\n",
       "    <tr>\n",
       "      <th>Germany</th>\n",
       "      <td>Berlin</td>\n",
       "      <td>1000000000</td>\n",
       "      <td>12177412</td>\n",
       "      <td>891.85</td>\n",
       "    </tr>\n",
       "    <tr>\n",
       "      <th>Germany</th>\n",
       "      <td>Hamburg</td>\n",
       "      <td>1000000000</td>\n",
       "      <td>25859529</td>\n",
       "      <td>755.00</td>\n",
       "    </tr>\n",
       "    <tr>\n",
       "      <th>Spain</th>\n",
       "      <td>Madrid</td>\n",
       "      <td>3165235</td>\n",
       "      <td>15342647</td>\n",
       "      <td>605.77</td>\n",
       "    </tr>\n",
       "    <tr>\n",
       "      <th>Hungary</th>\n",
       "      <td>Budapest</td>\n",
       "      <td>1754000</td>\n",
       "      <td>27613529</td>\n",
       "      <td>525.20</td>\n",
       "    </tr>\n",
       "    <tr>\n",
       "      <th>Poland</th>\n",
       "      <td>Warsaw</td>\n",
       "      <td>1740119</td>\n",
       "      <td>29353648</td>\n",
       "      <td>517.00</td>\n",
       "    </tr>\n",
       "    <tr>\n",
       "      <th>Austria</th>\n",
       "      <td>Vienna</td>\n",
       "      <td>1805681</td>\n",
       "      <td>22295671</td>\n",
       "      <td>414.60</td>\n",
       "    </tr>\n",
       "    <tr>\n",
       "      <th>Germany</th>\n",
       "      <td>Munich</td>\n",
       "      <td>1000000000</td>\n",
       "      <td>32449934</td>\n",
       "      <td>310.40</td>\n",
       "    </tr>\n",
       "    <tr>\n",
       "      <th>Romania</th>\n",
       "      <td>Bucharest</td>\n",
       "      <td>1803425</td>\n",
       "      <td>24099096</td>\n",
       "      <td>228.00</td>\n",
       "    </tr>\n",
       "    <tr>\n",
       "      <th>Italy</th>\n",
       "      <td>Milan</td>\n",
       "      <td>1350680</td>\n",
       "      <td>33800614</td>\n",
       "      <td>181.80</td>\n",
       "    </tr>\n",
       "    <tr>\n",
       "      <th>France</th>\n",
       "      <td>Cotonou</td>\n",
       "      <td>2273305</td>\n",
       "      <td>20489990</td>\n",
       "      <td>105.40</td>\n",
       "    </tr>\n",
       "    <tr>\n",
       "      <th>Spain</th>\n",
       "      <td>Barcelona</td>\n",
       "      <td>1602386</td>\n",
       "      <td>30956034</td>\n",
       "      <td>101.90</td>\n",
       "    </tr>\n",
       "  </tbody>\n",
       "</table>\n",
       "</div>"
      ],
      "text/plain": [
       "              name  population  cum_population     area\n",
       "England    Cotonou     8615246         8615246  1572.00\n",
       "Italy         Rome     2874038        18216685  1285.00\n",
       "Germany     Berlin  1000000000        12177412   891.85\n",
       "Germany    Hamburg  1000000000        25859529   755.00\n",
       "Spain       Madrid     3165235        15342647   605.77\n",
       "Hungary   Budapest     1754000        27613529   525.20\n",
       "Poland      Warsaw     1740119        29353648   517.00\n",
       "Austria     Vienna     1805681        22295671   414.60\n",
       "Germany     Munich  1000000000        32449934   310.40\n",
       "Romania  Bucharest     1803425        24099096   228.00\n",
       "Italy        Milan     1350680        33800614   181.80\n",
       "France     Cotonou     2273305        20489990   105.40\n",
       "Spain    Barcelona     1602386        30956034   101.90"
      ]
     },
     "execution_count": 55,
     "metadata": {},
     "output_type": "execute_result"
    }
   ],
   "source": [
    "# On peut utiliser replace aussi\n",
    "city_frame.replace(\"Paris\", \"Cotonou\", inplace=False)"
   ]
  },
  {
   "cell_type": "code",
   "execution_count": null,
   "id": "6f5fa45f-4095-4da2-bbd2-4678628cc90f",
   "metadata": {},
   "outputs": [
    {
     "data": {
      "text/html": [
       "<div>\n",
       "<style scoped>\n",
       "    .dataframe tbody tr th:only-of-type {\n",
       "        vertical-align: middle;\n",
       "    }\n",
       "\n",
       "    .dataframe tbody tr th {\n",
       "        vertical-align: top;\n",
       "    }\n",
       "\n",
       "    .dataframe thead th {\n",
       "        text-align: right;\n",
       "    }\n",
       "</style>\n",
       "<table border=\"1\" class=\"dataframe\">\n",
       "  <thead>\n",
       "    <tr style=\"text-align: right;\">\n",
       "      <th></th>\n",
       "      <th>population</th>\n",
       "      <th>cum_population</th>\n",
       "      <th>area</th>\n",
       "    </tr>\n",
       "  </thead>\n",
       "  <tbody>\n",
       "    <tr>\n",
       "      <th>count</th>\n",
       "      <td>1.300000e+01</td>\n",
       "      <td>1.300000e+01</td>\n",
       "      <td>13.000000</td>\n",
       "    </tr>\n",
       "    <tr>\n",
       "      <th>mean</th>\n",
       "      <td>2.328449e+08</td>\n",
       "      <td>2.317462e+07</td>\n",
       "      <td>576.455385</td>\n",
       "    </tr>\n",
       "    <tr>\n",
       "      <th>std</th>\n",
       "      <td>4.373497e+08</td>\n",
       "      <td>7.917575e+06</td>\n",
       "      <td>452.103468</td>\n",
       "    </tr>\n",
       "    <tr>\n",
       "      <th>min</th>\n",
       "      <td>1.350680e+06</td>\n",
       "      <td>8.615246e+06</td>\n",
       "      <td>101.900000</td>\n",
       "    </tr>\n",
       "    <tr>\n",
       "      <th>25%</th>\n",
       "      <td>1.754000e+06</td>\n",
       "      <td>1.821668e+07</td>\n",
       "      <td>228.000000</td>\n",
       "    </tr>\n",
       "    <tr>\n",
       "      <th>50%</th>\n",
       "      <td>2.273305e+06</td>\n",
       "      <td>2.409910e+07</td>\n",
       "      <td>517.000000</td>\n",
       "    </tr>\n",
       "    <tr>\n",
       "      <th>75%</th>\n",
       "      <td>8.615246e+06</td>\n",
       "      <td>2.935365e+07</td>\n",
       "      <td>755.000000</td>\n",
       "    </tr>\n",
       "    <tr>\n",
       "      <th>max</th>\n",
       "      <td>1.000000e+09</td>\n",
       "      <td>3.380061e+07</td>\n",
       "      <td>1572.000000</td>\n",
       "    </tr>\n",
       "  </tbody>\n",
       "</table>\n",
       "</div>"
      ],
      "text/plain": [
       "         population  cum_population         area\n",
       "count  1.300000e+01    1.300000e+01    13.000000\n",
       "mean   2.328449e+08    2.317462e+07   576.455385\n",
       "std    4.373497e+08    7.917575e+06   452.103468\n",
       "min    1.350680e+06    8.615246e+06   101.900000\n",
       "25%    1.754000e+06    1.821668e+07   228.000000\n",
       "50%    2.273305e+06    2.409910e+07   517.000000\n",
       "75%    8.615246e+06    2.935365e+07   755.000000\n",
       "max    1.000000e+09    3.380061e+07  1572.000000"
      ]
     },
     "execution_count": 56,
     "metadata": {},
     "output_type": "execute_result"
    }
   ],
   "source": [
    "city_frame.describe()"
   ]
  },
  {
   "attachments": {},
   "cell_type": "markdown",
   "id": "f6d65097",
   "metadata": {},
   "source": [
    "PANDAS: GROUPBY"
   ]
  },
  {
   "cell_type": "code",
   "execution_count": null,
   "id": "5993676d",
   "metadata": {},
   "outputs": [
    {
     "data": {
      "text/html": [
       "<div>\n",
       "<style scoped>\n",
       "    .dataframe tbody tr th:only-of-type {\n",
       "        vertical-align: middle;\n",
       "    }\n",
       "\n",
       "    .dataframe tbody tr th {\n",
       "        vertical-align: top;\n",
       "    }\n",
       "\n",
       "    .dataframe thead th {\n",
       "        text-align: right;\n",
       "    }\n",
       "</style>\n",
       "<table border=\"1\" class=\"dataframe\">\n",
       "  <thead>\n",
       "    <tr style=\"text-align: right;\">\n",
       "      <th></th>\n",
       "      <th>Nom</th>\n",
       "      <th>Cafe</th>\n",
       "      <th>The</th>\n",
       "    </tr>\n",
       "  </thead>\n",
       "  <tbody>\n",
       "    <tr>\n",
       "      <th>0</th>\n",
       "      <td>Robert</td>\n",
       "      <td>3</td>\n",
       "      <td>0</td>\n",
       "    </tr>\n",
       "    <tr>\n",
       "      <th>1</th>\n",
       "      <td>Melinda</td>\n",
       "      <td>0</td>\n",
       "      <td>4</td>\n",
       "    </tr>\n",
       "    <tr>\n",
       "      <th>2</th>\n",
       "      <td>Brenda</td>\n",
       "      <td>2</td>\n",
       "      <td>2</td>\n",
       "    </tr>\n",
       "    <tr>\n",
       "      <th>3</th>\n",
       "      <td>Samantha</td>\n",
       "      <td>2</td>\n",
       "      <td>0</td>\n",
       "    </tr>\n",
       "    <tr>\n",
       "      <th>4</th>\n",
       "      <td>Melinda</td>\n",
       "      <td>0</td>\n",
       "      <td>3</td>\n",
       "    </tr>\n",
       "    <tr>\n",
       "      <th>5</th>\n",
       "      <td>Robert</td>\n",
       "      <td>2</td>\n",
       "      <td>0</td>\n",
       "    </tr>\n",
       "    <tr>\n",
       "      <th>6</th>\n",
       "      <td>Melinda</td>\n",
       "      <td>0</td>\n",
       "      <td>3</td>\n",
       "    </tr>\n",
       "    <tr>\n",
       "      <th>7</th>\n",
       "      <td>Brenda</td>\n",
       "      <td>1</td>\n",
       "      <td>2</td>\n",
       "    </tr>\n",
       "    <tr>\n",
       "      <th>8</th>\n",
       "      <td>Samantha</td>\n",
       "      <td>3</td>\n",
       "      <td>0</td>\n",
       "    </tr>\n",
       "  </tbody>\n",
       "</table>\n",
       "</div>"
      ],
      "text/plain": [
       "        Nom  Cafe  The\n",
       "0    Robert     3    0\n",
       "1   Melinda     0    4\n",
       "2    Brenda     2    2\n",
       "3  Samantha     2    0\n",
       "4   Melinda     0    3\n",
       "5    Robert     2    0\n",
       "6   Melinda     0    3\n",
       "7    Brenda     1    2\n",
       "8  Samantha     3    0"
      ]
     },
     "execution_count": 57,
     "metadata": {},
     "output_type": "execute_result"
    }
   ],
   "source": [
    "import pandas as pd\n",
    "beverages = pd.DataFrame({'Nom': ['Robert', 'Melinda', 'Brenda',\n",
    "                                 'Samantha', 'Melinda', 'Robert','Melinda', 'Brenda', 'Samantha'],\n",
    "                        'Cafe': [3, 0, 2, 2, 0, 2, 0, 1, 3],\n",
    "                        'The': [0, 4, 2, 0, 3, 0, 3, 2, 0]})\n",
    "beverages"
   ]
  },
  {
   "cell_type": "code",
   "execution_count": null,
   "id": "b0ce7744",
   "metadata": {},
   "outputs": [
    {
     "name": "stdout",
     "output_type": "stream",
     "text": [
      "          Cafe  The\n",
      "Nom                \n",
      "Brenda       3    4\n",
      "Melinda      0   10\n",
      "Robert       5    0\n",
      "Samantha     5    0\n"
     ]
    }
   ],
   "source": [
    "res = beverages.groupby(['Nom']).sum() #Lorsque vous groupez par, vous devez effectuer une opération\n",
    "print(res)"
   ]
  },
  {
   "cell_type": "code",
   "execution_count": null,
   "id": "ac77764a-5eec-4f72-9514-078ace7c0b06",
   "metadata": {},
   "outputs": [],
   "source": []
  },
  {
   "cell_type": "code",
   "execution_count": null,
   "id": "c56ca3f5",
   "metadata": {},
   "outputs": [
    {
     "data": {
      "text/html": [
       "<div>\n",
       "<style scoped>\n",
       "    .dataframe tbody tr th:only-of-type {\n",
       "        vertical-align: middle;\n",
       "    }\n",
       "\n",
       "    .dataframe tbody tr th {\n",
       "        vertical-align: top;\n",
       "    }\n",
       "\n",
       "    .dataframe thead th {\n",
       "        text-align: right;\n",
       "    }\n",
       "</style>\n",
       "<table border=\"1\" class=\"dataframe\">\n",
       "  <thead>\n",
       "    <tr style=\"text-align: right;\">\n",
       "      <th></th>\n",
       "      <th>Cafe</th>\n",
       "      <th>The</th>\n",
       "    </tr>\n",
       "    <tr>\n",
       "      <th>Nom</th>\n",
       "      <th></th>\n",
       "      <th></th>\n",
       "    </tr>\n",
       "  </thead>\n",
       "  <tbody>\n",
       "    <tr>\n",
       "      <th>Brenda</th>\n",
       "      <td>1.5</td>\n",
       "      <td>2.000000</td>\n",
       "    </tr>\n",
       "    <tr>\n",
       "      <th>Melinda</th>\n",
       "      <td>0.0</td>\n",
       "      <td>3.333333</td>\n",
       "    </tr>\n",
       "    <tr>\n",
       "      <th>Robert</th>\n",
       "      <td>2.5</td>\n",
       "      <td>0.000000</td>\n",
       "    </tr>\n",
       "    <tr>\n",
       "      <th>Samantha</th>\n",
       "      <td>2.5</td>\n",
       "      <td>0.000000</td>\n",
       "    </tr>\n",
       "  </tbody>\n",
       "</table>\n",
       "</div>"
      ],
      "text/plain": [
       "          Cafe       The\n",
       "Nom                     \n",
       "Brenda     1.5  2.000000\n",
       "Melinda    0.0  3.333333\n",
       "Robert     2.5  0.000000\n",
       "Samantha   2.5  0.000000"
      ]
     },
     "execution_count": 59,
     "metadata": {},
     "output_type": "execute_result"
    }
   ],
   "source": [
    "beverages.groupby(['Nom']).mean() # Calculer la moyenne"
   ]
  },
  {
   "attachments": {},
   "cell_type": "markdown",
   "id": "9ab110a5",
   "metadata": {},
   "source": [
    "EXERCICES"
   ]
  },
  {
   "cell_type": "code",
   "execution_count": null,
   "id": "29030cfc",
   "metadata": {},
   "outputs": [
    {
     "data": {
      "text/html": [
       "<div>\n",
       "<style scoped>\n",
       "    .dataframe tbody tr th:only-of-type {\n",
       "        vertical-align: middle;\n",
       "    }\n",
       "\n",
       "    .dataframe tbody tr th {\n",
       "        vertical-align: top;\n",
       "    }\n",
       "\n",
       "    .dataframe thead th {\n",
       "        text-align: right;\n",
       "    }\n",
       "</style>\n",
       "<table border=\"1\" class=\"dataframe\">\n",
       "  <thead>\n",
       "    <tr style=\"text-align: right;\">\n",
       "      <th></th>\n",
       "      <th>products</th>\n",
       "      <th>colours</th>\n",
       "      <th>customer_price</th>\n",
       "      <th>non_customer_price</th>\n",
       "    </tr>\n",
       "  </thead>\n",
       "  <tbody>\n",
       "    <tr>\n",
       "      <th>0</th>\n",
       "      <td>Oppilume</td>\n",
       "      <td>blue</td>\n",
       "      <td>2345.89</td>\n",
       "      <td>2445.89</td>\n",
       "    </tr>\n",
       "    <tr>\n",
       "      <th>1</th>\n",
       "      <td>Dreaker</td>\n",
       "      <td>blue</td>\n",
       "      <td>2390.50</td>\n",
       "      <td>2495.50</td>\n",
       "    </tr>\n",
       "    <tr>\n",
       "      <th>2</th>\n",
       "      <td>Lotadilo</td>\n",
       "      <td>blue</td>\n",
       "      <td>1820.00</td>\n",
       "      <td>1980.00</td>\n",
       "    </tr>\n",
       "    <tr>\n",
       "      <th>3</th>\n",
       "      <td>Crosteron</td>\n",
       "      <td>green</td>\n",
       "      <td>3100.00</td>\n",
       "      <td>3400.00</td>\n",
       "    </tr>\n",
       "    <tr>\n",
       "      <th>4</th>\n",
       "      <td>Wazzasoft</td>\n",
       "      <td>blue</td>\n",
       "      <td>1784.50</td>\n",
       "      <td>1921.00</td>\n",
       "    </tr>\n",
       "    <tr>\n",
       "      <th>5</th>\n",
       "      <td>Oppilume</td>\n",
       "      <td>green</td>\n",
       "      <td>2545.89</td>\n",
       "      <td>2645.89</td>\n",
       "    </tr>\n",
       "    <tr>\n",
       "      <th>6</th>\n",
       "      <td>Dreaker</td>\n",
       "      <td>green</td>\n",
       "      <td>2590.50</td>\n",
       "      <td>2655.50</td>\n",
       "    </tr>\n",
       "    <tr>\n",
       "      <th>7</th>\n",
       "      <td>Lotadilo</td>\n",
       "      <td>green</td>\n",
       "      <td>2220.00</td>\n",
       "      <td>2140.00</td>\n",
       "    </tr>\n",
       "    <tr>\n",
       "      <th>8</th>\n",
       "      <td>Wazzasoft</td>\n",
       "      <td>red</td>\n",
       "      <td>2084.50</td>\n",
       "      <td>2190.00</td>\n",
       "    </tr>\n",
       "  </tbody>\n",
       "</table>\n",
       "</div>"
      ],
      "text/plain": [
       "    products colours  customer_price  non_customer_price\n",
       "0   Oppilume    blue         2345.89             2445.89\n",
       "1    Dreaker    blue         2390.50             2495.50\n",
       "2   Lotadilo    blue         1820.00             1980.00\n",
       "3  Crosteron   green         3100.00             3400.00\n",
       "4  Wazzasoft    blue         1784.50             1921.00\n",
       "5   Oppilume   green         2545.89             2645.89\n",
       "6    Dreaker   green         2590.50             2655.50\n",
       "7   Lotadilo   green         2220.00             2140.00\n",
       "8  Wazzasoft     red         2084.50             2190.00"
      ]
     },
     "execution_count": 60,
     "metadata": {},
     "output_type": "execute_result"
    }
   ],
   "source": [
    "#1.Calculez les prix moyens des produits du DataFrame suivant :\n",
    "d = {\"products\": [\"Oppilume\", \"Dreaker\", \"Lotadilo\",\n",
    "\"Crosteron\", \"Wazzasoft\", \"Oppilume\",\n",
    "\"Dreaker\", \"Lotadilo\", \"Wazzasoft\"],\n",
    "\"colours\": [\"blue\", \"blue\", \"blue\",\n",
    "\"green\", \"blue\", \"green\",\n",
    "\"green\", \"green\", \"red\"],\n",
    "\"customer_price\": [2345.89, 2390.50, 1820.00,\n",
    "3100.00, 1784.50, 2545.89,\n",
    "2590.50, 2220.00, 2084.50],\n",
    "\"non_customer_price\": [2445.89, 2495.50, 1980.00,\n",
    "3400.00, 1921.00, 2645.89,2655.50, 2140.00, 2190.00]}\n",
    "product_prices = pd.DataFrame(d)\n",
    "product_prices\n",
    "#2.Calculez la somme du prix en fonction des couleurs.\n",
    "#Solutions\n",
    "#1.x = product_prices.groupby(\"products\").mean()\n",
    "#2.x = product_prices.groupby(\"colours\").sum()"
   ]
  },
  {
   "attachments": {},
   "cell_type": "markdown",
   "id": "bc21b64a",
   "metadata": {},
   "source": [
    "LECTURE ET ECRITURE DES DONNEES"
   ]
  },
  {
   "cell_type": "code",
   "execution_count": null,
   "id": "74b16e8f",
   "metadata": {},
   "outputs": [
    {
     "data": {
      "text/html": [
       "<div>\n",
       "<style scoped>\n",
       "    .dataframe tbody tr th:only-of-type {\n",
       "        vertical-align: middle;\n",
       "    }\n",
       "\n",
       "    .dataframe tbody tr th {\n",
       "        vertical-align: top;\n",
       "    }\n",
       "\n",
       "    .dataframe thead th {\n",
       "        text-align: right;\n",
       "    }\n",
       "</style>\n",
       "<table border=\"1\" class=\"dataframe\">\n",
       "  <thead>\n",
       "    <tr style=\"text-align: right;\">\n",
       "      <th></th>\n",
       "      <th>Date</th>\n",
       "      <th>State</th>\n",
       "      <th>Country</th>\n",
       "      <th>Cumulative_cases</th>\n",
       "      <th>Cumulative_death</th>\n",
       "      <th>Daily_cases</th>\n",
       "      <th>Daily_death</th>\n",
       "      <th>Latitude</th>\n",
       "      <th>Longitude</th>\n",
       "      <th>Temperature</th>\n",
       "      <th>...</th>\n",
       "      <th>Confirmed Cases/1000</th>\n",
       "      <th>Lung Patients (F)</th>\n",
       "      <th>Lung Patients (M)</th>\n",
       "      <th>Median Age (Years)</th>\n",
       "      <th>Life Expectancy (M)</th>\n",
       "      <th>Life Expectancy (F)</th>\n",
       "      <th>Total_tests_conducted</th>\n",
       "      <th>Out_Travels (mill.)</th>\n",
       "      <th>In_travels(mill.)</th>\n",
       "      <th>Domestic_Travels (mill.)</th>\n",
       "    </tr>\n",
       "  </thead>\n",
       "  <tbody>\n",
       "    <tr>\n",
       "      <th>0</th>\n",
       "      <td>22-01-2020</td>\n",
       "      <td>NaN</td>\n",
       "      <td>Afghanistan</td>\n",
       "      <td>0</td>\n",
       "      <td>0</td>\n",
       "      <td>0</td>\n",
       "      <td>0</td>\n",
       "      <td>33.0</td>\n",
       "      <td>65.0</td>\n",
       "      <td>5.89</td>\n",
       "      <td>...</td>\n",
       "      <td>0.0</td>\n",
       "      <td>36.31</td>\n",
       "      <td>39.33</td>\n",
       "      <td>18.4</td>\n",
       "      <td>63.2</td>\n",
       "      <td>63.6</td>\n",
       "      <td>1019</td>\n",
       "      <td>1.561605</td>\n",
       "      <td>Not Reported</td>\n",
       "      <td>Not Reported</td>\n",
       "    </tr>\n",
       "    <tr>\n",
       "      <th>1</th>\n",
       "      <td>23-01-2020</td>\n",
       "      <td>NaN</td>\n",
       "      <td>Afghanistan</td>\n",
       "      <td>0</td>\n",
       "      <td>0</td>\n",
       "      <td>0</td>\n",
       "      <td>0</td>\n",
       "      <td>33.0</td>\n",
       "      <td>65.0</td>\n",
       "      <td>5.56</td>\n",
       "      <td>...</td>\n",
       "      <td>0.0</td>\n",
       "      <td>36.31</td>\n",
       "      <td>39.33</td>\n",
       "      <td>18.4</td>\n",
       "      <td>63.2</td>\n",
       "      <td>63.6</td>\n",
       "      <td>1019</td>\n",
       "      <td>1.561605</td>\n",
       "      <td>Not Reported</td>\n",
       "      <td>Not Reported</td>\n",
       "    </tr>\n",
       "    <tr>\n",
       "      <th>2</th>\n",
       "      <td>24-01-2020</td>\n",
       "      <td>NaN</td>\n",
       "      <td>Afghanistan</td>\n",
       "      <td>0</td>\n",
       "      <td>0</td>\n",
       "      <td>0</td>\n",
       "      <td>0</td>\n",
       "      <td>33.0</td>\n",
       "      <td>65.0</td>\n",
       "      <td>4.50</td>\n",
       "      <td>...</td>\n",
       "      <td>0.0</td>\n",
       "      <td>36.31</td>\n",
       "      <td>39.33</td>\n",
       "      <td>18.4</td>\n",
       "      <td>63.2</td>\n",
       "      <td>63.6</td>\n",
       "      <td>1019</td>\n",
       "      <td>1.561605</td>\n",
       "      <td>Not Reported</td>\n",
       "      <td>Not Reported</td>\n",
       "    </tr>\n",
       "    <tr>\n",
       "      <th>3</th>\n",
       "      <td>25-01-2020</td>\n",
       "      <td>NaN</td>\n",
       "      <td>Afghanistan</td>\n",
       "      <td>0</td>\n",
       "      <td>0</td>\n",
       "      <td>0</td>\n",
       "      <td>0</td>\n",
       "      <td>33.0</td>\n",
       "      <td>65.0</td>\n",
       "      <td>7.78</td>\n",
       "      <td>...</td>\n",
       "      <td>0.0</td>\n",
       "      <td>36.31</td>\n",
       "      <td>39.33</td>\n",
       "      <td>18.4</td>\n",
       "      <td>63.2</td>\n",
       "      <td>63.6</td>\n",
       "      <td>1019</td>\n",
       "      <td>1.561605</td>\n",
       "      <td>Not Reported</td>\n",
       "      <td>Not Reported</td>\n",
       "    </tr>\n",
       "    <tr>\n",
       "      <th>4</th>\n",
       "      <td>26-01-2020</td>\n",
       "      <td>NaN</td>\n",
       "      <td>Afghanistan</td>\n",
       "      <td>0</td>\n",
       "      <td>0</td>\n",
       "      <td>0</td>\n",
       "      <td>0</td>\n",
       "      <td>33.0</td>\n",
       "      <td>65.0</td>\n",
       "      <td>6.00</td>\n",
       "      <td>...</td>\n",
       "      <td>0.0</td>\n",
       "      <td>36.31</td>\n",
       "      <td>39.33</td>\n",
       "      <td>18.4</td>\n",
       "      <td>63.2</td>\n",
       "      <td>63.6</td>\n",
       "      <td>1019</td>\n",
       "      <td>1.561605</td>\n",
       "      <td>Not Reported</td>\n",
       "      <td>Not Reported</td>\n",
       "    </tr>\n",
       "  </tbody>\n",
       "</table>\n",
       "<p>5 rows × 32 columns</p>\n",
       "</div>"
      ],
      "text/plain": [
       "         Date State      Country  Cumulative_cases  Cumulative_death  \\\n",
       "0  22-01-2020   NaN  Afghanistan                 0                 0   \n",
       "1  23-01-2020   NaN  Afghanistan                 0                 0   \n",
       "2  24-01-2020   NaN  Afghanistan                 0                 0   \n",
       "3  25-01-2020   NaN  Afghanistan                 0                 0   \n",
       "4  26-01-2020   NaN  Afghanistan                 0                 0   \n",
       "\n",
       "   Daily_cases  Daily_death  Latitude  Longitude  Temperature  ...  \\\n",
       "0            0            0      33.0       65.0         5.89  ...   \n",
       "1            0            0      33.0       65.0         5.56  ...   \n",
       "2            0            0      33.0       65.0         4.50  ...   \n",
       "3            0            0      33.0       65.0         7.78  ...   \n",
       "4            0            0      33.0       65.0         6.00  ...   \n",
       "\n",
       "   Confirmed Cases/1000  Lung Patients (F)  Lung Patients (M)  \\\n",
       "0                   0.0              36.31              39.33   \n",
       "1                   0.0              36.31              39.33   \n",
       "2                   0.0              36.31              39.33   \n",
       "3                   0.0              36.31              39.33   \n",
       "4                   0.0              36.31              39.33   \n",
       "\n",
       "   Median Age (Years)  Life Expectancy (M)  Life Expectancy (F)  \\\n",
       "0                18.4                 63.2                 63.6   \n",
       "1                18.4                 63.2                 63.6   \n",
       "2                18.4                 63.2                 63.6   \n",
       "3                18.4                 63.2                 63.6   \n",
       "4                18.4                 63.2                 63.6   \n",
       "\n",
       "   Total_tests_conducted  Out_Travels (mill.)  In_travels(mill.)  \\\n",
       "0                   1019             1.561605       Not Reported   \n",
       "1                   1019             1.561605       Not Reported   \n",
       "2                   1019             1.561605       Not Reported   \n",
       "3                   1019             1.561605       Not Reported   \n",
       "4                   1019             1.561605       Not Reported   \n",
       "\n",
       "  Domestic_Travels (mill.)  \n",
       "0             Not Reported  \n",
       "1             Not Reported  \n",
       "2             Not Reported  \n",
       "3             Not Reported  \n",
       "4             Not Reported  \n",
       "\n",
       "[5 rows x 32 columns]"
      ]
     },
     "execution_count": 61,
     "metadata": {},
     "output_type": "execute_result"
    }
   ],
   "source": [
    "#LECTURE DES FICHIERS CSV\n",
    "df = pd.read_csv(\"covid19.csv\") #\n",
    "df.head()"
   ]
  },
  {
   "cell_type": "code",
   "execution_count": null,
   "id": "de8ada3d-9248-4879-b3b8-d487343ecf2c",
   "metadata": {},
   "outputs": [
    {
     "data": {
      "text/html": [
       "<div>\n",
       "<style scoped>\n",
       "    .dataframe tbody tr th:only-of-type {\n",
       "        vertical-align: middle;\n",
       "    }\n",
       "\n",
       "    .dataframe tbody tr th {\n",
       "        vertical-align: top;\n",
       "    }\n",
       "\n",
       "    .dataframe thead th {\n",
       "        text-align: right;\n",
       "    }\n",
       "</style>\n",
       "<table border=\"1\" class=\"dataframe\">\n",
       "  <thead>\n",
       "    <tr style=\"text-align: right;\">\n",
       "      <th></th>\n",
       "      <th>Date</th>\n",
       "      <th>State</th>\n",
       "      <th>Country</th>\n",
       "      <th>Cumulative_cases</th>\n",
       "      <th>Cumulative_death</th>\n",
       "      <th>Daily_cases</th>\n",
       "      <th>Daily_death</th>\n",
       "      <th>Latitude</th>\n",
       "      <th>Longitude</th>\n",
       "      <th>Temperature</th>\n",
       "      <th>...</th>\n",
       "      <th>Confirmed Cases/1000</th>\n",
       "      <th>Lung Patients (F)</th>\n",
       "      <th>Lung Patients (M)</th>\n",
       "      <th>Median Age (Years)</th>\n",
       "      <th>Life Expectancy (M)</th>\n",
       "      <th>Life Expectancy (F)</th>\n",
       "      <th>Total_tests_conducted</th>\n",
       "      <th>Out_Travels (mill.)</th>\n",
       "      <th>In_travels(mill.)</th>\n",
       "      <th>Domestic_Travels (mill.)</th>\n",
       "    </tr>\n",
       "  </thead>\n",
       "  <tbody>\n",
       "    <tr>\n",
       "      <th>0</th>\n",
       "      <td>22-01-2020</td>\n",
       "      <td>NaN</td>\n",
       "      <td>Afghanistan</td>\n",
       "      <td>0</td>\n",
       "      <td>0</td>\n",
       "      <td>0</td>\n",
       "      <td>0</td>\n",
       "      <td>33.0000</td>\n",
       "      <td>65.0000</td>\n",
       "      <td>5.89</td>\n",
       "      <td>...</td>\n",
       "      <td>0.000000</td>\n",
       "      <td>36.31</td>\n",
       "      <td>39.33</td>\n",
       "      <td>18.4</td>\n",
       "      <td>63.2</td>\n",
       "      <td>63.6</td>\n",
       "      <td>1019</td>\n",
       "      <td>1.561605</td>\n",
       "      <td>Not Reported</td>\n",
       "      <td>Not Reported</td>\n",
       "    </tr>\n",
       "    <tr>\n",
       "      <th>1</th>\n",
       "      <td>23-01-2020</td>\n",
       "      <td>NaN</td>\n",
       "      <td>Afghanistan</td>\n",
       "      <td>0</td>\n",
       "      <td>0</td>\n",
       "      <td>0</td>\n",
       "      <td>0</td>\n",
       "      <td>33.0000</td>\n",
       "      <td>65.0000</td>\n",
       "      <td>5.56</td>\n",
       "      <td>...</td>\n",
       "      <td>0.000000</td>\n",
       "      <td>36.31</td>\n",
       "      <td>39.33</td>\n",
       "      <td>18.4</td>\n",
       "      <td>63.2</td>\n",
       "      <td>63.6</td>\n",
       "      <td>1019</td>\n",
       "      <td>1.561605</td>\n",
       "      <td>Not Reported</td>\n",
       "      <td>Not Reported</td>\n",
       "    </tr>\n",
       "    <tr>\n",
       "      <th>2</th>\n",
       "      <td>24-01-2020</td>\n",
       "      <td>NaN</td>\n",
       "      <td>Afghanistan</td>\n",
       "      <td>0</td>\n",
       "      <td>0</td>\n",
       "      <td>0</td>\n",
       "      <td>0</td>\n",
       "      <td>33.0000</td>\n",
       "      <td>65.0000</td>\n",
       "      <td>4.50</td>\n",
       "      <td>...</td>\n",
       "      <td>0.000000</td>\n",
       "      <td>36.31</td>\n",
       "      <td>39.33</td>\n",
       "      <td>18.4</td>\n",
       "      <td>63.2</td>\n",
       "      <td>63.6</td>\n",
       "      <td>1019</td>\n",
       "      <td>1.561605</td>\n",
       "      <td>Not Reported</td>\n",
       "      <td>Not Reported</td>\n",
       "    </tr>\n",
       "    <tr>\n",
       "      <th>3</th>\n",
       "      <td>25-01-2020</td>\n",
       "      <td>NaN</td>\n",
       "      <td>Afghanistan</td>\n",
       "      <td>0</td>\n",
       "      <td>0</td>\n",
       "      <td>0</td>\n",
       "      <td>0</td>\n",
       "      <td>33.0000</td>\n",
       "      <td>65.0000</td>\n",
       "      <td>7.78</td>\n",
       "      <td>...</td>\n",
       "      <td>0.000000</td>\n",
       "      <td>36.31</td>\n",
       "      <td>39.33</td>\n",
       "      <td>18.4</td>\n",
       "      <td>63.2</td>\n",
       "      <td>63.6</td>\n",
       "      <td>1019</td>\n",
       "      <td>1.561605</td>\n",
       "      <td>Not Reported</td>\n",
       "      <td>Not Reported</td>\n",
       "    </tr>\n",
       "    <tr>\n",
       "      <th>4</th>\n",
       "      <td>26-01-2020</td>\n",
       "      <td>NaN</td>\n",
       "      <td>Afghanistan</td>\n",
       "      <td>0</td>\n",
       "      <td>0</td>\n",
       "      <td>0</td>\n",
       "      <td>0</td>\n",
       "      <td>33.0000</td>\n",
       "      <td>65.0000</td>\n",
       "      <td>6.00</td>\n",
       "      <td>...</td>\n",
       "      <td>0.000000</td>\n",
       "      <td>36.31</td>\n",
       "      <td>39.33</td>\n",
       "      <td>18.4</td>\n",
       "      <td>63.2</td>\n",
       "      <td>63.6</td>\n",
       "      <td>1019</td>\n",
       "      <td>1.561605</td>\n",
       "      <td>Not Reported</td>\n",
       "      <td>Not Reported</td>\n",
       "    </tr>\n",
       "    <tr>\n",
       "      <th>...</th>\n",
       "      <td>...</td>\n",
       "      <td>...</td>\n",
       "      <td>...</td>\n",
       "      <td>...</td>\n",
       "      <td>...</td>\n",
       "      <td>...</td>\n",
       "      <td>...</td>\n",
       "      <td>...</td>\n",
       "      <td>...</td>\n",
       "      <td>...</td>\n",
       "      <td>...</td>\n",
       "      <td>...</td>\n",
       "      <td>...</td>\n",
       "      <td>...</td>\n",
       "      <td>...</td>\n",
       "      <td>...</td>\n",
       "      <td>...</td>\n",
       "      <td>...</td>\n",
       "      <td>...</td>\n",
       "      <td>...</td>\n",
       "      <td>...</td>\n",
       "    </tr>\n",
       "    <tr>\n",
       "      <th>1134</th>\n",
       "      <td>26-03-2020</td>\n",
       "      <td>NaN</td>\n",
       "      <td>Mexico</td>\n",
       "      <td>475</td>\n",
       "      <td>6</td>\n",
       "      <td>70</td>\n",
       "      <td>1</td>\n",
       "      <td>23.6345</td>\n",
       "      <td>-102.5528</td>\n",
       "      <td>22.50</td>\n",
       "      <td>...</td>\n",
       "      <td>0.003684</td>\n",
       "      <td>23.43</td>\n",
       "      <td>33.14</td>\n",
       "      <td>73.5</td>\n",
       "      <td>79.2</td>\n",
       "      <td>9481</td>\n",
       "      <td>86.28</td>\n",
       "      <td>41.313</td>\n",
       "      <td>Not Reported</td>\n",
       "      <td>NaN</td>\n",
       "    </tr>\n",
       "    <tr>\n",
       "      <th>1135</th>\n",
       "      <td>27-03-2020</td>\n",
       "      <td>NaN</td>\n",
       "      <td>Mexico</td>\n",
       "      <td>585</td>\n",
       "      <td>8</td>\n",
       "      <td>110</td>\n",
       "      <td>2</td>\n",
       "      <td>23.6345</td>\n",
       "      <td>-102.5528</td>\n",
       "      <td>20.89</td>\n",
       "      <td>...</td>\n",
       "      <td>0.004537</td>\n",
       "      <td>23.43</td>\n",
       "      <td>33.14</td>\n",
       "      <td>73.5</td>\n",
       "      <td>79.2</td>\n",
       "      <td>9481</td>\n",
       "      <td>86.28</td>\n",
       "      <td>41.313</td>\n",
       "      <td>Not Reported</td>\n",
       "      <td>NaN</td>\n",
       "    </tr>\n",
       "    <tr>\n",
       "      <th>1136</th>\n",
       "      <td>28-03-2020</td>\n",
       "      <td>NaN</td>\n",
       "      <td>Mexico</td>\n",
       "      <td>717</td>\n",
       "      <td>12</td>\n",
       "      <td>132</td>\n",
       "      <td>4</td>\n",
       "      <td>23.6345</td>\n",
       "      <td>-102.5528</td>\n",
       "      <td>19.83</td>\n",
       "      <td>...</td>\n",
       "      <td>0.005561</td>\n",
       "      <td>23.43</td>\n",
       "      <td>33.14</td>\n",
       "      <td>73.5</td>\n",
       "      <td>79.2</td>\n",
       "      <td>9481</td>\n",
       "      <td>86.28</td>\n",
       "      <td>41.313</td>\n",
       "      <td>Not Reported</td>\n",
       "      <td>NaN</td>\n",
       "    </tr>\n",
       "    <tr>\n",
       "      <th>1137</th>\n",
       "      <td>29-03-2020</td>\n",
       "      <td>NaN</td>\n",
       "      <td>Mexico</td>\n",
       "      <td>848</td>\n",
       "      <td>16</td>\n",
       "      <td>131</td>\n",
       "      <td>4</td>\n",
       "      <td>23.6345</td>\n",
       "      <td>-102.5528</td>\n",
       "      <td>18.50</td>\n",
       "      <td>...</td>\n",
       "      <td>0.006577</td>\n",
       "      <td>23.43</td>\n",
       "      <td>33.14</td>\n",
       "      <td>73.5</td>\n",
       "      <td>79.2</td>\n",
       "      <td>9481</td>\n",
       "      <td>86.28</td>\n",
       "      <td>41.313</td>\n",
       "      <td>Not Reported</td>\n",
       "      <td>NaN</td>\n",
       "    </tr>\n",
       "    <tr>\n",
       "      <th>1138</th>\n",
       "      <td>30-03-2020</td>\n",
       "      <td>NaN</td>\n",
       "      <td>Mexico</td>\n",
       "      <td>993</td>\n",
       "      <td>20</td>\n",
       "      <td>145</td>\n",
       "      <td>4</td>\n",
       "      <td>23.6345</td>\n",
       "      <td>-102.5528</td>\n",
       "      <td>18.50</td>\n",
       "      <td>...</td>\n",
       "      <td>0.007702</td>\n",
       "      <td>23.43</td>\n",
       "      <td>33.14</td>\n",
       "      <td>73.5</td>\n",
       "      <td>79.2</td>\n",
       "      <td>9481</td>\n",
       "      <td>86.28</td>\n",
       "      <td>41.313</td>\n",
       "      <td>Not Reported</td>\n",
       "      <td>NaN</td>\n",
       "    </tr>\n",
       "  </tbody>\n",
       "</table>\n",
       "<p>1139 rows × 32 columns</p>\n",
       "</div>"
      ],
      "text/plain": [
       "            Date State      Country  Cumulative_cases  Cumulative_death  \\\n",
       "0     22-01-2020   NaN  Afghanistan                 0                 0   \n",
       "1     23-01-2020   NaN  Afghanistan                 0                 0   \n",
       "2     24-01-2020   NaN  Afghanistan                 0                 0   \n",
       "3     25-01-2020   NaN  Afghanistan                 0                 0   \n",
       "4     26-01-2020   NaN  Afghanistan                 0                 0   \n",
       "...          ...   ...          ...               ...               ...   \n",
       "1134  26-03-2020   NaN       Mexico               475                 6   \n",
       "1135  27-03-2020   NaN       Mexico               585                 8   \n",
       "1136  28-03-2020   NaN       Mexico               717                12   \n",
       "1137  29-03-2020   NaN       Mexico               848                16   \n",
       "1138  30-03-2020   NaN       Mexico               993                20   \n",
       "\n",
       "      Daily_cases  Daily_death  Latitude  Longitude  Temperature  ...  \\\n",
       "0               0            0   33.0000    65.0000         5.89  ...   \n",
       "1               0            0   33.0000    65.0000         5.56  ...   \n",
       "2               0            0   33.0000    65.0000         4.50  ...   \n",
       "3               0            0   33.0000    65.0000         7.78  ...   \n",
       "4               0            0   33.0000    65.0000         6.00  ...   \n",
       "...           ...          ...       ...        ...          ...  ...   \n",
       "1134           70            1   23.6345  -102.5528        22.50  ...   \n",
       "1135          110            2   23.6345  -102.5528        20.89  ...   \n",
       "1136          132            4   23.6345  -102.5528        19.83  ...   \n",
       "1137          131            4   23.6345  -102.5528        18.50  ...   \n",
       "1138          145            4   23.6345  -102.5528        18.50  ...   \n",
       "\n",
       "      Confirmed Cases/1000  Lung Patients (F)  Lung Patients (M)  \\\n",
       "0                 0.000000              36.31              39.33   \n",
       "1                 0.000000              36.31              39.33   \n",
       "2                 0.000000              36.31              39.33   \n",
       "3                 0.000000              36.31              39.33   \n",
       "4                 0.000000              36.31              39.33   \n",
       "...                    ...                ...                ...   \n",
       "1134              0.003684              23.43              33.14   \n",
       "1135              0.004537              23.43              33.14   \n",
       "1136              0.005561              23.43              33.14   \n",
       "1137              0.006577              23.43              33.14   \n",
       "1138              0.007702              23.43              33.14   \n",
       "\n",
       "      Median Age (Years)  Life Expectancy (M)  Life Expectancy (F)  \\\n",
       "0                   18.4                 63.2                 63.6   \n",
       "1                   18.4                 63.2                 63.6   \n",
       "2                   18.4                 63.2                 63.6   \n",
       "3                   18.4                 63.2                 63.6   \n",
       "4                   18.4                 63.2                 63.6   \n",
       "...                  ...                  ...                  ...   \n",
       "1134                73.5                 79.2                 9481   \n",
       "1135                73.5                 79.2                 9481   \n",
       "1136                73.5                 79.2                 9481   \n",
       "1137                73.5                 79.2                 9481   \n",
       "1138                73.5                 79.2                 9481   \n",
       "\n",
       "      Total_tests_conducted  Out_Travels (mill.)  In_travels(mill.)  \\\n",
       "0                      1019             1.561605       Not Reported   \n",
       "1                      1019             1.561605       Not Reported   \n",
       "2                      1019             1.561605       Not Reported   \n",
       "3                      1019             1.561605       Not Reported   \n",
       "4                      1019             1.561605       Not Reported   \n",
       "...                     ...                  ...                ...   \n",
       "1134                  86.28               41.313       Not Reported   \n",
       "1135                  86.28               41.313       Not Reported   \n",
       "1136                  86.28               41.313       Not Reported   \n",
       "1137                  86.28               41.313       Not Reported   \n",
       "1138                  86.28               41.313       Not Reported   \n",
       "\n",
       "     Domestic_Travels (mill.)  \n",
       "0                Not Reported  \n",
       "1                Not Reported  \n",
       "2                Not Reported  \n",
       "3                Not Reported  \n",
       "4                Not Reported  \n",
       "...                       ...  \n",
       "1134                      NaN  \n",
       "1135                      NaN  \n",
       "1136                      NaN  \n",
       "1137                      NaN  \n",
       "1138                      NaN  \n",
       "\n",
       "[1139 rows x 32 columns]"
      ]
     },
     "execution_count": 62,
     "metadata": {},
     "output_type": "execute_result"
    }
   ],
   "source": [
    "df"
   ]
  },
  {
   "cell_type": "code",
   "execution_count": null,
   "id": "772fa9ba",
   "metadata": {},
   "outputs": [
    {
     "data": {
      "text/plain": [
       "array(['Date', 'State', 'Country', 'Cumulative_cases', 'Cumulative_death',\n",
       "       'Daily_cases', 'Daily_death', 'Latitude', 'Longitude',\n",
       "       'Temperature', 'Min_temperature', 'Max_temperature', 'Wind_speed',\n",
       "       'Precipitation', 'Fog_Presence', 'Population',\n",
       "       'Population Density/km', 'Median_Age', 'Sex Ratio', 'Age%_65+',\n",
       "       'Hospital Beds/1000', 'Available Beds/1000',\n",
       "       'Confirmed Cases/1000', 'Lung Patients (F)', 'Lung Patients (M)',\n",
       "       'Median Age (Years)', 'Life Expectancy (M)', 'Life Expectancy (F)',\n",
       "       'Total_tests_conducted', 'Out_Travels (mill.)',\n",
       "       'In_travels(mill.)', 'Domestic_Travels (mill.)'], dtype=object)"
      ]
     },
     "execution_count": 63,
     "metadata": {},
     "output_type": "execute_result"
    }
   ],
   "source": [
    "df.columns.values"
   ]
  },
  {
   "cell_type": "code",
   "execution_count": null,
   "id": "f6abc31e",
   "metadata": {},
   "outputs": [],
   "source": [
    "#Ecrire un dataframe sur un fichier, on utilise to_csv\n",
    "beverages.to_csv(\"beverages.csv\")"
   ]
  },
  {
   "attachments": {},
   "cell_type": "markdown",
   "id": "20c72c57",
   "metadata": {},
   "source": [
    "EXERCISE\n",
    "• Lisez le fichier dsv (csv) bundeslaender.txt (https://python-course.eu/data1/bundeslaender.txt). Créez un nouveau fichier avec les colonnes 'land', 'area',\n",
    "'femme', 'homme', 'population' et 'densité' (habitants par kilomètre carré.\n",
    "• imprimer les lignes où la zone est supérieure à 30000 et la population est supérieure à 10000\n",
    "• Imprimer les lignes dont la densité est supérieure à 300"
   ]
  },
  {
   "attachments": {},
   "cell_type": "markdown",
   "id": "055d7d1a",
   "metadata": {},
   "source": [
    "LECTURE ET ECRITURE DE FICHIERS EXCEL"
   ]
  },
  {
   "cell_type": "code",
   "execution_count": null,
   "id": "55d315be",
   "metadata": {},
   "outputs": [
    {
     "name": "stdout",
     "output_type": "stream",
     "text": [
      "Requirement already satisfied: xlrd in /home/gobi/anaconda3/lib/python3.9/site-packages (2.0.1)\n",
      "Note: you may need to restart the kernel to use updated packages.\n"
     ]
    }
   ],
   "source": [
    "%pip install xlrd # On a besoin de cette dependence pour lire les fichiers excel"
   ]
  },
  {
   "cell_type": "code",
   "execution_count": null,
   "id": "c47a1753",
   "metadata": {},
   "outputs": [
    {
     "ename": "FileNotFoundError",
     "evalue": "[Errno 2] No such file or directory: 'file_example.xls'",
     "output_type": "error",
     "traceback": [
      "\u001b[0;31m---------------------------------------------------------------------------\u001b[0m",
      "\u001b[0;31mFileNotFoundError\u001b[0m                         Traceback (most recent call last)",
      "\u001b[0;32m/tmp/ipykernel_272011/1492275093.py\u001b[0m in \u001b[0;36m<module>\u001b[0;34m\u001b[0m\n\u001b[0;32m----> 1\u001b[0;31m \u001b[0mexcel_file\u001b[0m \u001b[0;34m=\u001b[0m \u001b[0mpd\u001b[0m\u001b[0;34m.\u001b[0m\u001b[0mExcelFile\u001b[0m\u001b[0;34m(\u001b[0m\u001b[0;34m\"file_example.xls\"\u001b[0m\u001b[0;34m)\u001b[0m\u001b[0;34m\u001b[0m\u001b[0;34m\u001b[0m\u001b[0m\n\u001b[0m\u001b[1;32m      2\u001b[0m \u001b[0msheet\u001b[0m \u001b[0;34m=\u001b[0m \u001b[0mpd\u001b[0m\u001b[0;34m.\u001b[0m\u001b[0mread_excel\u001b[0m\u001b[0;34m(\u001b[0m\u001b[0;34m\"file_example.xls\"\u001b[0m\u001b[0;34m)\u001b[0m\u001b[0;34m\u001b[0m\u001b[0;34m\u001b[0m\u001b[0m\n\u001b[1;32m      3\u001b[0m \u001b[0msheet\u001b[0m\u001b[0;34m\u001b[0m\u001b[0;34m\u001b[0m\u001b[0m\n",
      "\u001b[0;32m~/anaconda3/lib/python3.9/site-packages/pandas/io/excel/_base.py\u001b[0m in \u001b[0;36m__init__\u001b[0;34m(self, path_or_buffer, engine, storage_options)\u001b[0m\n\u001b[1;32m   1189\u001b[0m                 \u001b[0mext\u001b[0m \u001b[0;34m=\u001b[0m \u001b[0;34m\"xls\"\u001b[0m\u001b[0;34m\u001b[0m\u001b[0;34m\u001b[0m\u001b[0m\n\u001b[1;32m   1190\u001b[0m             \u001b[0;32melse\u001b[0m\u001b[0;34m:\u001b[0m\u001b[0;34m\u001b[0m\u001b[0;34m\u001b[0m\u001b[0m\n\u001b[0;32m-> 1191\u001b[0;31m                 ext = inspect_excel_format(\n\u001b[0m\u001b[1;32m   1192\u001b[0m                     \u001b[0mcontent_or_path\u001b[0m\u001b[0;34m=\u001b[0m\u001b[0mpath_or_buffer\u001b[0m\u001b[0;34m,\u001b[0m \u001b[0mstorage_options\u001b[0m\u001b[0;34m=\u001b[0m\u001b[0mstorage_options\u001b[0m\u001b[0;34m\u001b[0m\u001b[0;34m\u001b[0m\u001b[0m\n\u001b[1;32m   1193\u001b[0m                 )\n",
      "\u001b[0;32m~/anaconda3/lib/python3.9/site-packages/pandas/io/excel/_base.py\u001b[0m in \u001b[0;36minspect_excel_format\u001b[0;34m(content_or_path, storage_options)\u001b[0m\n\u001b[1;32m   1068\u001b[0m         \u001b[0mcontent_or_path\u001b[0m \u001b[0;34m=\u001b[0m \u001b[0mBytesIO\u001b[0m\u001b[0;34m(\u001b[0m\u001b[0mcontent_or_path\u001b[0m\u001b[0;34m)\u001b[0m\u001b[0;34m\u001b[0m\u001b[0;34m\u001b[0m\u001b[0m\n\u001b[1;32m   1069\u001b[0m \u001b[0;34m\u001b[0m\u001b[0m\n\u001b[0;32m-> 1070\u001b[0;31m     with get_handle(\n\u001b[0m\u001b[1;32m   1071\u001b[0m         \u001b[0mcontent_or_path\u001b[0m\u001b[0;34m,\u001b[0m \u001b[0;34m\"rb\"\u001b[0m\u001b[0;34m,\u001b[0m \u001b[0mstorage_options\u001b[0m\u001b[0;34m=\u001b[0m\u001b[0mstorage_options\u001b[0m\u001b[0;34m,\u001b[0m \u001b[0mis_text\u001b[0m\u001b[0;34m=\u001b[0m\u001b[0;32mFalse\u001b[0m\u001b[0;34m\u001b[0m\u001b[0;34m\u001b[0m\u001b[0m\n\u001b[1;32m   1072\u001b[0m     ) as handle:\n",
      "\u001b[0;32m~/anaconda3/lib/python3.9/site-packages/pandas/io/common.py\u001b[0m in \u001b[0;36mget_handle\u001b[0;34m(path_or_buf, mode, encoding, compression, memory_map, is_text, errors, storage_options)\u001b[0m\n\u001b[1;32m    709\u001b[0m         \u001b[0;32melse\u001b[0m\u001b[0;34m:\u001b[0m\u001b[0;34m\u001b[0m\u001b[0;34m\u001b[0m\u001b[0m\n\u001b[1;32m    710\u001b[0m             \u001b[0;31m# Binary mode\u001b[0m\u001b[0;34m\u001b[0m\u001b[0;34m\u001b[0m\u001b[0m\n\u001b[0;32m--> 711\u001b[0;31m             \u001b[0mhandle\u001b[0m \u001b[0;34m=\u001b[0m \u001b[0mopen\u001b[0m\u001b[0;34m(\u001b[0m\u001b[0mhandle\u001b[0m\u001b[0;34m,\u001b[0m \u001b[0mioargs\u001b[0m\u001b[0;34m.\u001b[0m\u001b[0mmode\u001b[0m\u001b[0;34m)\u001b[0m\u001b[0;34m\u001b[0m\u001b[0;34m\u001b[0m\u001b[0m\n\u001b[0m\u001b[1;32m    712\u001b[0m         \u001b[0mhandles\u001b[0m\u001b[0;34m.\u001b[0m\u001b[0mappend\u001b[0m\u001b[0;34m(\u001b[0m\u001b[0mhandle\u001b[0m\u001b[0;34m)\u001b[0m\u001b[0;34m\u001b[0m\u001b[0;34m\u001b[0m\u001b[0m\n\u001b[1;32m    713\u001b[0m \u001b[0;34m\u001b[0m\u001b[0m\n",
      "\u001b[0;31mFileNotFoundError\u001b[0m: [Errno 2] No such file or directory: 'file_example.xls'"
     ]
    }
   ],
   "source": [
    "excel_file = pd.ExcelFile(\"file_example.xls\")\n",
    "sheet = pd.read_excel(\"file_example.xls\")\n",
    "sheet"
   ]
  },
  {
   "cell_type": "code",
   "execution_count": null,
   "id": "762112da",
   "metadata": {},
   "outputs": [],
   "source": [
    "docu = {}\n",
    "for sheet_name in excel_file.sheet_names:\n",
    "    docu[sheet_name] = excel_file.parse(sheet_name)#On utilise parse pour acceder au contenu de chaque feuille\n",
    "for sheet_name in docu:\n",
    "    print(\"\\n\" + sheet_name + \":\\n\", docu[sheet_name])"
   ]
  },
  {
   "cell_type": "code",
   "execution_count": null,
   "id": "2933823d",
   "metadata": {},
   "outputs": [],
   "source": [
    "#Acceder la sheet 1\n",
    "sheet1 = docu[\"Sheet1\"].copy()"
   ]
  },
  {
   "cell_type": "code",
   "execution_count": null,
   "id": "ab9804d8",
   "metadata": {},
   "outputs": [],
   "source": [
    "sheet1.head()"
   ]
  },
  {
   "cell_type": "code",
   "execution_count": null,
   "id": "6a3522bd",
   "metadata": {},
   "outputs": [],
   "source": [
    "%pip install openpyxl"
   ]
  },
  {
   "cell_type": "code",
   "execution_count": null,
   "id": "c1fbc5d6",
   "metadata": {},
   "outputs": [],
   "source": [
    "writer = pd.ExcelWriter('autre_fichier.xlsx')\n",
    "sheet1.to_excel(writer,'autre_fichier.xlsx')"
   ]
  },
  {
   "attachments": {},
   "cell_type": "markdown",
   "id": "9aefe02a",
   "metadata": {},
   "source": [
    "TRAITER AVEC NAN"
   ]
  },
  {
   "cell_type": "code",
   "execution_count": null,
   "id": "9f74f0d7",
   "metadata": {},
   "outputs": [],
   "source": [
    "temp_df = pd.read_csv(\"temperatures.csv\",sep=\";\",decimal=\",\")\n",
    "temp_df.head()"
   ]
  },
  {
   "cell_type": "code",
   "execution_count": null,
   "id": "933ad0d5",
   "metadata": {},
   "outputs": [],
   "source": [
    "temp_df.columns = [\"time\",\"sensor1\", \"sensor2\",\"sensor3\",\"sensor4\",\"sensor5\",\"sensor6\"]"
   ]
  },
  {
   "cell_type": "code",
   "execution_count": null,
   "id": "508204cb",
   "metadata": {},
   "outputs": [],
   "source": [
    "# Pour vérifier si nous avons NaN ou nulls\n",
    "temp_df.isnull().sum() #oubien isna()"
   ]
  },
  {
   "attachments": {},
   "cell_type": "markdown",
   "id": "d650cf3f",
   "metadata": {},
   "source": [
    "UTILISATION DE DROPNA SUR LA DATAFRAME"
   ]
  },
  {
   "cell_type": "code",
   "execution_count": null,
   "id": "10e8bb30",
   "metadata": {},
   "outputs": [],
   "source": [
    "df = temp_df.dropna()\n",
    "df.isna().sum()"
   ]
  },
  {
   "cell_type": "code",
   "execution_count": null,
   "id": "a4cbc3b9",
   "metadata": {},
   "outputs": [
    {
     "ename": "NameError",
     "evalue": "name 'df' is not defined",
     "output_type": "error",
     "traceback": [
      "\u001b[0;31m---------------------------------------------------------------------------\u001b[0m",
      "\u001b[0;31mNameError\u001b[0m                                 Traceback (most recent call last)",
      "Cell \u001b[0;32mIn[22], line 1\u001b[0m\n\u001b[0;32m----> 1\u001b[0m df\u001b[39m.\u001b[39mhead()\n",
      "\u001b[0;31mNameError\u001b[0m: name 'df' is not defined"
     ]
    }
   ],
   "source": [
    "df.head()"
   ]
  },
  {
   "cell_type": "code",
   "execution_count": null,
   "id": "b6bf87be",
   "metadata": {},
   "outputs": [],
   "source": [
    "#'dropna' peut également être utilisé pour supprimer toutes les colonnes\n",
    "#dans lesquelles certaines valeurs sont NaN\n",
    "df = temp_df.dropna(axis=1)\n",
    "df.head()"
   ]
  },
  {
   "attachments": {},
   "cell_type": "markdown",
   "id": "15361da8",
   "metadata": {},
   "source": [
    "VISUALISATION DES DONNÉES AVEC PANDAS"
   ]
  },
  {
   "cell_type": "code",
   "execution_count": null,
   "id": "8925e015",
   "metadata": {},
   "outputs": [],
   "source": [
    "data = [100, 120, 140, 180, 200, 210, 214]\n",
    "s = pd.Series(data, index=range(len(data)))\n",
    "s.plot()"
   ]
  },
  {
   "cell_type": "code",
   "execution_count": null,
   "id": "9b1aee32",
   "metadata": {},
   "outputs": [],
   "source": [
    "fruits = ['apples', 'oranges', 'cherries', 'pears']\n",
    "quantities = [20, 33, 52, 10]\n",
    "S = pd.Series(quantities, index=fruits)\n",
    "S.plot()"
   ]
  },
  {
   "cell_type": "code",
   "execution_count": 32,
   "id": "eda12680",
   "metadata": {},
   "outputs": [
    {
     "name": "stdout",
     "output_type": "stream",
     "text": [
      "           population     area\n",
      "London        8615246  1572.00\n",
      "Berlin        3562166   891.85\n",
      "Madrid        3165235   605.77\n",
      "Rome          2874038  1285.00\n",
      "Paris         2273305   105.40\n",
      "Vienna        1805681   414.60\n",
      "Bucharest     1803425   228.00\n",
      "Hamburg       1760433   755.00\n",
      "Budapest      1754000   525.20\n",
      "Warsaw        1740119   517.00\n",
      "Barcelona     1602386   101.90\n",
      "Munich        1493900   310.40\n",
      "Milan         1350680   181.80\n"
     ]
    }
   ],
   "source": [
    "cities = {\"name\": [\"London\", \"Berlin\", \"Madrid\", \"Rome\",\n",
    "\"Paris\", \"Vienna\", \"Bucharest\", \"Hamburg\",\"Budapest\", \"Warsaw\", \"Barcelona\",\"Munich\", \"Milan\"],\n",
    "\"population\": [8615246, 3562166, 3165235, 2874038,2273305, 1805681, 1803425, 1760433,\n",
    "1754000, 1740119, 1602386, 1493900,1350680],\n",
    "\"area\" : [1572, 891.85, 605.77, 1285,105.4, 414.6, 228, 755,525.2, 517, 101.9, 310.4,181.8]\n",
    "}\n",
    "city_frame = pd.DataFrame(cities,columns=[\"population\", \"area\"],index=cities[\"name\"])\n",
    "print(city_frame)"
   ]
  },
  {
   "cell_type": "code",
   "execution_count": 39,
   "id": "08c51afb",
   "metadata": {},
   "outputs": [
    {
     "data": {
      "text/plain": [
       "<Axes: >"
      ]
     },
     "execution_count": 39,
     "metadata": {},
     "output_type": "execute_result"
    },
    {
     "data": {
      "image/png": "[encoded data removed]",
      "text/plain": [
       "<Figure size 640x480 with 1 Axes>"
      ]
     },
     "metadata": {},
     "output_type": "display_data"
    }
   ],
   "source": [
    "city_frame[\"area\"] *= 1000 \n",
    "city_frame.plot()"
   ]
  },
  {
   "attachments": {},
   "cell_type": "markdown",
   "id": "2457f582",
   "metadata": {},
   "source": [
    "Ce tracé n'est pas à la hauteur de nos attentes, car tous les noms de villes ne sont pas\n",
    "apparaissent sur l'axe des x. Nous pouvons changer cela en définissant explicitement les xticks avec\n",
    "\"range(len((city_frame.index))\". De plus, nous devons définir use_index sur True,\n",
    "pour que nous obtenions des noms de villes et non des nombres de 0 à len((city_frame.index):"
   ]
  },
  {
   "cell_type": "code",
   "execution_count": 38,
   "id": "91708272",
   "metadata": {},
   "outputs": [
    {
     "data": {
      "text/plain": [
       "<Axes: >"
      ]
     },
     "execution_count": 38,
     "metadata": {},
     "output_type": "execute_result"
    },
    {
     "data": {
      "image/png": "[encoded data removed]",
      "text/plain": [
       "<Figure size 640x480 with 1 Axes>"
      ]
     },
     "metadata": {},
     "output_type": "display_data"
    }
   ],
   "source": [
    "city_frame.plot(xticks=range(len(city_frame.index)),\n",
    "use_index=True)"
   ]
  },
  {
   "cell_type": "code",
   "execution_count": 37,
   "id": "471702aa",
   "metadata": {},
   "outputs": [
    {
     "data": {
      "text/plain": [
       "<Axes: >"
      ]
     },
     "execution_count": 37,
     "metadata": {},
     "output_type": "execute_result"
    },
    {
     "data": {
      "image/png": "[encoded data removed]",
      "text/plain": [
       "<Figure size 640x480 with 1 Axes>"
      ]
     },
     "metadata": {},
     "output_type": "display_data"
    }
   ],
   "source": [
    "city_frame.plot(xticks=range(len(city_frame.index)),use_index=True,rot=90)"
   ]
  },
  {
   "attachments": {},
   "cell_type": "markdown",
   "id": "0a7152b8",
   "metadata": {},
   "source": [
    "BAR PLOTS EN PANDAS"
   ]
  },
  {
   "cell_type": "code",
   "execution_count": 34,
   "id": "5a755f03",
   "metadata": {},
   "outputs": [
    {
     "data": {
      "text/plain": [
       "<Axes: >"
      ]
     },
     "execution_count": 34,
     "metadata": {},
     "output_type": "execute_result"
    },
    {
     "data": {
      "image/png": "[encoded data removed]",
      "text/plain": [
       "<Figure size 640x480 with 1 Axes>"
      ]
     },
     "metadata": {},
     "output_type": "display_data"
    }
   ],
   "source": [
    "data = [100, 120, 140, 180, 200, 210, 214]\n",
    "s = pd.Series(data, index=range(len(data)))\n",
    "s.plot(kind='bar')"
   ]
  },
  {
   "attachments": {},
   "cell_type": "markdown",
   "id": "ad5669cf",
   "metadata": {},
   "source": [
    "DIAGRAMMES CAMETIERS(PIE CHARTS) EN PANDAS"
   ]
  },
  {
   "cell_type": "code",
   "execution_count": 36,
   "id": "36b37186",
   "metadata": {
    "tags": []
   },
   "outputs": [
    {
     "name": "stdout",
     "output_type": "stream",
     "text": [
      "apples      20\n",
      "pears       30\n",
      "cherries    40\n",
      "bananas     10\n",
      "Name: series, dtype: int64\n"
     ]
    },
    {
     "data": {
      "text/plain": [
       "<Axes: ylabel='series'>"
      ]
     },
     "execution_count": 36,
     "metadata": {},
     "output_type": "execute_result"
    },
    {
     "data": {
      "image/png": "[encoded data removed]",
      "text/plain": [
       "<Figure size 640x480 with 1 Axes>"
      ]
     },
     "metadata": {},
     "output_type": "display_data"
    }
   ],
   "source": [
    "fruits = ['apples', 'pears', 'cherries', 'bananas']\n",
    "series = pd.Series([20, 30, 40, 10],index=fruits,name='series')\n",
    "print(series)\n",
    "series.plot.pie()\n"
   ]
  },
  {
   "cell_type": "code",
   "execution_count": 40,
   "id": "28190d36",
   "metadata": {},
   "outputs": [
    {
     "data": {
      "image/png": "[encoded data removed]",
      "text/plain": [
       "<Figure size 640x480 with 1 Axes>"
      ]
     },
     "metadata": {},
     "output_type": "display_data"
    }
   ],
   "source": [
    "import matplotlib.pyplot as plt\n",
    "\n",
    "# Données du graphique\n",
    "x = [1, 2, 3, 4, 5]  # Valeurs de l'axe des abscisses\n",
    "y = [2, 4, 6, 8, 10]  # Valeurs de l'axe des ordonnées\n",
    "\n",
    "# Création du graphique\n",
    "plt.plot(x, y)\n",
    "\n",
    "# Ajout des étiquettes des axes\n",
    "plt.xlabel('Axe des abscisses')\n",
    "plt.ylabel('Axe des ordonnées')\n",
    "\n",
    "# Ajout d'un titre\n",
    "plt.title('Graphique simple')\n",
    "\n",
    "# Affichage du graphique\n",
    "plt.show()\n"
   ]
  }
 ],
 "metadata": {
  "kernelspec": {
   "display_name": "Python 3 (ipykernel)",
   "language": "python",
   "name": "python3"
  },
  "language_info": {
   "codemirror_mode": {
    "name": "ipython",
    "version": 3
   },
   "file_extension": ".py",
   "mimetype": "text/x-python",
   "name": "python",
   "nbconvert_exporter": "python",
   "pygments_lexer": "ipython3",
   "version": "3.10.6"
  }
 },
 "nbformat": 4,
 "nbformat_minor": 5
}
