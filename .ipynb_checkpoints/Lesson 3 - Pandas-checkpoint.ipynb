{
 "cells": [
  {
   "cell_type": "markdown",
   "id": "5d5d2ed6",
   "metadata": {},
   "source": [
    "## Introduction sur Pandas"
   ]
  },
  {
   "cell_type": "markdown",
   "id": "4dc6495e",
   "metadata": {},
   "source": [
    "Pandas est une librairie Python servant à la manipulation et à l’analyse des données. Elle est bâtie autour d’une structure de données appelée DataFrame. Pour faire simple, disons qu’un DataFrame pandas est un tableau comparable à une feuille de calcul Excel. Pandas fournit un grand nombre de méthodes pour modifier et traiter ce tableau. En particulier, il permet d’effectuer des requêtes de style SQL et d’opérer des jointures. À la différence de NumPy, qui oblige toutes les entrées à être de même type, pandas autorise des types différents dans les colonnes (par exemple des entiers, des dates, des nombres en virgule flottante et des chaînes de caractères)"
   ]
  },
  {
   "cell_type": "markdown",
   "id": "0c450044",
   "metadata": {},
   "source": [
    "Nous commencerons par les deux structures de données importantes suivantes de Pandas :\n",
    "• Série\n",
    "• Dataframe"
   ]
  },
  {
   "cell_type": "markdown",
   "id": "984d6113",
   "metadata": {},
   "source": [
    "#### SERIES\n",
    "Une série est un objet de type tableau unidimensionnel étiqueté. Il est capable de contenir n'importe quel type de données, par ex. entiers,\n",
    "flottants, chaînes, objets Python, etc. Il peut être vu comme une structure de données avec deux tableaux : un fonctionnant comme\n",
    "l'index, c'est-à-dire les étiquettes, et l'autre contient les données réelles."
   ]
  },
  {
   "cell_type": "code",
   "execution_count": 1,
   "id": "08db670a",
   "metadata": {},
   "outputs": [
    {
     "data": {
      "text/plain": [
       "0    11\n",
       "1    28\n",
       "2    72\n",
       "3     3\n",
       "4     5\n",
       "5     8\n",
       "dtype: int64"
      ]
     },
     "execution_count": 1,
     "metadata": {},
     "output_type": "execute_result"
    }
   ],
   "source": [
    "import pandas as pd\n",
    "S = pd.Series([11, 28, 72, 3, 5, 8])\n",
    "S\n",
    "# Nous n'avons pas défini d'index dans notre exemple, mais nous voyons deux colonnes dans notre sortie : la colonne de droite contient\n",
    "# nos données, tandis que la colonne de gauche contient l'index. Pandas a créé un index par défaut commençant par 0 allant jusqu'à 5,\n",
    "# qui est la longueur des données moins 1."
   ]
  },
  {
   "cell_type": "code",
   "execution_count": 2,
   "id": "0af09005",
   "metadata": {},
   "outputs": [
    {
     "name": "stdout",
     "output_type": "stream",
     "text": [
      "RangeIndex(start=0, stop=6, step=1)\n",
      "[11 28 72  3  5  8]\n"
     ]
    }
   ],
   "source": [
    "print(S.index) # Pour acceder aux index\n",
    "print(S.values) # Pour acceder aux valeurs"
   ]
  },
  {
   "cell_type": "markdown",
   "id": "c682f3ba",
   "metadata": {},
   "source": [
    "Jusqu'à présent, nos séries n'ont pas été très différentes des ndarrays de Numpy. Cela change, dès que nous commençons définir des objets Series avec des indices individuels :"
   ]
  },
  {
   "cell_type": "code",
   "execution_count": 3,
   "id": "ad11cc28",
   "metadata": {},
   "outputs": [
    {
     "data": {
      "text/plain": [
       "pommes     20\n",
       "oranges    33\n",
       "cerises    52\n",
       "poires     10\n",
       "dtype: int64"
      ]
     },
     "execution_count": 3,
     "metadata": {},
     "output_type": "execute_result"
    }
   ],
   "source": [
    "fruits = ['pommes', 'oranges', 'cerises', 'poires']\n",
    "quantities = [20, 33, 52, 10]\n",
    "S = pd.Series(quantities, index=fruits)\n",
    "S"
   ]
  },
  {
   "cell_type": "markdown",
   "id": "ef4fa5a0",
   "metadata": {},
   "source": [
    "Si nous additionnons deux séries avec les mêmes indices, nous obtenons une nouvelle série avec le même indice et la valeur correspondante\n",
    "les valeurs seront ajoutées :"
   ]
  },
  {
   "cell_type": "code",
   "execution_count": 4,
   "id": "558138a6",
   "metadata": {},
   "outputs": [
    {
     "name": "stdout",
     "output_type": "stream",
     "text": [
      "pommes     37\n",
      "oranges    46\n",
      "cerises    83\n",
      "poires     42\n",
      "dtype: int64\n",
      "somme de S :  115\n"
     ]
    }
   ],
   "source": [
    "fruits = ['pommes', 'oranges', 'cerises', 'poires']\n",
    "S = pd.Series([20, 33, 52, 10], index=fruits)\n",
    "S2 = pd.Series([17, 13, 31, 32], index=fruits)\n",
    "print(S + S2)\n",
    "print(\"somme de S : \", sum(S))"
   ]
  },
  {
   "cell_type": "code",
   "execution_count": 5,
   "id": "44caf63c",
   "metadata": {},
   "outputs": [
    {
     "name": "stdout",
     "output_type": "stream",
     "text": [
      "cerises       83.0\n",
      "framboises     NaN\n",
      "oranges       46.0\n",
      "poires        42.0\n",
      "pommes         NaN\n",
      "dtype: float64\n"
     ]
    }
   ],
   "source": [
    "# Si un indice n'existe pas dans les deux séries, la valeur de cette série sera NaN :\n",
    "fruits = ['pommes', 'oranges', 'cerises', 'poires']\n",
    "fruits2 = ['framboises', 'oranges', 'cerises', 'poires']\n",
    "S = pd.Series([20, 33, 52, 10], index=fruits)\n",
    "S2 = pd.Series([17, 13, 31, 32], index=fruits2)\n",
    "print(S + S2)"
   ]
  },
  {
   "cell_type": "markdown",
   "id": "13178fd7",
   "metadata": {},
   "source": [
    "INDEXAGE"
   ]
  },
  {
   "cell_type": "code",
   "execution_count": 7,
   "id": "16537749",
   "metadata": {},
   "outputs": [
    {
     "name": "stdout",
     "output_type": "stream",
     "text": [
      "pommes     20\n",
      "oranges    33\n",
      "cerises    52\n",
      "poires     10\n",
      "dtype: int64\n",
      "33\n"
     ]
    }
   ],
   "source": [
    "print(S)\n",
    "print(S['oranges'])"
   ]
  },
  {
   "cell_type": "markdown",
   "id": "5103908f",
   "metadata": {},
   "source": [
    "Cependant, les objets Series peuvent également être accessibles par plusieurs index en même temps. Cela peut être fait par regrouper les index dans une liste. Ce type d'accès renvoie à nouveau une série Pandas :"
   ]
  },
  {
   "cell_type": "code",
   "execution_count": 9,
   "id": "b32ffbee",
   "metadata": {},
   "outputs": [
    {
     "name": "stdout",
     "output_type": "stream",
     "text": [
      "pommes     20\n",
      "oranges    33\n",
      "cerises    52\n",
      "dtype: int64\n"
     ]
    }
   ],
   "source": [
    "print(S[['pommes', 'oranges', 'cerises']])"
   ]
  },
  {
   "cell_type": "code",
   "execution_count": 10,
   "id": "1538de1b",
   "metadata": {},
   "outputs": [
    {
     "data": {
      "text/plain": [
       "pommes     20\n",
       "oranges    33\n",
       "cerises    52\n",
       "poires     10\n",
       "dtype: int64"
      ]
     },
     "execution_count": 10,
     "metadata": {},
     "output_type": "execute_result"
    }
   ],
   "source": [
    "S[:]"
   ]
  },
  {
   "cell_type": "markdown",
   "id": "0c650573",
   "metadata": {},
   "source": [
    "Semblable à Numpy, nous pouvons utiliser des opérations scalaires ou des fonctions mathématiques sur une série :"
   ]
  },
  {
   "cell_type": "code",
   "execution_count": 8,
   "id": "00231eff",
   "metadata": {},
   "outputs": [
    {
     "name": "stdout",
     "output_type": "stream",
     "text": [
      "pommes     23\n",
      "oranges    36\n",
      "cerises    55\n",
      "poires     13\n",
      "dtype: int64\n",
      "======================\n",
      "pommes     0.912945\n",
      "oranges    0.999912\n",
      "cerises    0.986628\n",
      "poires    -0.544021\n",
      "dtype: float64\n"
     ]
    }
   ],
   "source": [
    "import numpy as np\n",
    "print((S + 3))\n",
    "print(\"======================\")\n",
    "print(np.sin(S))"
   ]
  },
  {
   "cell_type": "markdown",
   "id": "8e8ac8a9",
   "metadata": {},
   "source": [
    "PANDAS.SERIES.APPLY\n",
    "Series.apply(func, convert_dtype=True, args=(), **kwds)"
   ]
  },
  {
   "cell_type": "code",
   "execution_count": 10,
   "id": "d89fccf6",
   "metadata": {},
   "outputs": [
    {
     "data": {
      "text/plain": [
       "pommes     0.912945\n",
       "oranges    0.999912\n",
       "cerises    0.986628\n",
       "poires    -0.544021\n",
       "dtype: float64"
      ]
     },
     "execution_count": 10,
     "metadata": {},
     "output_type": "execute_result"
    }
   ],
   "source": [
    "S.apply(np.sin)"
   ]
  },
  {
   "cell_type": "code",
   "execution_count": 14,
   "id": "19c2e8b8",
   "metadata": {},
   "outputs": [
    {
     "name": "stdout",
     "output_type": "stream",
     "text": [
      "pommes     20\n",
      "oranges    33\n",
      "cerises    52\n",
      "poires     10\n",
      "dtype: int64\n"
     ]
    },
    {
     "data": {
      "text/plain": [
       "pommes     30\n",
       "oranges    43\n",
       "cerises    52\n",
       "poires     20\n",
       "dtype: int64"
      ]
     },
     "execution_count": 14,
     "metadata": {},
     "output_type": "execute_result"
    }
   ],
   "source": [
    "# Nous pouvons également utiliser les fonctions Python lambda. \n",
    "#Supposons que nous ayons la tâche suivante. Le test de la quantité de\n",
    "# fruits de toutes sortes. S'il y a moins de 50 disponibles, nous augmenterons le stock de 10 :\n",
    "print(S)\n",
    "S.apply(lambda x: x if x > 50 else x+10 )"
   ]
  },
  {
   "cell_type": "code",
   "execution_count": 17,
   "id": "cdc43096",
   "metadata": {},
   "outputs": [
    {
     "data": {
      "text/plain": [
       "pommes     20\n",
       "oranges    33\n",
       "cerises    52\n",
       "poires     10\n",
       "dtype: int64"
      ]
     },
     "execution_count": 17,
     "metadata": {},
     "output_type": "execute_result"
    }
   ],
   "source": [
    "#Filtrage avec booléen\n",
    "S[S!=30]"
   ]
  },
  {
   "cell_type": "markdown",
   "id": "729ee516",
   "metadata": {},
   "source": [
    "CRÉATION D'OBJETS DE SÉRIE À PARTIR DE DICTIONNAIRES"
   ]
  },
  {
   "cell_type": "code",
   "execution_count": 11,
   "id": "8bfd403f",
   "metadata": {},
   "outputs": [
    {
     "name": "stdout",
     "output_type": "stream",
     "text": [
      "London       8615246\n",
      "Berlin       3562166\n",
      "Madrid       3165235\n",
      "Rome         2874038\n",
      "Paris        2273305\n",
      "Vienna       1805681\n",
      "Bucharest    1803425\n",
      "Hamburg      1760433\n",
      "Budapest     1754000\n",
      "Warsaw       1740119\n",
      "Barcelona    1602386\n",
      "Munich       1493900\n",
      "Milan        1350680\n",
      "dtype: int64\n"
     ]
    }
   ],
   "source": [
    "cities = {\"London\": 8615246,\n",
    "            \"Berlin\": 3562166,\n",
    "            \"Madrid\": 3165235,\n",
    "            \"Rome\": 2874038,\n",
    "            \"Paris\": 2273305,\n",
    "            \"Vienna\": 1805681,\n",
    "            \"Bucharest\": 1803425,\n",
    "            \"Hamburg\": 1760433,\n",
    "            \"Budapest\": 1754000,\n",
    "            \"Warsaw\": 1740119,\n",
    "            \"Barcelona\": 1602386,\n",
    "            \"Munich\": 1493900,\n",
    "            \"Milan\": 1350680}\n",
    "city_series = pd.Series(cities)\n",
    "print(city_series)"
   ]
  },
  {
   "cell_type": "markdown",
   "id": "5102afc9",
   "metadata": {},
   "source": [
    "NAN - DONNÉES MANQUANTES"
   ]
  },
  {
   "cell_type": "code",
   "execution_count": 13,
   "id": "e5c45f3b",
   "metadata": {},
   "outputs": [
    {
     "data": {
      "text/plain": [
       "London       8615246.0\n",
       "Paris        2273305.0\n",
       "Zurich             NaN\n",
       "Berlin       3562166.0\n",
       "Stuttgart          NaN\n",
       "Hamburg      1760433.0\n",
       "dtype: float64"
      ]
     },
     "execution_count": 13,
     "metadata": {},
     "output_type": "execute_result"
    }
   ],
   "source": [
    "my_cities = [\"London\", \"Paris\", \"Zurich\", \"Berlin\",\"Stuttgart\", \"Hamburg\"]\n",
    "my_city_series = pd.Series(cities,index=my_cities)\n",
    "my_city_series"
   ]
  },
  {
   "cell_type": "markdown",
   "id": "eb3c9cce",
   "metadata": {},
   "source": [
    "LES MÉTHODES ISNULL() ET NOTNULL()"
   ]
  },
  {
   "cell_type": "code",
   "execution_count": 14,
   "id": "4a747453",
   "metadata": {},
   "outputs": [
    {
     "name": "stdout",
     "output_type": "stream",
     "text": [
      "London       False\n",
      "Paris        False\n",
      "Zurich        True\n",
      "Berlin       False\n",
      "Stuttgart     True\n",
      "Hamburg      False\n",
      "dtype: bool\n",
      "London        True\n",
      "Paris         True\n",
      "Zurich       False\n",
      "Berlin        True\n",
      "Stuttgart    False\n",
      "Hamburg       True\n",
      "dtype: bool\n"
     ]
    }
   ],
   "source": [
    "print(my_city_series.isnull())\n",
    "print(my_city_series.notnull())"
   ]
  },
  {
   "cell_type": "markdown",
   "id": "93bd46a6",
   "metadata": {},
   "source": [
    "FILTRER LES DONNÉES MANQUANTES"
   ]
  },
  {
   "cell_type": "code",
   "execution_count": 15,
   "id": "fb5c5aed",
   "metadata": {},
   "outputs": [
    {
     "name": "stdout",
     "output_type": "stream",
     "text": [
      "London     8615246.0\n",
      "Paris      2273305.0\n",
      "Berlin     3562166.0\n",
      "Hamburg    1760433.0\n",
      "dtype: float64\n",
      "London       8615246.0\n",
      "Paris        2273305.0\n",
      "Zurich             NaN\n",
      "Berlin       3562166.0\n",
      "Stuttgart          NaN\n",
      "Hamburg      1760433.0\n",
      "dtype: float64\n"
     ]
    }
   ],
   "source": [
    "print(my_city_series.dropna())\n",
    "print(my_city_series)"
   ]
  },
  {
   "cell_type": "code",
   "execution_count": 24,
   "id": "0b4194cb",
   "metadata": {},
   "outputs": [
    {
     "data": {
      "text/plain": [
       "London     8615246.0\n",
       "Paris      2273305.0\n",
       "Berlin     3562166.0\n",
       "Hamburg    1760433.0\n",
       "dtype: float64"
      ]
     },
     "execution_count": 24,
     "metadata": {},
     "output_type": "execute_result"
    }
   ],
   "source": [
    "# Si vous souhaitez que les modifications soient appliquées, vous devez l'enregistrer \n",
    "#dans une nouvelle variable\n",
    "pas_de_nan = my_city_series.dropna()\n",
    "pas_de_nan"
   ]
  },
  {
   "cell_type": "markdown",
   "id": "7a241de2",
   "metadata": {},
   "source": [
    "REMPLIR LES DONNÉES MANQUANTES"
   ]
  },
  {
   "cell_type": "code",
   "execution_count": 16,
   "id": "f05e9618",
   "metadata": {},
   "outputs": [
    {
     "name": "stdout",
     "output_type": "stream",
     "text": [
      "London       8615246.0\n",
      "Paris        2273305.0\n",
      "Zurich             0.0\n",
      "Berlin       3562166.0\n",
      "Stuttgart          0.0\n",
      "Hamburg      1760433.0\n",
      "dtype: float64\n"
     ]
    }
   ],
   "source": [
    "# Remplir avec 0\n",
    "print(my_city_series.fillna(0))"
   ]
  },
  {
   "cell_type": "code",
   "execution_count": 17,
   "id": "6a25137c",
   "metadata": {},
   "outputs": [
    {
     "data": {
      "text/plain": [
       "London       8615246\n",
       "Paris        2273305\n",
       "Zurich        378884\n",
       "Berlin       3562166\n",
       "Stuttgart     597939\n",
       "Hamburg      1760433\n",
       "dtype: int64"
      ]
     },
     "execution_count": 17,
     "metadata": {},
     "output_type": "execute_result"
    }
   ],
   "source": [
    "#Remplir avec des donnees\n",
    "missing_cities = {\"Stuttgart\":597939, \"Zurich\":378884}\n",
    "my_city_series.fillna(missing_cities).astype('int') # On peut convertir pour avoir des nombres entiers"
   ]
  },
  {
   "cell_type": "markdown",
   "id": "eb8b8b2a",
   "metadata": {},
   "source": [
    "#### DATAFRAME"
   ]
  },
  {
   "cell_type": "markdown",
   "id": "3c70c234",
   "metadata": {},
   "source": [
    "L'idée sous-jacente d'un DataFrame est basée sur\n",
    "feuilles de calcul comme Excel. Nous pouvons voir la structure de données d'un DataFrame\n",
    "sous forme de tableau et de tableur. Un DataFrame logiquement\n",
    "correspond à une \"feuille\" d'un document Excel. UN DataFrame a à la fois une ligne et un index de colonne"
   ]
  },
  {
   "cell_type": "code",
   "execution_count": 18,
   "id": "ae293c8c",
   "metadata": {},
   "outputs": [
    {
     "data": {
      "text/html": [
       "<div>\n",
       "<style scoped>\n",
       "    .dataframe tbody tr th:only-of-type {\n",
       "        vertical-align: middle;\n",
       "    }\n",
       "\n",
       "    .dataframe tbody tr th {\n",
       "        vertical-align: top;\n",
       "    }\n",
       "\n",
       "    .dataframe thead th {\n",
       "        text-align: right;\n",
       "    }\n",
       "</style>\n",
       "<table border=\"1\" class=\"dataframe\">\n",
       "  <thead>\n",
       "    <tr style=\"text-align: right;\">\n",
       "      <th></th>\n",
       "      <th>0</th>\n",
       "      <th>1</th>\n",
       "      <th>2</th>\n",
       "    </tr>\n",
       "  </thead>\n",
       "  <tbody>\n",
       "    <tr>\n",
       "      <th>2014</th>\n",
       "      <td>2409.14</td>\n",
       "      <td>1203.45</td>\n",
       "      <td>3412.12</td>\n",
       "    </tr>\n",
       "    <tr>\n",
       "      <th>2015</th>\n",
       "      <td>2941.01</td>\n",
       "      <td>3441.62</td>\n",
       "      <td>3491.16</td>\n",
       "    </tr>\n",
       "    <tr>\n",
       "      <th>2016</th>\n",
       "      <td>3496.83</td>\n",
       "      <td>3007.83</td>\n",
       "      <td>3457.19</td>\n",
       "    </tr>\n",
       "    <tr>\n",
       "      <th>2017</th>\n",
       "      <td>3119.55</td>\n",
       "      <td>3619.53</td>\n",
       "      <td>1963.10</td>\n",
       "    </tr>\n",
       "  </tbody>\n",
       "</table>\n",
       "</div>"
      ],
      "text/plain": [
       "            0        1        2\n",
       "2014  2409.14  1203.45  3412.12\n",
       "2015  2941.01  3441.62  3491.16\n",
       "2016  3496.83  3007.83  3457.19\n",
       "2017  3119.55  3619.53  1963.10"
      ]
     },
     "execution_count": 18,
     "metadata": {},
     "output_type": "execute_result"
    }
   ],
   "source": [
    "# Creer un dataframe a partir des series\n",
    "years = range(2014, 2018)\n",
    "shop1 = pd.Series([2409.14, 2941.01, 3496.83, 3119.55], index=years)\n",
    "shop2 = pd.Series([1203.45, 3441.62, 3007.83, 3619.53], index=years)\n",
    "shop3 = pd.Series([3412.12, 3491.16, 3457.19, 1963.10], index=years)\n",
    "shops_df = pd.concat([shop1, shop2, shop3], axis=1)\n",
    "shops_df"
   ]
  },
  {
   "cell_type": "code",
   "execution_count": 36,
   "id": "4f343317",
   "metadata": {},
   "outputs": [
    {
     "data": {
      "text/plain": [
       "pandas.core.frame.DataFrame"
      ]
     },
     "execution_count": 36,
     "metadata": {},
     "output_type": "execute_result"
    }
   ],
   "source": [
    "type(shops_df)"
   ]
  },
  {
   "cell_type": "code",
   "execution_count": 19,
   "id": "06c04a1f",
   "metadata": {},
   "outputs": [
    {
     "data": {
      "text/html": [
       "<div>\n",
       "<style scoped>\n",
       "    .dataframe tbody tr th:only-of-type {\n",
       "        vertical-align: middle;\n",
       "    }\n",
       "\n",
       "    .dataframe tbody tr th {\n",
       "        vertical-align: top;\n",
       "    }\n",
       "\n",
       "    .dataframe thead th {\n",
       "        text-align: right;\n",
       "    }\n",
       "</style>\n",
       "<table border=\"1\" class=\"dataframe\">\n",
       "  <thead>\n",
       "    <tr style=\"text-align: right;\">\n",
       "      <th></th>\n",
       "      <th>Zürich</th>\n",
       "      <th>Winterthur</th>\n",
       "      <th>Freiburg</th>\n",
       "    </tr>\n",
       "  </thead>\n",
       "  <tbody>\n",
       "    <tr>\n",
       "      <th>2014</th>\n",
       "      <td>2409.14</td>\n",
       "      <td>1203.45</td>\n",
       "      <td>3412.12</td>\n",
       "    </tr>\n",
       "    <tr>\n",
       "      <th>2015</th>\n",
       "      <td>2941.01</td>\n",
       "      <td>3441.62</td>\n",
       "      <td>3491.16</td>\n",
       "    </tr>\n",
       "    <tr>\n",
       "      <th>2016</th>\n",
       "      <td>3496.83</td>\n",
       "      <td>3007.83</td>\n",
       "      <td>3457.19</td>\n",
       "    </tr>\n",
       "    <tr>\n",
       "      <th>2017</th>\n",
       "      <td>3119.55</td>\n",
       "      <td>3619.53</td>\n",
       "      <td>1963.10</td>\n",
       "    </tr>\n",
       "  </tbody>\n",
       "</table>\n",
       "</div>"
      ],
      "text/plain": [
       "       Zürich  Winterthur  Freiburg\n",
       "2014  2409.14     1203.45   3412.12\n",
       "2015  2941.01     3441.62   3491.16\n",
       "2016  3496.83     3007.83   3457.19\n",
       "2017  3119.55     3619.53   1963.10"
      ]
     },
     "execution_count": 19,
     "metadata": {},
     "output_type": "execute_result"
    }
   ],
   "source": [
    "#Nommer vos colonnes\n",
    "cities = [\"Zürich\", \"Winterthur\", \"Freiburg\"]\n",
    "shops_df.columns = cities\n",
    "shops_df"
   ]
  },
  {
   "cell_type": "markdown",
   "id": "5bad471a",
   "metadata": {},
   "source": [
    "DATAFRAMES DES DICTIONNAIRES"
   ]
  },
  {
   "cell_type": "code",
   "execution_count": 20,
   "id": "4a75b6e6",
   "metadata": {},
   "outputs": [
    {
     "data": {
      "text/html": [
       "<div>\n",
       "<style scoped>\n",
       "    .dataframe tbody tr th:only-of-type {\n",
       "        vertical-align: middle;\n",
       "    }\n",
       "\n",
       "    .dataframe tbody tr th {\n",
       "        vertical-align: top;\n",
       "    }\n",
       "\n",
       "    .dataframe thead th {\n",
       "        text-align: right;\n",
       "    }\n",
       "</style>\n",
       "<table border=\"1\" class=\"dataframe\">\n",
       "  <thead>\n",
       "    <tr style=\"text-align: right;\">\n",
       "      <th></th>\n",
       "      <th>name</th>\n",
       "      <th>population</th>\n",
       "      <th>country</th>\n",
       "    </tr>\n",
       "  </thead>\n",
       "  <tbody>\n",
       "    <tr>\n",
       "      <th>0</th>\n",
       "      <td>London</td>\n",
       "      <td>8615246</td>\n",
       "      <td>England</td>\n",
       "    </tr>\n",
       "    <tr>\n",
       "      <th>1</th>\n",
       "      <td>Berlin</td>\n",
       "      <td>3562166</td>\n",
       "      <td>Germany</td>\n",
       "    </tr>\n",
       "    <tr>\n",
       "      <th>2</th>\n",
       "      <td>Madrid</td>\n",
       "      <td>3165235</td>\n",
       "      <td>Spain</td>\n",
       "    </tr>\n",
       "    <tr>\n",
       "      <th>3</th>\n",
       "      <td>Rome</td>\n",
       "      <td>2874038</td>\n",
       "      <td>Italy</td>\n",
       "    </tr>\n",
       "    <tr>\n",
       "      <th>4</th>\n",
       "      <td>Paris</td>\n",
       "      <td>2273305</td>\n",
       "      <td>France</td>\n",
       "    </tr>\n",
       "    <tr>\n",
       "      <th>5</th>\n",
       "      <td>Vienna</td>\n",
       "      <td>1805681</td>\n",
       "      <td>Austria</td>\n",
       "    </tr>\n",
       "    <tr>\n",
       "      <th>6</th>\n",
       "      <td>Bucharest</td>\n",
       "      <td>1803425</td>\n",
       "      <td>Romania</td>\n",
       "    </tr>\n",
       "    <tr>\n",
       "      <th>7</th>\n",
       "      <td>Hamburg</td>\n",
       "      <td>1760433</td>\n",
       "      <td>Germany</td>\n",
       "    </tr>\n",
       "    <tr>\n",
       "      <th>8</th>\n",
       "      <td>Budapest</td>\n",
       "      <td>1754000</td>\n",
       "      <td>Hungary</td>\n",
       "    </tr>\n",
       "    <tr>\n",
       "      <th>9</th>\n",
       "      <td>Warsaw</td>\n",
       "      <td>1740119</td>\n",
       "      <td>Poland</td>\n",
       "    </tr>\n",
       "    <tr>\n",
       "      <th>10</th>\n",
       "      <td>Barcelona</td>\n",
       "      <td>1602386</td>\n",
       "      <td>Spain</td>\n",
       "    </tr>\n",
       "    <tr>\n",
       "      <th>11</th>\n",
       "      <td>Munich</td>\n",
       "      <td>1493900</td>\n",
       "      <td>Germany</td>\n",
       "    </tr>\n",
       "    <tr>\n",
       "      <th>12</th>\n",
       "      <td>Milan</td>\n",
       "      <td>1350680</td>\n",
       "      <td>Italy</td>\n",
       "    </tr>\n",
       "  </tbody>\n",
       "</table>\n",
       "</div>"
      ],
      "text/plain": [
       "         name  population  country\n",
       "0      London     8615246  England\n",
       "1      Berlin     3562166  Germany\n",
       "2      Madrid     3165235    Spain\n",
       "3        Rome     2874038    Italy\n",
       "4       Paris     2273305   France\n",
       "5      Vienna     1805681  Austria\n",
       "6   Bucharest     1803425  Romania\n",
       "7     Hamburg     1760433  Germany\n",
       "8    Budapest     1754000  Hungary\n",
       "9      Warsaw     1740119   Poland\n",
       "10  Barcelona     1602386    Spain\n",
       "11     Munich     1493900  Germany\n",
       "12      Milan     1350680    Italy"
      ]
     },
     "execution_count": 20,
     "metadata": {},
     "output_type": "execute_result"
    }
   ],
   "source": [
    "cities = {\"name\": [\"London\", \"Berlin\", \"Madrid\", \"Rome\",\n",
    "                \"Paris\", \"Vienna\", \"Bucharest\", \"Hamburg\",\n",
    "                \"Budapest\", \"Warsaw\", \"Barcelona\",\n",
    "                \"Munich\", \"Milan\"],\n",
    "          \"population\": [8615246, 3562166, 3165235, 2874038,\n",
    "                        2273305, 1805681, 1803425, 1760433,\n",
    "                        1754000, 1740119, 1602386, 1493900,\n",
    "                        1350680],\n",
    "           \"country\": [\"England\", \"Germany\", \"Spain\", \"Italy\",\n",
    "                        \"France\", \"Austria\", \"Romania\",\n",
    "                        \"Germany\", \"Hungary\", \"Poland\", \"Spain\",\n",
    "                        \"Germany\", \"Italy\"]}\n",
    "city_frame = pd.DataFrame(cities)\n",
    "city_frame"
   ]
  },
  {
   "cell_type": "code",
   "execution_count": 41,
   "id": "444e259d",
   "metadata": {},
   "outputs": [
    {
     "data": {
      "text/plain": [
       "array(['name', 'population', 'country'], dtype=object)"
      ]
     },
     "execution_count": 41,
     "metadata": {},
     "output_type": "execute_result"
    }
   ],
   "source": [
    "# RÉCUPÉRATION DES NOMS DE COLONNES\n",
    "city_frame.columns.values"
   ]
  },
  {
   "cell_type": "code",
   "execution_count": 23,
   "id": "634283a9",
   "metadata": {},
   "outputs": [
    {
     "data": {
      "text/html": [
       "<div>\n",
       "<style scoped>\n",
       "    .dataframe tbody tr th:only-of-type {\n",
       "        vertical-align: middle;\n",
       "    }\n",
       "\n",
       "    .dataframe tbody tr th {\n",
       "        vertical-align: top;\n",
       "    }\n",
       "\n",
       "    .dataframe thead th {\n",
       "        text-align: right;\n",
       "    }\n",
       "</style>\n",
       "<table border=\"1\" class=\"dataframe\">\n",
       "  <thead>\n",
       "    <tr style=\"text-align: right;\">\n",
       "      <th></th>\n",
       "      <th>nom</th>\n",
       "      <th>Population</th>\n",
       "      <th>pays</th>\n",
       "    </tr>\n",
       "  </thead>\n",
       "  <tbody>\n",
       "    <tr>\n",
       "      <th>0</th>\n",
       "      <td>London</td>\n",
       "      <td>8615246</td>\n",
       "      <td>England</td>\n",
       "    </tr>\n",
       "    <tr>\n",
       "      <th>1</th>\n",
       "      <td>Berlin</td>\n",
       "      <td>3562166</td>\n",
       "      <td>Germany</td>\n",
       "    </tr>\n",
       "    <tr>\n",
       "      <th>2</th>\n",
       "      <td>Madrid</td>\n",
       "      <td>3165235</td>\n",
       "      <td>Spain</td>\n",
       "    </tr>\n",
       "    <tr>\n",
       "      <th>3</th>\n",
       "      <td>Rome</td>\n",
       "      <td>2874038</td>\n",
       "      <td>Italy</td>\n",
       "    </tr>\n",
       "    <tr>\n",
       "      <th>4</th>\n",
       "      <td>Paris</td>\n",
       "      <td>2273305</td>\n",
       "      <td>France</td>\n",
       "    </tr>\n",
       "    <tr>\n",
       "      <th>5</th>\n",
       "      <td>Vienna</td>\n",
       "      <td>1805681</td>\n",
       "      <td>Austria</td>\n",
       "    </tr>\n",
       "    <tr>\n",
       "      <th>6</th>\n",
       "      <td>Bucharest</td>\n",
       "      <td>1803425</td>\n",
       "      <td>Romania</td>\n",
       "    </tr>\n",
       "    <tr>\n",
       "      <th>7</th>\n",
       "      <td>Hamburg</td>\n",
       "      <td>1760433</td>\n",
       "      <td>Germany</td>\n",
       "    </tr>\n",
       "    <tr>\n",
       "      <th>8</th>\n",
       "      <td>Budapest</td>\n",
       "      <td>1754000</td>\n",
       "      <td>Hungary</td>\n",
       "    </tr>\n",
       "    <tr>\n",
       "      <th>9</th>\n",
       "      <td>Warsaw</td>\n",
       "      <td>1740119</td>\n",
       "      <td>Poland</td>\n",
       "    </tr>\n",
       "    <tr>\n",
       "      <th>10</th>\n",
       "      <td>Barcelona</td>\n",
       "      <td>1602386</td>\n",
       "      <td>Spain</td>\n",
       "    </tr>\n",
       "    <tr>\n",
       "      <th>11</th>\n",
       "      <td>Munich</td>\n",
       "      <td>1493900</td>\n",
       "      <td>Germany</td>\n",
       "    </tr>\n",
       "    <tr>\n",
       "      <th>12</th>\n",
       "      <td>Milan</td>\n",
       "      <td>1350680</td>\n",
       "      <td>Italy</td>\n",
       "    </tr>\n",
       "  </tbody>\n",
       "</table>\n",
       "</div>"
      ],
      "text/plain": [
       "          nom  Population     pays\n",
       "0      London     8615246  England\n",
       "1      Berlin     3562166  Germany\n",
       "2      Madrid     3165235    Spain\n",
       "3        Rome     2874038    Italy\n",
       "4       Paris     2273305   France\n",
       "5      Vienna     1805681  Austria\n",
       "6   Bucharest     1803425  Romania\n",
       "7     Hamburg     1760433  Germany\n",
       "8    Budapest     1754000  Hungary\n",
       "9      Warsaw     1740119   Poland\n",
       "10  Barcelona     1602386    Spain\n",
       "11     Munich     1493900  Germany\n",
       "12      Milan     1350680    Italy"
      ]
     },
     "execution_count": 23,
     "metadata": {},
     "output_type": "execute_result"
    }
   ],
   "source": [
    "#On peut renommer les colonnes\n",
    "city_frame.rename(columns={\"name\":\"Nom\",\n",
    "\"country\":\"Pays\",\"population\":\"Population\"}, inplace=True) #Lorsque vous utilisez inplace=True, cela modifie les valeurs \n",
    "                                                           #dans le dataframe d'origine\n",
    "city_frame\n"
   ]
  },
  {
   "cell_type": "code",
   "execution_count": 24,
   "id": "b5896b52",
   "metadata": {},
   "outputs": [
    {
     "data": {
      "text/html": [
       "<div>\n",
       "<style scoped>\n",
       "    .dataframe tbody tr th:only-of-type {\n",
       "        vertical-align: middle;\n",
       "    }\n",
       "\n",
       "    .dataframe tbody tr th {\n",
       "        vertical-align: top;\n",
       "    }\n",
       "\n",
       "    .dataframe thead th {\n",
       "        text-align: right;\n",
       "    }\n",
       "</style>\n",
       "<table border=\"1\" class=\"dataframe\">\n",
       "  <thead>\n",
       "    <tr style=\"text-align: right;\">\n",
       "      <th></th>\n",
       "      <th>name</th>\n",
       "      <th>population</th>\n",
       "      <th>country</th>\n",
       "    </tr>\n",
       "  </thead>\n",
       "  <tbody>\n",
       "    <tr>\n",
       "      <th>first</th>\n",
       "      <td>London</td>\n",
       "      <td>8615246</td>\n",
       "      <td>England</td>\n",
       "    </tr>\n",
       "    <tr>\n",
       "      <th>second</th>\n",
       "      <td>Berlin</td>\n",
       "      <td>3562166</td>\n",
       "      <td>Germany</td>\n",
       "    </tr>\n",
       "    <tr>\n",
       "      <th>third</th>\n",
       "      <td>Madrid</td>\n",
       "      <td>3165235</td>\n",
       "      <td>Spain</td>\n",
       "    </tr>\n",
       "    <tr>\n",
       "      <th>fourth</th>\n",
       "      <td>Rome</td>\n",
       "      <td>2874038</td>\n",
       "      <td>Italy</td>\n",
       "    </tr>\n",
       "    <tr>\n",
       "      <th>fifth</th>\n",
       "      <td>Paris</td>\n",
       "      <td>2273305</td>\n",
       "      <td>France</td>\n",
       "    </tr>\n",
       "    <tr>\n",
       "      <th>sixth</th>\n",
       "      <td>Vienna</td>\n",
       "      <td>1805681</td>\n",
       "      <td>Austria</td>\n",
       "    </tr>\n",
       "    <tr>\n",
       "      <th>seventh</th>\n",
       "      <td>Bucharest</td>\n",
       "      <td>1803425</td>\n",
       "      <td>Romania</td>\n",
       "    </tr>\n",
       "    <tr>\n",
       "      <th>eigth</th>\n",
       "      <td>Hamburg</td>\n",
       "      <td>1760433</td>\n",
       "      <td>Germany</td>\n",
       "    </tr>\n",
       "    <tr>\n",
       "      <th>ninth</th>\n",
       "      <td>Budapest</td>\n",
       "      <td>1754000</td>\n",
       "      <td>Hungary</td>\n",
       "    </tr>\n",
       "    <tr>\n",
       "      <th>tenth</th>\n",
       "      <td>Warsaw</td>\n",
       "      <td>1740119</td>\n",
       "      <td>Poland</td>\n",
       "    </tr>\n",
       "    <tr>\n",
       "      <th>eleventh</th>\n",
       "      <td>Barcelona</td>\n",
       "      <td>1602386</td>\n",
       "      <td>Spain</td>\n",
       "    </tr>\n",
       "    <tr>\n",
       "      <th>twelvth</th>\n",
       "      <td>Munich</td>\n",
       "      <td>1493900</td>\n",
       "      <td>Germany</td>\n",
       "    </tr>\n",
       "    <tr>\n",
       "      <th>thirteenth</th>\n",
       "      <td>Milan</td>\n",
       "      <td>1350680</td>\n",
       "      <td>Italy</td>\n",
       "    </tr>\n",
       "  </tbody>\n",
       "</table>\n",
       "</div>"
      ],
      "text/plain": [
       "                 name  population  country\n",
       "first          London     8615246  England\n",
       "second         Berlin     3562166  Germany\n",
       "third          Madrid     3165235    Spain\n",
       "fourth           Rome     2874038    Italy\n",
       "fifth           Paris     2273305   France\n",
       "sixth          Vienna     1805681  Austria\n",
       "seventh     Bucharest     1803425  Romania\n",
       "eigth         Hamburg     1760433  Germany\n",
       "ninth        Budapest     1754000  Hungary\n",
       "tenth          Warsaw     1740119   Poland\n",
       "eleventh    Barcelona     1602386    Spain\n",
       "twelvth        Munich     1493900  Germany\n",
       "thirteenth      Milan     1350680    Italy"
      ]
     },
     "execution_count": 24,
     "metadata": {},
     "output_type": "execute_result"
    }
   ],
   "source": [
    "#INDEX PERSONNALISÉ\n",
    "ordinals = [\"first\", \"second\", \"third\", \"fourth\",\n",
    "\"fifth\", \"sixth\", \"seventh\", \"eigth\",\n",
    "\"ninth\", \"tenth\", \"eleventh\", \"twelvth\",\n",
    "\"thirteenth\"]\n",
    "city_frame = pd.DataFrame(cities, index=ordinals)\n",
    "city_frame"
   ]
  },
  {
   "cell_type": "code",
   "execution_count": 25,
   "id": "6e8b73c9",
   "metadata": {},
   "outputs": [
    {
     "name": "stdout",
     "output_type": "stream",
     "text": [
      "              name  population\n",
      "country                       \n",
      "England     London     8615246\n",
      "Germany     Berlin     3562166\n",
      "Spain       Madrid     3165235\n",
      "Italy         Rome     2874038\n",
      "France       Paris     2273305\n",
      "Austria     Vienna     1805681\n",
      "Romania  Bucharest     1803425\n",
      "Germany    Hamburg     1760433\n",
      "Hungary   Budapest     1754000\n",
      "Poland      Warsaw     1740119\n",
      "Spain    Barcelona     1602386\n",
      "Germany     Munich     1493900\n",
      "Italy        Milan     1350680\n"
     ]
    }
   ],
   "source": [
    "# Utiliser une colonne comme un index\n",
    "city_frame.set_index(\"country\", inplace=True)\n",
    "print(city_frame)"
   ]
  },
  {
   "cell_type": "markdown",
   "id": "edd66ebc",
   "metadata": {},
   "source": [
    "ACCÉDER AUX LIGNES VIA LES VALEURS D'INDEX"
   ]
  },
  {
   "cell_type": "code",
   "execution_count": 29,
   "id": "beb1c3a9",
   "metadata": {},
   "outputs": [
    {
     "data": {
      "text/html": [
       "<div>\n",
       "<style scoped>\n",
       "    .dataframe tbody tr th:only-of-type {\n",
       "        vertical-align: middle;\n",
       "    }\n",
       "\n",
       "    .dataframe tbody tr th {\n",
       "        vertical-align: top;\n",
       "    }\n",
       "\n",
       "    .dataframe thead th {\n",
       "        text-align: right;\n",
       "    }\n",
       "</style>\n",
       "<table border=\"1\" class=\"dataframe\">\n",
       "  <thead>\n",
       "    <tr style=\"text-align: right;\">\n",
       "      <th></th>\n",
       "      <th>name</th>\n",
       "      <th>population</th>\n",
       "    </tr>\n",
       "  </thead>\n",
       "  <tbody>\n",
       "    <tr>\n",
       "      <th>England</th>\n",
       "      <td>London</td>\n",
       "      <td>8615246</td>\n",
       "    </tr>\n",
       "    <tr>\n",
       "      <th>Germany</th>\n",
       "      <td>Berlin</td>\n",
       "      <td>3562166</td>\n",
       "    </tr>\n",
       "    <tr>\n",
       "      <th>Spain</th>\n",
       "      <td>Madrid</td>\n",
       "      <td>3165235</td>\n",
       "    </tr>\n",
       "    <tr>\n",
       "      <th>Italy</th>\n",
       "      <td>Rome</td>\n",
       "      <td>2874038</td>\n",
       "    </tr>\n",
       "    <tr>\n",
       "      <th>France</th>\n",
       "      <td>Paris</td>\n",
       "      <td>2273305</td>\n",
       "    </tr>\n",
       "  </tbody>\n",
       "</table>\n",
       "</div>"
      ],
      "text/plain": [
       "           name  population\n",
       "England  London     8615246\n",
       "Germany  Berlin     3562166\n",
       "Spain    Madrid     3165235\n",
       "Italy      Rome     2874038\n",
       "France    Paris     2273305"
      ]
     },
     "execution_count": 29,
     "metadata": {},
     "output_type": "execute_result"
    }
   ],
   "source": [
    "city_frame = pd.DataFrame(cities, columns=(\"name\", \"population\"),index=cities[\"country\"])\n",
    "city_frame.head() # Acceder les premiers elements 5 elements de votre dataframe\n",
    "                  # On peut utiliser tail pour accesser au dernier elements"
   ]
  },
  {
   "cell_type": "code",
   "execution_count": 51,
   "id": "0648610c",
   "metadata": {},
   "outputs": [
    {
     "data": {
      "text/html": [
       "<div>\n",
       "<style scoped>\n",
       "    .dataframe tbody tr th:only-of-type {\n",
       "        vertical-align: middle;\n",
       "    }\n",
       "\n",
       "    .dataframe tbody tr th {\n",
       "        vertical-align: top;\n",
       "    }\n",
       "\n",
       "    .dataframe thead th {\n",
       "        text-align: right;\n",
       "    }\n",
       "</style>\n",
       "<table border=\"1\" class=\"dataframe\">\n",
       "  <thead>\n",
       "    <tr style=\"text-align: right;\">\n",
       "      <th></th>\n",
       "      <th>name</th>\n",
       "      <th>population</th>\n",
       "    </tr>\n",
       "  </thead>\n",
       "  <tbody>\n",
       "    <tr>\n",
       "      <th>Hungary</th>\n",
       "      <td>Budapest</td>\n",
       "      <td>1754000</td>\n",
       "    </tr>\n",
       "    <tr>\n",
       "      <th>Poland</th>\n",
       "      <td>Warsaw</td>\n",
       "      <td>1740119</td>\n",
       "    </tr>\n",
       "    <tr>\n",
       "      <th>Spain</th>\n",
       "      <td>Barcelona</td>\n",
       "      <td>1602386</td>\n",
       "    </tr>\n",
       "    <tr>\n",
       "      <th>Germany</th>\n",
       "      <td>Munich</td>\n",
       "      <td>1493900</td>\n",
       "    </tr>\n",
       "    <tr>\n",
       "      <th>Italy</th>\n",
       "      <td>Milan</td>\n",
       "      <td>1350680</td>\n",
       "    </tr>\n",
       "  </tbody>\n",
       "</table>\n",
       "</div>"
      ],
      "text/plain": [
       "              name  population\n",
       "Hungary   Budapest     1754000\n",
       "Poland      Warsaw     1740119\n",
       "Spain    Barcelona     1602386\n",
       "Germany     Munich     1493900\n",
       "Italy        Milan     1350680"
      ]
     },
     "execution_count": 51,
     "metadata": {},
     "output_type": "execute_result"
    }
   ],
   "source": [
    "city_frame.tail()"
   ]
  },
  {
   "cell_type": "code",
   "execution_count": 55,
   "id": "483b9b6c",
   "metadata": {},
   "outputs": [
    {
     "name": "stdout",
     "output_type": "stream",
     "text": [
      "            name  population\n",
      "Germany   Berlin     3562166\n",
      "Germany  Hamburg     1760433\n",
      "Germany   Munich     1493900\n"
     ]
    }
   ],
   "source": [
    "print(city_frame.loc[\"Germany\"]) #iloc"
   ]
  },
  {
   "cell_type": "code",
   "execution_count": 30,
   "id": "41cbeb8b",
   "metadata": {},
   "outputs": [
    {
     "name": "stdout",
     "output_type": "stream",
     "text": [
      "              name  population\n",
      "Germany     Berlin     3562166\n",
      "Germany    Hamburg     1760433\n",
      "Germany     Munich     1493900\n",
      "France       Paris     2273305\n",
      "Spain       Madrid     3165235\n",
      "Spain    Barcelona     1602386\n"
     ]
    }
   ],
   "source": [
    "# Il est également possible d'extraire simultanément des lignes en choisissant plus que sur \n",
    "#des étiquettes d'index. Pour ce faire, nous utilisons une liste d'indices :\n",
    "print(city_frame.loc[[\"Germany\", \"France\", \"Spain\"]])"
   ]
  },
  {
   "cell_type": "code",
   "execution_count": 31,
   "id": "60c2da80",
   "metadata": {},
   "outputs": [
    {
     "name": "stdout",
     "output_type": "stream",
     "text": [
      "              name  population\n",
      "Austria     Vienna     1805681\n",
      "Romania  Bucharest     1803425\n",
      "Germany    Hamburg     1760433\n",
      "Hungary   Budapest     1754000\n",
      "Poland      Warsaw     1740119\n",
      "Spain    Barcelona     1602386\n",
      "Germany     Munich     1493900\n",
      "Italy        Milan     1350680\n"
     ]
    }
   ],
   "source": [
    "# Acceder des elements avec condition\n",
    "print(city_frame.loc[(city_frame.population < 2000000)]) # ou city_frame.population>2000000"
   ]
  },
  {
   "cell_type": "markdown",
   "id": "e4211584",
   "metadata": {},
   "source": [
    "ACCÉDER AUX LIGNES PAR POSITION: iloc"
   ]
  },
  {
   "cell_type": "code",
   "execution_count": 80,
   "id": "43cd7c55",
   "metadata": {},
   "outputs": [
    {
     "name": "stdout",
     "output_type": "stream",
     "text": [
      "              name  population\n",
      "England     London     8615246\n",
      "Germany     Berlin     3562166\n",
      "Spain       Madrid     3165235\n",
      "Italy         Rome     2874038\n",
      "France       Paris     2273305\n",
      "Austria     Vienna     1805681\n",
      "Romania  Bucharest     1803425\n",
      "Germany    Hamburg     1760433\n",
      "Hungary   Budapest     1754000\n",
      "Poland      Warsaw     1740119\n",
      "Spain    Barcelona     1602386\n",
      "Germany     Munich     1493900\n",
      "Italy        Milan     1350680\n",
      "Apres indexation\n",
      "name           Berlin\n",
      "population    3562166\n",
      "Name: Germany, dtype: object\n"
     ]
    }
   ],
   "source": [
    "print(city_frame)\n",
    "df = city_frame.iloc[1]\n",
    "print(\"Apres indexation\")\n",
    "print(df)"
   ]
  },
  {
   "cell_type": "markdown",
   "id": "3cc224e2",
   "metadata": {},
   "source": [
    "Pour obtenir un DataFrame avec des lignes sélectionnées par des nombres, nous utilisons une liste d'entiers. Nous pouvons voir que nous pouvons changer\n",
    "l'ordre des lignes et nous pouvons également sélectionner des lignes plusieurs fois :"
   ]
  },
  {
   "cell_type": "code",
   "execution_count": 32,
   "id": "03aac07b",
   "metadata": {},
   "outputs": [
    {
     "name": "stdout",
     "output_type": "stream",
     "text": [
      "           name  population\n",
      "Italy      Rome     2874038\n",
      "Spain    Madrid     3165235\n",
      "England  London     8615246\n",
      "Austria  Vienna     1805681\n",
      "England  London     8615246\n"
     ]
    }
   ],
   "source": [
    "df = city_frame.iloc[[3, 2, 0, 5, 0]]\n",
    "print(df)"
   ]
  },
  {
   "cell_type": "markdown",
   "id": "52883051",
   "metadata": {},
   "source": [
    "SOMME ET SOMME CUMULEE"
   ]
  },
  {
   "cell_type": "code",
   "execution_count": 84,
   "id": "dd81ff1f",
   "metadata": {},
   "outputs": [
    {
     "name": "stdout",
     "output_type": "stream",
     "text": [
      "      Zürich  Freiburg  München  Konstanz  Saarbrücken\n",
      "2014     969        10      152       780          988\n",
      "2015     685       485      282       222          955\n",
      "2016     657       175      143       351          621\n",
      "2017     366       675      465       712          400\n",
      "2018     181       687      690       237          119\n"
     ]
    }
   ],
   "source": [
    "years = range(2014, 2019)\n",
    "cities = [\"Zürich\", \"Freiburg\", \"München\", \"Konstanz\", \"Saarbrücken\"]\n",
    "shops = pd.DataFrame(index=years)\n",
    "for city in cities:\n",
    "    shops.insert(loc=len(shops.columns),column=city,\n",
    "                 value=(np.random.randint(1,1000, (5,))))\n",
    "print(shops)"
   ]
  },
  {
   "cell_type": "code",
   "execution_count": 85,
   "id": "4bb22720",
   "metadata": {},
   "outputs": [
    {
     "data": {
      "text/plain": [
       "Zürich         2858\n",
       "Freiburg       2032\n",
       "München        1732\n",
       "Konstanz       2302\n",
       "Saarbrücken    3083\n",
       "dtype: int64"
      ]
     },
     "execution_count": 85,
     "metadata": {},
     "output_type": "execute_result"
    }
   ],
   "source": [
    "shops.sum()"
   ]
  },
  {
   "cell_type": "code",
   "execution_count": 86,
   "id": "13079f2d",
   "metadata": {},
   "outputs": [
    {
     "data": {
      "text/plain": [
       "(2014    2899\n",
       " 2015    2629\n",
       " 2016    1947\n",
       " 2017    2618\n",
       " 2018    1914\n",
       " dtype: int64,)"
      ]
     },
     "execution_count": 86,
     "metadata": {},
     "output_type": "execute_result"
    }
   ],
   "source": [
    "# Pour faire la somme par ligne:\n",
    "shops.sum(axis=1), #axis=1 pour faire la somme par ligne"
   ]
  },
  {
   "cell_type": "code",
   "execution_count": 87,
   "id": "80108b5b",
   "metadata": {},
   "outputs": [
    {
     "data": {
      "text/plain": [
       "Zürich         2858\n",
       "München        1732\n",
       "Saarbrücken    3083\n",
       "dtype: int64"
      ]
     },
     "execution_count": 87,
     "metadata": {},
     "output_type": "execute_result"
    }
   ],
   "source": [
    "# Tu peux faire la somme en accedant les colonnes qui tu veux\n",
    "shops[[\"Zürich\", \"München\", \"Saarbrücken\"]].sum()"
   ]
  },
  {
   "cell_type": "code",
   "execution_count": 88,
   "id": "da6212d5",
   "metadata": {},
   "outputs": [
    {
     "name": "stdout",
     "output_type": "stream",
     "text": [
      "      Zürich  Freiburg  München  Konstanz  Saarbrücken\n",
      "2014     969        10      152       780          988\n",
      "2015     685       485      282       222          955\n",
      "2016     657       175      143       351          621\n",
      "2017     366       675      465       712          400\n",
      "2018     181       687      690       237          119\n",
      "      Zürich  Freiburg  München  Konstanz  Saarbrücken\n",
      "2014     969        10      152       780          988\n",
      "2015    1654       495      434      1002         1943\n",
      "2016    2311       670      577      1353         2564\n",
      "2017    2677      1345     1042      2065         2964\n",
      "2018    2858      2032     1732      2302         3083\n"
     ]
    }
   ],
   "source": [
    "#SOMME CUMULEE\n",
    "print(shops)\n",
    "x = shops.cumsum()\n",
    "print(x)"
   ]
  },
  {
   "cell_type": "code",
   "execution_count": 89,
   "id": "6aa6c199",
   "metadata": {},
   "outputs": [
    {
     "data": {
      "text/html": [
       "<div>\n",
       "<style scoped>\n",
       "    .dataframe tbody tr th:only-of-type {\n",
       "        vertical-align: middle;\n",
       "    }\n",
       "\n",
       "    .dataframe tbody tr th {\n",
       "        vertical-align: top;\n",
       "    }\n",
       "\n",
       "    .dataframe thead th {\n",
       "        text-align: right;\n",
       "    }\n",
       "</style>\n",
       "<table border=\"1\" class=\"dataframe\">\n",
       "  <thead>\n",
       "    <tr style=\"text-align: right;\">\n",
       "      <th></th>\n",
       "      <th>name</th>\n",
       "      <th>population</th>\n",
       "      <th>cum_population</th>\n",
       "    </tr>\n",
       "  </thead>\n",
       "  <tbody>\n",
       "    <tr>\n",
       "      <th>England</th>\n",
       "      <td>London</td>\n",
       "      <td>8615246</td>\n",
       "      <td>8615246</td>\n",
       "    </tr>\n",
       "    <tr>\n",
       "      <th>Germany</th>\n",
       "      <td>Berlin</td>\n",
       "      <td>3562166</td>\n",
       "      <td>12177412</td>\n",
       "    </tr>\n",
       "    <tr>\n",
       "      <th>Spain</th>\n",
       "      <td>Madrid</td>\n",
       "      <td>3165235</td>\n",
       "      <td>15342647</td>\n",
       "    </tr>\n",
       "    <tr>\n",
       "      <th>Italy</th>\n",
       "      <td>Rome</td>\n",
       "      <td>2874038</td>\n",
       "      <td>18216685</td>\n",
       "    </tr>\n",
       "    <tr>\n",
       "      <th>France</th>\n",
       "      <td>Paris</td>\n",
       "      <td>2273305</td>\n",
       "      <td>20489990</td>\n",
       "    </tr>\n",
       "    <tr>\n",
       "      <th>Austria</th>\n",
       "      <td>Vienna</td>\n",
       "      <td>1805681</td>\n",
       "      <td>22295671</td>\n",
       "    </tr>\n",
       "    <tr>\n",
       "      <th>Romania</th>\n",
       "      <td>Bucharest</td>\n",
       "      <td>1803425</td>\n",
       "      <td>24099096</td>\n",
       "    </tr>\n",
       "    <tr>\n",
       "      <th>Germany</th>\n",
       "      <td>Hamburg</td>\n",
       "      <td>1760433</td>\n",
       "      <td>25859529</td>\n",
       "    </tr>\n",
       "    <tr>\n",
       "      <th>Hungary</th>\n",
       "      <td>Budapest</td>\n",
       "      <td>1754000</td>\n",
       "      <td>27613529</td>\n",
       "    </tr>\n",
       "    <tr>\n",
       "      <th>Poland</th>\n",
       "      <td>Warsaw</td>\n",
       "      <td>1740119</td>\n",
       "      <td>29353648</td>\n",
       "    </tr>\n",
       "  </tbody>\n",
       "</table>\n",
       "</div>"
      ],
      "text/plain": [
       "              name  population  cum_population\n",
       "England     London     8615246         8615246\n",
       "Germany     Berlin     3562166        12177412\n",
       "Spain       Madrid     3165235        15342647\n",
       "Italy         Rome     2874038        18216685\n",
       "France       Paris     2273305        20489990\n",
       "Austria     Vienna     1805681        22295671\n",
       "Romania  Bucharest     1803425        24099096\n",
       "Germany    Hamburg     1760433        25859529\n",
       "Hungary   Budapest     1754000        27613529\n",
       "Poland      Warsaw     1740119        29353648"
      ]
     },
     "execution_count": 89,
     "metadata": {},
     "output_type": "execute_result"
    }
   ],
   "source": [
    "city_frame.head(10)\n",
    "city_frame[\"cum_population\"] = city_frame[\"population\"].cumsum()\n",
    "city_frame.head(10)\n"
   ]
  },
  {
   "cell_type": "markdown",
   "id": "652b1411",
   "metadata": {},
   "source": [
    "ACCÉDER AUX COLONNES D'UNE DATAFRAME"
   ]
  },
  {
   "cell_type": "code",
   "execution_count": 95,
   "id": "c11e501c",
   "metadata": {},
   "outputs": [
    {
     "name": "stdout",
     "output_type": "stream",
     "text": [
      "         population       name\n",
      "England     8615246     London\n",
      "Germany     3562166     Berlin\n",
      "Spain       3165235     Madrid\n",
      "Italy       2874038       Rome\n",
      "France      2273305      Paris\n",
      "Austria     1805681     Vienna\n",
      "Romania     1803425  Bucharest\n",
      "Germany     1760433    Hamburg\n",
      "Hungary     1754000   Budapest\n",
      "Poland      1740119     Warsaw\n",
      "Spain       1602386  Barcelona\n",
      "Germany     1493900     Munich\n",
      "Italy       1350680      Milan\n"
     ]
    }
   ],
   "source": [
    "print(city_frame[[\"population\", \"name\"]]) # Oubien city_frame.population"
   ]
  },
  {
   "cell_type": "markdown",
   "id": "80e22b23",
   "metadata": {},
   "source": [
    "ASSIGNER DE NOUVELLES VALEURS À UNE COLONNE"
   ]
  },
  {
   "cell_type": "code",
   "execution_count": 96,
   "id": "2c11380f",
   "metadata": {},
   "outputs": [
    {
     "name": "stdout",
     "output_type": "stream",
     "text": [
      "              name  population  cum_population  area\n",
      "England     London     8615246         8615246  1572\n",
      "Germany     Berlin     3562166        12177412  1572\n",
      "Spain       Madrid     3165235        15342647  1572\n",
      "Italy         Rome     2874038        18216685  1572\n",
      "France       Paris     2273305        20489990  1572\n",
      "Austria     Vienna     1805681        22295671  1572\n",
      "Romania  Bucharest     1803425        24099096  1572\n",
      "Germany    Hamburg     1760433        25859529  1572\n",
      "Hungary   Budapest     1754000        27613529  1572\n",
      "Poland      Warsaw     1740119        29353648  1572\n",
      "Spain    Barcelona     1602386        30956034  1572\n",
      "Germany     Munich     1493900        32449934  1572\n",
      "Italy        Milan     1350680        33800614  1572\n"
     ]
    }
   ],
   "source": [
    "city_frame[\"area\"] = 1572\n",
    "print(city_frame)"
   ]
  },
  {
   "cell_type": "code",
   "execution_count": 99,
   "id": "1219b77a",
   "metadata": {},
   "outputs": [
    {
     "name": "stdout",
     "output_type": "stream",
     "text": [
      "              name  population  cum_population     area\n",
      "England     London     8615246         8615246  1572.00\n",
      "Germany     Berlin     3562166        12177412   891.85\n",
      "Spain       Madrid     3165235        15342647   605.77\n",
      "Italy         Rome     2874038        18216685  1285.00\n",
      "France       Paris     2273305        20489990   105.40\n",
      "Austria     Vienna     1805681        22295671   414.60\n",
      "Romania  Bucharest     1803425        24099096   228.00\n",
      "Germany    Hamburg     1760433        25859529   755.00\n",
      "Hungary   Budapest     1754000        27613529   525.20\n",
      "Poland      Warsaw     1740119        29353648   517.00\n",
      "Spain    Barcelona     1602386        30956034   101.90\n",
      "Germany     Munich     1493900        32449934   310.40\n",
      "Italy        Milan     1350680        33800614   181.80\n"
     ]
    }
   ],
   "source": [
    "area = [1572, 891.85, 605.77, 1285,105.4, 414.6, 228, 755,525.2, 517, 101.9, 310.4,181.8]\n",
    "city_frame[\"area\"] = area\n",
    "print(city_frame)\n"
   ]
  },
  {
   "cell_type": "markdown",
   "id": "72aabc74",
   "metadata": {},
   "source": [
    "TRI DES DATAFRAMES"
   ]
  },
  {
   "cell_type": "code",
   "execution_count": 108,
   "id": "c9002cf4",
   "metadata": {},
   "outputs": [
    {
     "name": "stdout",
     "output_type": "stream",
     "text": [
      "              name  population  cum_population     area\n",
      "England     London     8615246         8615246  1572.00\n",
      "Italy         Rome     2874038        18216685  1285.00\n",
      "Germany     Berlin     3562166        12177412   891.85\n",
      "Germany    Hamburg     1760433        25859529   755.00\n",
      "Spain       Madrid     3165235        15342647   605.77\n",
      "Hungary   Budapest     1754000        27613529   525.20\n",
      "Poland      Warsaw     1740119        29353648   517.00\n",
      "Austria     Vienna     1805681        22295671   414.60\n",
      "Germany     Munich     1493900        32449934   310.40\n",
      "Romania  Bucharest     1803425        24099096   228.00\n",
      "Italy        Milan     1350680        33800614   181.80\n",
      "France       Paris     2273305        20489990   105.40\n",
      "Spain    Barcelona     1602386        30956034   101.90\n"
     ]
    }
   ],
   "source": [
    "city_frame = city_frame.sort_values(by=[\"area\"], ascending=False) #On peut combiner deux parametres                                                        #quand on fait le tri\n",
    "print(city_frame)"
   ]
  },
  {
   "cell_type": "markdown",
   "id": "de2d112c",
   "metadata": {},
   "source": [
    "Remplacer des valeurs"
   ]
  },
  {
   "cell_type": "code",
   "execution_count": 111,
   "id": "302837db",
   "metadata": {},
   "outputs": [
    {
     "data": {
      "text/html": [
       "<div>\n",
       "<style scoped>\n",
       "    .dataframe tbody tr th:only-of-type {\n",
       "        vertical-align: middle;\n",
       "    }\n",
       "\n",
       "    .dataframe tbody tr th {\n",
       "        vertical-align: top;\n",
       "    }\n",
       "\n",
       "    .dataframe thead th {\n",
       "        text-align: right;\n",
       "    }\n",
       "</style>\n",
       "<table border=\"1\" class=\"dataframe\">\n",
       "  <thead>\n",
       "    <tr style=\"text-align: right;\">\n",
       "      <th></th>\n",
       "      <th>name</th>\n",
       "      <th>population</th>\n",
       "      <th>cum_population</th>\n",
       "      <th>area</th>\n",
       "    </tr>\n",
       "  </thead>\n",
       "  <tbody>\n",
       "    <tr>\n",
       "      <th>England</th>\n",
       "      <td>Tokyo</td>\n",
       "      <td>8615246</td>\n",
       "      <td>8615246</td>\n",
       "      <td>1572.00</td>\n",
       "    </tr>\n",
       "    <tr>\n",
       "      <th>Italy</th>\n",
       "      <td>Rome</td>\n",
       "      <td>2874038</td>\n",
       "      <td>18216685</td>\n",
       "      <td>1285.00</td>\n",
       "    </tr>\n",
       "    <tr>\n",
       "      <th>Germany</th>\n",
       "      <td>Berlin</td>\n",
       "      <td>1000000000</td>\n",
       "      <td>12177412</td>\n",
       "      <td>891.85</td>\n",
       "    </tr>\n",
       "    <tr>\n",
       "      <th>Germany</th>\n",
       "      <td>Hamburg</td>\n",
       "      <td>1000000000</td>\n",
       "      <td>25859529</td>\n",
       "      <td>755.00</td>\n",
       "    </tr>\n",
       "    <tr>\n",
       "      <th>Spain</th>\n",
       "      <td>Madrid</td>\n",
       "      <td>3165235</td>\n",
       "      <td>15342647</td>\n",
       "      <td>605.77</td>\n",
       "    </tr>\n",
       "    <tr>\n",
       "      <th>Hungary</th>\n",
       "      <td>Budapest</td>\n",
       "      <td>1754000</td>\n",
       "      <td>27613529</td>\n",
       "      <td>525.20</td>\n",
       "    </tr>\n",
       "    <tr>\n",
       "      <th>Poland</th>\n",
       "      <td>Warsaw</td>\n",
       "      <td>1740119</td>\n",
       "      <td>29353648</td>\n",
       "      <td>517.00</td>\n",
       "    </tr>\n",
       "    <tr>\n",
       "      <th>Austria</th>\n",
       "      <td>Vienna</td>\n",
       "      <td>1805681</td>\n",
       "      <td>22295671</td>\n",
       "      <td>414.60</td>\n",
       "    </tr>\n",
       "    <tr>\n",
       "      <th>Germany</th>\n",
       "      <td>Munich</td>\n",
       "      <td>1000000000</td>\n",
       "      <td>32449934</td>\n",
       "      <td>310.40</td>\n",
       "    </tr>\n",
       "    <tr>\n",
       "      <th>Romania</th>\n",
       "      <td>Bucharest</td>\n",
       "      <td>1803425</td>\n",
       "      <td>24099096</td>\n",
       "      <td>228.00</td>\n",
       "    </tr>\n",
       "  </tbody>\n",
       "</table>\n",
       "</div>"
      ],
      "text/plain": [
       "              name  population  cum_population     area\n",
       "England      Tokyo     8615246         8615246  1572.00\n",
       "Italy         Rome     2874038        18216685  1285.00\n",
       "Germany     Berlin  1000000000        12177412   891.85\n",
       "Germany    Hamburg  1000000000        25859529   755.00\n",
       "Spain       Madrid     3165235        15342647   605.77\n",
       "Hungary   Budapest     1754000        27613529   525.20\n",
       "Poland      Warsaw     1740119        29353648   517.00\n",
       "Austria     Vienna     1805681        22295671   414.60\n",
       "Germany     Munich  1000000000        32449934   310.40\n",
       "Romania  Bucharest     1803425        24099096   228.00"
      ]
     },
     "execution_count": 111,
     "metadata": {},
     "output_type": "execute_result"
    }
   ],
   "source": [
    "city_frame.loc['Germany','population'] = 1000000000\n",
    "city_frame.head(10)"
   ]
  },
  {
   "cell_type": "code",
   "execution_count": 112,
   "id": "fe596dc7",
   "metadata": {},
   "outputs": [
    {
     "data": {
      "text/html": [
       "<div>\n",
       "<style scoped>\n",
       "    .dataframe tbody tr th:only-of-type {\n",
       "        vertical-align: middle;\n",
       "    }\n",
       "\n",
       "    .dataframe tbody tr th {\n",
       "        vertical-align: top;\n",
       "    }\n",
       "\n",
       "    .dataframe thead th {\n",
       "        text-align: right;\n",
       "    }\n",
       "</style>\n",
       "<table border=\"1\" class=\"dataframe\">\n",
       "  <thead>\n",
       "    <tr style=\"text-align: right;\">\n",
       "      <th></th>\n",
       "      <th>name</th>\n",
       "      <th>population</th>\n",
       "      <th>cum_population</th>\n",
       "      <th>area</th>\n",
       "    </tr>\n",
       "  </thead>\n",
       "  <tbody>\n",
       "    <tr>\n",
       "      <th>England</th>\n",
       "      <td>Paris</td>\n",
       "      <td>8615246</td>\n",
       "      <td>8615246</td>\n",
       "      <td>1572.00</td>\n",
       "    </tr>\n",
       "    <tr>\n",
       "      <th>Italy</th>\n",
       "      <td>Rome</td>\n",
       "      <td>2874038</td>\n",
       "      <td>18216685</td>\n",
       "      <td>1285.00</td>\n",
       "    </tr>\n",
       "    <tr>\n",
       "      <th>Germany</th>\n",
       "      <td>Berlin</td>\n",
       "      <td>1000000000</td>\n",
       "      <td>12177412</td>\n",
       "      <td>891.85</td>\n",
       "    </tr>\n",
       "    <tr>\n",
       "      <th>Germany</th>\n",
       "      <td>Hamburg</td>\n",
       "      <td>1000000000</td>\n",
       "      <td>25859529</td>\n",
       "      <td>755.00</td>\n",
       "    </tr>\n",
       "    <tr>\n",
       "      <th>Spain</th>\n",
       "      <td>Madrid</td>\n",
       "      <td>3165235</td>\n",
       "      <td>15342647</td>\n",
       "      <td>605.77</td>\n",
       "    </tr>\n",
       "  </tbody>\n",
       "</table>\n",
       "</div>"
      ],
      "text/plain": [
       "            name  population  cum_population     area\n",
       "England    Paris     8615246         8615246  1572.00\n",
       "Italy       Rome     2874038        18216685  1285.00\n",
       "Germany   Berlin  1000000000        12177412   891.85\n",
       "Germany  Hamburg  1000000000        25859529   755.00\n",
       "Spain     Madrid     3165235        15342647   605.77"
      ]
     },
     "execution_count": 112,
     "metadata": {},
     "output_type": "execute_result"
    }
   ],
   "source": [
    "#On peut utiliser at au lieu de loc\n",
    "city_frame.at['England','name'] = \"Paris\"\n",
    "city_frame.head(5)"
   ]
  },
  {
   "cell_type": "code",
   "execution_count": 115,
   "id": "04761d37",
   "metadata": {},
   "outputs": [
    {
     "data": {
      "text/html": [
       "<div>\n",
       "<style scoped>\n",
       "    .dataframe tbody tr th:only-of-type {\n",
       "        vertical-align: middle;\n",
       "    }\n",
       "\n",
       "    .dataframe tbody tr th {\n",
       "        vertical-align: top;\n",
       "    }\n",
       "\n",
       "    .dataframe thead th {\n",
       "        text-align: right;\n",
       "    }\n",
       "</style>\n",
       "<table border=\"1\" class=\"dataframe\">\n",
       "  <thead>\n",
       "    <tr style=\"text-align: right;\">\n",
       "      <th></th>\n",
       "      <th>name</th>\n",
       "      <th>population</th>\n",
       "      <th>cum_population</th>\n",
       "      <th>area</th>\n",
       "    </tr>\n",
       "  </thead>\n",
       "  <tbody>\n",
       "    <tr>\n",
       "      <th>England</th>\n",
       "      <td>Cotonou</td>\n",
       "      <td>8615246</td>\n",
       "      <td>8615246</td>\n",
       "      <td>1572.00</td>\n",
       "    </tr>\n",
       "    <tr>\n",
       "      <th>Italy</th>\n",
       "      <td>Rome</td>\n",
       "      <td>2874038</td>\n",
       "      <td>18216685</td>\n",
       "      <td>1285.00</td>\n",
       "    </tr>\n",
       "    <tr>\n",
       "      <th>Germany</th>\n",
       "      <td>Berlin</td>\n",
       "      <td>1000000000</td>\n",
       "      <td>12177412</td>\n",
       "      <td>891.85</td>\n",
       "    </tr>\n",
       "    <tr>\n",
       "      <th>Germany</th>\n",
       "      <td>Hamburg</td>\n",
       "      <td>1000000000</td>\n",
       "      <td>25859529</td>\n",
       "      <td>755.00</td>\n",
       "    </tr>\n",
       "    <tr>\n",
       "      <th>Spain</th>\n",
       "      <td>Madrid</td>\n",
       "      <td>3165235</td>\n",
       "      <td>15342647</td>\n",
       "      <td>605.77</td>\n",
       "    </tr>\n",
       "    <tr>\n",
       "      <th>Hungary</th>\n",
       "      <td>Budapest</td>\n",
       "      <td>1754000</td>\n",
       "      <td>27613529</td>\n",
       "      <td>525.20</td>\n",
       "    </tr>\n",
       "    <tr>\n",
       "      <th>Poland</th>\n",
       "      <td>Warsaw</td>\n",
       "      <td>1740119</td>\n",
       "      <td>29353648</td>\n",
       "      <td>517.00</td>\n",
       "    </tr>\n",
       "    <tr>\n",
       "      <th>Austria</th>\n",
       "      <td>Vienna</td>\n",
       "      <td>1805681</td>\n",
       "      <td>22295671</td>\n",
       "      <td>414.60</td>\n",
       "    </tr>\n",
       "    <tr>\n",
       "      <th>Germany</th>\n",
       "      <td>Munich</td>\n",
       "      <td>1000000000</td>\n",
       "      <td>32449934</td>\n",
       "      <td>310.40</td>\n",
       "    </tr>\n",
       "    <tr>\n",
       "      <th>Romania</th>\n",
       "      <td>Bucharest</td>\n",
       "      <td>1803425</td>\n",
       "      <td>24099096</td>\n",
       "      <td>228.00</td>\n",
       "    </tr>\n",
       "    <tr>\n",
       "      <th>Italy</th>\n",
       "      <td>Milan</td>\n",
       "      <td>1350680</td>\n",
       "      <td>33800614</td>\n",
       "      <td>181.80</td>\n",
       "    </tr>\n",
       "    <tr>\n",
       "      <th>France</th>\n",
       "      <td>Cotonou</td>\n",
       "      <td>2273305</td>\n",
       "      <td>20489990</td>\n",
       "      <td>105.40</td>\n",
       "    </tr>\n",
       "    <tr>\n",
       "      <th>Spain</th>\n",
       "      <td>Barcelona</td>\n",
       "      <td>1602386</td>\n",
       "      <td>30956034</td>\n",
       "      <td>101.90</td>\n",
       "    </tr>\n",
       "  </tbody>\n",
       "</table>\n",
       "</div>"
      ],
      "text/plain": [
       "              name  population  cum_population     area\n",
       "England    Cotonou     8615246         8615246  1572.00\n",
       "Italy         Rome     2874038        18216685  1285.00\n",
       "Germany     Berlin  1000000000        12177412   891.85\n",
       "Germany    Hamburg  1000000000        25859529   755.00\n",
       "Spain       Madrid     3165235        15342647   605.77\n",
       "Hungary   Budapest     1754000        27613529   525.20\n",
       "Poland      Warsaw     1740119        29353648   517.00\n",
       "Austria     Vienna     1805681        22295671   414.60\n",
       "Germany     Munich  1000000000        32449934   310.40\n",
       "Romania  Bucharest     1803425        24099096   228.00\n",
       "Italy        Milan     1350680        33800614   181.80\n",
       "France     Cotonou     2273305        20489990   105.40\n",
       "Spain    Barcelona     1602386        30956034   101.90"
      ]
     },
     "execution_count": 115,
     "metadata": {},
     "output_type": "execute_result"
    }
   ],
   "source": [
    "# On peut utiliser replace aussi\n",
    "city_frame.replace(\"Paris\", \"Cotonou\", inplace=False)"
   ]
  },
  {
   "cell_type": "code",
   "execution_count": 34,
   "id": "6f5fa45f-4095-4da2-bbd2-4678628cc90f",
   "metadata": {},
   "outputs": [
    {
     "data": {
      "text/html": [
       "<div>\n",
       "<style scoped>\n",
       "    .dataframe tbody tr th:only-of-type {\n",
       "        vertical-align: middle;\n",
       "    }\n",
       "\n",
       "    .dataframe tbody tr th {\n",
       "        vertical-align: top;\n",
       "    }\n",
       "\n",
       "    .dataframe thead th {\n",
       "        text-align: right;\n",
       "    }\n",
       "</style>\n",
       "<table border=\"1\" class=\"dataframe\">\n",
       "  <thead>\n",
       "    <tr style=\"text-align: right;\">\n",
       "      <th></th>\n",
       "      <th>population</th>\n",
       "    </tr>\n",
       "  </thead>\n",
       "  <tbody>\n",
       "    <tr>\n",
       "      <th>count</th>\n",
       "      <td>1.300000e+01</td>\n",
       "    </tr>\n",
       "    <tr>\n",
       "      <th>mean</th>\n",
       "      <td>2.600047e+06</td>\n",
       "    </tr>\n",
       "    <tr>\n",
       "      <th>std</th>\n",
       "      <td>1.932512e+06</td>\n",
       "    </tr>\n",
       "    <tr>\n",
       "      <th>min</th>\n",
       "      <td>1.350680e+06</td>\n",
       "    </tr>\n",
       "    <tr>\n",
       "      <th>25%</th>\n",
       "      <td>1.740119e+06</td>\n",
       "    </tr>\n",
       "    <tr>\n",
       "      <th>50%</th>\n",
       "      <td>1.803425e+06</td>\n",
       "    </tr>\n",
       "    <tr>\n",
       "      <th>75%</th>\n",
       "      <td>2.874038e+06</td>\n",
       "    </tr>\n",
       "    <tr>\n",
       "      <th>max</th>\n",
       "      <td>8.615246e+06</td>\n",
       "    </tr>\n",
       "  </tbody>\n",
       "</table>\n",
       "</div>"
      ],
      "text/plain": [
       "         population\n",
       "count  1.300000e+01\n",
       "mean   2.600047e+06\n",
       "std    1.932512e+06\n",
       "min    1.350680e+06\n",
       "25%    1.740119e+06\n",
       "50%    1.803425e+06\n",
       "75%    2.874038e+06\n",
       "max    8.615246e+06"
      ]
     },
     "execution_count": 34,
     "metadata": {},
     "output_type": "execute_result"
    }
   ],
   "source": [
    "city_frame.describe()"
   ]
  },
  {
   "cell_type": "markdown",
   "id": "f6d65097",
   "metadata": {},
   "source": [
    "PANDAS: GROUPBY"
   ]
  },
  {
   "cell_type": "code",
   "execution_count": 33,
   "id": "5993676d",
   "metadata": {},
   "outputs": [
    {
     "data": {
      "text/html": [
       "<div>\n",
       "<style scoped>\n",
       "    .dataframe tbody tr th:only-of-type {\n",
       "        vertical-align: middle;\n",
       "    }\n",
       "\n",
       "    .dataframe tbody tr th {\n",
       "        vertical-align: top;\n",
       "    }\n",
       "\n",
       "    .dataframe thead th {\n",
       "        text-align: right;\n",
       "    }\n",
       "</style>\n",
       "<table border=\"1\" class=\"dataframe\">\n",
       "  <thead>\n",
       "    <tr style=\"text-align: right;\">\n",
       "      <th></th>\n",
       "      <th>Nom</th>\n",
       "      <th>Cafe</th>\n",
       "      <th>The</th>\n",
       "    </tr>\n",
       "  </thead>\n",
       "  <tbody>\n",
       "    <tr>\n",
       "      <th>0</th>\n",
       "      <td>Robert</td>\n",
       "      <td>3</td>\n",
       "      <td>0</td>\n",
       "    </tr>\n",
       "    <tr>\n",
       "      <th>1</th>\n",
       "      <td>Melinda</td>\n",
       "      <td>0</td>\n",
       "      <td>4</td>\n",
       "    </tr>\n",
       "    <tr>\n",
       "      <th>2</th>\n",
       "      <td>Brenda</td>\n",
       "      <td>2</td>\n",
       "      <td>2</td>\n",
       "    </tr>\n",
       "    <tr>\n",
       "      <th>3</th>\n",
       "      <td>Samantha</td>\n",
       "      <td>2</td>\n",
       "      <td>0</td>\n",
       "    </tr>\n",
       "    <tr>\n",
       "      <th>4</th>\n",
       "      <td>Melinda</td>\n",
       "      <td>0</td>\n",
       "      <td>3</td>\n",
       "    </tr>\n",
       "    <tr>\n",
       "      <th>5</th>\n",
       "      <td>Robert</td>\n",
       "      <td>2</td>\n",
       "      <td>0</td>\n",
       "    </tr>\n",
       "    <tr>\n",
       "      <th>6</th>\n",
       "      <td>Melinda</td>\n",
       "      <td>0</td>\n",
       "      <td>3</td>\n",
       "    </tr>\n",
       "    <tr>\n",
       "      <th>7</th>\n",
       "      <td>Brenda</td>\n",
       "      <td>1</td>\n",
       "      <td>2</td>\n",
       "    </tr>\n",
       "    <tr>\n",
       "      <th>8</th>\n",
       "      <td>Samantha</td>\n",
       "      <td>3</td>\n",
       "      <td>0</td>\n",
       "    </tr>\n",
       "  </tbody>\n",
       "</table>\n",
       "</div>"
      ],
      "text/plain": [
       "        Nom  Cafe  The\n",
       "0    Robert     3    0\n",
       "1   Melinda     0    4\n",
       "2    Brenda     2    2\n",
       "3  Samantha     2    0\n",
       "4   Melinda     0    3\n",
       "5    Robert     2    0\n",
       "6   Melinda     0    3\n",
       "7    Brenda     1    2\n",
       "8  Samantha     3    0"
      ]
     },
     "execution_count": 33,
     "metadata": {},
     "output_type": "execute_result"
    }
   ],
   "source": [
    "import pandas as pd\n",
    "beverages = pd.DataFrame({'Nom': ['Robert', 'Melinda', 'Brenda',\n",
    "                                 'Samantha', 'Melinda', 'Robert','Melinda', 'Brenda', 'Samantha'],\n",
    "                        'Cafe': [3, 0, 2, 2, 0, 2, 0, 1, 3],\n",
    "                        'The': [0, 4, 2, 0, 3, 0, 3, 2, 0]})\n",
    "beverages"
   ]
  },
  {
   "cell_type": "code",
   "execution_count": 35,
   "id": "b0ce7744",
   "metadata": {},
   "outputs": [
    {
     "name": "stdout",
     "output_type": "stream",
     "text": [
      "          Cafe  The\n",
      "Nom                \n",
      "Brenda       3    4\n",
      "Melinda      0   10\n",
      "Robert       5    0\n",
      "Samantha     5    0\n"
     ]
    }
   ],
   "source": [
    "res = beverages.groupby(['Nom']).sum() #Lorsque vous groupez par, vous devez effectuer une opération\n",
    "print(res)"
   ]
  },
  {
   "cell_type": "code",
   "execution_count": null,
   "id": "ac77764a-5eec-4f72-9514-078ace7c0b06",
   "metadata": {},
   "outputs": [],
   "source": []
  },
  {
   "cell_type": "code",
   "execution_count": 121,
   "id": "c56ca3f5",
   "metadata": {},
   "outputs": [
    {
     "data": {
      "text/html": [
       "<div>\n",
       "<style scoped>\n",
       "    .dataframe tbody tr th:only-of-type {\n",
       "        vertical-align: middle;\n",
       "    }\n",
       "\n",
       "    .dataframe tbody tr th {\n",
       "        vertical-align: top;\n",
       "    }\n",
       "\n",
       "    .dataframe thead th {\n",
       "        text-align: right;\n",
       "    }\n",
       "</style>\n",
       "<table border=\"1\" class=\"dataframe\">\n",
       "  <thead>\n",
       "    <tr style=\"text-align: right;\">\n",
       "      <th></th>\n",
       "      <th>Cafe</th>\n",
       "      <th>The</th>\n",
       "    </tr>\n",
       "    <tr>\n",
       "      <th>Nom</th>\n",
       "      <th></th>\n",
       "      <th></th>\n",
       "    </tr>\n",
       "  </thead>\n",
       "  <tbody>\n",
       "    <tr>\n",
       "      <th>Brenda</th>\n",
       "      <td>1.5</td>\n",
       "      <td>2.000000</td>\n",
       "    </tr>\n",
       "    <tr>\n",
       "      <th>Melinda</th>\n",
       "      <td>0.0</td>\n",
       "      <td>3.333333</td>\n",
       "    </tr>\n",
       "    <tr>\n",
       "      <th>Robert</th>\n",
       "      <td>2.5</td>\n",
       "      <td>0.000000</td>\n",
       "    </tr>\n",
       "    <tr>\n",
       "      <th>Samantha</th>\n",
       "      <td>2.5</td>\n",
       "      <td>0.000000</td>\n",
       "    </tr>\n",
       "  </tbody>\n",
       "</table>\n",
       "</div>"
      ],
      "text/plain": [
       "          Cafe       The\n",
       "Nom                     \n",
       "Brenda     1.5  2.000000\n",
       "Melinda    0.0  3.333333\n",
       "Robert     2.5  0.000000\n",
       "Samantha   2.5  0.000000"
      ]
     },
     "execution_count": 121,
     "metadata": {},
     "output_type": "execute_result"
    }
   ],
   "source": [
    "beverages.groupby(['Nom']).mean() # Calculer la moyenne"
   ]
  },
  {
   "cell_type": "markdown",
   "id": "9ab110a5",
   "metadata": {},
   "source": [
    "EXERCICES"
   ]
  },
  {
   "cell_type": "code",
   "execution_count": null,
   "id": "29030cfc",
   "metadata": {},
   "outputs": [],
   "source": [
    "#1.Calculez les prix moyens des produits du DataFrame suivant :\n",
    "d = {\"products\": [\"Oppilume\", \"Dreaker\", \"Lotadilo\",\n",
    "\"Crosteron\", \"Wazzasoft\", \"Oppilume\",\n",
    "\"Dreaker\", \"Lotadilo\", \"Wazzasoft\"],\n",
    "\"colours\": [\"blue\", \"blue\", \"blue\",\n",
    "\"green\", \"blue\", \"green\",\n",
    "\"green\", \"green\", \"red\"],\n",
    "\"customer_price\": [2345.89, 2390.50, 1820.00,\n",
    "3100.00, 1784.50, 2545.89,\n",
    "2590.50, 2220.00, 2084.50],\n",
    "\"non_customer_price\": [2445.89, 2495.50, 1980.00,\n",
    "3400.00, 1921.00, 2645.89,2655.50, 2140.00, 2190.00]}\n",
    "product_prices = pd.DataFrame(d)\n",
    "product_prices\n",
    "#2.Calculez la somme du prix en fonction des couleurs.\n",
    "#Solutions\n",
    "#1.x = product_prices.groupby(\"products\").mean()\n",
    "#2.x = product_prices.groupby(\"colours\").sum()"
   ]
  },
  {
   "cell_type": "markdown",
   "id": "bc21b64a",
   "metadata": {},
   "source": [
    "LECTURE ET ECRITURE DES DONNEES"
   ]
  },
  {
   "cell_type": "code",
   "execution_count": 40,
   "id": "74b16e8f",
   "metadata": {},
   "outputs": [
    {
     "data": {
      "text/html": [
       "<div>\n",
       "<style scoped>\n",
       "    .dataframe tbody tr th:only-of-type {\n",
       "        vertical-align: middle;\n",
       "    }\n",
       "\n",
       "    .dataframe tbody tr th {\n",
       "        vertical-align: top;\n",
       "    }\n",
       "\n",
       "    .dataframe thead th {\n",
       "        text-align: right;\n",
       "    }\n",
       "</style>\n",
       "<table border=\"1\" class=\"dataframe\">\n",
       "  <thead>\n",
       "    <tr style=\"text-align: right;\">\n",
       "      <th></th>\n",
       "      <th>Date</th>\n",
       "      <th>State</th>\n",
       "      <th>Country</th>\n",
       "      <th>Cumulative_cases</th>\n",
       "      <th>Cumulative_death</th>\n",
       "      <th>Daily_cases</th>\n",
       "      <th>Daily_death</th>\n",
       "      <th>Latitude</th>\n",
       "      <th>Longitude</th>\n",
       "      <th>Temperature</th>\n",
       "      <th>...</th>\n",
       "      <th>Confirmed Cases/1000</th>\n",
       "      <th>Lung Patients (F)</th>\n",
       "      <th>Lung Patients (M)</th>\n",
       "      <th>Median Age (Years)</th>\n",
       "      <th>Life Expectancy (M)</th>\n",
       "      <th>Life Expectancy (F)</th>\n",
       "      <th>Total_tests_conducted</th>\n",
       "      <th>Out_Travels (mill.)</th>\n",
       "      <th>In_travels(mill.)</th>\n",
       "      <th>Domestic_Travels (mill.)</th>\n",
       "    </tr>\n",
       "  </thead>\n",
       "  <tbody>\n",
       "    <tr>\n",
       "      <th>0</th>\n",
       "      <td>22-01-2020</td>\n",
       "      <td>NaN</td>\n",
       "      <td>Afghanistan</td>\n",
       "      <td>0</td>\n",
       "      <td>0</td>\n",
       "      <td>0</td>\n",
       "      <td>0</td>\n",
       "      <td>33.0</td>\n",
       "      <td>65.0</td>\n",
       "      <td>5.89</td>\n",
       "      <td>...</td>\n",
       "      <td>0.0</td>\n",
       "      <td>36.31</td>\n",
       "      <td>39.33</td>\n",
       "      <td>18.4</td>\n",
       "      <td>63.2</td>\n",
       "      <td>63.6</td>\n",
       "      <td>1019</td>\n",
       "      <td>1.561605</td>\n",
       "      <td>Not Reported</td>\n",
       "      <td>Not Reported</td>\n",
       "    </tr>\n",
       "    <tr>\n",
       "      <th>1</th>\n",
       "      <td>23-01-2020</td>\n",
       "      <td>NaN</td>\n",
       "      <td>Afghanistan</td>\n",
       "      <td>0</td>\n",
       "      <td>0</td>\n",
       "      <td>0</td>\n",
       "      <td>0</td>\n",
       "      <td>33.0</td>\n",
       "      <td>65.0</td>\n",
       "      <td>5.56</td>\n",
       "      <td>...</td>\n",
       "      <td>0.0</td>\n",
       "      <td>36.31</td>\n",
       "      <td>39.33</td>\n",
       "      <td>18.4</td>\n",
       "      <td>63.2</td>\n",
       "      <td>63.6</td>\n",
       "      <td>1019</td>\n",
       "      <td>1.561605</td>\n",
       "      <td>Not Reported</td>\n",
       "      <td>Not Reported</td>\n",
       "    </tr>\n",
       "    <tr>\n",
       "      <th>2</th>\n",
       "      <td>24-01-2020</td>\n",
       "      <td>NaN</td>\n",
       "      <td>Afghanistan</td>\n",
       "      <td>0</td>\n",
       "      <td>0</td>\n",
       "      <td>0</td>\n",
       "      <td>0</td>\n",
       "      <td>33.0</td>\n",
       "      <td>65.0</td>\n",
       "      <td>4.50</td>\n",
       "      <td>...</td>\n",
       "      <td>0.0</td>\n",
       "      <td>36.31</td>\n",
       "      <td>39.33</td>\n",
       "      <td>18.4</td>\n",
       "      <td>63.2</td>\n",
       "      <td>63.6</td>\n",
       "      <td>1019</td>\n",
       "      <td>1.561605</td>\n",
       "      <td>Not Reported</td>\n",
       "      <td>Not Reported</td>\n",
       "    </tr>\n",
       "    <tr>\n",
       "      <th>3</th>\n",
       "      <td>25-01-2020</td>\n",
       "      <td>NaN</td>\n",
       "      <td>Afghanistan</td>\n",
       "      <td>0</td>\n",
       "      <td>0</td>\n",
       "      <td>0</td>\n",
       "      <td>0</td>\n",
       "      <td>33.0</td>\n",
       "      <td>65.0</td>\n",
       "      <td>7.78</td>\n",
       "      <td>...</td>\n",
       "      <td>0.0</td>\n",
       "      <td>36.31</td>\n",
       "      <td>39.33</td>\n",
       "      <td>18.4</td>\n",
       "      <td>63.2</td>\n",
       "      <td>63.6</td>\n",
       "      <td>1019</td>\n",
       "      <td>1.561605</td>\n",
       "      <td>Not Reported</td>\n",
       "      <td>Not Reported</td>\n",
       "    </tr>\n",
       "    <tr>\n",
       "      <th>4</th>\n",
       "      <td>26-01-2020</td>\n",
       "      <td>NaN</td>\n",
       "      <td>Afghanistan</td>\n",
       "      <td>0</td>\n",
       "      <td>0</td>\n",
       "      <td>0</td>\n",
       "      <td>0</td>\n",
       "      <td>33.0</td>\n",
       "      <td>65.0</td>\n",
       "      <td>6.00</td>\n",
       "      <td>...</td>\n",
       "      <td>0.0</td>\n",
       "      <td>36.31</td>\n",
       "      <td>39.33</td>\n",
       "      <td>18.4</td>\n",
       "      <td>63.2</td>\n",
       "      <td>63.6</td>\n",
       "      <td>1019</td>\n",
       "      <td>1.561605</td>\n",
       "      <td>Not Reported</td>\n",
       "      <td>Not Reported</td>\n",
       "    </tr>\n",
       "  </tbody>\n",
       "</table>\n",
       "<p>5 rows × 32 columns</p>\n",
       "</div>"
      ],
      "text/plain": [
       "         Date State      Country  Cumulative_cases  Cumulative_death  \\\n",
       "0  22-01-2020   NaN  Afghanistan                 0                 0   \n",
       "1  23-01-2020   NaN  Afghanistan                 0                 0   \n",
       "2  24-01-2020   NaN  Afghanistan                 0                 0   \n",
       "3  25-01-2020   NaN  Afghanistan                 0                 0   \n",
       "4  26-01-2020   NaN  Afghanistan                 0                 0   \n",
       "\n",
       "   Daily_cases  Daily_death  Latitude  Longitude  Temperature  ...  \\\n",
       "0            0            0      33.0       65.0         5.89  ...   \n",
       "1            0            0      33.0       65.0         5.56  ...   \n",
       "2            0            0      33.0       65.0         4.50  ...   \n",
       "3            0            0      33.0       65.0         7.78  ...   \n",
       "4            0            0      33.0       65.0         6.00  ...   \n",
       "\n",
       "   Confirmed Cases/1000  Lung Patients (F)  Lung Patients (M)  \\\n",
       "0                   0.0              36.31              39.33   \n",
       "1                   0.0              36.31              39.33   \n",
       "2                   0.0              36.31              39.33   \n",
       "3                   0.0              36.31              39.33   \n",
       "4                   0.0              36.31              39.33   \n",
       "\n",
       "   Median Age (Years)  Life Expectancy (M)  Life Expectancy (F)  \\\n",
       "0                18.4                 63.2                 63.6   \n",
       "1                18.4                 63.2                 63.6   \n",
       "2                18.4                 63.2                 63.6   \n",
       "3                18.4                 63.2                 63.6   \n",
       "4                18.4                 63.2                 63.6   \n",
       "\n",
       "   Total_tests_conducted  Out_Travels (mill.)  In_travels(mill.)  \\\n",
       "0                   1019             1.561605       Not Reported   \n",
       "1                   1019             1.561605       Not Reported   \n",
       "2                   1019             1.561605       Not Reported   \n",
       "3                   1019             1.561605       Not Reported   \n",
       "4                   1019             1.561605       Not Reported   \n",
       "\n",
       "  Domestic_Travels (mill.)  \n",
       "0             Not Reported  \n",
       "1             Not Reported  \n",
       "2             Not Reported  \n",
       "3             Not Reported  \n",
       "4             Not Reported  \n",
       "\n",
       "[5 rows x 32 columns]"
      ]
     },
     "execution_count": 40,
     "metadata": {},
     "output_type": "execute_result"
    }
   ],
   "source": [
    "#LECTURE DES FICHIERS CSV\n",
    "df = pd.read_csv(\"covid19.csv\") #\n",
    "df.head()"
   ]
  },
  {
   "cell_type": "code",
   "execution_count": 43,
   "id": "de8ada3d-9248-4879-b3b8-d487343ecf2c",
   "metadata": {},
   "outputs": [
    {
     "data": {
      "text/html": [
       "<div>\n",
       "<style scoped>\n",
       "    .dataframe tbody tr th:only-of-type {\n",
       "        vertical-align: middle;\n",
       "    }\n",
       "\n",
       "    .dataframe tbody tr th {\n",
       "        vertical-align: top;\n",
       "    }\n",
       "\n",
       "    .dataframe thead th {\n",
       "        text-align: right;\n",
       "    }\n",
       "</style>\n",
       "<table border=\"1\" class=\"dataframe\">\n",
       "  <thead>\n",
       "    <tr style=\"text-align: right;\">\n",
       "      <th></th>\n",
       "      <th>Date</th>\n",
       "      <th>State</th>\n",
       "      <th>Country</th>\n",
       "      <th>Cumulative_cases</th>\n",
       "      <th>Cumulative_death</th>\n",
       "      <th>Daily_cases</th>\n",
       "      <th>Daily_death</th>\n",
       "      <th>Latitude</th>\n",
       "      <th>Longitude</th>\n",
       "      <th>Temperature</th>\n",
       "      <th>...</th>\n",
       "      <th>Confirmed Cases/1000</th>\n",
       "      <th>Lung Patients (F)</th>\n",
       "      <th>Lung Patients (M)</th>\n",
       "      <th>Median Age (Years)</th>\n",
       "      <th>Life Expectancy (M)</th>\n",
       "      <th>Life Expectancy (F)</th>\n",
       "      <th>Total_tests_conducted</th>\n",
       "      <th>Out_Travels (mill.)</th>\n",
       "      <th>In_travels(mill.)</th>\n",
       "      <th>Domestic_Travels (mill.)</th>\n",
       "    </tr>\n",
       "  </thead>\n",
       "  <tbody>\n",
       "    <tr>\n",
       "      <th>0</th>\n",
       "      <td>22-01-2020</td>\n",
       "      <td>NaN</td>\n",
       "      <td>Afghanistan</td>\n",
       "      <td>0</td>\n",
       "      <td>0</td>\n",
       "      <td>0</td>\n",
       "      <td>0</td>\n",
       "      <td>33.0000</td>\n",
       "      <td>65.0000</td>\n",
       "      <td>5.89</td>\n",
       "      <td>...</td>\n",
       "      <td>0.000000</td>\n",
       "      <td>36.31</td>\n",
       "      <td>39.33</td>\n",
       "      <td>18.4</td>\n",
       "      <td>63.2</td>\n",
       "      <td>63.6</td>\n",
       "      <td>1019</td>\n",
       "      <td>1.561605</td>\n",
       "      <td>Not Reported</td>\n",
       "      <td>Not Reported</td>\n",
       "    </tr>\n",
       "    <tr>\n",
       "      <th>1</th>\n",
       "      <td>23-01-2020</td>\n",
       "      <td>NaN</td>\n",
       "      <td>Afghanistan</td>\n",
       "      <td>0</td>\n",
       "      <td>0</td>\n",
       "      <td>0</td>\n",
       "      <td>0</td>\n",
       "      <td>33.0000</td>\n",
       "      <td>65.0000</td>\n",
       "      <td>5.56</td>\n",
       "      <td>...</td>\n",
       "      <td>0.000000</td>\n",
       "      <td>36.31</td>\n",
       "      <td>39.33</td>\n",
       "      <td>18.4</td>\n",
       "      <td>63.2</td>\n",
       "      <td>63.6</td>\n",
       "      <td>1019</td>\n",
       "      <td>1.561605</td>\n",
       "      <td>Not Reported</td>\n",
       "      <td>Not Reported</td>\n",
       "    </tr>\n",
       "    <tr>\n",
       "      <th>2</th>\n",
       "      <td>24-01-2020</td>\n",
       "      <td>NaN</td>\n",
       "      <td>Afghanistan</td>\n",
       "      <td>0</td>\n",
       "      <td>0</td>\n",
       "      <td>0</td>\n",
       "      <td>0</td>\n",
       "      <td>33.0000</td>\n",
       "      <td>65.0000</td>\n",
       "      <td>4.50</td>\n",
       "      <td>...</td>\n",
       "      <td>0.000000</td>\n",
       "      <td>36.31</td>\n",
       "      <td>39.33</td>\n",
       "      <td>18.4</td>\n",
       "      <td>63.2</td>\n",
       "      <td>63.6</td>\n",
       "      <td>1019</td>\n",
       "      <td>1.561605</td>\n",
       "      <td>Not Reported</td>\n",
       "      <td>Not Reported</td>\n",
       "    </tr>\n",
       "    <tr>\n",
       "      <th>3</th>\n",
       "      <td>25-01-2020</td>\n",
       "      <td>NaN</td>\n",
       "      <td>Afghanistan</td>\n",
       "      <td>0</td>\n",
       "      <td>0</td>\n",
       "      <td>0</td>\n",
       "      <td>0</td>\n",
       "      <td>33.0000</td>\n",
       "      <td>65.0000</td>\n",
       "      <td>7.78</td>\n",
       "      <td>...</td>\n",
       "      <td>0.000000</td>\n",
       "      <td>36.31</td>\n",
       "      <td>39.33</td>\n",
       "      <td>18.4</td>\n",
       "      <td>63.2</td>\n",
       "      <td>63.6</td>\n",
       "      <td>1019</td>\n",
       "      <td>1.561605</td>\n",
       "      <td>Not Reported</td>\n",
       "      <td>Not Reported</td>\n",
       "    </tr>\n",
       "    <tr>\n",
       "      <th>4</th>\n",
       "      <td>26-01-2020</td>\n",
       "      <td>NaN</td>\n",
       "      <td>Afghanistan</td>\n",
       "      <td>0</td>\n",
       "      <td>0</td>\n",
       "      <td>0</td>\n",
       "      <td>0</td>\n",
       "      <td>33.0000</td>\n",
       "      <td>65.0000</td>\n",
       "      <td>6.00</td>\n",
       "      <td>...</td>\n",
       "      <td>0.000000</td>\n",
       "      <td>36.31</td>\n",
       "      <td>39.33</td>\n",
       "      <td>18.4</td>\n",
       "      <td>63.2</td>\n",
       "      <td>63.6</td>\n",
       "      <td>1019</td>\n",
       "      <td>1.561605</td>\n",
       "      <td>Not Reported</td>\n",
       "      <td>Not Reported</td>\n",
       "    </tr>\n",
       "    <tr>\n",
       "      <th>...</th>\n",
       "      <td>...</td>\n",
       "      <td>...</td>\n",
       "      <td>...</td>\n",
       "      <td>...</td>\n",
       "      <td>...</td>\n",
       "      <td>...</td>\n",
       "      <td>...</td>\n",
       "      <td>...</td>\n",
       "      <td>...</td>\n",
       "      <td>...</td>\n",
       "      <td>...</td>\n",
       "      <td>...</td>\n",
       "      <td>...</td>\n",
       "      <td>...</td>\n",
       "      <td>...</td>\n",
       "      <td>...</td>\n",
       "      <td>...</td>\n",
       "      <td>...</td>\n",
       "      <td>...</td>\n",
       "      <td>...</td>\n",
       "      <td>...</td>\n",
       "    </tr>\n",
       "    <tr>\n",
       "      <th>1134</th>\n",
       "      <td>26-03-2020</td>\n",
       "      <td>NaN</td>\n",
       "      <td>Mexico</td>\n",
       "      <td>475</td>\n",
       "      <td>6</td>\n",
       "      <td>70</td>\n",
       "      <td>1</td>\n",
       "      <td>23.6345</td>\n",
       "      <td>-102.5528</td>\n",
       "      <td>22.50</td>\n",
       "      <td>...</td>\n",
       "      <td>0.003684</td>\n",
       "      <td>23.43</td>\n",
       "      <td>33.14</td>\n",
       "      <td>73.5</td>\n",
       "      <td>79.2</td>\n",
       "      <td>9481</td>\n",
       "      <td>86.28</td>\n",
       "      <td>41.313</td>\n",
       "      <td>Not Reported</td>\n",
       "      <td>NaN</td>\n",
       "    </tr>\n",
       "    <tr>\n",
       "      <th>1135</th>\n",
       "      <td>27-03-2020</td>\n",
       "      <td>NaN</td>\n",
       "      <td>Mexico</td>\n",
       "      <td>585</td>\n",
       "      <td>8</td>\n",
       "      <td>110</td>\n",
       "      <td>2</td>\n",
       "      <td>23.6345</td>\n",
       "      <td>-102.5528</td>\n",
       "      <td>20.89</td>\n",
       "      <td>...</td>\n",
       "      <td>0.004537</td>\n",
       "      <td>23.43</td>\n",
       "      <td>33.14</td>\n",
       "      <td>73.5</td>\n",
       "      <td>79.2</td>\n",
       "      <td>9481</td>\n",
       "      <td>86.28</td>\n",
       "      <td>41.313</td>\n",
       "      <td>Not Reported</td>\n",
       "      <td>NaN</td>\n",
       "    </tr>\n",
       "    <tr>\n",
       "      <th>1136</th>\n",
       "      <td>28-03-2020</td>\n",
       "      <td>NaN</td>\n",
       "      <td>Mexico</td>\n",
       "      <td>717</td>\n",
       "      <td>12</td>\n",
       "      <td>132</td>\n",
       "      <td>4</td>\n",
       "      <td>23.6345</td>\n",
       "      <td>-102.5528</td>\n",
       "      <td>19.83</td>\n",
       "      <td>...</td>\n",
       "      <td>0.005561</td>\n",
       "      <td>23.43</td>\n",
       "      <td>33.14</td>\n",
       "      <td>73.5</td>\n",
       "      <td>79.2</td>\n",
       "      <td>9481</td>\n",
       "      <td>86.28</td>\n",
       "      <td>41.313</td>\n",
       "      <td>Not Reported</td>\n",
       "      <td>NaN</td>\n",
       "    </tr>\n",
       "    <tr>\n",
       "      <th>1137</th>\n",
       "      <td>29-03-2020</td>\n",
       "      <td>NaN</td>\n",
       "      <td>Mexico</td>\n",
       "      <td>848</td>\n",
       "      <td>16</td>\n",
       "      <td>131</td>\n",
       "      <td>4</td>\n",
       "      <td>23.6345</td>\n",
       "      <td>-102.5528</td>\n",
       "      <td>18.50</td>\n",
       "      <td>...</td>\n",
       "      <td>0.006577</td>\n",
       "      <td>23.43</td>\n",
       "      <td>33.14</td>\n",
       "      <td>73.5</td>\n",
       "      <td>79.2</td>\n",
       "      <td>9481</td>\n",
       "      <td>86.28</td>\n",
       "      <td>41.313</td>\n",
       "      <td>Not Reported</td>\n",
       "      <td>NaN</td>\n",
       "    </tr>\n",
       "    <tr>\n",
       "      <th>1138</th>\n",
       "      <td>30-03-2020</td>\n",
       "      <td>NaN</td>\n",
       "      <td>Mexico</td>\n",
       "      <td>993</td>\n",
       "      <td>20</td>\n",
       "      <td>145</td>\n",
       "      <td>4</td>\n",
       "      <td>23.6345</td>\n",
       "      <td>-102.5528</td>\n",
       "      <td>18.50</td>\n",
       "      <td>...</td>\n",
       "      <td>0.007702</td>\n",
       "      <td>23.43</td>\n",
       "      <td>33.14</td>\n",
       "      <td>73.5</td>\n",
       "      <td>79.2</td>\n",
       "      <td>9481</td>\n",
       "      <td>86.28</td>\n",
       "      <td>41.313</td>\n",
       "      <td>Not Reported</td>\n",
       "      <td>NaN</td>\n",
       "    </tr>\n",
       "  </tbody>\n",
       "</table>\n",
       "<p>1139 rows × 32 columns</p>\n",
       "</div>"
      ],
      "text/plain": [
       "            Date State      Country  Cumulative_cases  Cumulative_death  \\\n",
       "0     22-01-2020   NaN  Afghanistan                 0                 0   \n",
       "1     23-01-2020   NaN  Afghanistan                 0                 0   \n",
       "2     24-01-2020   NaN  Afghanistan                 0                 0   \n",
       "3     25-01-2020   NaN  Afghanistan                 0                 0   \n",
       "4     26-01-2020   NaN  Afghanistan                 0                 0   \n",
       "...          ...   ...          ...               ...               ...   \n",
       "1134  26-03-2020   NaN       Mexico               475                 6   \n",
       "1135  27-03-2020   NaN       Mexico               585                 8   \n",
       "1136  28-03-2020   NaN       Mexico               717                12   \n",
       "1137  29-03-2020   NaN       Mexico               848                16   \n",
       "1138  30-03-2020   NaN       Mexico               993                20   \n",
       "\n",
       "      Daily_cases  Daily_death  Latitude  Longitude  Temperature  ...  \\\n",
       "0               0            0   33.0000    65.0000         5.89  ...   \n",
       "1               0            0   33.0000    65.0000         5.56  ...   \n",
       "2               0            0   33.0000    65.0000         4.50  ...   \n",
       "3               0            0   33.0000    65.0000         7.78  ...   \n",
       "4               0            0   33.0000    65.0000         6.00  ...   \n",
       "...           ...          ...       ...        ...          ...  ...   \n",
       "1134           70            1   23.6345  -102.5528        22.50  ...   \n",
       "1135          110            2   23.6345  -102.5528        20.89  ...   \n",
       "1136          132            4   23.6345  -102.5528        19.83  ...   \n",
       "1137          131            4   23.6345  -102.5528        18.50  ...   \n",
       "1138          145            4   23.6345  -102.5528        18.50  ...   \n",
       "\n",
       "      Confirmed Cases/1000  Lung Patients (F)  Lung Patients (M)  \\\n",
       "0                 0.000000              36.31              39.33   \n",
       "1                 0.000000              36.31              39.33   \n",
       "2                 0.000000              36.31              39.33   \n",
       "3                 0.000000              36.31              39.33   \n",
       "4                 0.000000              36.31              39.33   \n",
       "...                    ...                ...                ...   \n",
       "1134              0.003684              23.43              33.14   \n",
       "1135              0.004537              23.43              33.14   \n",
       "1136              0.005561              23.43              33.14   \n",
       "1137              0.006577              23.43              33.14   \n",
       "1138              0.007702              23.43              33.14   \n",
       "\n",
       "      Median Age (Years)  Life Expectancy (M)  Life Expectancy (F)  \\\n",
       "0                   18.4                 63.2                 63.6   \n",
       "1                   18.4                 63.2                 63.6   \n",
       "2                   18.4                 63.2                 63.6   \n",
       "3                   18.4                 63.2                 63.6   \n",
       "4                   18.4                 63.2                 63.6   \n",
       "...                  ...                  ...                  ...   \n",
       "1134                73.5                 79.2                 9481   \n",
       "1135                73.5                 79.2                 9481   \n",
       "1136                73.5                 79.2                 9481   \n",
       "1137                73.5                 79.2                 9481   \n",
       "1138                73.5                 79.2                 9481   \n",
       "\n",
       "      Total_tests_conducted  Out_Travels (mill.)  In_travels(mill.)  \\\n",
       "0                      1019             1.561605       Not Reported   \n",
       "1                      1019             1.561605       Not Reported   \n",
       "2                      1019             1.561605       Not Reported   \n",
       "3                      1019             1.561605       Not Reported   \n",
       "4                      1019             1.561605       Not Reported   \n",
       "...                     ...                  ...                ...   \n",
       "1134                  86.28               41.313       Not Reported   \n",
       "1135                  86.28               41.313       Not Reported   \n",
       "1136                  86.28               41.313       Not Reported   \n",
       "1137                  86.28               41.313       Not Reported   \n",
       "1138                  86.28               41.313       Not Reported   \n",
       "\n",
       "     Domestic_Travels (mill.)  \n",
       "0                Not Reported  \n",
       "1                Not Reported  \n",
       "2                Not Reported  \n",
       "3                Not Reported  \n",
       "4                Not Reported  \n",
       "...                       ...  \n",
       "1134                      NaN  \n",
       "1135                      NaN  \n",
       "1136                      NaN  \n",
       "1137                      NaN  \n",
       "1138                      NaN  \n",
       "\n",
       "[1139 rows x 32 columns]"
      ]
     },
     "execution_count": 43,
     "metadata": {},
     "output_type": "execute_result"
    }
   ],
   "source": [
    "df\n"
   ]
  },
  {
   "cell_type": "code",
   "execution_count": 123,
   "id": "772fa9ba",
   "metadata": {},
   "outputs": [
    {
     "data": {
      "text/plain": [
       "array(['year', 'resource', 'variable', 'units', 'magnitude', 'source',\n",
       "       'data_value', 'flag'], dtype=object)"
      ]
     },
     "execution_count": 123,
     "metadata": {},
     "output_type": "execute_result"
    }
   ],
   "source": [
    "df.columns.values"
   ]
  },
  {
   "cell_type": "code",
   "execution_count": 124,
   "id": "f6abc31e",
   "metadata": {},
   "outputs": [],
   "source": [
    "#Ecrire un dataframe sur un fichier, on utilise to_csv\n",
    "beverages.to_csv(\"beverages.csv\")"
   ]
  },
  {
   "cell_type": "markdown",
   "id": "20c72c57",
   "metadata": {},
   "source": [
    "EXERCISE\n",
    "• Lisez le fichier dsv (csv) bundeslaender.txt (https://python-course.eu/data1/bundeslaender.txt). Créez un nouveau fichier avec les colonnes 'land', 'area',\n",
    "'femme', 'homme', 'population' et 'densité' (habitants par kilomètre carré.\n",
    "• imprimer les lignes où la zone est supérieure à 30000 et la population est supérieure à 10000\n",
    "• Imprimer les lignes dont la densité est supérieure à 300"
   ]
  },
  {
   "cell_type": "markdown",
   "id": "055d7d1a",
   "metadata": {},
   "source": [
    "LECTURE ET ECRITURE DE FICHIERS EXCEL"
   ]
  },
  {
   "cell_type": "code",
   "execution_count": 126,
   "id": "55d315be",
   "metadata": {},
   "outputs": [
    {
     "name": "stdout",
     "output_type": "stream",
     "text": [
      "Requirement already satisfied: xlrd in c:\\users\\amaro\\anaconda3\\lib\\site-packages (2.0.1)\n",
      "Note: you may need to restart the kernel to use updated packages.\n"
     ]
    }
   ],
   "source": [
    "%pip install xlrd # On a besoin de cette dependence pour lire les fichiers excel"
   ]
  },
  {
   "cell_type": "code",
   "execution_count": 127,
   "id": "c47a1753",
   "metadata": {},
   "outputs": [
    {
     "data": {
      "text/html": [
       "<div>\n",
       "<style scoped>\n",
       "    .dataframe tbody tr th:only-of-type {\n",
       "        vertical-align: middle;\n",
       "    }\n",
       "\n",
       "    .dataframe tbody tr th {\n",
       "        vertical-align: top;\n",
       "    }\n",
       "\n",
       "    .dataframe thead th {\n",
       "        text-align: right;\n",
       "    }\n",
       "</style>\n",
       "<table border=\"1\" class=\"dataframe\">\n",
       "  <thead>\n",
       "    <tr style=\"text-align: right;\">\n",
       "      <th></th>\n",
       "      <th>0</th>\n",
       "      <th>First Name</th>\n",
       "      <th>Last Name</th>\n",
       "      <th>Gender</th>\n",
       "      <th>Country</th>\n",
       "      <th>Age</th>\n",
       "      <th>Date</th>\n",
       "      <th>Id</th>\n",
       "    </tr>\n",
       "  </thead>\n",
       "  <tbody>\n",
       "    <tr>\n",
       "      <th>0</th>\n",
       "      <td>1</td>\n",
       "      <td>Dulce</td>\n",
       "      <td>Abril</td>\n",
       "      <td>Female</td>\n",
       "      <td>United States</td>\n",
       "      <td>32</td>\n",
       "      <td>15/10/2017</td>\n",
       "      <td>1562</td>\n",
       "    </tr>\n",
       "    <tr>\n",
       "      <th>1</th>\n",
       "      <td>2</td>\n",
       "      <td>Mara</td>\n",
       "      <td>Hashimoto</td>\n",
       "      <td>Female</td>\n",
       "      <td>Great Britain</td>\n",
       "      <td>25</td>\n",
       "      <td>16/08/2016</td>\n",
       "      <td>1582</td>\n",
       "    </tr>\n",
       "    <tr>\n",
       "      <th>2</th>\n",
       "      <td>3</td>\n",
       "      <td>Philip</td>\n",
       "      <td>Gent</td>\n",
       "      <td>Male</td>\n",
       "      <td>France</td>\n",
       "      <td>36</td>\n",
       "      <td>21/05/2015</td>\n",
       "      <td>2587</td>\n",
       "    </tr>\n",
       "    <tr>\n",
       "      <th>3</th>\n",
       "      <td>4</td>\n",
       "      <td>Kathleen</td>\n",
       "      <td>Hanner</td>\n",
       "      <td>Female</td>\n",
       "      <td>United States</td>\n",
       "      <td>25</td>\n",
       "      <td>15/10/2017</td>\n",
       "      <td>3549</td>\n",
       "    </tr>\n",
       "    <tr>\n",
       "      <th>4</th>\n",
       "      <td>5</td>\n",
       "      <td>Nereida</td>\n",
       "      <td>Magwood</td>\n",
       "      <td>Female</td>\n",
       "      <td>United States</td>\n",
       "      <td>58</td>\n",
       "      <td>16/08/2016</td>\n",
       "      <td>2468</td>\n",
       "    </tr>\n",
       "    <tr>\n",
       "      <th>...</th>\n",
       "      <td>...</td>\n",
       "      <td>...</td>\n",
       "      <td>...</td>\n",
       "      <td>...</td>\n",
       "      <td>...</td>\n",
       "      <td>...</td>\n",
       "      <td>...</td>\n",
       "      <td>...</td>\n",
       "    </tr>\n",
       "    <tr>\n",
       "      <th>95</th>\n",
       "      <td>96</td>\n",
       "      <td>Roma</td>\n",
       "      <td>Lafollette</td>\n",
       "      <td>Female</td>\n",
       "      <td>United States</td>\n",
       "      <td>34</td>\n",
       "      <td>15/10/2017</td>\n",
       "      <td>2654</td>\n",
       "    </tr>\n",
       "    <tr>\n",
       "      <th>96</th>\n",
       "      <td>97</td>\n",
       "      <td>Felisa</td>\n",
       "      <td>Cail</td>\n",
       "      <td>Female</td>\n",
       "      <td>United States</td>\n",
       "      <td>28</td>\n",
       "      <td>16/08/2016</td>\n",
       "      <td>6525</td>\n",
       "    </tr>\n",
       "    <tr>\n",
       "      <th>97</th>\n",
       "      <td>98</td>\n",
       "      <td>Demetria</td>\n",
       "      <td>Abbey</td>\n",
       "      <td>Female</td>\n",
       "      <td>United States</td>\n",
       "      <td>32</td>\n",
       "      <td>21/05/2015</td>\n",
       "      <td>3265</td>\n",
       "    </tr>\n",
       "    <tr>\n",
       "      <th>98</th>\n",
       "      <td>99</td>\n",
       "      <td>Jeromy</td>\n",
       "      <td>Danz</td>\n",
       "      <td>Male</td>\n",
       "      <td>United States</td>\n",
       "      <td>39</td>\n",
       "      <td>15/10/2017</td>\n",
       "      <td>3265</td>\n",
       "    </tr>\n",
       "    <tr>\n",
       "      <th>99</th>\n",
       "      <td>100</td>\n",
       "      <td>Rasheeda</td>\n",
       "      <td>Alkire</td>\n",
       "      <td>Female</td>\n",
       "      <td>United States</td>\n",
       "      <td>29</td>\n",
       "      <td>16/08/2016</td>\n",
       "      <td>6125</td>\n",
       "    </tr>\n",
       "  </tbody>\n",
       "</table>\n",
       "<p>100 rows × 8 columns</p>\n",
       "</div>"
      ],
      "text/plain": [
       "      0 First Name   Last Name  Gender        Country  Age        Date    Id\n",
       "0     1      Dulce       Abril  Female  United States   32  15/10/2017  1562\n",
       "1     2       Mara   Hashimoto  Female  Great Britain   25  16/08/2016  1582\n",
       "2     3     Philip        Gent    Male         France   36  21/05/2015  2587\n",
       "3     4   Kathleen      Hanner  Female  United States   25  15/10/2017  3549\n",
       "4     5    Nereida     Magwood  Female  United States   58  16/08/2016  2468\n",
       "..  ...        ...         ...     ...            ...  ...         ...   ...\n",
       "95   96       Roma  Lafollette  Female  United States   34  15/10/2017  2654\n",
       "96   97     Felisa        Cail  Female  United States   28  16/08/2016  6525\n",
       "97   98   Demetria       Abbey  Female  United States   32  21/05/2015  3265\n",
       "98   99     Jeromy        Danz    Male  United States   39  15/10/2017  3265\n",
       "99  100   Rasheeda      Alkire  Female  United States   29  16/08/2016  6125\n",
       "\n",
       "[100 rows x 8 columns]"
      ]
     },
     "execution_count": 127,
     "metadata": {},
     "output_type": "execute_result"
    }
   ],
   "source": [
    "excel_file = pd.ExcelFile(\"file_example.xls\")\n",
    "sheet = pd.read_excel(\"file_example.xls\")\n",
    "sheet"
   ]
  },
  {
   "cell_type": "code",
   "execution_count": 129,
   "id": "762112da",
   "metadata": {},
   "outputs": [
    {
     "name": "stdout",
     "output_type": "stream",
     "text": [
      "\n",
      "Sheet1:\n",
      "       0 First Name   Last Name  Gender        Country  Age        Date    Id\n",
      "0     1      Dulce       Abril  Female  United States   32  15/10/2017  1562\n",
      "1     2       Mara   Hashimoto  Female  Great Britain   25  16/08/2016  1582\n",
      "2     3     Philip        Gent    Male         France   36  21/05/2015  2587\n",
      "3     4   Kathleen      Hanner  Female  United States   25  15/10/2017  3549\n",
      "4     5    Nereida     Magwood  Female  United States   58  16/08/2016  2468\n",
      "..  ...        ...         ...     ...            ...  ...         ...   ...\n",
      "95   96       Roma  Lafollette  Female  United States   34  15/10/2017  2654\n",
      "96   97     Felisa        Cail  Female  United States   28  16/08/2016  6525\n",
      "97   98   Demetria       Abbey  Female  United States   32  21/05/2015  3265\n",
      "98   99     Jeromy        Danz    Male  United States   39  15/10/2017  3265\n",
      "99  100   Rasheeda      Alkire  Female  United States   29  16/08/2016  6125\n",
      "\n",
      "[100 rows x 8 columns]\n",
      "\n",
      "Sheet2:\n",
      "       0 First Name   Last Name  Gender        Country  Age\n",
      "0     1      Dulce       Abril  Female  United States   32\n",
      "1     2       Mara   Hashimoto  Female  Great Britain   25\n",
      "2     3     Philip        Gent    Male         France   36\n",
      "3     4   Kathleen      Hanner  Female  United States   25\n",
      "4     5    Nereida     Magwood  Female  United States   58\n",
      "..  ...        ...         ...     ...            ...  ...\n",
      "95   96       Roma  Lafollette  Female  United States   34\n",
      "96   97     Felisa        Cail  Female  United States   28\n",
      "97   98   Demetria       Abbey  Female  United States   32\n",
      "98   99     Jeromy        Danz    Male  United States   39\n",
      "99  100   Rasheeda      Alkire  Female  United States   29\n",
      "\n",
      "[100 rows x 6 columns]\n"
     ]
    }
   ],
   "source": [
    "docu = {}\n",
    "for sheet_name in excel_file.sheet_names:\n",
    "    docu[sheet_name] = excel_file.parse(sheet_name)#On utilise parse pour acceder au contenu de chaque feuille\n",
    "for sheet_name in docu:\n",
    "    print(\"\\n\" + sheet_name + \":\\n\", docu[sheet_name])"
   ]
  },
  {
   "cell_type": "code",
   "execution_count": 130,
   "id": "2933823d",
   "metadata": {},
   "outputs": [],
   "source": [
    "#Acceder la sheet 1\n",
    "sheet1 = docu[\"Sheet1\"].copy()"
   ]
  },
  {
   "cell_type": "code",
   "execution_count": 131,
   "id": "ab9804d8",
   "metadata": {},
   "outputs": [
    {
     "data": {
      "text/html": [
       "<div>\n",
       "<style scoped>\n",
       "    .dataframe tbody tr th:only-of-type {\n",
       "        vertical-align: middle;\n",
       "    }\n",
       "\n",
       "    .dataframe tbody tr th {\n",
       "        vertical-align: top;\n",
       "    }\n",
       "\n",
       "    .dataframe thead th {\n",
       "        text-align: right;\n",
       "    }\n",
       "</style>\n",
       "<table border=\"1\" class=\"dataframe\">\n",
       "  <thead>\n",
       "    <tr style=\"text-align: right;\">\n",
       "      <th></th>\n",
       "      <th>0</th>\n",
       "      <th>First Name</th>\n",
       "      <th>Last Name</th>\n",
       "      <th>Gender</th>\n",
       "      <th>Country</th>\n",
       "      <th>Age</th>\n",
       "      <th>Date</th>\n",
       "      <th>Id</th>\n",
       "    </tr>\n",
       "  </thead>\n",
       "  <tbody>\n",
       "    <tr>\n",
       "      <th>0</th>\n",
       "      <td>1</td>\n",
       "      <td>Dulce</td>\n",
       "      <td>Abril</td>\n",
       "      <td>Female</td>\n",
       "      <td>United States</td>\n",
       "      <td>32</td>\n",
       "      <td>15/10/2017</td>\n",
       "      <td>1562</td>\n",
       "    </tr>\n",
       "    <tr>\n",
       "      <th>1</th>\n",
       "      <td>2</td>\n",
       "      <td>Mara</td>\n",
       "      <td>Hashimoto</td>\n",
       "      <td>Female</td>\n",
       "      <td>Great Britain</td>\n",
       "      <td>25</td>\n",
       "      <td>16/08/2016</td>\n",
       "      <td>1582</td>\n",
       "    </tr>\n",
       "    <tr>\n",
       "      <th>2</th>\n",
       "      <td>3</td>\n",
       "      <td>Philip</td>\n",
       "      <td>Gent</td>\n",
       "      <td>Male</td>\n",
       "      <td>France</td>\n",
       "      <td>36</td>\n",
       "      <td>21/05/2015</td>\n",
       "      <td>2587</td>\n",
       "    </tr>\n",
       "    <tr>\n",
       "      <th>3</th>\n",
       "      <td>4</td>\n",
       "      <td>Kathleen</td>\n",
       "      <td>Hanner</td>\n",
       "      <td>Female</td>\n",
       "      <td>United States</td>\n",
       "      <td>25</td>\n",
       "      <td>15/10/2017</td>\n",
       "      <td>3549</td>\n",
       "    </tr>\n",
       "    <tr>\n",
       "      <th>4</th>\n",
       "      <td>5</td>\n",
       "      <td>Nereida</td>\n",
       "      <td>Magwood</td>\n",
       "      <td>Female</td>\n",
       "      <td>United States</td>\n",
       "      <td>58</td>\n",
       "      <td>16/08/2016</td>\n",
       "      <td>2468</td>\n",
       "    </tr>\n",
       "  </tbody>\n",
       "</table>\n",
       "</div>"
      ],
      "text/plain": [
       "   0 First Name  Last Name  Gender        Country  Age        Date    Id\n",
       "0  1      Dulce      Abril  Female  United States   32  15/10/2017  1562\n",
       "1  2       Mara  Hashimoto  Female  Great Britain   25  16/08/2016  1582\n",
       "2  3     Philip       Gent    Male         France   36  21/05/2015  2587\n",
       "3  4   Kathleen     Hanner  Female  United States   25  15/10/2017  3549\n",
       "4  5    Nereida    Magwood  Female  United States   58  16/08/2016  2468"
      ]
     },
     "execution_count": 131,
     "metadata": {},
     "output_type": "execute_result"
    }
   ],
   "source": [
    "sheet1.head()"
   ]
  },
  {
   "cell_type": "code",
   "execution_count": 132,
   "id": "6a3522bd",
   "metadata": {},
   "outputs": [
    {
     "name": "stdout",
     "output_type": "stream",
     "text": [
      "Requirement already satisfied: openpyxl in c:\\users\\amaro\\anaconda3\\lib\\site-packages (3.1.2)\n",
      "Requirement already satisfied: et-xmlfile in c:\\users\\amaro\\anaconda3\\lib\\site-packages (from openpyxl) (1.1.0)\n",
      "Note: you may need to restart the kernel to use updated packages.\n"
     ]
    }
   ],
   "source": [
    "%pip install openpyxl"
   ]
  },
  {
   "cell_type": "code",
   "execution_count": 134,
   "id": "c1fbc5d6",
   "metadata": {},
   "outputs": [],
   "source": [
    "writer = pd.ExcelWriter('autre_fichier.xlsx')\n",
    "sheet1.to_excel(writer,'autre_fichier.xlsx')"
   ]
  },
  {
   "cell_type": "markdown",
   "id": "9aefe02a",
   "metadata": {},
   "source": [
    "TRAITER AVEC NAN"
   ]
  },
  {
   "cell_type": "code",
   "execution_count": 45,
   "id": "9f74f0d7",
   "metadata": {},
   "outputs": [
    {
     "ename": "FileNotFoundError",
     "evalue": "[Errno 2] No such file or directory: 'temperatures.csv'",
     "output_type": "error",
     "traceback": [
      "\u001b[0;31m---------------------------------------------------------------------------\u001b[0m",
      "\u001b[0;31mFileNotFoundError\u001b[0m                         Traceback (most recent call last)",
      "\u001b[0;32m/tmp/ipykernel_290133/1893003757.py\u001b[0m in \u001b[0;36m<module>\u001b[0;34m\u001b[0m\n\u001b[0;32m----> 1\u001b[0;31m \u001b[0mtemp_df\u001b[0m \u001b[0;34m=\u001b[0m \u001b[0mpd\u001b[0m\u001b[0;34m.\u001b[0m\u001b[0mread_csv\u001b[0m\u001b[0;34m(\u001b[0m\u001b[0;34m\"temperatures.csv\"\u001b[0m\u001b[0;34m,\u001b[0m\u001b[0msep\u001b[0m\u001b[0;34m=\u001b[0m\u001b[0;34m\";\"\u001b[0m\u001b[0;34m,\u001b[0m\u001b[0mdecimal\u001b[0m\u001b[0;34m=\u001b[0m\u001b[0;34m\",\"\u001b[0m\u001b[0;34m)\u001b[0m\u001b[0;34m\u001b[0m\u001b[0;34m\u001b[0m\u001b[0m\n\u001b[0m\u001b[1;32m      2\u001b[0m \u001b[0mtemp_df\u001b[0m\u001b[0;34m.\u001b[0m\u001b[0mhead\u001b[0m\u001b[0;34m(\u001b[0m\u001b[0;34m)\u001b[0m\u001b[0;34m\u001b[0m\u001b[0;34m\u001b[0m\u001b[0m\n",
      "\u001b[0;32m~/anaconda3/lib/python3.9/site-packages/pandas/util/_decorators.py\u001b[0m in \u001b[0;36mwrapper\u001b[0;34m(*args, **kwargs)\u001b[0m\n\u001b[1;32m    309\u001b[0m                     \u001b[0mstacklevel\u001b[0m\u001b[0;34m=\u001b[0m\u001b[0mstacklevel\u001b[0m\u001b[0;34m,\u001b[0m\u001b[0;34m\u001b[0m\u001b[0;34m\u001b[0m\u001b[0m\n\u001b[1;32m    310\u001b[0m                 )\n\u001b[0;32m--> 311\u001b[0;31m             \u001b[0;32mreturn\u001b[0m \u001b[0mfunc\u001b[0m\u001b[0;34m(\u001b[0m\u001b[0;34m*\u001b[0m\u001b[0margs\u001b[0m\u001b[0;34m,\u001b[0m \u001b[0;34m**\u001b[0m\u001b[0mkwargs\u001b[0m\u001b[0;34m)\u001b[0m\u001b[0;34m\u001b[0m\u001b[0;34m\u001b[0m\u001b[0m\n\u001b[0m\u001b[1;32m    312\u001b[0m \u001b[0;34m\u001b[0m\u001b[0m\n\u001b[1;32m    313\u001b[0m         \u001b[0;32mreturn\u001b[0m \u001b[0mwrapper\u001b[0m\u001b[0;34m\u001b[0m\u001b[0;34m\u001b[0m\u001b[0m\n",
      "\u001b[0;32m~/anaconda3/lib/python3.9/site-packages/pandas/io/parsers/readers.py\u001b[0m in \u001b[0;36mread_csv\u001b[0;34m(filepath_or_buffer, sep, delimiter, header, names, index_col, usecols, squeeze, prefix, mangle_dupe_cols, dtype, engine, converters, true_values, false_values, skipinitialspace, skiprows, skipfooter, nrows, na_values, keep_default_na, na_filter, verbose, skip_blank_lines, parse_dates, infer_datetime_format, keep_date_col, date_parser, dayfirst, cache_dates, iterator, chunksize, compression, thousands, decimal, lineterminator, quotechar, quoting, doublequote, escapechar, comment, encoding, encoding_errors, dialect, error_bad_lines, warn_bad_lines, on_bad_lines, delim_whitespace, low_memory, memory_map, float_precision, storage_options)\u001b[0m\n\u001b[1;32m    676\u001b[0m     \u001b[0mkwds\u001b[0m\u001b[0;34m.\u001b[0m\u001b[0mupdate\u001b[0m\u001b[0;34m(\u001b[0m\u001b[0mkwds_defaults\u001b[0m\u001b[0;34m)\u001b[0m\u001b[0;34m\u001b[0m\u001b[0;34m\u001b[0m\u001b[0m\n\u001b[1;32m    677\u001b[0m \u001b[0;34m\u001b[0m\u001b[0m\n\u001b[0;32m--> 678\u001b[0;31m     \u001b[0;32mreturn\u001b[0m \u001b[0m_read\u001b[0m\u001b[0;34m(\u001b[0m\u001b[0mfilepath_or_buffer\u001b[0m\u001b[0;34m,\u001b[0m \u001b[0mkwds\u001b[0m\u001b[0;34m)\u001b[0m\u001b[0;34m\u001b[0m\u001b[0;34m\u001b[0m\u001b[0m\n\u001b[0m\u001b[1;32m    679\u001b[0m \u001b[0;34m\u001b[0m\u001b[0m\n\u001b[1;32m    680\u001b[0m \u001b[0;34m\u001b[0m\u001b[0m\n",
      "\u001b[0;32m~/anaconda3/lib/python3.9/site-packages/pandas/io/parsers/readers.py\u001b[0m in \u001b[0;36m_read\u001b[0;34m(filepath_or_buffer, kwds)\u001b[0m\n\u001b[1;32m    573\u001b[0m \u001b[0;34m\u001b[0m\u001b[0m\n\u001b[1;32m    574\u001b[0m     \u001b[0;31m# Create the parser.\u001b[0m\u001b[0;34m\u001b[0m\u001b[0;34m\u001b[0m\u001b[0m\n\u001b[0;32m--> 575\u001b[0;31m     \u001b[0mparser\u001b[0m \u001b[0;34m=\u001b[0m \u001b[0mTextFileReader\u001b[0m\u001b[0;34m(\u001b[0m\u001b[0mfilepath_or_buffer\u001b[0m\u001b[0;34m,\u001b[0m \u001b[0;34m**\u001b[0m\u001b[0mkwds\u001b[0m\u001b[0;34m)\u001b[0m\u001b[0;34m\u001b[0m\u001b[0;34m\u001b[0m\u001b[0m\n\u001b[0m\u001b[1;32m    576\u001b[0m \u001b[0;34m\u001b[0m\u001b[0m\n\u001b[1;32m    577\u001b[0m     \u001b[0;32mif\u001b[0m \u001b[0mchunksize\u001b[0m \u001b[0;32mor\u001b[0m \u001b[0miterator\u001b[0m\u001b[0;34m:\u001b[0m\u001b[0;34m\u001b[0m\u001b[0;34m\u001b[0m\u001b[0m\n",
      "\u001b[0;32m~/anaconda3/lib/python3.9/site-packages/pandas/io/parsers/readers.py\u001b[0m in \u001b[0;36m__init__\u001b[0;34m(self, f, engine, **kwds)\u001b[0m\n\u001b[1;32m    930\u001b[0m \u001b[0;34m\u001b[0m\u001b[0m\n\u001b[1;32m    931\u001b[0m         \u001b[0mself\u001b[0m\u001b[0;34m.\u001b[0m\u001b[0mhandles\u001b[0m\u001b[0;34m:\u001b[0m \u001b[0mIOHandles\u001b[0m \u001b[0;34m|\u001b[0m \u001b[0;32mNone\u001b[0m \u001b[0;34m=\u001b[0m \u001b[0;32mNone\u001b[0m\u001b[0;34m\u001b[0m\u001b[0;34m\u001b[0m\u001b[0m\n\u001b[0;32m--> 932\u001b[0;31m         \u001b[0mself\u001b[0m\u001b[0;34m.\u001b[0m\u001b[0m_engine\u001b[0m \u001b[0;34m=\u001b[0m \u001b[0mself\u001b[0m\u001b[0;34m.\u001b[0m\u001b[0m_make_engine\u001b[0m\u001b[0;34m(\u001b[0m\u001b[0mf\u001b[0m\u001b[0;34m,\u001b[0m \u001b[0mself\u001b[0m\u001b[0;34m.\u001b[0m\u001b[0mengine\u001b[0m\u001b[0;34m)\u001b[0m\u001b[0;34m\u001b[0m\u001b[0;34m\u001b[0m\u001b[0m\n\u001b[0m\u001b[1;32m    933\u001b[0m \u001b[0;34m\u001b[0m\u001b[0m\n\u001b[1;32m    934\u001b[0m     \u001b[0;32mdef\u001b[0m \u001b[0mclose\u001b[0m\u001b[0;34m(\u001b[0m\u001b[0mself\u001b[0m\u001b[0;34m)\u001b[0m\u001b[0;34m:\u001b[0m\u001b[0;34m\u001b[0m\u001b[0;34m\u001b[0m\u001b[0m\n",
      "\u001b[0;32m~/anaconda3/lib/python3.9/site-packages/pandas/io/parsers/readers.py\u001b[0m in \u001b[0;36m_make_engine\u001b[0;34m(self, f, engine)\u001b[0m\n\u001b[1;32m   1214\u001b[0m             \u001b[0;31m# \"Union[str, PathLike[str], ReadCsvBuffer[bytes], ReadCsvBuffer[str]]\"\u001b[0m\u001b[0;34m\u001b[0m\u001b[0;34m\u001b[0m\u001b[0m\n\u001b[1;32m   1215\u001b[0m             \u001b[0;31m# , \"str\", \"bool\", \"Any\", \"Any\", \"Any\", \"Any\", \"Any\"\u001b[0m\u001b[0;34m\u001b[0m\u001b[0;34m\u001b[0m\u001b[0m\n\u001b[0;32m-> 1216\u001b[0;31m             self.handles = get_handle(  # type: ignore[call-overload]\n\u001b[0m\u001b[1;32m   1217\u001b[0m                 \u001b[0mf\u001b[0m\u001b[0;34m,\u001b[0m\u001b[0;34m\u001b[0m\u001b[0;34m\u001b[0m\u001b[0m\n\u001b[1;32m   1218\u001b[0m                 \u001b[0mmode\u001b[0m\u001b[0;34m,\u001b[0m\u001b[0;34m\u001b[0m\u001b[0;34m\u001b[0m\u001b[0m\n",
      "\u001b[0;32m~/anaconda3/lib/python3.9/site-packages/pandas/io/common.py\u001b[0m in \u001b[0;36mget_handle\u001b[0;34m(path_or_buf, mode, encoding, compression, memory_map, is_text, errors, storage_options)\u001b[0m\n\u001b[1;32m    784\u001b[0m         \u001b[0;32mif\u001b[0m \u001b[0mioargs\u001b[0m\u001b[0;34m.\u001b[0m\u001b[0mencoding\u001b[0m \u001b[0;32mand\u001b[0m \u001b[0;34m\"b\"\u001b[0m \u001b[0;32mnot\u001b[0m \u001b[0;32min\u001b[0m \u001b[0mioargs\u001b[0m\u001b[0;34m.\u001b[0m\u001b[0mmode\u001b[0m\u001b[0;34m:\u001b[0m\u001b[0;34m\u001b[0m\u001b[0;34m\u001b[0m\u001b[0m\n\u001b[1;32m    785\u001b[0m             \u001b[0;31m# Encoding\u001b[0m\u001b[0;34m\u001b[0m\u001b[0;34m\u001b[0m\u001b[0m\n\u001b[0;32m--> 786\u001b[0;31m             handle = open(\n\u001b[0m\u001b[1;32m    787\u001b[0m                 \u001b[0mhandle\u001b[0m\u001b[0;34m,\u001b[0m\u001b[0;34m\u001b[0m\u001b[0;34m\u001b[0m\u001b[0m\n\u001b[1;32m    788\u001b[0m                 \u001b[0mioargs\u001b[0m\u001b[0;34m.\u001b[0m\u001b[0mmode\u001b[0m\u001b[0;34m,\u001b[0m\u001b[0;34m\u001b[0m\u001b[0;34m\u001b[0m\u001b[0m\n",
      "\u001b[0;31mFileNotFoundError\u001b[0m: [Errno 2] No such file or directory: 'temperatures.csv'"
     ]
    }
   ],
   "source": [
    "temp_df = pd.read_csv(\"temperatures.csv\",sep=\";\",decimal=\",\")\n",
    "temp_df.head()"
   ]
  },
  {
   "cell_type": "code",
   "execution_count": 44,
   "id": "933ad0d5",
   "metadata": {},
   "outputs": [
    {
     "ename": "NameError",
     "evalue": "name 'temp_df' is not defined",
     "output_type": "error",
     "traceback": [
      "\u001b[0;31m---------------------------------------------------------------------------\u001b[0m",
      "\u001b[0;31mNameError\u001b[0m                                 Traceback (most recent call last)",
      "\u001b[0;32m/tmp/ipykernel_290133/3101693915.py\u001b[0m in \u001b[0;36m<module>\u001b[0;34m\u001b[0m\n\u001b[0;32m----> 1\u001b[0;31m \u001b[0mtemp_df\u001b[0m\u001b[0;34m.\u001b[0m\u001b[0mcolumns\u001b[0m \u001b[0;34m=\u001b[0m \u001b[0;34m[\u001b[0m\u001b[0;34m\"time\"\u001b[0m\u001b[0;34m,\u001b[0m\u001b[0;34m\"sensor1\"\u001b[0m\u001b[0;34m,\u001b[0m \u001b[0;34m\"sensor2\"\u001b[0m\u001b[0;34m,\u001b[0m\u001b[0;34m\"sensor3\"\u001b[0m\u001b[0;34m,\u001b[0m\u001b[0;34m\"sensor4\"\u001b[0m\u001b[0;34m,\u001b[0m\u001b[0;34m\"sensor5\"\u001b[0m\u001b[0;34m,\u001b[0m\u001b[0;34m\"sensor6\"\u001b[0m\u001b[0;34m]\u001b[0m\u001b[0;34m\u001b[0m\u001b[0;34m\u001b[0m\u001b[0m\n\u001b[0m",
      "\u001b[0;31mNameError\u001b[0m: name 'temp_df' is not defined"
     ]
    }
   ],
   "source": [
    "temp_df.columns = [\"time\",\"sensor1\", \"sensor2\",\"sensor3\",\"sensor4\",\"sensor5\",\"sensor6\"]"
   ]
  },
  {
   "cell_type": "code",
   "execution_count": 141,
   "id": "508204cb",
   "metadata": {},
   "outputs": [
    {
     "data": {
      "text/plain": [
       "time       0\n",
       "sensor1    0\n",
       "sensor2    0\n",
       "sensor3    0\n",
       "sensor4    0\n",
       "sensor5    0\n",
       "sensor6    6\n",
       "dtype: int64"
      ]
     },
     "execution_count": 141,
     "metadata": {},
     "output_type": "execute_result"
    }
   ],
   "source": [
    "# Pour vérifier si nous avons NaN ou nulls\n",
    "temp_df.isnull().sum() #oubien isna()"
   ]
  },
  {
   "cell_type": "markdown",
   "id": "d650cf3f",
   "metadata": {},
   "source": [
    "UTILISATION DE DROPNA SUR LA DATAFRAME"
   ]
  },
  {
   "cell_type": "code",
   "execution_count": 142,
   "id": "10e8bb30",
   "metadata": {},
   "outputs": [
    {
     "data": {
      "text/plain": [
       "time       0\n",
       "sensor1    0\n",
       "sensor2    0\n",
       "sensor3    0\n",
       "sensor4    0\n",
       "sensor5    0\n",
       "sensor6    0\n",
       "dtype: int64"
      ]
     },
     "execution_count": 142,
     "metadata": {},
     "output_type": "execute_result"
    }
   ],
   "source": [
    "df = temp_df.dropna()\n",
    "df.isna().sum()"
   ]
  },
  {
   "cell_type": "code",
   "execution_count": 143,
   "id": "a4cbc3b9",
   "metadata": {},
   "outputs": [
    {
     "data": {
      "text/html": [
       "<div>\n",
       "<style scoped>\n",
       "    .dataframe tbody tr th:only-of-type {\n",
       "        vertical-align: middle;\n",
       "    }\n",
       "\n",
       "    .dataframe tbody tr th {\n",
       "        vertical-align: top;\n",
       "    }\n",
       "\n",
       "    .dataframe thead th {\n",
       "        text-align: right;\n",
       "    }\n",
       "</style>\n",
       "<table border=\"1\" class=\"dataframe\">\n",
       "  <thead>\n",
       "    <tr style=\"text-align: right;\">\n",
       "      <th></th>\n",
       "      <th>time</th>\n",
       "      <th>sensor1</th>\n",
       "      <th>sensor2</th>\n",
       "      <th>sensor3</th>\n",
       "      <th>sensor4</th>\n",
       "      <th>sensor5</th>\n",
       "      <th>sensor6</th>\n",
       "    </tr>\n",
       "  </thead>\n",
       "  <tbody>\n",
       "    <tr>\n",
       "      <th>1</th>\n",
       "      <td>06:15:00</td>\n",
       "      <td>14,5</td>\n",
       "      <td>14.5</td>\n",
       "      <td>14,0</td>\n",
       "      <td>15,0</td>\n",
       "      <td>14,5</td>\n",
       "      <td>14.7</td>\n",
       "    </tr>\n",
       "    <tr>\n",
       "      <th>2</th>\n",
       "      <td>06:30:00</td>\n",
       "      <td>14,6</td>\n",
       "      <td>15.1</td>\n",
       "      <td>14,8</td>\n",
       "      <td>15,3</td>\n",
       "      <td>14,0</td>\n",
       "      <td>14.2</td>\n",
       "    </tr>\n",
       "    <tr>\n",
       "      <th>3</th>\n",
       "      <td>06:45:00</td>\n",
       "      <td>14,8</td>\n",
       "      <td>14.5</td>\n",
       "      <td>15,6</td>\n",
       "      <td>15,2</td>\n",
       "      <td>14,7</td>\n",
       "      <td>14.6</td>\n",
       "    </tr>\n",
       "    <tr>\n",
       "      <th>4</th>\n",
       "      <td>07:00:00</td>\n",
       "      <td>15,0</td>\n",
       "      <td>14.9</td>\n",
       "      <td>15,7</td>\n",
       "      <td>15,6</td>\n",
       "      <td>14,0</td>\n",
       "      <td>15.3</td>\n",
       "    </tr>\n",
       "    <tr>\n",
       "      <th>6</th>\n",
       "      <td>07:30:00</td>\n",
       "      <td>15,4</td>\n",
       "      <td>15.3</td>\n",
       "      <td>15,6</td>\n",
       "      <td>15,6</td>\n",
       "      <td>14,7</td>\n",
       "      <td>15.1</td>\n",
       "    </tr>\n",
       "  </tbody>\n",
       "</table>\n",
       "</div>"
      ],
      "text/plain": [
       "       time sensor1  sensor2 sensor3 sensor4 sensor5  sensor6\n",
       "1  06:15:00    14,5     14.5    14,0    15,0    14,5     14.7\n",
       "2  06:30:00    14,6     15.1    14,8    15,3    14,0     14.2\n",
       "3  06:45:00    14,8     14.5    15,6    15,2    14,7     14.6\n",
       "4  07:00:00    15,0     14.9    15,7    15,6    14,0     15.3\n",
       "6  07:30:00    15,4     15.3    15,6    15,6    14,7     15.1"
      ]
     },
     "execution_count": 143,
     "metadata": {},
     "output_type": "execute_result"
    }
   ],
   "source": [
    "df.head()"
   ]
  },
  {
   "cell_type": "code",
   "execution_count": 144,
   "id": "b6bf87be",
   "metadata": {},
   "outputs": [
    {
     "data": {
      "text/html": [
       "<div>\n",
       "<style scoped>\n",
       "    .dataframe tbody tr th:only-of-type {\n",
       "        vertical-align: middle;\n",
       "    }\n",
       "\n",
       "    .dataframe tbody tr th {\n",
       "        vertical-align: top;\n",
       "    }\n",
       "\n",
       "    .dataframe thead th {\n",
       "        text-align: right;\n",
       "    }\n",
       "</style>\n",
       "<table border=\"1\" class=\"dataframe\">\n",
       "  <thead>\n",
       "    <tr style=\"text-align: right;\">\n",
       "      <th></th>\n",
       "      <th>time</th>\n",
       "      <th>sensor1</th>\n",
       "      <th>sensor2</th>\n",
       "      <th>sensor3</th>\n",
       "      <th>sensor4</th>\n",
       "      <th>sensor5</th>\n",
       "    </tr>\n",
       "  </thead>\n",
       "  <tbody>\n",
       "    <tr>\n",
       "      <th>0</th>\n",
       "      <td>06:00:00</td>\n",
       "      <td>14,,7</td>\n",
       "      <td>14.2</td>\n",
       "      <td>14,3</td>\n",
       "      <td>13,5</td>\n",
       "      <td>13,6</td>\n",
       "    </tr>\n",
       "    <tr>\n",
       "      <th>1</th>\n",
       "      <td>06:15:00</td>\n",
       "      <td>14,5</td>\n",
       "      <td>14.5</td>\n",
       "      <td>14,0</td>\n",
       "      <td>15,0</td>\n",
       "      <td>14,5</td>\n",
       "    </tr>\n",
       "    <tr>\n",
       "      <th>2</th>\n",
       "      <td>06:30:00</td>\n",
       "      <td>14,6</td>\n",
       "      <td>15.1</td>\n",
       "      <td>14,8</td>\n",
       "      <td>15,3</td>\n",
       "      <td>14,0</td>\n",
       "    </tr>\n",
       "    <tr>\n",
       "      <th>3</th>\n",
       "      <td>06:45:00</td>\n",
       "      <td>14,8</td>\n",
       "      <td>14.5</td>\n",
       "      <td>15,6</td>\n",
       "      <td>15,2</td>\n",
       "      <td>14,7</td>\n",
       "    </tr>\n",
       "    <tr>\n",
       "      <th>4</th>\n",
       "      <td>07:00:00</td>\n",
       "      <td>15,0</td>\n",
       "      <td>14.9</td>\n",
       "      <td>15,7</td>\n",
       "      <td>15,6</td>\n",
       "      <td>14,0</td>\n",
       "    </tr>\n",
       "  </tbody>\n",
       "</table>\n",
       "</div>"
      ],
      "text/plain": [
       "       time sensor1  sensor2 sensor3 sensor4 sensor5\n",
       "0  06:00:00   14,,7     14.2    14,3    13,5    13,6\n",
       "1  06:15:00    14,5     14.5    14,0    15,0    14,5\n",
       "2  06:30:00    14,6     15.1    14,8    15,3    14,0\n",
       "3  06:45:00    14,8     14.5    15,6    15,2    14,7\n",
       "4  07:00:00    15,0     14.9    15,7    15,6    14,0"
      ]
     },
     "execution_count": 144,
     "metadata": {},
     "output_type": "execute_result"
    }
   ],
   "source": [
    "#'dropna' peut également être utilisé pour supprimer toutes les colonnes\n",
    "#dans lesquelles certaines valeurs sont NaN\n",
    "df = temp_df.dropna(axis=1)\n",
    "df.head()"
   ]
  },
  {
   "cell_type": "markdown",
   "id": "15361da8",
   "metadata": {},
   "source": [
    "VISUALISATION DES DONNÉES AVEC PANDAS"
   ]
  },
  {
   "cell_type": "code",
   "execution_count": 145,
   "id": "8925e015",
   "metadata": {},
   "outputs": [
    {
     "data": {
      "text/plain": [
       "<Axes: >"
      ]
     },
     "execution_count": 145,
     "metadata": {},
     "output_type": "execute_result"
    },
    {
     "data": {
      "image/png": "[encoded data removed]",
      "text/plain": [
       "<Figure size 640x480 with 1 Axes>"
      ]
     },
     "metadata": {},
     "output_type": "display_data"
    }
   ],
   "source": [
    "data = [100, 120, 140, 180, 200, 210, 214]\n",
    "s = pd.Series(data, index=range(len(data)))\n",
    "s.plot()"
   ]
  },
  {
   "cell_type": "code",
   "execution_count": 146,
   "id": "9b1aee32",
   "metadata": {},
   "outputs": [
    {
     "data": {
      "text/plain": [
       "<Axes: >"
      ]
     },
     "execution_count": 146,
     "metadata": {},
     "output_type": "execute_result"
    },
    {
     "data": {
      "image/png": "[encoded data removed]",
      "text/plain": [
       "<Figure size 640x480 with 1 Axes>"
      ]
     },
     "metadata": {},
     "output_type": "display_data"
    }
   ],
   "source": [
    "fruits = ['apples', 'oranges', 'cherries', 'pears']\n",
    "quantities = [20, 33, 52, 10]\n",
    "S = pd.Series(quantities, index=fruits)\n",
    "S.plot()"
   ]
  },
  {
   "cell_type": "code",
   "execution_count": 51,
   "id": "eda12680",
   "metadata": {},
   "outputs": [
    {
     "name": "stdout",
     "output_type": "stream",
     "text": [
      "           population     area\n",
      "London        8615246  1572.00\n",
      "Berlin        3562166   891.85\n",
      "Madrid        3165235   605.77\n",
      "Rome          2874038  1285.00\n",
      "Paris         2273305   105.40\n",
      "Vienna        1805681   414.60\n",
      "Bucharest     1803425   228.00\n",
      "Hamburg       1760433   755.00\n",
      "Budapest      1754000   525.20\n",
      "Warsaw        1740119   517.00\n",
      "Barcelona     1602386   101.90\n",
      "Munich        1493900   310.40\n",
      "Milan         1350680   181.80\n"
     ]
    }
   ],
   "source": [
    "cities = {\"name\": [\"London\", \"Berlin\", \"Madrid\", \"Rome\",\n",
    "\"Paris\", \"Vienna\", \"Bucharest\", \"Hamburg\",\"Budapest\", \"Warsaw\", \"Barcelona\",\"Munich\", \"Milan\"],\n",
    "\"population\": [8615246, 3562166, 3165235, 2874038,2273305, 1805681, 1803425, 1760433,\n",
    "1754000, 1740119, 1602386, 1493900,1350680],\n",
    "\"area\" : [1572, 891.85, 605.77, 1285,105.4, 414.6, 228, 755,525.2, 517, 101.9, 310.4,181.8]\n",
    "}\n",
    "city_frame = pd.DataFrame(cities,columns=[\"population\", \"area\"],index=cities[\"name\"])\n",
    "print(city_frame)"
   ]
  },
  {
   "cell_type": "code",
   "execution_count": 52,
   "id": "08c51afb",
   "metadata": {},
   "outputs": [
    {
     "data": {
      "text/plain": [
       "<AxesSubplot:>"
      ]
     },
     "execution_count": 52,
     "metadata": {},
     "output_type": "execute_result"
    },
    {
     "data": {
      "image/png": "[encoded data removed]",
      "text/plain": [
       "<Figure size 640x480 with 1 Axes>"
      ]
     },
     "metadata": {},
     "output_type": "display_data"
    }
   ],
   "source": [
    "city_frame[\"area\"] *= 1000 \n",
    "city_frame.plot()"
   ]
  },
  {
   "cell_type": "markdown",
   "id": "2457f582",
   "metadata": {},
   "source": [
    "Ce tracé n'est pas à la hauteur de nos attentes, car tous les noms de villes ne sont pas\n",
    "apparaissent sur l'axe des x. Nous pouvons changer cela en définissant explicitement les xticks avec\n",
    "\"range(len((city_frame.index))\". De plus, nous devons définir use_index sur True,\n",
    "pour que nous obtenions des noms de villes et non des nombres de 0 à len((city_frame.index):"
   ]
  },
  {
   "cell_type": "code",
   "execution_count": 53,
   "id": "91708272",
   "metadata": {},
   "outputs": [
    {
     "data": {
      "text/plain": [
       "<AxesSubplot:>"
      ]
     },
     "execution_count": 53,
     "metadata": {},
     "output_type": "execute_result"
    },
    {
     "data": {
      "image/png": "[encoded data removed]",
      "text/plain": [
       "<Figure size 640x480 with 1 Axes>"
      ]
     },
     "metadata": {},
     "output_type": "display_data"
    }
   ],
   "source": [
    "city_frame.plot(xticks=range(len(city_frame.index)),\n",
    "use_index=True)"
   ]
  },
  {
   "cell_type": "code",
   "execution_count": 54,
   "id": "471702aa",
   "metadata": {},
   "outputs": [
    {
     "data": {
      "text/plain": [
       "<AxesSubplot:>"
      ]
     },
     "execution_count": 54,
     "metadata": {},
     "output_type": "execute_result"
    },
    {
     "data": {
      "image/png": "[encoded data removed]",
      "text/plain": [
       "<Figure size 640x480 with 1 Axes>"
      ]
     },
     "metadata": {},
     "output_type": "display_data"
    }
   ],
   "source": [
    "city_frame.plot(xticks=range(len(city_frame.index)),use_index=True,rot=90)"
   ]
  },
  {
   "cell_type": "markdown",
   "id": "0a7152b8",
   "metadata": {},
   "source": [
    "BAR PLOTS EN PANDAS"
   ]
  },
  {
   "cell_type": "code",
   "execution_count": 59,
   "id": "5a755f03",
   "metadata": {},
   "outputs": [
    {
     "data": {
      "text/plain": [
       "<AxesSubplot:>"
      ]
     },
     "execution_count": 59,
     "metadata": {},
     "output_type": "execute_result"
    },
    {
     "data": {
      "image/png": "[encoded data removed]",
      "text/plain": [
       "<Figure size 640x480 with 1 Axes>"
      ]
     },
     "metadata": {},
     "output_type": "display_data"
    }
   ],
   "source": [
    "data = [100, 120, 140, 180, 200, 210, 214]\n",
    "s = pd.Series(data, index=range(len(data)))\n",
    "s.plot(kind='bar')"
   ]
  },
  {
   "cell_type": "markdown",
   "id": "ad5669cf",
   "metadata": {},
   "source": [
    "DIAGRAMMES CAMETIERS(PIE CHARTS) EN PANDAS"
   ]
  },
  {
   "cell_type": "code",
   "execution_count": 64,
   "id": "36b37186",
   "metadata": {},
   "outputs": [
    {
     "name": "stdout",
     "output_type": "stream",
     "text": [
      "apples      20\n",
      "pears       30\n",
      "cherries    40\n",
      "bananas     10\n",
      "Name: series, dtype: int64\n"
     ]
    },
    {
     "data": {
      "text/plain": [
       "<AxesSubplot:ylabel='series'>"
      ]
     },
     "execution_count": 64,
     "metadata": {},
     "output_type": "execute_result"
    },
    {
     "data": {
      "image/png": "[encoded data removed]",
      "text/plain": [
       "<Figure size 640x480 with 1 Axes>"
      ]
     },
     "metadata": {},
     "output_type": "display_data"
    }
   ],
   "source": [
    "fruits = ['apples', 'pears', 'cherries', 'bananas']\n",
    "series = pd.Series([20, 30, 40, 10],index=fruits,name='series')\n",
    "print(series)\n",
    "series.plot.pie()\n"
   ]
  },
  {
   "cell_type": "code",
   "execution_count": null,
   "id": "d1ec3054",
   "metadata": {},
   "outputs": [],
   "source": []
  }
 ],
 "metadata": {
  "kernelspec": {
   "display_name": "Python 3 (ipykernel)",
   "language": "python",
   "name": "python3"
  },
  "language_info": {
   "codemirror_mode": {
    "name": "ipython",
    "version": 3
   },
   "file_extension": ".py",
   "mimetype": "text/x-python",
   "name": "python",
   "nbconvert_exporter": "python",
   "pygments_lexer": "ipython3",
   "version": "3.9.13"
  }
 },
 "nbformat": 4,
 "nbformat_minor": 5
}
