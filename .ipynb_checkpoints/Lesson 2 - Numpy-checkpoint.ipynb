{
 "cells": [
  {
   "cell_type": "markdown",
   "id": "0313999f",
   "metadata": {},
   "source": [
    "#### Introduction"
   ]
  },
  {
   "cell_type": "markdown",
   "id": "eb67f5dd",
   "metadata": {},
   "source": [
    "##### NumPy (Numeric Python\" ou \"Numerical Python) est l’un des packages fondamentaux pour tout ce qui concerne les traitements scientifiques dans Python. Il contient des fonctionnalités dédiées aux tableaux multidimensionnels, des fonctions mathématiques de haut niveau, comme les opérations d’algèbre linéaire"
   ]
  },
  {
   "cell_type": "markdown",
   "id": "460cefa7",
   "metadata": {},
   "source": [
    "#### Lorsque vous téléchargez anaconda, de nombreux packages sont déjà installés pour vous, il vous suffit de l'importer."
   ]
  },
  {
   "cell_type": "code",
   "execution_count": 2,
   "id": "86762fdb",
   "metadata": {},
   "outputs": [],
   "source": [
    "#Pour voir la liste des packages qui sont installés"
   ]
  },
  {
   "cell_type": "code",
   "execution_count": 3,
   "id": "f81ce6c8",
   "metadata": {},
   "outputs": [
    {
     "name": "stdout",
     "output_type": "stream",
     "text": [
      "# packages in environment at C:\\Users\\Amaro\\Anaconda3:\n",
      "#\n",
      "# Name                    Version                   Build  Channel\n",
      "anaconda-client           1.11.2          py310haa95532_0  \n",
      "anaconda-navigator        2.4.0           py310haa95532_0  \n",
      "anaconda-project          0.11.1          py310haa95532_0  \n",
      "anyio                     3.5.0           py310haa95532_0  \n",
      "argon2-cffi               21.3.0             pyhd3eb1b0_0  \n",
      "argon2-cffi-bindings      21.2.0          py310h2bbff1b_0  \n",
      "asttokens                 2.0.5              pyhd3eb1b0_0  \n",
      "attrs                     22.1.0          py310haa95532_0  \n",
      "backcall                  0.2.0              pyhd3eb1b0_0  \n",
      "backports                 1.1                pyhd3eb1b0_0  \n",
      "backports.functools_lru_cache 1.6.4              pyhd3eb1b0_0  \n",
      "backports.tempfile        1.0                pyhd3eb1b0_1  \n",
      "backports.weakref         1.0.post1                  py_1  \n",
      "beautifulsoup4            4.12.2          py310haa95532_0  \n",
      "bleach                    4.1.0              pyhd3eb1b0_0  \n",
      "boltons                   23.0.0          py310haa95532_0  \n",
      "brotlipy                  0.7.0           py310h2bbff1b_1002  \n",
      "bzip2                     1.0.8                he774522_0  \n",
      "ca-certificates           2023.01.10           haa95532_0  \n",
      "certifi                   2023.5.7        py310haa95532_0  \n",
      "cffi                      1.15.1          py310h2bbff1b_3  \n",
      "chardet                   4.0.0           py310haa95532_1003  \n",
      "charset-normalizer        2.0.4              pyhd3eb1b0_0  \n",
      "click                     8.0.4           py310haa95532_0  \n",
      "clyent                    1.2.2           py310haa95532_1  \n",
      "colorama                  0.4.6           py310haa95532_0  \n",
      "comm                      0.1.2           py310haa95532_0  \n",
      "conda                     23.3.1          py310haa95532_0  \n",
      "conda-build               3.24.0          py310haa95532_0  \n",
      "conda-content-trust       0.1.3           py310haa95532_0  \n",
      "conda-pack                0.6.0              pyhd3eb1b0_0  \n",
      "conda-package-handling    2.0.2           py310haa95532_0  \n",
      "conda-package-streaming   0.7.0           py310haa95532_0  \n",
      "conda-repo-cli            1.0.41          py310haa95532_0  \n",
      "conda-token               0.4.0              pyhd3eb1b0_0  \n",
      "conda-verify              3.4.2                      py_1  \n",
      "console_shortcut          0.1.1                         4  \n",
      "contourpy                 1.0.7                    pypi_0    pypi\n",
      "cryptography              39.0.1          py310h21b164f_0  \n",
      "cycler                    0.11.0                   pypi_0    pypi\n",
      "debugpy                   1.5.1           py310hd77b12b_0  \n",
      "decorator                 5.1.1              pyhd3eb1b0_0  \n",
      "defusedxml                0.7.1              pyhd3eb1b0_0  \n",
      "entrypoints               0.4             py310haa95532_0  \n",
      "executing                 0.8.3              pyhd3eb1b0_0  \n",
      "filelock                  3.9.0           py310haa95532_0  \n",
      "fonttools                 4.39.4                   pypi_0    pypi\n",
      "freetype                  2.12.1               ha860e81_0  \n",
      "future                    0.18.3          py310haa95532_0  \n",
      "giflib                    5.2.1                h8cc25b3_3  \n",
      "glib                      2.69.1               h5dc1a3c_2  \n",
      "glob2                     0.7                pyhd3eb1b0_0  \n",
      "gst-plugins-base          1.18.5               h9e645db_0  \n",
      "gstreamer                 1.18.5               hd78058f_0  \n",
      "icu                       58.2                 ha925a31_3  \n",
      "idna                      3.4             py310haa95532_0  \n",
      "ipykernel                 6.19.2          py310h9909e9c_0  \n",
      "ipython                   8.12.0          py310haa95532_0  \n",
      "ipython_genutils          0.2.0              pyhd3eb1b0_1  \n",
      "jedi                      0.18.1          py310haa95532_1  \n",
      "jinja2                    3.1.2           py310haa95532_0  \n",
      "jpeg                      9e                   h2bbff1b_1  \n",
      "jsonpatch                 1.32               pyhd3eb1b0_0  \n",
      "jsonpointer               2.1                pyhd3eb1b0_0  \n",
      "jsonschema                4.17.3          py310haa95532_0  \n",
      "jupyter_client            8.1.0           py310haa95532_0  \n",
      "jupyter_core              5.3.0           py310haa95532_0  \n",
      "jupyter_server            1.23.4          py310haa95532_0  \n",
      "jupyterlab_pygments       0.1.2                      py_0  \n",
      "kiwisolver                1.4.4                    pypi_0    pypi\n",
      "krb5                      1.19.4               h5b6d351_0  \n",
      "lerc                      3.0                  hd77b12b_0  \n",
      "libarchive                3.6.2                h2033e3e_1  \n",
      "libclang                  14.0.6          default_hb5a9fac_1  \n",
      "libclang13                14.0.6          default_h8e68704_1  \n",
      "libdeflate                1.17                 h2bbff1b_0  \n",
      "libffi                    3.4.4                hd77b12b_0  \n",
      "libiconv                  1.16                 h2bbff1b_2  \n",
      "liblief                   0.12.3               hd77b12b_0  \n",
      "libogg                    1.3.5                h2bbff1b_1  \n",
      "libpng                    1.6.39               h8cc25b3_0  \n",
      "libsodium                 1.0.18               h62dcd97_0  \n",
      "libtiff                   4.5.0                h6c2663c_2  \n",
      "libvorbis                 1.3.7                he774522_0  \n",
      "libwebp                   1.2.4                hbc33d0d_1  \n",
      "libwebp-base              1.2.4                h2bbff1b_1  \n",
      "libxml2                   2.10.3               h0ad7f3c_0  \n",
      "libxslt                   1.1.37               h2bbff1b_0  \n",
      "lxml                      4.9.2           py310h2bbff1b_0  \n",
      "lz4-c                     1.9.4                h2bbff1b_0  \n",
      "m2-msys2-runtime          2.5.0.17080.65c939c               3  \n",
      "m2-patch                  2.7.5                         2  \n",
      "markupsafe                2.1.1           py310h2bbff1b_0  \n",
      "matplotlib                3.7.1                    pypi_0    pypi\n",
      "matplotlib-inline         0.1.6           py310haa95532_0  \n",
      "menuinst                  1.4.19          py310h59b6b97_0  \n",
      "mistune                   0.8.4           py310h2bbff1b_1000  \n",
      "msys2-conda-epoch         20160418                      1  \n",
      "navigator-updater         0.3.0           py310haa95532_0  \n",
      "nbclassic                 0.5.5           py310haa95532_0  \n",
      "nbclient                  0.5.13          py310haa95532_0  \n",
      "nbconvert                 6.5.4           py310haa95532_0  \n",
      "nbformat                  5.7.0           py310haa95532_0  \n",
      "nest-asyncio              1.5.6           py310haa95532_0  \n",
      "networkx                  3.1                      pypi_0    pypi\n",
      "notebook                  6.5.4           py310haa95532_0  \n",
      "notebook-shim             0.2.2           py310haa95532_0  \n",
      "numpy                     1.24.3                   pypi_0    pypi\n",
      "openssl                   1.1.1t               h2bbff1b_0  \n",
      "packaging                 23.0            py310haa95532_0  \n",
      "pandas                    2.0.1                    pypi_0    pypi\n",
      "pandocfilters             1.5.0              pyhd3eb1b0_0  \n",
      "parso                     0.8.3              pyhd3eb1b0_0  \n",
      "pathlib                   1.0.1              pyhd3eb1b0_1  \n",
      "pcre                      8.45                 hd77b12b_0  \n",
      "pickleshare               0.7.5           pyhd3eb1b0_1003  \n",
      "pillow                    9.4.0           py310hd77b12b_0  \n",
      "pip                       22.3.1          py310haa95532_0  \n",
      "pkginfo                   1.9.6           py310haa95532_0  \n",
      "platformdirs              2.5.2           py310haa95532_0  \n",
      "pluggy                    1.0.0           py310haa95532_1  \n",
      "ply                       3.11            py310haa95532_0  \n",
      "powershell_shortcut       0.0.1                         3  \n",
      "prometheus_client         0.14.1          py310haa95532_0  \n",
      "prompt-toolkit            3.0.36          py310haa95532_0  \n",
      "psutil                    5.9.0           py310h2bbff1b_0  \n",
      "pure_eval                 0.2.2              pyhd3eb1b0_0  \n",
      "py-lief                   0.12.3          py310hd77b12b_0  \n",
      "pycosat                   0.6.4           py310h2bbff1b_0  \n",
      "pycparser                 2.21               pyhd3eb1b0_0  \n",
      "pygments                  2.15.1          py310haa95532_1  \n",
      "pyjwt                     2.4.0           py310haa95532_0  \n",
      "pyopenssl                 23.0.0          py310haa95532_0  \n",
      "pyparsing                 3.0.9                    pypi_0    pypi\n",
      "pyqt                      5.15.7          py310hd77b12b_0  \n",
      "pyqt5-sip                 12.11.0         py310hd77b12b_0  \n",
      "pyrsistent                0.18.0          py310h2bbff1b_0  \n",
      "pysocks                   1.7.1           py310haa95532_0  \n",
      "python                    3.10.9               h966fe2a_1  \n",
      "python-dateutil           2.8.2              pyhd3eb1b0_0  \n",
      "python-fastjsonschema     2.16.2          py310haa95532_0  \n",
      "python-libarchive-c       2.9                pyhd3eb1b0_1  \n",
      "pytz                      2022.7          py310haa95532_0  \n",
      "pywin32                   305             py310h2bbff1b_0  \n",
      "pywinpty                  2.0.10          py310h5da7b33_0  \n",
      "pyyaml                    6.0             py310h2bbff1b_1  \n",
      "pyzmq                     25.0.2          py310hd77b12b_0  \n",
      "qt-main                   5.15.2               he8e5bd7_8  \n",
      "qt-webengine              5.15.9               hb9a9bb5_5  \n",
      "qtpy                      2.2.0           py310haa95532_0  \n",
      "qtwebkit                  5.212                h2bbfb41_5  \n",
      "requests                  2.29.0          py310haa95532_0  \n",
      "requests-toolbelt         0.9.1              pyhd3eb1b0_0  \n",
      "ruamel.yaml               0.17.21         py310h2bbff1b_0  \n",
      "ruamel.yaml.clib          0.2.6           py310h2bbff1b_1  \n",
      "ruamel_yaml               0.17.21         py310h2bbff1b_0  \n",
      "scipy                     1.10.1                   pypi_0    pypi\n",
      "seaborn                   0.12.2                   pypi_0    pypi\n",
      "send2trash                1.8.0              pyhd3eb1b0_1  \n",
      "setuptools                65.6.3          py310haa95532_0  \n",
      "sip                       6.6.2           py310hd77b12b_0  \n",
      "six                       1.16.0             pyhd3eb1b0_1  \n",
      "sniffio                   1.2.0           py310haa95532_1  \n",
      "soupsieve                 2.4             py310haa95532_0  \n",
      "sqlite                    3.41.2               h2bbff1b_0  \n",
      "stack_data                0.2.0              pyhd3eb1b0_0  \n",
      "terminado                 0.17.1          py310haa95532_0  \n",
      "tinycss2                  1.2.1           py310haa95532_0  \n",
      "tk                        8.6.12               h2bbff1b_0  \n",
      "toml                      0.10.2             pyhd3eb1b0_0  \n",
      "tomli                     2.0.1           py310haa95532_0  \n",
      "toolz                     0.12.0          py310haa95532_0  \n",
      "tornado                   6.2             py310h2bbff1b_0  \n",
      "tqdm                      4.65.0          py310h9909e9c_0  \n",
      "traitlets                 5.7.1           py310haa95532_0  \n",
      "typing-extensions         4.5.0           py310haa95532_0  \n",
      "typing_extensions         4.5.0           py310haa95532_0  \n",
      "tzdata                    2023.3                   pypi_0    pypi\n",
      "ujson                     5.4.0           py310hd77b12b_0  \n",
      "urllib3                   1.26.15         py310haa95532_0  \n",
      "vc                        14.2                 h21ff451_1  \n",
      "vs2015_runtime            14.27.29016          h5e58377_2  \n",
      "wcwidth                   0.2.5              pyhd3eb1b0_0  \n",
      "webencodings              0.5.1           py310haa95532_1  \n",
      "websocket-client          0.58.0          py310haa95532_4  \n",
      "wheel                     0.38.4          py310haa95532_0  \n",
      "win_inet_pton             1.1.0           py310haa95532_0  \n",
      "wincertstore              0.2             py310haa95532_2  \n",
      "winpty                    0.4.3                         4  \n",
      "xz                        5.4.2                h8cc25b3_0  \n",
      "yaml                      0.2.5                he774522_0  \n",
      "zeromq                    4.3.4                hd77b12b_0  \n",
      "zlib                      1.2.13               h8cc25b3_0  \n",
      "zstandard                 0.19.0          py310h2bbff1b_0  \n",
      "zstd                      1.5.5                hd43e919_0  \n",
      "\n",
      "Note: you may need to restart the kernel to use updated packages.\n"
     ]
    }
   ],
   "source": [
    "conda list"
   ]
  },
  {
   "cell_type": "code",
   "execution_count": 1,
   "id": "dc6b047d",
   "metadata": {},
   "outputs": [],
   "source": [
    "import numpy as np\n",
    "# %pip install numpy #Pour installer un package qui n'existe pas"
   ]
  },
  {
   "cell_type": "code",
   "execution_count": 2,
   "id": "40af8cd6",
   "metadata": {},
   "outputs": [
    {
     "data": {
      "text/plain": [
       "'1.21.5'"
      ]
     },
     "execution_count": 2,
     "metadata": {},
     "output_type": "execute_result"
    }
   ],
   "source": [
    "#Version de numpy\n",
    "np.__version__"
   ]
  },
  {
   "cell_type": "markdown",
   "id": "0a24b8f6-a7e0-4557-b93c-0a65a066e51b",
   "metadata": {},
   "source": [
    "#### 1er exemple\n",
    "Notre premier exemple simple de Numpy traite des températures."
   ]
  },
  {
   "cell_type": "code",
   "execution_count": 3,
   "id": "b9347fc2",
   "metadata": {},
   "outputs": [],
   "source": [
    "cvalues = [20.1, 20.8, 21.9, 22.5, 22.7, 22.3, 21.8, 21.2, 20.9, 20.1]\n"
   ]
  },
  {
   "cell_type": "code",
   "execution_count": 4,
   "id": "44c130f7",
   "metadata": {},
   "outputs": [
    {
     "name": "stdout",
     "output_type": "stream",
     "text": [
      "[20.1, 20.8, 21.9, 22.5, 22.7, 22.3, 21.8, 21.2, 20.9, 20.1]\n"
     ]
    }
   ],
   "source": [
    "print(cvalues)"
   ]
  },
  {
   "cell_type": "code",
   "execution_count": 5,
   "id": "bd7cd2b7",
   "metadata": {},
   "outputs": [
    {
     "data": {
      "text/plain": [
       "list"
      ]
     },
     "execution_count": 5,
     "metadata": {},
     "output_type": "execute_result"
    }
   ],
   "source": [
    "type(cvalues)"
   ]
  },
  {
   "cell_type": "code",
   "execution_count": 6,
   "id": "17e297e3",
   "metadata": {},
   "outputs": [
    {
     "name": "stdout",
     "output_type": "stream",
     "text": [
      "[20.1 20.8 21.9 22.5 22.7 22.3 21.8 21.2 20.9 20.1]\n"
     ]
    }
   ],
   "source": [
    "## Nous allons transformer notre liste \"cvalues\" en un tableau numpy unidimensionnel :\n",
    "C = np.array(cvalues)\n",
    "print(C)"
   ]
  },
  {
   "cell_type": "code",
   "execution_count": 7,
   "id": "43f337c7",
   "metadata": {},
   "outputs": [
    {
     "data": {
      "text/plain": [
       "numpy.ndarray"
      ]
     },
     "execution_count": 7,
     "metadata": {},
     "output_type": "execute_result"
    }
   ],
   "source": [
    "type(C)"
   ]
  },
  {
   "cell_type": "code",
   "execution_count": 20,
   "id": "d6b0a52e",
   "metadata": {},
   "outputs": [
    {
     "name": "stdout",
     "output_type": "stream",
     "text": [
      "[68.18 69.44 71.42 72.5  72.86 72.14 71.24 70.16 69.62 68.18]\n"
     ]
    }
   ],
   "source": [
    "#Supposons que nous voulions transformer les valeurs en degrés Fahrenheit. \n",
    "#Ceci est très facile à réaliser avec un tableau numpy\n",
    "print(C * 9 / 5 + 32)"
   ]
  },
  {
   "cell_type": "code",
   "execution_count": 21,
   "id": "d60b60ae",
   "metadata": {},
   "outputs": [
    {
     "name": "stdout",
     "output_type": "stream",
     "text": [
      "[68.18, 69.44, 71.42, 72.5, 72.86, 72.14, 71.24000000000001, 70.16, 69.62, 68.18]\n"
     ]
    }
   ],
   "source": [
    "#Par rapport à cela, la solution pour notre liste Python semble maladroite et plutot compliqué\n",
    "fvalues = [ x*9/5 + 32 for x in cvalues]\n",
    "print(fvalues)"
   ]
  },
  {
   "cell_type": "code",
   "execution_count": 8,
   "id": "62bdf287",
   "metadata": {},
   "outputs": [
    {
     "name": "stdout",
     "output_type": "stream",
     "text": [
      "[24.8 12.9 57.6]\n"
     ]
    }
   ],
   "source": [
    "#Vous pouvez créer votre propre tableau numpy et définir le type de données des éléments\n",
    "a = np.array([24.8, 12.9, 57.6], np.double)\n",
    "print(a)"
   ]
  },
  {
   "cell_type": "markdown",
   "id": "97ec90a9",
   "metadata": {},
   "source": [
    "Autres types de données\n",
    "https://numpy.org/doc/stable/user/basics.types.html"
   ]
  },
  {
   "cell_type": "markdown",
   "id": "bc9f8a52",
   "metadata": {},
   "source": [
    "----------------------------------------------------------------------------------------------\n",
    "CRÉATION DE TABLEAUX AVEC DES VALEURS RÉGULIÈREMENT ESPACÉES\n",
    "ARANGE\n",
    "La syntaxe de arange :\n",
    "arange([start,] stop[, step], [, dtype=None])"
   ]
  },
  {
   "cell_type": "code",
   "execution_count": 9,
   "id": "d6243621",
   "metadata": {},
   "outputs": [
    {
     "name": "stdout",
     "output_type": "stream",
     "text": [
      "[ 1  2  3  4  5  6  7  8  9 10]\n",
      "range(1, 11)\n",
      "[1, 2, 3, 4, 5, 6, 7, 8, 9, 10]\n"
     ]
    }
   ],
   "source": [
    "a = np.arange(1, 11)\n",
    "print(a)\n",
    "x = range(1, 11)\n",
    "print(x) # x est un itérateur\n",
    "print(list(x))"
   ]
  },
  {
   "cell_type": "code",
   "execution_count": 30,
   "id": "81711023",
   "metadata": {},
   "outputs": [
    {
     "data": {
      "text/plain": [
       "numpy.ndarray"
      ]
     },
     "execution_count": 30,
     "metadata": {},
     "output_type": "execute_result"
    }
   ],
   "source": [
    "type(a)"
   ]
  },
  {
   "cell_type": "code",
   "execution_count": 31,
   "id": "363677f4",
   "metadata": {},
   "outputs": [
    {
     "name": "stdout",
     "output_type": "stream",
     "text": [
      "[ 0.5  1.3  2.1  2.9  3.7  4.5  5.3  6.1  6.9  7.7  8.5  9.3 10.1]\n"
     ]
    }
   ],
   "source": [
    "y = np.arange(0.5, 10.4, 0.8) # Avec une etape de 0.8\n",
    "print(y)"
   ]
  },
  {
   "cell_type": "code",
   "execution_count": 10,
   "id": "981f32d1",
   "metadata": {},
   "outputs": [
    {
     "name": "stdout",
     "output_type": "stream",
     "text": [
      "[ 0  1  2  3  4  5  6  7  8  9 10 11 12]\n"
     ]
    }
   ],
   "source": [
    "z = np.arange(0.5, 10.4, 0.8, int) # En ajoutant le type de donnees\n",
    "print(z)\n"
   ]
  },
  {
   "cell_type": "code",
   "execution_count": 12,
   "id": "437c7e2a",
   "metadata": {},
   "outputs": [
    {
     "data": {
      "text/plain": [
       "array([ 1,  2,  3,  4,  5,  6,  7,  8,  9, 10])"
      ]
     },
     "execution_count": 12,
     "metadata": {},
     "output_type": "execute_result"
    }
   ],
   "source": [
    "a"
   ]
  },
  {
   "cell_type": "code",
   "execution_count": 37,
   "id": "49d289f8",
   "metadata": {},
   "outputs": [
    {
     "data": {
      "text/plain": [
       "array([[ 1,  2],\n",
       "       [ 3,  4],\n",
       "       [ 5,  6],\n",
       "       [ 7,  8],\n",
       "       [ 9, 10]])"
      ]
     },
     "execution_count": 37,
     "metadata": {},
     "output_type": "execute_result"
    }
   ],
   "source": [
    "#Vous pouvez utiliser reshape pour modifier les dimensions/la forme de votre tableau numpy\n",
    "b = a.reshape(5,2) #2 lignes, 5 columns\n",
    "b"
   ]
  },
  {
   "cell_type": "code",
   "execution_count": 38,
   "id": "3f7ffcd9",
   "metadata": {},
   "outputs": [
    {
     "data": {
      "text/plain": [
       "numpy.ndarray"
      ]
     },
     "execution_count": 38,
     "metadata": {},
     "output_type": "execute_result"
    }
   ],
   "source": [
    "type(b)"
   ]
  },
  {
   "cell_type": "code",
   "execution_count": 34,
   "id": "1f388fbd-9e2c-4c18-81e1-8a85de487710",
   "metadata": {},
   "outputs": [
    {
     "data": {
      "text/plain": [
       "(10,)"
      ]
     },
     "execution_count": 34,
     "metadata": {},
     "output_type": "execute_result"
    }
   ],
   "source": [
    "a.shape"
   ]
  },
  {
   "cell_type": "code",
   "execution_count": 33,
   "id": "2ba3d11f",
   "metadata": {},
   "outputs": [
    {
     "data": {
      "text/plain": [
       "array([[ 1,  2,  3,  4,  5,  6,  7,  8,  9, 10]])"
      ]
     },
     "execution_count": 33,
     "metadata": {},
     "output_type": "execute_result"
    }
   ],
   "source": [
    "\n",
    "c = a.reshape(1,-1) # Le -1 signifie trouver le nombre correspondant de lignes avec une colonne\n",
    "c"
   ]
  },
  {
   "cell_type": "code",
   "execution_count": 33,
   "id": "59bd0e97-0993-4d82-8c75-ae58fde09187",
   "metadata": {},
   "outputs": [
    {
     "data": {
      "text/plain": [
       "array([[ 1,  2,  3,  4,  5,  6,  7,  8,  9, 10]])"
      ]
     },
     "execution_count": 33,
     "metadata": {},
     "output_type": "execute_result"
    }
   ],
   "source": [
    "\n",
    "c = a.reshape(1,-1) # Le -1 signifie trouver le nombre correspondant de lignes avec une colonne\n",
    "c"
   ]
  },
  {
   "cell_type": "code",
   "execution_count": 42,
   "id": "5c3268de",
   "metadata": {},
   "outputs": [
    {
     "data": {
      "text/plain": [
       "(1, 10)"
      ]
     },
     "execution_count": 42,
     "metadata": {},
     "output_type": "execute_result"
    }
   ],
   "source": [
    "c.shape # 10 lignes, 1 colonne"
   ]
  },
  {
   "cell_type": "code",
   "execution_count": 35,
   "id": "774e0f52",
   "metadata": {},
   "outputs": [
    {
     "data": {
      "text/plain": [
       "1"
      ]
     },
     "execution_count": 35,
     "metadata": {},
     "output_type": "execute_result"
    }
   ],
   "source": [
    "np.ndim(a)"
   ]
  },
  {
   "cell_type": "markdown",
   "id": "b8829982",
   "metadata": {},
   "source": [
    "--------------------------------------------------------------------------------------\n",
    "Dimensions du tableau"
   ]
  },
  {
   "cell_type": "code",
   "execution_count": 36,
   "id": "2ef602b0",
   "metadata": {},
   "outputs": [
    {
     "name": "stdout",
     "output_type": "stream",
     "text": [
      "x:  43\n",
      "The type of x:  <class 'numpy.ndarray'>\n",
      "The dimension of x: 0\n"
     ]
    }
   ],
   "source": [
    "# TABLEAUX ZÉRO-DIMENSIONNELS DANS NUMPY\n",
    "import numpy as np\n",
    "x = np.array(43)\n",
    "print(\"x: \", x)\n",
    "print(\"The type of x: \", type(x))\n",
    "print(\"The dimension of x:\", np.ndim(x))"
   ]
  },
  {
   "cell_type": "code",
   "execution_count": 37,
   "id": "e3048a54",
   "metadata": {},
   "outputs": [
    {
     "name": "stdout",
     "output_type": "stream",
     "text": [
      "V:  [ 3  6 99 12]\n",
      "Type of V:  int8\n",
      "Dimension of V:  1\n"
     ]
    }
   ],
   "source": [
    "#TABLEAUX UNIDIMENSIONNELS\n",
    "V = np.array([3.4, 6.9, 99.8, 12.8], dtype=np.int8)\n",
    "print(\"V: \", V)\n",
    "print(\"Type of V: \", V.dtype)\n",
    "print(\"Dimension of V: \", np.ndim(V))"
   ]
  },
  {
   "cell_type": "code",
   "execution_count": 43,
   "id": "035c817a",
   "metadata": {},
   "outputs": [
    {
     "name": "stdout",
     "output_type": "stream",
     "text": [
      "[[3.4 8.7 9.9]]\n",
      "Dimension 2\n"
     ]
    }
   ],
   "source": [
    "#TABLEAUX BIDIMENSIONNELS ET MULTIDIMENSIONNELS\n",
    "A = np.array([[3.4, 8.7, 9.9]])\n",
    "print(A)\n",
    "print(\"Dimension\", A.ndim)\n"
   ]
  },
  {
   "cell_type": "code",
   "execution_count": 46,
   "id": "7ca7e676-1b8f-4199-8152-0cbb7548647f",
   "metadata": {},
   "outputs": [
    {
     "data": {
      "text/plain": [
       "(1, 3)"
      ]
     },
     "execution_count": 46,
     "metadata": {},
     "output_type": "execute_result"
    }
   ],
   "source": [
    "A.shape"
   ]
  },
  {
   "cell_type": "code",
   "execution_count": 44,
   "id": "a5893fa1",
   "metadata": {
    "scrolled": true
   },
   "outputs": [
    {
     "name": "stdout",
     "output_type": "stream",
     "text": [
      "[[[111 112]\n",
      "  [121 122]]\n",
      "\n",
      " [[211 212]\n",
      "  [221 222]]\n",
      "\n",
      " [[311 312]\n",
      "  [321 322]]]\n",
      "Dimension 3\n"
     ]
    }
   ],
   "source": [
    "B = np.array([[[111, 112], [121, 122]],\n",
    "[[211, 212], [221, 222]],\n",
    "[[311, 312], [321, 322]]])\n",
    "print(B)\n",
    "print(\"Dimension\", B.ndim)"
   ]
  },
  {
   "cell_type": "code",
   "execution_count": 45,
   "id": "219d79b7",
   "metadata": {},
   "outputs": [
    {
     "data": {
      "text/plain": [
       "(3, 2, 2)"
      ]
     },
     "execution_count": 45,
     "metadata": {},
     "output_type": "execute_result"
    }
   ],
   "source": [
    "#FORME D'UN TABLEAU\n",
    "B.shape"
   ]
  },
  {
   "cell_type": "markdown",
   "id": "681efbcd",
   "metadata": {},
   "source": [
    "--------------------------------------------------------------------------------------------\n",
    "INDEXATION ET TRANCHEMENT"
   ]
  },
  {
   "cell_type": "code",
   "execution_count": 54,
   "id": "5dcd97be",
   "metadata": {},
   "outputs": [
    {
     "name": "stdout",
     "output_type": "stream",
     "text": [
      "[ 1  1  2  3  5  8 13 21]\n",
      "1\n",
      "21\n"
     ]
    }
   ],
   "source": [
    "F = np.array([1, 1, 2, 3, 5, 8, 13, 21])\n",
    "# print le premier element\n",
    "print(F)\n",
    "print(F[0])\n",
    "# print le dernier element\n",
    "print(F[-1])\n"
   ]
  },
  {
   "cell_type": "code",
   "execution_count": 47,
   "id": "3e3806d3",
   "metadata": {},
   "outputs": [
    {
     "name": "stdout",
     "output_type": "stream",
     "text": [
      "[[ 3.4  8.7  9.9]\n",
      " [ 1.1 -7.8 -0.7]\n",
      " [ 4.1 12.3  4.8]]\n",
      "1.1\n",
      "1.1\n"
     ]
    }
   ],
   "source": [
    "A = np.array([[3.4, 8.7, 9.9],\n",
    "[1.1, -7.8, -0.7],\n",
    "[4.1, 12.3, 4.8]])\n",
    "print(A)\n",
    "print(A[1][0]) #2eme ligne et premiere colonne\n",
    "#oubien\n",
    "print(A[1,0])\n"
   ]
  },
  {
   "cell_type": "code",
   "execution_count": 57,
   "id": "effe3982",
   "metadata": {},
   "outputs": [
    {
     "name": "stdout",
     "output_type": "stream",
     "text": [
      "[188  99  77  88]\n",
      "<class 'numpy.ndarray'>\n"
     ]
    }
   ],
   "source": [
    "#INDEXAGE\n",
    "C = np.array([123,188,190,99,77,88,100])\n",
    "A = np.array([4,  7,  2,  8, 6, 9, 5])\n",
    "R = C[A>5] # On veut les valeurs de C où A est inférieur ou égal à 5. C et A doivent avoir la même longueur\n",
    "print(R)\n",
    "print(type(R))"
   ]
  },
  {
   "cell_type": "code",
   "execution_count": 58,
   "id": "ce7f1582",
   "metadata": {},
   "outputs": [
    {
     "data": {
      "text/plain": [
       "array([123, 190,  99, 188,  77, 188])"
      ]
     },
     "execution_count": 58,
     "metadata": {},
     "output_type": "execute_result"
    }
   ],
   "source": [
    "#INDEXATION AVEC UN TABLEAU D'ENTIERS\n",
    "C[[0, 2, 3, 1, 4, 1]]"
   ]
  },
  {
   "cell_type": "code",
   "execution_count": 59,
   "id": "3315b8ea",
   "metadata": {},
   "outputs": [
    {
     "name": "stdout",
     "output_type": "stream",
     "text": [
      "[2 3 4]\n",
      "[0 1 2 3]\n",
      "[6 7 8 9]\n"
     ]
    }
   ],
   "source": [
    "#TRANCHEMENT\n",
    "#S[start:stop:step]\n",
    "S = np.array([0, 1, 2, 3, 4, 5, 6, 7, 8, 9])\n",
    "print(S[2:5])\n",
    "print(S[:4])\n",
    "print(S[6:])"
   ]
  },
  {
   "cell_type": "code",
   "execution_count": 60,
   "id": "ef8245f0",
   "metadata": {},
   "outputs": [
    {
     "name": "stdout",
     "output_type": "stream",
     "text": [
      "[0 1 2 3 4 5 6 7 8 9]\n"
     ]
    }
   ],
   "source": [
    "#Pour acceder a tous:\n",
    "print(S[:])\n"
   ]
  },
  {
   "cell_type": "markdown",
   "id": "0aa76999",
   "metadata": {},
   "source": [
    "------------------------------------------------------------------------------------------\n",
    "EXERCICES\n",
    "Extrait du tableau np.array([3,4,6,10,24,89,45,43,46,99,100]) avec booléen masquant tout le nombre\n",
    "• qui ne sont pas divisibles par 3\n",
    "• qui sont divisibles par 5\n",
    "• qui sont divisibles par 3 et 5\n",
    "• qui sont divisibles par 3 et fixez-les à 42\n"
   ]
  },
  {
   "cell_type": "markdown",
   "id": "c3757e77",
   "metadata": {},
   "source": [
    "-------------------------------------------------------------------------------------------------------\n",
    "CRÉATION DE TABLEAUX AVEC DES UNS, DES ZÉROS ET DES VIDE"
   ]
  },
  {
   "cell_type": "code",
   "execution_count": 48,
   "id": "f74e3e7f",
   "metadata": {},
   "outputs": [
    {
     "name": "stdout",
     "output_type": "stream",
     "text": [
      "[[1. 1. 1.]\n",
      " [1. 1. 1.]]\n",
      "[[1. 1. 1. 1.]\n",
      " [1. 1. 1. 1.]\n",
      " [1. 1. 1. 1.]]\n"
     ]
    }
   ],
   "source": [
    "import numpy as np\n",
    "E = np.ones((2,3))\n",
    "print(E)\n",
    "F = np.ones((3,4),dtype=np.double)\n",
    "print(F)"
   ]
  },
  {
   "cell_type": "code",
   "execution_count": 65,
   "id": "7635082f",
   "metadata": {},
   "outputs": [
    {
     "name": "stdout",
     "output_type": "stream",
     "text": [
      "[[0. 0. 0. 0.]\n",
      " [0. 0. 0. 0.]\n",
      " [0. 0. 0. 0.]\n",
      " [0. 0. 0. 0.]\n",
      " [0. 0. 0. 0.]]\n"
     ]
    }
   ],
   "source": [
    "Z = np.zeros((5,4))\n",
    "print(Z)"
   ]
  },
  {
   "cell_type": "code",
   "execution_count": 66,
   "id": "08e6a70c",
   "metadata": {},
   "outputs": [
    {
     "name": "stdout",
     "output_type": "stream",
     "text": [
      "[[0. 0. 0. 0.]\n",
      " [0. 0. 0. 0.]]\n"
     ]
    }
   ],
   "source": [
    "T = np.empty((2, 4))\n",
    "print(T)"
   ]
  },
  {
   "cell_type": "markdown",
   "id": "111b87bd",
   "metadata": {},
   "source": [
    "-----------------------------------------------------------------------------------------------\n",
    "EXERCICES:\n",
    "1) Créez un tableau unidimensionnel arbitraire appelé \"v\".\n",
    "2) Créez un nouveau tableau composé des indices impairs du tableau \"v\" créé précédemment.\n",
    "3) Créez un nouveau tableau dans l'ordre inverse de v.\n",
    "4) Quelle sera la sortie du code suivant :\n",
    "a = np.array([1, 2, 3, 4, 5])\n",
    "b = a[1:4]\n",
    "b[0] = 200\n",
    "imprimer(a[1])\n",
    "5) Créez un tableau à deux dimensions appelé \"m\".\n",
    "6) Créez un nouveau tableau à partir de m, dans lequel les éléments de chaque ligne sont dans l'ordre inverse.\n",
    "7) Un autre, où les rangées sont dans l'ordre inverse.\n",
    "8) Créez un tableau à partir de m, où les colonnes et les lignes sont dans l'ordre inverse.\n",
    "9) Coupe de la première et de la dernière rangée et de la première et de la dernière colonne.\n",
    "-------------------------------------------------------------------------------------------------"
   ]
  },
  {
   "cell_type": "markdown",
   "id": "6863e0da",
   "metadata": {},
   "source": [
    "OPÉRATIONS NUMÉRIQUES SUR NUMPY TABLEAUX"
   ]
  },
  {
   "cell_type": "code",
   "execution_count": 67,
   "id": "6eeaa3a7",
   "metadata": {},
   "outputs": [
    {
     "name": "stdout",
     "output_type": "stream",
     "text": [
      "[ 4.    5.    9.9   5.3   8.9   2.11 12.3  14.9 ]\n"
     ]
    }
   ],
   "source": [
    "lst = [2,3, 7.9, 3.3, 6.9, 0.11, 10.3, 12.9]\n",
    "v = np.array(lst)\n",
    "v = v + 2\n",
    "print(v)"
   ]
  },
  {
   "cell_type": "code",
   "execution_count": 69,
   "id": "f25aceb5",
   "metadata": {},
   "outputs": [
    {
     "name": "stdout",
     "output_type": "stream",
     "text": [
      "[ 16.      25.      98.01    28.09    79.21     4.4521 151.29   222.01  ]\n"
     ]
    }
   ],
   "source": [
    "print(v ** 2) # V au carré "
   ]
  },
  {
   "cell_type": "code",
   "execution_count": 70,
   "id": "917658be",
   "metadata": {},
   "outputs": [
    {
     "name": "stdout",
     "output_type": "stream",
     "text": [
      "[4, 5, 9.9, 5.3, 8.9, 2.11, 12.3, 14.9]\n"
     ]
    }
   ],
   "source": [
    "# Si on utilisait des listes\n",
    "res = [ val + 2 for val in lst]\n",
    "print(res)"
   ]
  },
  {
   "cell_type": "markdown",
   "id": "47096ec8",
   "metadata": {},
   "source": [
    "MULTIPLICATION MATRICIELLE"
   ]
  },
  {
   "cell_type": "code",
   "execution_count": 52,
   "id": "81fda262",
   "metadata": {},
   "outputs": [
    {
     "name": "stdout",
     "output_type": "stream",
     "text": [
      "A \n",
      " [[11 12 13]\n",
      " [21 22 23]\n",
      " [31 32 33]]\n",
      "B \n",
      " [[1. 1. 1.]\n",
      " [1. 1. 1.]\n",
      " [1. 1. 1.]]\n"
     ]
    }
   ],
   "source": [
    "A = np.array([[11, 12, 13], [21, 22, 23], [31, 32, 33]])\n",
    "B = np.ones((3,3))\n",
    "print(\"A \\n\", A)\n",
    "print(\"B \\n\", B)"
   ]
  },
  {
   "cell_type": "code",
   "execution_count": 53,
   "id": "1d0cc222",
   "metadata": {},
   "outputs": [
    {
     "data": {
      "text/plain": [
       "array([[36., 36., 36.],\n",
       "       [66., 66., 66.],\n",
       "       [96., 96., 96.]])"
      ]
     },
     "execution_count": 53,
     "metadata": {},
     "output_type": "execute_result"
    }
   ],
   "source": [
    "np.dot(A, B)"
   ]
  },
  {
   "cell_type": "code",
   "execution_count": 54,
   "id": "4d27dbd4",
   "metadata": {},
   "outputs": [
    {
     "data": {
      "text/plain": [
       "array([[36., 36., 36.],\n",
       "       [66., 66., 66.],\n",
       "       [96., 96., 96.]])"
      ]
     },
     "execution_count": 54,
     "metadata": {},
     "output_type": "execute_result"
    }
   ],
   "source": [
    "# Vous pouvez accomplir la même chose en utilisant @\n",
    "A@B"
   ]
  },
  {
   "cell_type": "markdown",
   "id": "d70a85af",
   "metadata": {},
   "source": [
    "-------------------------------------------------------------------------------------\n",
    "Opérations utiles"
   ]
  },
  {
   "cell_type": "code",
   "execution_count": 74,
   "id": "f9fc7d2d",
   "metadata": {},
   "outputs": [
    {
     "data": {
      "text/plain": [
       "array([[11, 12, 13],\n",
       "       [21, 22, 23],\n",
       "       [31, 32, 33]])"
      ]
     },
     "execution_count": 74,
     "metadata": {},
     "output_type": "execute_result"
    }
   ],
   "source": [
    "A"
   ]
  },
  {
   "cell_type": "code",
   "execution_count": 77,
   "id": "865a61f7",
   "metadata": {},
   "outputs": [
    {
     "data": {
      "text/plain": [
       "array([[1., 1., 1.],\n",
       "       [1., 1., 1.],\n",
       "       [1., 1., 1.]])"
      ]
     },
     "execution_count": 77,
     "metadata": {},
     "output_type": "execute_result"
    }
   ],
   "source": [
    "B"
   ]
  },
  {
   "cell_type": "code",
   "execution_count": 55,
   "id": "d1dde3b7",
   "metadata": {},
   "outputs": [
    {
     "data": {
      "text/plain": [
       "array([[11, 21, 31],\n",
       "       [12, 22, 32],\n",
       "       [13, 23, 33]])"
      ]
     },
     "execution_count": 55,
     "metadata": {},
     "output_type": "execute_result"
    }
   ],
   "source": [
    "# Transposer\n",
    "A.transpose()"
   ]
  },
  {
   "cell_type": "code",
   "execution_count": 58,
   "id": "0dc430f9",
   "metadata": {},
   "outputs": [
    {
     "data": {
      "text/plain": [
       "array([[11., 12., 13.,  1.,  1.,  1.],\n",
       "       [21., 22., 23.,  1.,  1.,  1.],\n",
       "       [31., 32., 33.,  1.,  1.,  1.]])"
      ]
     },
     "execution_count": 58,
     "metadata": {},
     "output_type": "execute_result"
    }
   ],
   "source": [
    "# enchaîner\n",
    "CON = np.concatenate((A,B),axis=1) # Pour enchainer vers les colonnes, on met axis=1\n",
    "CON\n"
   ]
  },
  {
   "cell_type": "code",
   "execution_count": 80,
   "id": "cdfb5b6b",
   "metadata": {},
   "outputs": [
    {
     "name": "stdout",
     "output_type": "stream",
     "text": [
      "[3 4 5]\n",
      "[1 9 0]\n",
      "[[3 4 5]\n",
      " [1 9 0]]\n",
      "[[3 1]\n",
      " [4 9]\n",
      " [5 0]]\n"
     ]
    },
    {
     "data": {
      "text/plain": [
       "(3,)"
      ]
     },
     "execution_count": 80,
     "metadata": {},
     "output_type": "execute_result"
    }
   ],
   "source": [
    "# EMPILAGE DE VECTEURS\n",
    "A = np.array([3, 4, 5])\n",
    "B = np.array([1,9,0])\n",
    "print(A)\n",
    "print(B)\n",
    "print(np.row_stack((A, B))) # enchaîner par ligne\n",
    "print(np.column_stack((A, B))) #enchaîner par colonne\n",
    "np.shape(A)"
   ]
  },
  {
   "cell_type": "code",
   "execution_count": 59,
   "id": "2f42c0f0",
   "metadata": {},
   "outputs": [
    {
     "name": "stdout",
     "output_type": "stream",
     "text": [
      "[[[ 0  1]\n",
      "  [ 2  3]\n",
      "  [ 4  5]\n",
      "  [ 6  7]]\n",
      "\n",
      " [[ 8  9]\n",
      "  [10 11]\n",
      "  [12 13]\n",
      "  [14 15]]\n",
      "\n",
      " [[16 17]\n",
      "  [18 19]\n",
      "  [20 21]\n",
      "  [22 23]]]\n",
      "[ 0  1  2  3  4  5  6  7  8  9 10 11 12 13 14 15 16 17 18 19 20 21 22 23]\n",
      "[ 0  1  2  3  4  5  6  7  8  9 10 11 12 13 14 15 16 17 18 19 20 21 22 23]\n"
     ]
    }
   ],
   "source": [
    "# Aplatir et remodeler les tableaux: flatten() , ravel()\n",
    "A = np.array([[[ 0, 1],\n",
    "[ 2, 3],\n",
    "[ 4, 5],\n",
    "[ 6, 7]],\n",
    "[[ 8, 9],\n",
    "[10, 11],\n",
    "[12, 13],\n",
    "[14, 15]],\n",
    "[[16, 17],\n",
    "[18, 19],\n",
    "[20, 21],\n",
    "[22, 23]]])\n",
    "\n",
    "Flattened_X = A.flatten()\n",
    "print(A)\n",
    "print(Flattened_X)\n",
    "print(A.ravel())\n"
   ]
  },
  {
   "cell_type": "code",
   "execution_count": 82,
   "id": "6753eca7",
   "metadata": {},
   "outputs": [
    {
     "name": "stdout",
     "output_type": "stream",
     "text": [
      "X\n",
      " [ 0  1  2  3  4  5  6  7  8  9 10 11 12 13 14 15 16 17 18 19 20 21 22 23]\n",
      "X\n",
      " [[[ 0  1]\n",
      "  [ 2  3]\n",
      "  [ 4  5]\n",
      "  [ 6  7]]\n",
      "\n",
      " [[ 8  9]\n",
      "  [10 11]\n",
      "  [12 13]\n",
      "  [14 15]]\n",
      "\n",
      " [[16 17]\n",
      "  [18 19]\n",
      "  [20 21]\n",
      "  [22 23]]]\n"
     ]
    }
   ],
   "source": [
    "# Reshape\n",
    "X = np.array(range(24))\n",
    "print(\"X\\n\", X)\n",
    "Y = X.reshape((3,4,2))\n",
    "print(\"X\\n\", Y)"
   ]
  },
  {
   "cell_type": "code",
   "execution_count": 85,
   "id": "2bc885c1",
   "metadata": {},
   "outputs": [
    {
     "data": {
      "text/plain": [
       "array([4, 4, 6, 5, 2, 6, 4, 2, 7, 4, 6, 5, 8, 4, 3, 8, 4, 7, 6, 9])"
      ]
     },
     "execution_count": 85,
     "metadata": {},
     "output_type": "execute_result"
    }
   ],
   "source": [
    "#NOMBRES ALÉATOIRES, Random Numbers\n",
    "np.random.randint(1, 10, size=20) # NOMBRES ALÉATOIRES entre 1 et 10"
   ]
  },
  {
   "cell_type": "code",
   "execution_count": 86,
   "id": "fe8ec70a",
   "metadata": {},
   "outputs": [
    {
     "name": "stdout",
     "output_type": "stream",
     "text": [
      "[123 188  99  88 100]\n",
      "[123 188  99  88 100]\n"
     ]
    }
   ],
   "source": [
    "# NONZERO (PAS ZERO) AND WHERE (OÙ)\n",
    "C = np.array([123,188,0,99,0,88,100])\n",
    "print(C[C.nonzero()])\n",
    "print(C[C != 0])"
   ]
  },
  {
   "cell_type": "markdown",
   "id": "e14a221b",
   "metadata": {},
   "source": [
    "##### Il y a beaucoup plus que Numpy peut faire, mais cela devrait être bon pour une introduction à Numpy. Plus d'informations sur Numpy peuvent être trouvées sur la documentation ici:https://numpy.org/doc/stable/index.html"
   ]
  },
  {
   "cell_type": "markdown",
   "id": "4197c7cc",
   "metadata": {},
   "source": [
    "### QUESTIONS"
   ]
  }
 ],
 "metadata": {
  "kernelspec": {
   "display_name": "Python 3 (ipykernel)",
   "language": "python",
   "name": "python3"
  },
  "language_info": {
   "codemirror_mode": {
    "name": "ipython",
    "version": 3
   },
   "file_extension": ".py",
   "mimetype": "text/x-python",
   "name": "python",
   "nbconvert_exporter": "python",
   "pygments_lexer": "ipython3",
   "version": "3.9.13"
  }
 },
 "nbformat": 4,
 "nbformat_minor": 5
}
