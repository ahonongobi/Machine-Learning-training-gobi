{
 "cells": [
  {
   "attachments": {},
   "cell_type": "markdown",
   "metadata": {},
   "source": [
    "Welcome to jupiter"
   ]
  },
  {
   "cell_type": "code",
   "execution_count": 6,
   "metadata": {},
   "outputs": [
    {
     "name": "stdout",
     "output_type": "stream",
     "text": [
      "Hello jupiter\n",
      "14\n"
     ]
    }
   ],
   "source": [
    "print(\"Hello jupiter\")\n",
    "\n",
    "x = int(input(\"Enter a number: \"))\n",
    "y = int(input(\"Enter another number: \"))\n",
    "print(x + y)"
   ]
  },
  {
   "cell_type": "code",
   "execution_count": 30,
   "metadata": {},
   "outputs": [
    {
     "data": {
      "text/html": [
       "<table>\n",
       "<thead>\n",
       "<tr><th>             </th><th style=\"text-align: right;\">  Nom</th><th>Âge     </th><th>Ville       </th><th style=\"text-align: right;\">  Profession</th><th>Salaire  </th><th>Hobbies  </th><th>Enfants  </th></tr>\n",
       "</thead>\n",
       "<tbody>\n",
       "<tr><td>John Doe     </td><td style=\"text-align: right;\">   30</td><td>Paris   </td><td>Ingénieur   </td><td style=\"text-align: right;\">        5000</td><td>Piano    </td><td>Tennis   </td><td>True     </td></tr>\n",
       "<tr><td>Jane Smith   </td><td style=\"text-align: right;\">   25</td><td>Londres </td><td>Développeuse</td><td style=\"text-align: right;\">        4500</td><td>Guitare  </td><td>Voyages  </td><td>False    </td></tr>\n",
       "<tr><td>Alice Johnson</td><td style=\"text-align: right;\">   35</td><td>New York</td><td>Avocate     </td><td style=\"text-align: right;\">        7000</td><td>Vélo     </td><td>Cinéma   </td><td>True     </td></tr>\n",
       "</tbody>\n",
       "</table>"
      ],
      "text/plain": [
       "'<table>\\n<thead>\\n<tr><th>             </th><th style=\"text-align: right;\">  Nom</th><th>Âge     </th><th>Ville       </th><th style=\"text-align: right;\">  Profession</th><th>Salaire  </th><th>Hobbies  </th><th>Enfants  </th></tr>\\n</thead>\\n<tbody>\\n<tr><td>John Doe     </td><td style=\"text-align: right;\">   30</td><td>Paris   </td><td>Ingénieur   </td><td style=\"text-align: right;\">        5000</td><td>Piano    </td><td>Tennis   </td><td>True     </td></tr>\\n<tr><td>Jane Smith   </td><td style=\"text-align: right;\">   25</td><td>Londres </td><td>Développeuse</td><td style=\"text-align: right;\">        4500</td><td>Guitare  </td><td>Voyages  </td><td>False    </td></tr>\\n<tr><td>Alice Johnson</td><td style=\"text-align: right;\">   35</td><td>New York</td><td>Avocate     </td><td style=\"text-align: right;\">        7000</td><td>Vélo     </td><td>Cinéma   </td><td>True     </td></tr>\\n</tbody>\\n</table>'"
      ]
     },
     "metadata": {},
     "output_type": "display_data"
    }
   ],
   "source": [
    "from IPython.display import display\n",
    "from tabulate import tabulate\n",
    "\n",
    "# Données de la table\n",
    "donnees = [\n",
    "    [\"Nom\", \"Âge\", \"Ville\", \"Profession\", \"Salaire\", \"Hobbies\", \"Enfants\"],\n",
    "    [\"John Doe\", 30, \"Paris\", \"Ingénieur\", 5000, \"Piano\", \"Tennis\", True ],\n",
    "    [\"Jane Smith\", 25, \"Londres\", \"Développeuse\", 4500, \"Guitare\", \"Voyages\", False],\n",
    "    [\"Alice Johnson\", 35, \"New York\", \"Avocate\", 7000, \"Vélo\", \"Cinéma\", True]\n",
    "]\n",
    "\n",
    "# Générer la table HTML\n",
    "table_html = tabulate(donnees, headers='firstrow', tablefmt='html')\n",
    "\n",
    "# Afficher la table sans les balises HTML\n",
    "display(table_html)\n"
   ]
  },
  {
   "cell_type": "code",
   "execution_count": 29,
   "metadata": {},
   "outputs": [
    {
     "name": "stdout",
     "output_type": "stream",
     "text": [
      "Hermine\n",
      "Henry\n",
      "Gobi\n"
     ]
    }
   ],
   "source": [
    "students = [\"Hermine\", \"Henry\", \"Gobi\" ]\n",
    "for _ in students:\n",
    "    print(_)"
   ]
  },
  {
   "cell_type": "code",
   "execution_count": 28,
   "metadata": {},
   "outputs": [
    {
     "name": "stdout",
     "output_type": "stream",
     "text": [
      "Hermine | Gryffindor | Otter\n",
      "Henry | Slytherin | Stag\n",
      "Gobi | Hufflepuff | None\n"
     ]
    }
   ],
   "source": [
    "studens = [\n",
    "    {\"name\": \"Hermine\", \"house\": \"Gryffindor\", \"Patronus\": \"Otter\"},\n",
    "    {\"name\": \"Henry\", \"house\": \"Slytherin\", \"Patronus\": \"Stag\"},\n",
    "    {\"name\": \"Gobi\", \"house\": \"Hufflepuff\", \"Patronus\": None}\n",
    "]\n",
    "for student in studens:\n",
    "    \n",
    "    print(student[\"name\"], student[\"house\"], student[\"Patronus\"], sep=\" | \")\n"
   ]
  },
  {
   "attachments": {},
   "cell_type": "markdown",
   "metadata": {},
   "source": [
    "conda list\n"
   ]
  },
  {
   "attachments": {},
   "cell_type": "markdown",
   "metadata": {},
   "source": []
  }
 ],
 "metadata": {
  "kernelspec": {
   "display_name": "Python 3",
   "language": "python",
   "name": "python3"
  },
  "language_info": {
   "codemirror_mode": {
    "name": "ipython",
    "version": 3
   },
   "file_extension": ".py",
   "mimetype": "text/x-python",
   "name": "python",
   "nbconvert_exporter": "python",
   "pygments_lexer": "ipython3",
   "version": "3.10.6"
  },
  "orig_nbformat": 4
 },
 "nbformat": 4,
 "nbformat_minor": 2
}
