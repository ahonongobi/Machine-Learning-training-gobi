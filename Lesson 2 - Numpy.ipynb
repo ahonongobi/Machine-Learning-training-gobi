{
 "cells": [
  {
   "cell_type": "markdown",
   "id": "0313999f",
   "metadata": {},
   "source": [
    "#### Introduction"
   ]
  },
  {
   "cell_type": "markdown",
   "id": "eb67f5dd",
   "metadata": {
    "jp-MarkdownHeadingCollapsed": true,
    "tags": []
   },
   "source": [
    "##### NumPy (Numeric Python\" ou \"Numerical Python) est l’un des packages fondamentaux pour tout ce qui concerne les traitements scientifiques dans Python. Il contient des fonctionnalités dédiées aux tableaux multidimensionnels, des fonctions mathématiques de haut niveau, comme les opérations d’algèbre linéaire"
   ]
  },
  {
   "cell_type": "markdown",
   "id": "460cefa7",
   "metadata": {},
   "source": [
    "#### Lorsque vous téléchargez anaconda, de nombreux packages sont déjà installés pour vous, il vous suffit de l'importer."
   ]
  },
  {
   "cell_type": "code",
   "execution_count": 3,
   "id": "86762fdb",
   "metadata": {},
   "outputs": [],
   "source": [
    "#Pour voir la liste des packages qui sont installés"
   ]
  },
  {
   "cell_type": "code",
   "execution_count": 4,
   "id": "f81ce6c8",
   "metadata": {
    "tags": []
   },
   "outputs": [
    {
     "name": "stdout",
     "output_type": "stream",
     "text": [
      "# packages in environment at /home/gobi/anaconda3:\n",
      "#\n",
      "# Name                    Version                   Build  Channel\n",
      "_ipyw_jlab_nb_ext_conf    0.1.0            py39h06a4308_0  \n",
      "_libgcc_mutex             0.1                        main  \n",
      "_openmp_mutex             4.5                       1_gnu  \n",
      "alabaster                 0.7.12             pyhd3eb1b0_0  \n",
      "anaconda                  2021.11                  py39_0  \n",
      "anaconda-client           1.9.0            py39h06a4308_0  \n",
      "anaconda-navigator        2.1.1                    py39_0  \n",
      "anaconda-project          0.10.1             pyhd3eb1b0_0  \n",
      "anyio                     2.2.0            py39h06a4308_1  \n",
      "appdirs                   1.4.4              pyhd3eb1b0_0  \n",
      "argh                      0.26.2           py39h06a4308_0  \n",
      "argon2-cffi               20.1.0           py39h27cfd23_1  \n",
      "arrow                     0.13.1           py39h06a4308_0  \n",
      "asn1crypto                1.4.0                      py_0  \n",
      "astroid                   2.6.6            py39h06a4308_0  \n",
      "astropy                   4.3.1            py39h09021b7_0  \n",
      "async_generator           1.10               pyhd3eb1b0_0  \n",
      "atomicwrites              1.4.0                      py_0  \n",
      "attrs                     21.2.0             pyhd3eb1b0_0  \n",
      "autopep8                  1.5.7              pyhd3eb1b0_0  \n",
      "babel                     2.9.1              pyhd3eb1b0_0  \n",
      "backcall                  0.2.0              pyhd3eb1b0_0  \n",
      "backports                 1.0                pyhd3eb1b0_2  \n",
      "backports.functools_lru_cache 1.6.4              pyhd3eb1b0_0  \n",
      "backports.shutil_get_terminal_size 1.0.0              pyhd3eb1b0_3  \n",
      "backports.tempfile        1.0                pyhd3eb1b0_1  \n",
      "backports.weakref         1.0.post1                  py_1  \n",
      "beautifulsoup4            4.10.0             pyh06a4308_0  \n",
      "binaryornot               0.4.4              pyhd3eb1b0_1  \n",
      "bitarray                  2.3.0            py39h7f8727e_1  \n",
      "bkcharts                  0.2              py39h06a4308_0  \n",
      "black                     19.10b0                    py_0  \n",
      "blas                      1.0                         mkl  \n",
      "bleach                    4.0.0              pyhd3eb1b0_0  \n",
      "blosc                     1.21.0               h8c45485_0  \n",
      "bokeh                     2.4.1            py39h06a4308_0  \n",
      "boto                      2.49.0           py39h06a4308_0  \n",
      "bottleneck                1.3.2            py39hdd57654_1  \n",
      "brotli                    1.0.9                he6710b0_2  \n",
      "brotlipy                  0.7.0           py39h27cfd23_1003  \n",
      "brunsli                   0.1                  h2531618_0  \n",
      "bzip2                     1.0.8                h7b6447c_0  \n",
      "c-ares                    1.17.1               h27cfd23_0  \n",
      "ca-certificates           2021.10.26           h06a4308_2  \n",
      "cached-property           1.5.2                      py_0  \n",
      "cairo                     1.16.0               hf32fb01_1  \n",
      "certifi                   2021.10.8        py39h06a4308_0  \n",
      "cffi                      1.14.6           py39h400218f_0  \n",
      "cfitsio                   3.470                hf0d0db6_6  \n",
      "chardet                   4.0.0           py39h06a4308_1003  \n",
      "charls                    2.2.0                h2531618_0  \n",
      "charset-normalizer        2.0.4              pyhd3eb1b0_0  \n",
      "click                     8.0.3              pyhd3eb1b0_0  \n",
      "cloudpickle               2.0.0              pyhd3eb1b0_0  \n",
      "clyent                    1.2.2            py39h06a4308_1  \n",
      "colorama                  0.4.4              pyhd3eb1b0_0  \n",
      "conda                     4.10.3           py39h06a4308_0  \n",
      "conda-build               3.21.5           py39h06a4308_0  \n",
      "conda-content-trust       0.1.1              pyhd3eb1b0_0  \n",
      "conda-env                 2.6.0                         1  \n",
      "conda-pack                0.6.0              pyhd3eb1b0_0  \n",
      "conda-package-handling    1.7.3            py39h27cfd23_1  \n",
      "conda-repo-cli            1.0.4              pyhd3eb1b0_0  \n",
      "conda-token               0.3.0              pyhd3eb1b0_0  \n",
      "conda-verify              3.4.2                      py_1  \n",
      "contextlib2               0.6.0.post1        pyhd3eb1b0_0  \n",
      "cookiecutter              1.7.2              pyhd3eb1b0_0  \n",
      "cryptography              3.4.8            py39hd23ed53_0  \n",
      "curl                      7.78.0               h1ccaba5_0  \n",
      "cycler                    0.10.0           py39h06a4308_0  \n",
      "cython                    0.29.24          py39hdbfa776_0  \n",
      "cytoolz                   0.11.0           py39h27cfd23_0  \n",
      "daal4py                   2021.3.0         py39hae6d005_0  \n",
      "dal                       2021.3.0           h06a4308_557  \n",
      "dask                      2021.10.0          pyhd3eb1b0_0  \n",
      "dask-core                 2021.10.0          pyhd3eb1b0_0  \n",
      "dataclasses               0.8                pyh6d0b6a4_7  \n",
      "dbus                      1.13.18              hb2f20db_0  \n",
      "debugpy                   1.4.1            py39h295c915_0  \n",
      "decorator                 5.1.0              pyhd3eb1b0_0  \n",
      "defusedxml                0.7.1              pyhd3eb1b0_0  \n",
      "diff-match-patch          20200713           pyhd3eb1b0_0  \n",
      "distributed               2021.10.0        py39h06a4308_0  \n",
      "docutils                  0.17.1           py39h06a4308_1  \n",
      "entrypoints               0.3              py39h06a4308_0  \n",
      "et_xmlfile                1.1.0            py39h06a4308_0  \n",
      "expat                     2.4.1                h2531618_2  \n",
      "fastcache                 1.1.0            py39he8ac12f_0  \n",
      "filelock                  3.3.1              pyhd3eb1b0_1  \n",
      "flake8                    3.9.2              pyhd3eb1b0_0  \n",
      "flask                     1.1.2              pyhd3eb1b0_0  \n",
      "fontconfig                2.13.1               h6c09931_0  \n",
      "fonttools                 4.25.0             pyhd3eb1b0_0  \n",
      "freetype                  2.10.4               h5ab3b9f_0  \n",
      "fribidi                   1.0.10               h7b6447c_0  \n",
      "fsspec                    2021.8.1           pyhd3eb1b0_0  \n",
      "future                    0.18.2           py39h06a4308_1  \n",
      "get_terminal_size         1.0.0                haa9412d_0  \n",
      "gevent                    21.8.0           py39h7f8727e_1  \n",
      "giflib                    5.2.1                h7b6447c_0  \n",
      "glib                      2.69.1               h5202010_0  \n",
      "glob2                     0.7                pyhd3eb1b0_0  \n",
      "gmp                       6.2.1                h2531618_2  \n",
      "gmpy2                     2.0.8            py39h8083e48_3  \n",
      "graphite2                 1.3.14               h23475e2_0  \n",
      "greenlet                  1.1.1            py39h295c915_0  \n",
      "gst-plugins-base          1.14.0               h8213a91_2  \n",
      "gstreamer                 1.14.0               h28cd5cc_2  \n",
      "h5py                      3.3.0            py39h930cdd6_0  \n",
      "harfbuzz                  2.8.1                h6f93f22_0  \n",
      "hdf5                      1.10.6               hb1b8bf9_0  \n",
      "heapdict                  1.0.1              pyhd3eb1b0_0  \n",
      "html5lib                  1.1                pyhd3eb1b0_0  \n",
      "icu                       58.2                 he6710b0_3  \n",
      "idna                      3.2                pyhd3eb1b0_0  \n",
      "imagecodecs               2021.8.26        py39h4cda21f_0  \n",
      "imageio                   2.9.0              pyhd3eb1b0_0  \n",
      "imagesize                 1.2.0              pyhd3eb1b0_0  \n",
      "importlib-metadata        4.8.1            py39h06a4308_0  \n",
      "importlib_metadata        4.8.1                hd3eb1b0_0  \n",
      "inflection                0.5.1            py39h06a4308_0  \n",
      "iniconfig                 1.1.1              pyhd3eb1b0_0  \n",
      "intel-openmp              2021.4.0          h06a4308_3561  \n",
      "intervaltree              3.1.0              pyhd3eb1b0_0  \n",
      "ipykernel                 6.4.1            py39h06a4308_1  \n",
      "ipython                   7.29.0           py39hb070fc8_0  \n",
      "ipython_genutils          0.2.0              pyhd3eb1b0_1  \n",
      "ipywidgets                7.6.5              pyhd3eb1b0_1  \n",
      "isort                     5.9.3              pyhd3eb1b0_0  \n",
      "itsdangerous              2.0.1              pyhd3eb1b0_0  \n",
      "jbig                      2.1                  hdba287a_0  \n",
      "jdcal                     1.4.1              pyhd3eb1b0_0  \n",
      "jedi                      0.18.0           py39h06a4308_1  \n",
      "jeepney                   0.7.1              pyhd3eb1b0_0  \n",
      "jinja2                    2.11.3             pyhd3eb1b0_0  \n",
      "jinja2-time               0.2.0              pyhd3eb1b0_2  \n",
      "joblib                    1.1.0              pyhd3eb1b0_0  \n",
      "jpeg                      9d                   h7f8727e_0  \n",
      "json5                     0.9.6              pyhd3eb1b0_0  \n",
      "jsonschema                3.2.0              pyhd3eb1b0_2  \n",
      "jupyter                   1.0.0            py39h06a4308_7  \n",
      "jupyter_client            6.1.12             pyhd3eb1b0_0  \n",
      "jupyter_console           6.4.0              pyhd3eb1b0_0  \n",
      "jupyter_core              4.8.1            py39h06a4308_0  \n",
      "jupyter_server            1.4.1            py39h06a4308_0  \n",
      "jupyterlab                3.2.1              pyhd3eb1b0_1  \n",
      "jupyterlab_pygments       0.1.2                      py_0  \n",
      "jupyterlab_server         2.8.2              pyhd3eb1b0_0  \n",
      "jupyterlab_widgets        1.0.0              pyhd3eb1b0_1  \n",
      "jxrlib                    1.1                  h7b6447c_2  \n",
      "keyring                   23.1.0           py39h06a4308_0  \n",
      "kiwisolver                1.3.1            py39h2531618_0  \n",
      "krb5                      1.19.2               hac12032_0  \n",
      "lazy-object-proxy         1.6.0            py39h27cfd23_0  \n",
      "lcms2                     2.12                 h3be6417_0  \n",
      "ld_impl_linux-64          2.35.1               h7274673_9  \n",
      "lerc                      3.0                  h295c915_0  \n",
      "libaec                    1.0.4                he6710b0_1  \n",
      "libarchive                3.4.2                h62408e4_0  \n",
      "libcurl                   7.78.0               h0b77cf5_0  \n",
      "libdeflate                1.8                  h7f8727e_5  \n",
      "libedit                   3.1.20210910         h7f8727e_0  \n",
      "libev                     4.33                 h7f8727e_1  \n",
      "libffi                    3.3                  he6710b0_2  \n",
      "libgcc-ng                 9.3.0               h5101ec6_17  \n",
      "libgfortran-ng            7.5.0               ha8ba4b0_17  \n",
      "libgfortran4              7.5.0               ha8ba4b0_17  \n",
      "libgomp                   9.3.0               h5101ec6_17  \n",
      "liblief                   0.10.1               h2531618_1  \n",
      "libllvm11                 11.1.0               h3826bc1_0  \n",
      "libnghttp2                1.41.0               hf8bcb03_2  \n",
      "libpng                    1.6.37               hbc83047_0  \n",
      "libsodium                 1.0.18               h7b6447c_0  \n",
      "libspatialindex           1.9.3                h2531618_0  \n",
      "libssh2                   1.9.0                h1ba5d50_1  \n",
      "libstdcxx-ng              9.3.0               hd4cf53a_17  \n",
      "libtiff                   4.2.0                h85742a9_0  \n",
      "libtool                   2.4.6             h7b6447c_1005  \n",
      "libuuid                   1.0.3                h7f8727e_2  \n",
      "libuv                     1.40.0               h7b6447c_0  \n",
      "libwebp                   1.2.0                h89dd481_0  \n",
      "libwebp-base              1.2.0                h27cfd23_0  \n",
      "libxcb                    1.14                 h7b6447c_0  \n",
      "libxml2                   2.9.12               h03d6c58_0  \n",
      "libxslt                   1.1.34               hc22bd24_0  \n",
      "libzopfli                 1.0.3                he6710b0_0  \n",
      "llvmlite                  0.37.0           py39h295c915_1  \n",
      "locket                    0.2.1            py39h06a4308_1  \n",
      "lxml                      4.6.3            py39h9120a33_0  \n",
      "lz4-c                     1.9.3                h295c915_1  \n",
      "lzo                       2.10                 h7b6447c_2  \n",
      "markupsafe                1.1.1            py39h27cfd23_0  \n",
      "matplotlib                3.4.3            py39h06a4308_0  \n",
      "matplotlib-base           3.4.3            py39hbbc1b5f_0  \n",
      "matplotlib-inline         0.1.2              pyhd3eb1b0_2  \n",
      "mccabe                    0.6.1            py39h06a4308_1  \n",
      "mistune                   0.8.4           py39h27cfd23_1000  \n",
      "mkl                       2021.4.0           h06a4308_640  \n",
      "mkl-service               2.4.0            py39h7f8727e_0  \n",
      "mkl_fft                   1.3.1            py39hd3c417c_0  \n",
      "mkl_random                1.2.2            py39h51133e4_0  \n",
      "mock                      4.0.3              pyhd3eb1b0_0  \n",
      "more-itertools            8.10.0             pyhd3eb1b0_0  \n",
      "mpc                       1.1.0                h10f8cd9_1  \n",
      "mpfr                      4.0.2                hb69a4c5_1  \n",
      "mpi                       1.0                       mpich  \n",
      "mpich                     3.3.2                hc856adb_0  \n",
      "mpmath                    1.2.1            py39h06a4308_0  \n",
      "msgpack-python            1.0.2            py39hff7bd54_1  \n",
      "multipledispatch          0.6.0            py39h06a4308_0  \n",
      "munkres                   1.1.4                      py_0  \n",
      "mypy_extensions           0.4.3            py39h06a4308_0  \n",
      "navigator-updater         0.2.1            py39h06a4308_0  \n",
      "nbclassic                 0.2.6              pyhd3eb1b0_0  \n",
      "nbclient                  0.5.3              pyhd3eb1b0_0  \n",
      "nbconvert                 6.1.0            py39h06a4308_0  \n",
      "nbformat                  5.1.3              pyhd3eb1b0_0  \n",
      "ncurses                   6.3                  heee7806_1  \n",
      "nest-asyncio              1.5.1              pyhd3eb1b0_0  \n",
      "networkx                  2.6.3              pyhd3eb1b0_0  \n",
      "nltk                      3.6.5              pyhd3eb1b0_0  \n",
      "nose                      1.3.7           pyhd3eb1b0_1006  \n",
      "notebook                  6.4.5            py39h06a4308_0  \n",
      "numba                     0.54.1           py39h51133e4_0  \n",
      "numexpr                   2.7.3            py39h22e1b3c_1  \n",
      "numpy                     1.20.3           py39hf144106_0  \n",
      "numpy-base                1.20.3           py39h74d4b33_0  \n",
      "numpydoc                  1.1.0              pyhd3eb1b0_1  \n",
      "olefile                   0.46               pyhd3eb1b0_0  \n",
      "openjpeg                  2.4.0                h3ad879b_0  \n",
      "openpyxl                  3.0.9              pyhd3eb1b0_0  \n",
      "openssl                   1.1.1l               h7f8727e_0  \n",
      "packaging                 21.0               pyhd3eb1b0_0  \n",
      "pandas                    1.3.4            py39h8c16a72_0  \n",
      "pandocfilters             1.4.3            py39h06a4308_1  \n",
      "pango                     1.45.3               hd140c19_0  \n",
      "parso                     0.8.2              pyhd3eb1b0_0  \n",
      "partd                     1.2.0              pyhd3eb1b0_0  \n",
      "patchelf                  0.13                 h295c915_0  \n",
      "path                      16.0.0           py39h06a4308_0  \n",
      "path.py                   12.5.0               hd3eb1b0_0  \n",
      "pathlib2                  2.3.6            py39h06a4308_2  \n",
      "pathspec                  0.7.0                      py_0  \n",
      "patsy                     0.5.2            py39h06a4308_0  \n",
      "pcre                      8.45                 h295c915_0  \n",
      "pep8                      1.7.1            py39h06a4308_0  \n",
      "pexpect                   4.8.0              pyhd3eb1b0_3  \n",
      "pickleshare               0.7.5           pyhd3eb1b0_1003  \n",
      "pillow                    8.4.0            py39h5aabda8_0  \n",
      "pip                       21.2.4           py39h06a4308_0  \n",
      "pixman                    0.40.0               h7f8727e_1  \n",
      "pkginfo                   1.7.1            py39h06a4308_0  \n",
      "pluggy                    0.13.1           py39h06a4308_0  \n",
      "ply                       3.11             py39h06a4308_0  \n",
      "poyo                      0.5.0              pyhd3eb1b0_0  \n",
      "prometheus_client         0.11.0             pyhd3eb1b0_0  \n",
      "prompt-toolkit            3.0.20             pyhd3eb1b0_0  \n",
      "prompt_toolkit            3.0.20               hd3eb1b0_0  \n",
      "psutil                    5.8.0            py39h27cfd23_1  \n",
      "ptyprocess                0.7.0              pyhd3eb1b0_2  \n",
      "py                        1.10.0             pyhd3eb1b0_0  \n",
      "py-lief                   0.10.1           py39h2531618_1  \n",
      "pycodestyle               2.7.0              pyhd3eb1b0_0  \n",
      "pycosat                   0.6.3            py39h27cfd23_0  \n",
      "pycparser                 2.20                       py_2  \n",
      "pycurl                    7.44.1           py39h8f2d780_1  \n",
      "pydocstyle                6.1.1              pyhd3eb1b0_0  \n",
      "pyerfa                    2.0.0            py39h27cfd23_0  \n",
      "pyflakes                  2.3.1              pyhd3eb1b0_0  \n",
      "pygments                  2.10.0             pyhd3eb1b0_0  \n",
      "pyjwt                     2.1.0            py39h06a4308_0  \n",
      "pylint                    2.9.6            py39h06a4308_1  \n",
      "pyls-spyder               0.4.0              pyhd3eb1b0_0  \n",
      "pyodbc                    4.0.31           py39h295c915_0  \n",
      "pyopenssl                 21.0.0             pyhd3eb1b0_1  \n",
      "pyparsing                 3.0.4              pyhd3eb1b0_0  \n",
      "pyqt                      5.9.2            py39h2531618_6  \n",
      "pyrsistent                0.18.0           py39heee7806_0  \n",
      "pysocks                   1.7.1            py39h06a4308_0  \n",
      "pytables                  3.6.1            py39h77479fe_1  \n",
      "pytest                    6.2.4            py39h06a4308_2  \n",
      "python                    3.9.7                h12debd9_1  \n",
      "python-dateutil           2.8.2              pyhd3eb1b0_0  \n",
      "python-libarchive-c       2.9                pyhd3eb1b0_1  \n",
      "python-lsp-black          1.0.0              pyhd3eb1b0_0  \n",
      "python-lsp-jsonrpc        1.0.0              pyhd3eb1b0_0  \n",
      "python-lsp-server         1.2.4              pyhd3eb1b0_0  \n",
      "python-slugify            5.0.2              pyhd3eb1b0_0  \n",
      "pytz                      2021.3             pyhd3eb1b0_0  \n",
      "pywavelets                1.1.1            py39h6323ea4_4  \n",
      "pyxdg                     0.27               pyhd3eb1b0_0  \n",
      "pyyaml                    6.0              py39h7f8727e_1  \n",
      "pyzmq                     22.2.1           py39h295c915_1  \n",
      "qdarkstyle                3.0.2              pyhd3eb1b0_0  \n",
      "qstylizer                 0.1.10             pyhd3eb1b0_0  \n",
      "qt                        5.9.7                h5867ecd_1  \n",
      "qtawesome                 1.0.2              pyhd3eb1b0_0  \n",
      "qtconsole                 5.1.1              pyhd3eb1b0_0  \n",
      "qtpy                      1.10.0             pyhd3eb1b0_0  \n",
      "readline                  8.1                  h27cfd23_0  \n",
      "regex                     2021.8.3         py39h7f8727e_0  \n",
      "requests                  2.26.0             pyhd3eb1b0_0  \n",
      "ripgrep                   12.1.1                        0  \n",
      "rope                      0.19.0             pyhd3eb1b0_0  \n",
      "rtree                     0.9.7            py39h06a4308_1  \n",
      "ruamel_yaml               0.15.100         py39h27cfd23_0  \n",
      "scikit-image              0.18.3           py39h51133e4_0  \n",
      "scikit-learn              0.24.2           py39ha9443f7_0  \n",
      "scikit-learn-intelex      2021.3.0         py39h06a4308_0  \n",
      "scipy                     1.7.1            py39h292c36d_2  \n",
      "seaborn                   0.11.2             pyhd3eb1b0_0  \n",
      "secretstorage             3.3.1            py39h06a4308_0  \n",
      "send2trash                1.8.0              pyhd3eb1b0_1  \n",
      "setuptools                58.0.4           py39h06a4308_0  \n",
      "simplegeneric             0.8.1            py39h06a4308_2  \n",
      "singledispatch            3.7.0           pyhd3eb1b0_1001  \n",
      "sip                       4.19.13          py39h2531618_0  \n",
      "six                       1.16.0             pyhd3eb1b0_0  \n",
      "snappy                    1.1.8                he6710b0_0  \n",
      "sniffio                   1.2.0            py39h06a4308_1  \n",
      "snowballstemmer           2.1.0              pyhd3eb1b0_0  \n",
      "sortedcollections         2.1.0              pyhd3eb1b0_0  \n",
      "sortedcontainers          2.4.0              pyhd3eb1b0_0  \n",
      "soupsieve                 2.2.1              pyhd3eb1b0_0  \n",
      "sphinx                    4.2.0              pyhd3eb1b0_1  \n",
      "sphinxcontrib             1.0              py39h06a4308_1  \n",
      "sphinxcontrib-applehelp   1.0.2              pyhd3eb1b0_0  \n",
      "sphinxcontrib-devhelp     1.0.2              pyhd3eb1b0_0  \n",
      "sphinxcontrib-htmlhelp    2.0.0              pyhd3eb1b0_0  \n",
      "sphinxcontrib-jsmath      1.0.1              pyhd3eb1b0_0  \n",
      "sphinxcontrib-qthelp      1.0.3              pyhd3eb1b0_0  \n",
      "sphinxcontrib-serializinghtml 1.1.5              pyhd3eb1b0_0  \n",
      "sphinxcontrib-websupport  1.2.4                      py_0  \n",
      "spyder                    5.1.5            py39h06a4308_1  \n",
      "spyder-kernels            2.1.3            py39h06a4308_0  \n",
      "sqlalchemy                1.4.22           py39h7f8727e_0  \n",
      "sqlite                    3.36.0               hc218d9a_0  \n",
      "statsmodels               0.12.2           py39h27cfd23_0  \n",
      "sympy                     1.9              py39h06a4308_0  \n",
      "tabulate                  0.9.0                    pypi_0    pypi\n",
      "tbb                       2021.4.0             hd09550d_0  \n",
      "tbb4py                    2021.4.0         py39hd09550d_0  \n",
      "tblib                     1.7.0              pyhd3eb1b0_0  \n",
      "terminado                 0.9.4            py39h06a4308_0  \n",
      "testpath                  0.5.0              pyhd3eb1b0_0  \n",
      "text-unidecode            1.3                pyhd3eb1b0_0  \n",
      "textdistance              4.2.1              pyhd3eb1b0_0  \n",
      "threadpoolctl             2.2.0              pyh0d69192_0  \n",
      "three-merge               0.1.1              pyhd3eb1b0_0  \n",
      "tifffile                  2021.7.2           pyhd3eb1b0_2  \n",
      "tinycss                   0.4             pyhd3eb1b0_1002  \n",
      "tk                        8.6.11               h1ccaba5_0  \n",
      "toml                      0.10.2             pyhd3eb1b0_0  \n",
      "toolz                     0.11.1             pyhd3eb1b0_0  \n",
      "tornado                   6.1              py39h27cfd23_0  \n",
      "tqdm                      4.62.3             pyhd3eb1b0_1  \n",
      "traitlets                 5.1.0              pyhd3eb1b0_0  \n",
      "typed-ast                 1.4.3            py39h7f8727e_1  \n",
      "typing_extensions         3.10.0.2           pyh06a4308_0  \n",
      "tzdata                    2021e                hda174b7_0  \n",
      "ujson                     4.0.2            py39h2531618_0  \n",
      "unicodecsv                0.14.1           py39h06a4308_0  \n",
      "unidecode                 1.2.0              pyhd3eb1b0_0  \n",
      "unixodbc                  2.3.9                h7b6447c_0  \n",
      "urllib3                   1.26.7             pyhd3eb1b0_0  \n",
      "watchdog                  2.1.3            py39h06a4308_0  \n",
      "wcwidth                   0.2.5              pyhd3eb1b0_0  \n",
      "webencodings              0.5.1            py39h06a4308_1  \n",
      "werkzeug                  2.0.2              pyhd3eb1b0_0  \n",
      "wheel                     0.37.0             pyhd3eb1b0_1  \n",
      "whichcraft                0.6.1              pyhd3eb1b0_0  \n",
      "widgetsnbextension        3.5.1            py39h06a4308_0  \n",
      "wrapt                     1.12.1           py39he8ac12f_1  \n",
      "wurlitzer                 2.1.1            py39h06a4308_0  \n",
      "xlrd                      2.0.1              pyhd3eb1b0_0  \n",
      "xlsxwriter                3.0.1              pyhd3eb1b0_0  \n",
      "xlwt                      1.3.0            py39h06a4308_0  \n",
      "xmltodict                 0.12.0             pyhd3eb1b0_0  \n",
      "xz                        5.2.5                h7b6447c_0  \n",
      "yaml                      0.2.5                h7b6447c_0  \n",
      "yapf                      0.31.0             pyhd3eb1b0_0  \n",
      "zeromq                    4.3.4                h2531618_0  \n",
      "zfp                       0.5.5                h2531618_6  \n",
      "zict                      2.0.0              pyhd3eb1b0_0  \n",
      "zipp                      3.6.0              pyhd3eb1b0_0  \n",
      "zlib                      1.2.11               h7b6447c_3  \n",
      "zope                      1.0              py39h06a4308_1  \n",
      "zope.event                4.5.0            py39h06a4308_0  \n",
      "zope.interface            5.4.0            py39h7f8727e_0  \n",
      "zstd                      1.4.9                haebb681_0  \n",
      "\n",
      "Note: you may need to restart the kernel to use updated packages.\n"
     ]
    }
   ],
   "source": [
    "conda list"
   ]
  },
  {
   "cell_type": "code",
   "execution_count": 5,
   "id": "dc6b047d",
   "metadata": {},
   "outputs": [],
   "source": [
    "import numpy as np\n",
    "# %pip install numpy #Pour installer un package qui n'existe pas"
   ]
  },
  {
   "cell_type": "code",
   "execution_count": 6,
   "id": "40af8cd6",
   "metadata": {},
   "outputs": [
    {
     "data": {
      "text/plain": [
       "'1.20.3'"
      ]
     },
     "execution_count": 6,
     "metadata": {},
     "output_type": "execute_result"
    }
   ],
   "source": [
    "#Version de numpy\n",
    "np.__version__"
   ]
  },
  {
   "cell_type": "markdown",
   "id": "0a24b8f6-a7e0-4557-b93c-0a65a066e51b",
   "metadata": {},
   "source": [
    "#### 1er exemple\n",
    "Notre premier exemple simple de Numpy traite des températures."
   ]
  },
  {
   "cell_type": "code",
   "execution_count": 7,
   "id": "b9347fc2",
   "metadata": {},
   "outputs": [],
   "source": [
    "cvalues = [20.1, 20.8, 21.9, 22.5, 22.7, 22.3, 21.8, 21.2, 20.9, 20.1]\n"
   ]
  },
  {
   "cell_type": "code",
   "execution_count": 8,
   "id": "44c130f7",
   "metadata": {},
   "outputs": [
    {
     "name": "stdout",
     "output_type": "stream",
     "text": [
      "[20.1, 20.8, 21.9, 22.5, 22.7, 22.3, 21.8, 21.2, 20.9, 20.1]\n"
     ]
    }
   ],
   "source": [
    "print(cvalues)"
   ]
  },
  {
   "cell_type": "code",
   "execution_count": 9,
   "id": "bd7cd2b7",
   "metadata": {},
   "outputs": [
    {
     "data": {
      "text/plain": [
       "list"
      ]
     },
     "execution_count": 9,
     "metadata": {},
     "output_type": "execute_result"
    }
   ],
   "source": [
    "type(cvalues)"
   ]
  },
  {
   "cell_type": "code",
   "execution_count": 10,
   "id": "17e297e3",
   "metadata": {},
   "outputs": [
    {
     "name": "stdout",
     "output_type": "stream",
     "text": [
      "[20.1 20.8 21.9 22.5 22.7 22.3 21.8 21.2 20.9 20.1]\n"
     ]
    }
   ],
   "source": [
    "## Nous allons transformer notre liste \"cvalues\" en un tableau numpy unidimensionnel :\n",
    "C = np.array(cvalues)\n",
    "print(C)"
   ]
  },
  {
   "cell_type": "code",
   "execution_count": 11,
   "id": "43f337c7",
   "metadata": {},
   "outputs": [
    {
     "data": {
      "text/plain": [
       "numpy.ndarray"
      ]
     },
     "execution_count": 11,
     "metadata": {},
     "output_type": "execute_result"
    }
   ],
   "source": [
    "type(C)"
   ]
  },
  {
   "cell_type": "code",
   "execution_count": 12,
   "id": "d6b0a52e",
   "metadata": {},
   "outputs": [
    {
     "name": "stdout",
     "output_type": "stream",
     "text": [
      "[68.18 69.44 71.42 72.5  72.86 72.14 71.24 70.16 69.62 68.18]\n"
     ]
    }
   ],
   "source": [
    "#Supposons que nous voulions transformer les valeurs en degrés Fahrenheit. \n",
    "#Ceci est très facile à réaliser avec un tableau numpy\n",
    "print(C * 9 / 5 + 32)"
   ]
  },
  {
   "cell_type": "code",
   "execution_count": 13,
   "id": "d60b60ae",
   "metadata": {},
   "outputs": [
    {
     "name": "stdout",
     "output_type": "stream",
     "text": [
      "[68.18, 69.44, 71.42, 72.5, 72.86, 72.14, 71.24000000000001, 70.16, 69.62, 68.18]\n"
     ]
    }
   ],
   "source": [
    "#Par rapport à cela, la solution pour notre liste Python semble maladroite et plutot compliqué\n",
    "fvalues = [ x*9/5 + 32 for x in cvalues]\n",
    "print(fvalues)"
   ]
  },
  {
   "cell_type": "code",
   "execution_count": 14,
   "id": "62bdf287",
   "metadata": {},
   "outputs": [
    {
     "name": "stdout",
     "output_type": "stream",
     "text": [
      "[24.8 12.9 57.6]\n"
     ]
    }
   ],
   "source": [
    "#Vous pouvez créer votre propre tableau numpy et définir le type de données des éléments\n",
    "a = np.array([24.8, 12.9, 57.6], np.double)\n",
    "print(a)"
   ]
  },
  {
   "cell_type": "markdown",
   "id": "97ec90a9",
   "metadata": {},
   "source": [
    "Autres types de données\n",
    "https://numpy.org/doc/stable/user/basics.types.html"
   ]
  },
  {
   "cell_type": "markdown",
   "id": "bc9f8a52",
   "metadata": {},
   "source": [
    "----------------------------------------------------------------------------------------------\n",
    "CRÉATION DE TABLEAUX AVEC DES VALEURS RÉGULIÈREMENT ESPACÉES\n",
    "ARANGE\n",
    "La syntaxe de arange :\n",
    "arange([start,] stop[, step], [, dtype=None])"
   ]
  },
  {
   "cell_type": "code",
   "execution_count": 15,
   "id": "d6243621",
   "metadata": {},
   "outputs": [
    {
     "name": "stdout",
     "output_type": "stream",
     "text": [
      "[ 1  2  3  4  5  6  7  8  9 10]\n",
      "range(1, 11)\n",
      "[1, 2, 3, 4, 5, 6, 7, 8, 9, 10]\n"
     ]
    }
   ],
   "source": [
    "a = np.arange(1, 11)\n",
    "print(a)\n",
    "x = range(1, 11)\n",
    "print(x) # x est un itérateur\n",
    "print(list(x))"
   ]
  },
  {
   "cell_type": "code",
   "execution_count": 16,
   "id": "81711023",
   "metadata": {},
   "outputs": [
    {
     "data": {
      "text/plain": [
       "numpy.ndarray"
      ]
     },
     "execution_count": 16,
     "metadata": {},
     "output_type": "execute_result"
    }
   ],
   "source": [
    "type(a)"
   ]
  },
  {
   "cell_type": "code",
   "execution_count": 17,
   "id": "363677f4",
   "metadata": {},
   "outputs": [
    {
     "name": "stdout",
     "output_type": "stream",
     "text": [
      "[ 0.5  1.3  2.1  2.9  3.7  4.5  5.3  6.1  6.9  7.7  8.5  9.3 10.1]\n"
     ]
    }
   ],
   "source": [
    "y = np.arange(0.5, 10.4, 0.8) # Avec une etape de 0.8\n",
    "print(y)"
   ]
  },
  {
   "cell_type": "code",
   "execution_count": 18,
   "id": "981f32d1",
   "metadata": {},
   "outputs": [
    {
     "name": "stdout",
     "output_type": "stream",
     "text": [
      "[ 0  1  2  3  4  5  6  7  8  9 10 11 12]\n"
     ]
    }
   ],
   "source": [
    "z = np.arange(0.5, 10.4, 0.8, int) # En ajoutant le type de donnees\n",
    "print(z)\n"
   ]
  },
  {
   "cell_type": "code",
   "execution_count": 19,
   "id": "437c7e2a",
   "metadata": {},
   "outputs": [
    {
     "data": {
      "text/plain": [
       "array([ 1,  2,  3,  4,  5,  6,  7,  8,  9, 10])"
      ]
     },
     "execution_count": 19,
     "metadata": {},
     "output_type": "execute_result"
    }
   ],
   "source": [
    "a"
   ]
  },
  {
   "cell_type": "code",
   "execution_count": 20,
   "id": "49d289f8",
   "metadata": {},
   "outputs": [
    {
     "data": {
      "text/plain": [
       "array([[ 1,  2],\n",
       "       [ 3,  4],\n",
       "       [ 5,  6],\n",
       "       [ 7,  8],\n",
       "       [ 9, 10]])"
      ]
     },
     "execution_count": 20,
     "metadata": {},
     "output_type": "execute_result"
    }
   ],
   "source": [
    "#Vous pouvez utiliser reshape pour modifier les dimensions/la forme de votre tableau numpy\n",
    "b = a.reshape(5,2) #2 lignes, 5 columns\n",
    "b"
   ]
  },
  {
   "cell_type": "code",
   "execution_count": 21,
   "id": "3f7ffcd9",
   "metadata": {},
   "outputs": [
    {
     "data": {
      "text/plain": [
       "numpy.ndarray"
      ]
     },
     "execution_count": 21,
     "metadata": {},
     "output_type": "execute_result"
    }
   ],
   "source": [
    "type(b)"
   ]
  },
  {
   "cell_type": "code",
   "execution_count": 58,
   "id": "1f388fbd-9e2c-4c18-81e1-8a85de487710",
   "metadata": {},
   "outputs": [
    {
     "data": {
      "text/plain": [
       "(5,)"
      ]
     },
     "execution_count": 58,
     "metadata": {},
     "output_type": "execute_result"
    }
   ],
   "source": [
    "a.shape"
   ]
  },
  {
   "cell_type": "code",
   "execution_count": 23,
   "id": "2ba3d11f",
   "metadata": {},
   "outputs": [
    {
     "data": {
      "text/plain": [
       "array([[ 1,  2,  3,  4,  5,  6,  7,  8,  9, 10]])"
      ]
     },
     "execution_count": 23,
     "metadata": {},
     "output_type": "execute_result"
    }
   ],
   "source": [
    "\n",
    "c = a.reshape(1,-1) # Le -1 signifie trouver le nombre correspondant de lignes avec une colonne\n",
    "c"
   ]
  },
  {
   "cell_type": "code",
   "execution_count": 24,
   "id": "59bd0e97-0993-4d82-8c75-ae58fde09187",
   "metadata": {},
   "outputs": [
    {
     "data": {
      "text/plain": [
       "array([[ 1,  2,  3,  4,  5,  6,  7,  8,  9, 10]])"
      ]
     },
     "execution_count": 24,
     "metadata": {},
     "output_type": "execute_result"
    }
   ],
   "source": [
    "\n",
    "c = a.reshape(1,-1) # Le -1 signifie trouver le nombre correspondant de lignes avec une colonne\n",
    "c"
   ]
  },
  {
   "cell_type": "code",
   "execution_count": 25,
   "id": "5c3268de",
   "metadata": {},
   "outputs": [
    {
     "data": {
      "text/plain": [
       "(1, 10)"
      ]
     },
     "execution_count": 25,
     "metadata": {},
     "output_type": "execute_result"
    }
   ],
   "source": [
    "c.shape # 10 lignes, 1 colonne"
   ]
  },
  {
   "cell_type": "code",
   "execution_count": 26,
   "id": "774e0f52",
   "metadata": {},
   "outputs": [
    {
     "data": {
      "text/plain": [
       "1"
      ]
     },
     "execution_count": 26,
     "metadata": {},
     "output_type": "execute_result"
    }
   ],
   "source": [
    "np.ndim(a)"
   ]
  },
  {
   "cell_type": "markdown",
   "id": "b8829982",
   "metadata": {},
   "source": [
    "--------------------------------------------------------------------------------------\n",
    "Dimensions du tableau"
   ]
  },
  {
   "cell_type": "code",
   "execution_count": 27,
   "id": "2ef602b0",
   "metadata": {},
   "outputs": [
    {
     "name": "stdout",
     "output_type": "stream",
     "text": [
      "x:  43\n",
      "The type of x:  <class 'numpy.ndarray'>\n",
      "The dimension of x: 0\n"
     ]
    }
   ],
   "source": [
    "# TABLEAUX ZÉRO-DIMENSIONNELS DANS NUMPY\n",
    "import numpy as np\n",
    "x = np.array(43)\n",
    "print(\"x: \", x)\n",
    "print(\"The type of x: \", type(x))\n",
    "print(\"The dimension of x:\", np.ndim(x))"
   ]
  },
  {
   "cell_type": "code",
   "execution_count": 28,
   "id": "e3048a54",
   "metadata": {},
   "outputs": [
    {
     "name": "stdout",
     "output_type": "stream",
     "text": [
      "V:  [ 3  6 99 12]\n",
      "Type of V:  int8\n",
      "Dimension of V:  1\n"
     ]
    }
   ],
   "source": [
    "#TABLEAUX UNIDIMENSIONNELS\n",
    "V = np.array([3.4, 6.9, 99.8, 12.8], dtype=np.int8)\n",
    "print(\"V: \", V)\n",
    "print(\"Type of V: \", V.dtype)\n",
    "print(\"Dimension of V: \", np.ndim(V))"
   ]
  },
  {
   "cell_type": "code",
   "execution_count": 29,
   "id": "035c817a",
   "metadata": {},
   "outputs": [
    {
     "name": "stdout",
     "output_type": "stream",
     "text": [
      "[[3.4 8.7 9.9]]\n",
      "Dimension 2\n"
     ]
    }
   ],
   "source": [
    "#TABLEAUX BIDIMENSIONNELS ET MULTIDIMENSIONNELS\n",
    "A = np.array([[3.4, 8.7, 9.9]])\n",
    "print(A)\n",
    "print(\"Dimension\", A.ndim)\n"
   ]
  },
  {
   "cell_type": "code",
   "execution_count": 30,
   "id": "7ca7e676-1b8f-4199-8152-0cbb7548647f",
   "metadata": {},
   "outputs": [
    {
     "data": {
      "text/plain": [
       "(1, 3)"
      ]
     },
     "execution_count": 30,
     "metadata": {},
     "output_type": "execute_result"
    }
   ],
   "source": [
    "A.shape"
   ]
  },
  {
   "cell_type": "code",
   "execution_count": 31,
   "id": "a5893fa1",
   "metadata": {
    "scrolled": true
   },
   "outputs": [
    {
     "name": "stdout",
     "output_type": "stream",
     "text": [
      "[[[111 112]\n",
      "  [121 122]]\n",
      "\n",
      " [[211 212]\n",
      "  [221 222]]\n",
      "\n",
      " [[311 312]\n",
      "  [321 322]]]\n",
      "Dimension 3\n"
     ]
    }
   ],
   "source": [
    "B = np.array([[[111, 112], [121, 122]],\n",
    "[[211, 212], [221, 222]],\n",
    "[[311, 312], [321, 322]]])\n",
    "print(B)\n",
    "print(\"Dimension\", B.ndim)"
   ]
  },
  {
   "cell_type": "code",
   "execution_count": 32,
   "id": "219d79b7",
   "metadata": {},
   "outputs": [
    {
     "data": {
      "text/plain": [
       "(3, 2, 2)"
      ]
     },
     "execution_count": 32,
     "metadata": {},
     "output_type": "execute_result"
    }
   ],
   "source": [
    "#FORME D'UN TABLEAU\n",
    "B.shape"
   ]
  },
  {
   "cell_type": "markdown",
   "id": "681efbcd",
   "metadata": {},
   "source": [
    "--------------------------------------------------------------------------------------------\n",
    "INDEXATION ET TRANCHEMENT"
   ]
  },
  {
   "cell_type": "code",
   "execution_count": 33,
   "id": "5dcd97be",
   "metadata": {},
   "outputs": [
    {
     "name": "stdout",
     "output_type": "stream",
     "text": [
      "[ 1  1  2  3  5  8 13 21]\n",
      "1\n",
      "21\n"
     ]
    }
   ],
   "source": [
    "F = np.array([1, 1, 2, 3, 5, 8, 13, 21])\n",
    "# print le premier element\n",
    "print(F)\n",
    "print(F[0])\n",
    "# print le dernier element\n",
    "print(F[-1])\n"
   ]
  },
  {
   "cell_type": "code",
   "execution_count": 34,
   "id": "3e3806d3",
   "metadata": {},
   "outputs": [
    {
     "name": "stdout",
     "output_type": "stream",
     "text": [
      "[[ 3.4  8.7  9.9]\n",
      " [ 1.1 -7.8 -0.7]\n",
      " [ 4.1 12.3  4.8]]\n",
      "1.1\n",
      "1.1\n"
     ]
    }
   ],
   "source": [
    "A = np.array([[3.4, 8.7, 9.9],\n",
    "[1.1, -7.8, -0.7],\n",
    "[4.1, 12.3, 4.8]])\n",
    "print(A)\n",
    "print(A[1][0]) #2eme ligne et premiere colonne\n",
    "#oubien\n",
    "print(A[1,0])\n"
   ]
  },
  {
   "cell_type": "code",
   "execution_count": 35,
   "id": "effe3982",
   "metadata": {},
   "outputs": [
    {
     "name": "stdout",
     "output_type": "stream",
     "text": [
      "[188  99  77  88]\n",
      "<class 'numpy.ndarray'>\n"
     ]
    }
   ],
   "source": [
    "#INDEXAGE\n",
    "C = np.array([123,188,190,99,77,88,100])\n",
    "A = np.array([4,  7,  2,  8, 6, 9, 5])\n",
    "R = C[A>5] # On veut les valeurs de C où A est inférieur ou égal à 5. C et A doivent avoir la même longueur\n",
    "print(R)\n",
    "print(type(R))"
   ]
  },
  {
   "cell_type": "code",
   "execution_count": 36,
   "id": "ce7f1582",
   "metadata": {},
   "outputs": [
    {
     "data": {
      "text/plain": [
       "array([123, 190,  99, 188,  77, 188])"
      ]
     },
     "execution_count": 36,
     "metadata": {},
     "output_type": "execute_result"
    }
   ],
   "source": [
    "#INDEXATION AVEC UN TABLEAU D'ENTIERS\n",
    "C[[0, 2, 3, 1, 4, 1]]"
   ]
  },
  {
   "cell_type": "code",
   "execution_count": 37,
   "id": "3315b8ea",
   "metadata": {},
   "outputs": [
    {
     "name": "stdout",
     "output_type": "stream",
     "text": [
      "[2 3 4]\n",
      "[0 1 2 3]\n",
      "[6 7 8 9]\n"
     ]
    }
   ],
   "source": [
    "#TRANCHEMENT\n",
    "#S[start:stop:step]\n",
    "S = np.array([0, 1, 2, 3, 4, 5, 6, 7, 8, 9])\n",
    "print(S[2:5])\n",
    "print(S[:4])\n",
    "print(S[6:])"
   ]
  },
  {
   "cell_type": "code",
   "execution_count": 38,
   "id": "ef8245f0",
   "metadata": {},
   "outputs": [
    {
     "name": "stdout",
     "output_type": "stream",
     "text": [
      "[0 1 2 3 4 5 6 7 8 9]\n"
     ]
    }
   ],
   "source": [
    "#Pour acceder a tous:\n",
    "print(S[:])\n"
   ]
  },
  {
   "cell_type": "markdown",
   "id": "0aa76999",
   "metadata": {},
   "source": [
    "------------------------------------------------------------------------------------------\n",
    "EXERCICES\n",
    "Extrait du tableau np.array([3,4,6,10,24,89,45,43,46,99,100]) avec booléen masquant tout le nombre\n",
    "• qui ne sont pas divisibles par 3\n",
    "• qui sont divisibles par 5\n",
    "• qui sont divisibles par 3 et 5\n",
    "• qui sont divisibles par 3 et fixez-les à 42\n"
   ]
  },
  {
   "cell_type": "markdown",
   "id": "c3757e77",
   "metadata": {},
   "source": [
    "-------------------------------------------------------------------------------------------------------\n",
    "CRÉATION DE TABLEAUX AVEC DES UNS, DES ZÉROS ET DES VIDE"
   ]
  },
  {
   "cell_type": "code",
   "execution_count": 39,
   "id": "f74e3e7f",
   "metadata": {},
   "outputs": [
    {
     "name": "stdout",
     "output_type": "stream",
     "text": [
      "[[1. 1. 1.]\n",
      " [1. 1. 1.]]\n",
      "[[1. 1. 1. 1.]\n",
      " [1. 1. 1. 1.]\n",
      " [1. 1. 1. 1.]]\n"
     ]
    }
   ],
   "source": [
    "import numpy as np\n",
    "E = np.ones((2,3))\n",
    "print(E)\n",
    "F = np.ones((3,4),dtype=np.double)\n",
    "print(F)"
   ]
  },
  {
   "cell_type": "code",
   "execution_count": 40,
   "id": "7635082f",
   "metadata": {},
   "outputs": [
    {
     "name": "stdout",
     "output_type": "stream",
     "text": [
      "[[0. 0. 0. 0.]\n",
      " [0. 0. 0. 0.]\n",
      " [0. 0. 0. 0.]\n",
      " [0. 0. 0. 0.]\n",
      " [0. 0. 0. 0.]]\n"
     ]
    }
   ],
   "source": [
    "Z = np.zeros((5,4))\n",
    "print(Z)"
   ]
  },
  {
   "cell_type": "code",
   "execution_count": 41,
   "id": "08e6a70c",
   "metadata": {},
   "outputs": [
    {
     "name": "stdout",
     "output_type": "stream",
     "text": [
      "[[4.94e-324 4.94e-324 9.88e-324 1.48e-323]\n",
      " [2.47e-323 3.95e-323 6.42e-323 1.04e-322]]\n"
     ]
    }
   ],
   "source": [
    "T = np.empty((2, 4))\n",
    "print(T)"
   ]
  },
  {
   "cell_type": "markdown",
   "id": "111b87bd",
   "metadata": {},
   "source": [
    "-----------------------------------------------------------------------------------------------\n",
    "EXERCICES:\n",
    "1) Créez un tableau unidimensionnel arbitraire appelé \"v\".\n",
    "2) Créez un nouveau tableau composé des indices impairs du tableau \"v\" créé précédemment.\n",
    "3) Créez un nouveau tableau dans l'ordre inverse de v.\n",
    "4) Quelle sera la sortie du code suivant :\n",
    "a = np.array([1, 2, 3, 4, 5])\n",
    "b = a[1:4]\n",
    "b[0] = 200\n",
    "imprimer(a[1])\n",
    "5) Créez un tableau à deux dimensions appelé \"m\".\n",
    "6) Créez un nouveau tableau à partir de m, dans lequel les éléments de chaque ligne sont dans l'ordre inverse.\n",
    "7) Un autre, où les rangées sont dans l'ordre inverse.\n",
    "8) Créez un tableau à partir de m, où les colonnes et les lignes sont dans l'ordre inverse.\n",
    "9) Coupe de la première et de la dernière rangée et de la première et de la dernière colonne.\n",
    "-------------------------------------------------------------------------------------------------"
   ]
  },
  {
   "cell_type": "markdown",
   "id": "6863e0da",
   "metadata": {},
   "source": [
    "OPÉRATIONS NUMÉRIQUES SUR NUMPY TABLEAUX"
   ]
  },
  {
   "cell_type": "code",
   "execution_count": 42,
   "id": "6eeaa3a7",
   "metadata": {},
   "outputs": [
    {
     "name": "stdout",
     "output_type": "stream",
     "text": [
      "[ 4.    5.    9.9   5.3   8.9   2.11 12.3  14.9 ]\n"
     ]
    }
   ],
   "source": [
    "lst = [2,3, 7.9, 3.3, 6.9, 0.11, 10.3, 12.9]\n",
    "v = np.array(lst)\n",
    "v = v + 2\n",
    "print(v)"
   ]
  },
  {
   "cell_type": "code",
   "execution_count": null,
   "id": "0cae54fc-ecea-4047-aed9-e9deb4c0597c",
   "metadata": {},
   "outputs": [],
   "source": []
  },
  {
   "cell_type": "code",
   "execution_count": 43,
   "id": "f25aceb5",
   "metadata": {},
   "outputs": [
    {
     "name": "stdout",
     "output_type": "stream",
     "text": [
      "[ 16.      25.      98.01    28.09    79.21     4.4521 151.29   222.01  ]\n"
     ]
    }
   ],
   "source": [
    "print(v ** 2) # V au carré "
   ]
  },
  {
   "cell_type": "code",
   "execution_count": 44,
   "id": "917658be",
   "metadata": {},
   "outputs": [
    {
     "name": "stdout",
     "output_type": "stream",
     "text": [
      "[4, 5, 9.9, 5.3, 8.9, 2.11, 12.3, 14.9]\n"
     ]
    }
   ],
   "source": [
    "# Si on utilisait des listes\n",
    "res = [ val + 2 for val in lst]\n",
    "print(res)"
   ]
  },
  {
   "cell_type": "markdown",
   "id": "47096ec8",
   "metadata": {},
   "source": [
    "MULTIPLICATION MATRICIELLE"
   ]
  },
  {
   "cell_type": "code",
   "execution_count": 45,
   "id": "81fda262",
   "metadata": {},
   "outputs": [
    {
     "name": "stdout",
     "output_type": "stream",
     "text": [
      "A \n",
      " [[11 12 13]\n",
      " [21 22 23]\n",
      " [31 32 33]]\n",
      "B \n",
      " [[1. 1. 1.]\n",
      " [1. 1. 1.]\n",
      " [1. 1. 1.]]\n"
     ]
    }
   ],
   "source": [
    "A = np.array([[11, 12, 13], [21, 22, 23], [31, 32, 33]])\n",
    "B = np.ones((3,3))\n",
    "print(\"A \\n\", A)\n",
    "print(\"B \\n\", B)"
   ]
  },
  {
   "cell_type": "code",
   "execution_count": 46,
   "id": "1d0cc222",
   "metadata": {},
   "outputs": [
    {
     "data": {
      "text/plain": [
       "array([[36., 36., 36.],\n",
       "       [66., 66., 66.],\n",
       "       [96., 96., 96.]])"
      ]
     },
     "execution_count": 46,
     "metadata": {},
     "output_type": "execute_result"
    }
   ],
   "source": [
    "np.dot(A, B)"
   ]
  },
  {
   "cell_type": "code",
   "execution_count": 47,
   "id": "4d27dbd4",
   "metadata": {},
   "outputs": [
    {
     "data": {
      "text/plain": [
       "array([[36., 36., 36.],\n",
       "       [66., 66., 66.],\n",
       "       [96., 96., 96.]])"
      ]
     },
     "execution_count": 47,
     "metadata": {},
     "output_type": "execute_result"
    }
   ],
   "source": [
    "# Vous pouvez accomplir la même chose en utilisant @\n",
    "A@B"
   ]
  },
  {
   "cell_type": "markdown",
   "id": "d70a85af",
   "metadata": {},
   "source": [
    "-------------------------------------------------------------------------------------\n",
    "Opérations utiles"
   ]
  },
  {
   "cell_type": "code",
   "execution_count": 48,
   "id": "f9fc7d2d",
   "metadata": {},
   "outputs": [
    {
     "data": {
      "text/plain": [
       "array([[11, 12, 13],\n",
       "       [21, 22, 23],\n",
       "       [31, 32, 33]])"
      ]
     },
     "execution_count": 48,
     "metadata": {},
     "output_type": "execute_result"
    }
   ],
   "source": [
    "A"
   ]
  },
  {
   "cell_type": "code",
   "execution_count": 49,
   "id": "865a61f7",
   "metadata": {},
   "outputs": [
    {
     "data": {
      "text/plain": [
       "array([[1., 1., 1.],\n",
       "       [1., 1., 1.],\n",
       "       [1., 1., 1.]])"
      ]
     },
     "execution_count": 49,
     "metadata": {},
     "output_type": "execute_result"
    }
   ],
   "source": [
    "B"
   ]
  },
  {
   "cell_type": "code",
   "execution_count": 50,
   "id": "d1dde3b7",
   "metadata": {},
   "outputs": [
    {
     "data": {
      "text/plain": [
       "array([[11, 21, 31],\n",
       "       [12, 22, 32],\n",
       "       [13, 23, 33]])"
      ]
     },
     "execution_count": 50,
     "metadata": {},
     "output_type": "execute_result"
    }
   ],
   "source": [
    "# Transposer\n",
    "A.transpose()"
   ]
  },
  {
   "cell_type": "code",
   "execution_count": 51,
   "id": "0dc430f9",
   "metadata": {},
   "outputs": [
    {
     "data": {
      "text/plain": [
       "array([[11., 12., 13.,  1.,  1.,  1.],\n",
       "       [21., 22., 23.,  1.,  1.,  1.],\n",
       "       [31., 32., 33.,  1.,  1.,  1.]])"
      ]
     },
     "execution_count": 51,
     "metadata": {},
     "output_type": "execute_result"
    }
   ],
   "source": [
    "# enchaîner\n",
    "CON = np.concatenate((A,B),axis=1) # Pour enchainer vers les colonnes, on met axis=1\n",
    "CON"
   ]
  },
  {
   "cell_type": "code",
   "execution_count": 52,
   "id": "cdfb5b6b",
   "metadata": {},
   "outputs": [
    {
     "name": "stdout",
     "output_type": "stream",
     "text": [
      "[3 4 5]\n",
      "[1 9 0]\n",
      "[[3 4 5]\n",
      " [1 9 0]]\n",
      "[[3 1]\n",
      " [4 9]\n",
      " [5 0]]\n"
     ]
    },
    {
     "data": {
      "text/plain": [
       "(3,)"
      ]
     },
     "execution_count": 52,
     "metadata": {},
     "output_type": "execute_result"
    }
   ],
   "source": [
    "# EMPILAGE DE VECTEURS\n",
    "A = np.array([3, 4, 5])\n",
    "B = np.array([1,9,0])\n",
    "print(A)\n",
    "print(B)\n",
    "print(np.row_stack((A, B))) # enchaîner par ligne\n",
    "print(np.column_stack((A, B))) #enchaîner par colonne\n",
    "np.shape(A)"
   ]
  },
  {
   "cell_type": "code",
   "execution_count": 53,
   "id": "2f42c0f0",
   "metadata": {},
   "outputs": [
    {
     "name": "stdout",
     "output_type": "stream",
     "text": [
      "[[[ 0  1]\n",
      "  [ 2  3]\n",
      "  [ 4  5]\n",
      "  [ 6  7]]\n",
      "\n",
      " [[ 8  9]\n",
      "  [10 11]\n",
      "  [12 13]\n",
      "  [14 15]]\n",
      "\n",
      " [[16 17]\n",
      "  [18 19]\n",
      "  [20 21]\n",
      "  [22 23]]]\n",
      "[ 0  1  2  3  4  5  6  7  8  9 10 11 12 13 14 15 16 17 18 19 20 21 22 23]\n",
      "[ 0  1  2  3  4  5  6  7  8  9 10 11 12 13 14 15 16 17 18 19 20 21 22 23]\n"
     ]
    }
   ],
   "source": [
    "# Aplatir et remodeler les tableaux: flatten() , ravel()\n",
    "A = np.array([[[ 0, 1],\n",
    "[ 2, 3],\n",
    "[ 4, 5],\n",
    "[ 6, 7]],\n",
    "[[ 8, 9],\n",
    "[10, 11],\n",
    "[12, 13],\n",
    "[14, 15]],\n",
    "[[16, 17],\n",
    "[18, 19],\n",
    "[20, 21],\n",
    "[22, 23]]])\n",
    "\n",
    "Flattened_X = A.flatten()\n",
    "print(A)\n",
    "print(Flattened_X)\n",
    "print(A.ravel())\n"
   ]
  },
  {
   "cell_type": "code",
   "execution_count": 54,
   "id": "6753eca7",
   "metadata": {},
   "outputs": [
    {
     "name": "stdout",
     "output_type": "stream",
     "text": [
      "X\n",
      " [ 0  1  2  3  4  5  6  7  8  9 10 11 12 13 14 15 16 17 18 19 20 21 22 23]\n",
      "X\n",
      " [[[ 0  1]\n",
      "  [ 2  3]\n",
      "  [ 4  5]\n",
      "  [ 6  7]]\n",
      "\n",
      " [[ 8  9]\n",
      "  [10 11]\n",
      "  [12 13]\n",
      "  [14 15]]\n",
      "\n",
      " [[16 17]\n",
      "  [18 19]\n",
      "  [20 21]\n",
      "  [22 23]]]\n"
     ]
    }
   ],
   "source": [
    "# Reshape\n",
    "X = np.array(range(24))\n",
    "print(\"X\\n\", X)\n",
    "Y = X.reshape((3,4,2))\n",
    "print(\"X\\n\", Y)"
   ]
  },
  {
   "cell_type": "code",
   "execution_count": 55,
   "id": "2bc885c1",
   "metadata": {},
   "outputs": [
    {
     "data": {
      "text/plain": [
       "array([2, 6, 4, 1, 4, 1, 5, 5, 2, 4, 4, 6, 2, 8, 4, 1, 7, 1, 4, 5])"
      ]
     },
     "execution_count": 55,
     "metadata": {},
     "output_type": "execute_result"
    }
   ],
   "source": [
    "#NOMBRES ALÉATOIRES, Random Numbers\n",
    "np.random.randint(1, 10, size=20) # NOMBRES ALÉATOIRES entre 1 et 10"
   ]
  },
  {
   "cell_type": "code",
   "execution_count": 56,
   "id": "fe8ec70a",
   "metadata": {},
   "outputs": [
    {
     "name": "stdout",
     "output_type": "stream",
     "text": [
      "[123 188  99  88 100]\n",
      "[123 188  99  88 100]\n"
     ]
    }
   ],
   "source": [
    "# NONZERO (PAS ZERO) AND WHERE (OÙ)\n",
    "C = np.array([123,188,0,99,0,88,100])\n",
    "print(C[C.nonzero()])\n",
    "print(C[C != 0])"
   ]
  },
  {
   "cell_type": "markdown",
   "id": "e14a221b",
   "metadata": {},
   "source": [
    "##### Il y a beaucoup plus que Numpy peut faire, mais cela devrait être bon pour une introduction à Numpy. Plus d'informations sur Numpy peuvent être trouvées sur la documentation ici:https://numpy.org/doc/stable/index.html"
   ]
  },
  {
   "cell_type": "markdown",
   "id": "4197c7cc",
   "metadata": {
    "jp-MarkdownHeadingCollapsed": true,
    "tags": []
   },
   "source": [
    "### QUESTIONS"
   ]
  }
 ],
 "metadata": {
  "kernelspec": {
   "display_name": "Python 3 (ipykernel)",
   "language": "python",
   "name": "python3"
  },
  "language_info": {
   "codemirror_mode": {
    "name": "ipython",
    "version": 3
   },
   "file_extension": ".py",
   "mimetype": "text/x-python",
   "name": "python",
   "nbconvert_exporter": "python",
   "pygments_lexer": "ipython3",
   "version": "3.9.7"
  }
 },
 "nbformat": 4,
 "nbformat_minor": 5
}
